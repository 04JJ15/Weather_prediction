{
 "cells": [
  {
   "cell_type": "code",
   "execution_count": 16,
   "id": "a1d912b4",
   "metadata": {},
   "outputs": [
    {
     "name": "stdout",
     "output_type": "stream",
     "text": [
      " Fold 1 RMSE: 3.8037\n",
      " Fold 2 RMSE: 1.9852\n",
      " Fold 3 RMSE: 0.5678\n",
      " Fold 4 RMSE: 0.5434\n",
      " Fold 5 RMSE: 0.6507\n",
      "\n",
      "[Temperature CV RMSE] 평균: 1.5102\n"
     ]
    }
   ],
   "source": [
    "# ── Temperature Lag & Rolling Mean Feature + “fold‐wise” CV Evaluation ──\n",
    "import sys, os\n",
    "import numpy as np\n",
    "import pandas as pd\n",
    "\n",
    "project_root = os.path.abspath(os.path.join(os.getcwd(), '..'))\n",
    "if project_root not in sys.path:\n",
    "    sys.path.insert(0, project_root)\n",
    "\n",
    "from src.preprocessing import load_and_merge\n",
    "from sklearn.model_selection import TimeSeriesSplit\n",
    "from sklearn.metrics import mean_squared_error\n",
    "from lightgbm import LGBMRegressor\n",
    "\n",
    "# 1) 원본 데이터 로드 (병합 + 기존 피처 포함)\n",
    "df = load_and_merge()\n",
    "\n",
    "# 2) CV 셋업\n",
    "tss    = TimeSeriesSplit(n_splits=5)\n",
    "lags   = [1, 3, 6, 12, 24]\n",
    "rolls  = [3, 6]\n",
    "rmses  = []\n",
    "\n",
    "for fold, (tr_idx, va_idx) in enumerate(tss.split(df), 1):\n",
    "    # 3) fold 별로 train/val 분리\n",
    "    train = df.iloc[tr_idx].copy()\n",
    "    val   = df.iloc[va_idx].copy()\n",
    "\n",
    "    # 4) train 구간에서만 lag/rolling 피처 생성\n",
    "    for lag in lags:\n",
    "        train[f\"temp_lag_{lag}h\"] = train[\"기온(degC)_관측\"].shift(lag)\n",
    "    for w in rolls:\n",
    "        train[f\"temp_roll_{w}h\"] = (\n",
    "            train[\"기온(degC)_관측\"].shift(1)\n",
    "                 .rolling(window=w)\n",
    "                 .mean()\n",
    "        )\n",
    "    # lag/rolling 때문에 생긴 NaN 제거\n",
    "    feature_cols = [\n",
    "        \"일사량(w/m^2)_예측\", \"기온(degC)_예측\", \"hour\", \"month\", \"weekday\"\n",
    "    ] + [f\"temp_lag_{lag}h\" for lag in lags] \\\n",
    "      + [f\"temp_roll_{w}h\" for w in rolls]\n",
    "\n",
    "    train.dropna(subset=feature_cols + [\"기온(degC)_관측\"], inplace=True)\n",
    "\n",
    "    # 5) val 에도 “train 에서 계산된” lag/rolling 결과만 사용\n",
    "    #    -> train 과 val 을 합쳐 동일한 방식으로 shift/rolling 한 뒤, val 인덱스만 뽑아냄\n",
    "    combined = pd.concat([train, val])\n",
    "    for lag in lags:\n",
    "        combined[f\"temp_lag_{lag}h\"] = combined[\"기온(degC)_관측\"].shift(lag)\n",
    "    for w in rolls:\n",
    "        combined[f\"temp_roll_{w}h\"] = (\n",
    "            combined[\"기온(degC)_관측\"].shift(1)\n",
    "                    .rolling(window=w)\n",
    "                    .mean()\n",
    "        )\n",
    "    val = combined.loc[val.index]\n",
    "    val.dropna(subset=feature_cols + [\"기온(degC)_관측\"], inplace=True)\n",
    "\n",
    "    # 6) 모델 학습 & 예측\n",
    "    X_tr, y_tr = train[feature_cols], train[\"기온(degC)_관측\"]\n",
    "    X_va, y_va = val[feature_cols],   val[\"기온(degC)_관측\"]\n",
    "\n",
    "    mdl = LGBMRegressor(random_state=42)\n",
    "    mdl.fit(X_tr, y_tr)\n",
    "    preds = mdl.predict(X_va)\n",
    "\n",
    "    rmse = mean_squared_error(y_va, preds) ** 0.5\n",
    "    print(f\" Fold {fold} RMSE: {rmse:.4f}\")\n",
    "    rmses.append(rmse)\n",
    "\n",
    "print(f\"\\n[Temperature CV RMSE] 평균: {np.mean(rmses):.4f}\")\n",
    "\n"
   ]
  },
  {
   "cell_type": "code",
   "execution_count": 19,
   "id": "9af22cd5",
   "metadata": {},
   "outputs": [
    {
     "name": "stderr",
     "output_type": "stream",
     "text": [
      "[I 2025-06-23 14:19:22,570] A new study created in memory with name: no-name-619b70ee-d9e1-450b-bf4f-d72268c78389\n"
     ]
    },
    {
     "name": "stdout",
     "output_type": "stream",
     "text": [
      "Training until validation scores don't improve for 50 rounds\n",
      "Did not meet early stopping. Best iteration is:\n",
      "[483]\tvalid_0's l2: 37.8464\n",
      "Training until validation scores don't improve for 50 rounds\n",
      "Did not meet early stopping. Best iteration is:\n",
      "[483]\tvalid_0's l2: 34.2588\n",
      "Training until validation scores don't improve for 50 rounds\n",
      "Did not meet early stopping. Best iteration is:\n",
      "[483]\tvalid_0's l2: 7.66421\n",
      "Training until validation scores don't improve for 50 rounds\n",
      "Did not meet early stopping. Best iteration is:\n",
      "[483]\tvalid_0's l2: 11.7536\n",
      "Training until validation scores don't improve for 50 rounds\n"
     ]
    },
    {
     "name": "stderr",
     "output_type": "stream",
     "text": [
      "[I 2025-06-23 14:19:23,418] Trial 0 finished with value: 4.345932357625081 and parameters: {'num_leaves': 22, 'learning_rate': 0.0028846055059148492, 'n_estimators': 483, 'max_depth': 14, 'min_child_samples': 8, 'subsample': 0.7003039632879077, 'colsample_bytree': 0.9571980110324257}. Best is trial 0 with value: 4.345932357625081.\n"
     ]
    },
    {
     "name": "stdout",
     "output_type": "stream",
     "text": [
      "Did not meet early stopping. Best iteration is:\n",
      "[483]\tvalid_0's l2: 12.4456\n",
      "Training until validation scores don't improve for 50 rounds\n",
      "Early stopping, best iteration is:\n",
      "[151]\tvalid_0's l2: 13.141\n",
      "Training until validation scores don't improve for 50 rounds\n",
      "Early stopping, best iteration is:\n",
      "[144]\tvalid_0's l2: 4.07095\n",
      "Training until validation scores don't improve for 50 rounds\n",
      "Early stopping, best iteration is:\n",
      "[131]\tvalid_0's l2: 0.34055\n",
      "Training until validation scores don't improve for 50 rounds\n",
      "Early stopping, best iteration is:\n",
      "[110]\tvalid_0's l2: 0.294183\n",
      "Training until validation scores don't improve for 50 rounds\n",
      "Early stopping, best iteration is:\n",
      "[207]\tvalid_0's l2: 0.420351\n"
     ]
    },
    {
     "name": "stderr",
     "output_type": "stream",
     "text": [
      "[I 2025-06-23 14:19:24,068] Trial 1 finished with value: 1.483402889685318 and parameters: {'num_leaves': 70, 'learning_rate': 0.06513617219170378, 'n_estimators': 298, 'max_depth': 9, 'min_child_samples': 6, 'subsample': 0.797308279819851, 'colsample_bytree': 0.8582731389040554}. Best is trial 1 with value: 1.483402889685318.\n"
     ]
    },
    {
     "name": "stdout",
     "output_type": "stream",
     "text": [
      "Training until validation scores don't improve for 50 rounds\n",
      "Did not meet early stopping. Best iteration is:\n",
      "[315]\tvalid_0's l2: 112.951\n",
      "Training until validation scores don't improve for 50 rounds\n",
      "Did not meet early stopping. Best iteration is:\n",
      "[315]\tvalid_0's l2: 159.902\n",
      "Training until validation scores don't improve for 50 rounds\n",
      "Did not meet early stopping. Best iteration is:\n",
      "[315]\tvalid_0's l2: 54.355\n",
      "Training until validation scores don't improve for 50 rounds\n",
      "Did not meet early stopping. Best iteration is:\n",
      "[315]\tvalid_0's l2: 84.1495\n"
     ]
    },
    {
     "name": "stderr",
     "output_type": "stream",
     "text": [
      "[I 2025-06-23 14:19:24,641] Trial 2 finished with value: 9.847099536929317 and parameters: {'num_leaves': 91, 'learning_rate': 0.0012093631502027812, 'n_estimators': 315, 'max_depth': 5, 'min_child_samples': 5, 'subsample': 0.7701745697391985, 'colsample_bytree': 0.8241192857551713}. Best is trial 1 with value: 1.483402889685318.\n"
     ]
    },
    {
     "name": "stdout",
     "output_type": "stream",
     "text": [
      "Training until validation scores don't improve for 50 rounds\n",
      "Did not meet early stopping. Best iteration is:\n",
      "[315]\tvalid_0's l2: 88.6711\n",
      "Training until validation scores don't improve for 50 rounds\n",
      "Early stopping, best iteration is:\n",
      "[262]\tvalid_0's l2: 15.2195\n",
      "Training until validation scores don't improve for 50 rounds\n",
      "Early stopping, best iteration is:\n",
      "[282]\tvalid_0's l2: 3.95681\n",
      "Training until validation scores don't improve for 50 rounds\n",
      "Early stopping, best iteration is:\n",
      "[199]\tvalid_0's l2: 0.328602\n",
      "Training until validation scores don't improve for 50 rounds\n",
      "Early stopping, best iteration is:\n",
      "[285]\tvalid_0's l2: 0.291232\n",
      "Training until validation scores don't improve for 50 rounds\n"
     ]
    },
    {
     "name": "stderr",
     "output_type": "stream",
     "text": [
      "[I 2025-06-23 14:19:25,252] Trial 3 finished with value: 1.5365280338606455 and parameters: {'num_leaves': 75, 'learning_rate': 0.0672936684657793, 'n_estimators': 500, 'max_depth': 8, 'min_child_samples': 37, 'subsample': 0.7791237090952314, 'colsample_bytree': 0.8831817670615008}. Best is trial 1 with value: 1.483402889685318.\n"
     ]
    },
    {
     "name": "stdout",
     "output_type": "stream",
     "text": [
      "Early stopping, best iteration is:\n",
      "[180]\tvalid_0's l2: 0.461511\n",
      "Training until validation scores don't improve for 50 rounds\n",
      "Did not meet early stopping. Best iteration is:\n",
      "[409]\tvalid_0's l2: 66.4015\n",
      "Training until validation scores don't improve for 50 rounds\n",
      "Did not meet early stopping. Best iteration is:\n",
      "[409]\tvalid_0's l2: 54.5467\n",
      "Training until validation scores don't improve for 50 rounds\n",
      "Did not meet early stopping. Best iteration is:\n",
      "[409]\tvalid_0's l2: 14.0982\n",
      "Training until validation scores don't improve for 50 rounds\n",
      "Did not meet early stopping. Best iteration is:\n",
      "[409]\tvalid_0's l2: 21.9168\n",
      "Training until validation scores don't improve for 50 rounds\n"
     ]
    },
    {
     "name": "stderr",
     "output_type": "stream",
     "text": [
      "[I 2025-06-23 14:19:26,804] Trial 4 finished with value: 5.7561909019783934 and parameters: {'num_leaves': 115, 'learning_rate': 0.002593519954598615, 'n_estimators': 409, 'max_depth': 8, 'min_child_samples': 45, 'subsample': 0.7492280211791592, 'colsample_bytree': 0.7575799417580609}. Best is trial 1 with value: 1.483402889685318.\n"
     ]
    },
    {
     "name": "stdout",
     "output_type": "stream",
     "text": [
      "Did not meet early stopping. Best iteration is:\n",
      "[409]\tvalid_0's l2: 23.1397\n",
      "Training until validation scores don't improve for 50 rounds\n",
      "Did not meet early stopping. Best iteration is:\n",
      "[185]\tvalid_0's l2: 62.5115\n",
      "Training until validation scores don't improve for 50 rounds\n",
      "Did not meet early stopping. Best iteration is:\n",
      "[185]\tvalid_0's l2: 76.7065\n",
      "Training until validation scores don't improve for 50 rounds\n",
      "Did not meet early stopping. Best iteration is:\n",
      "[185]\tvalid_0's l2: 22.5509\n",
      "Training until validation scores don't improve for 50 rounds\n",
      "Did not meet early stopping. Best iteration is:\n",
      "[185]\tvalid_0's l2: 35.0998\n",
      "Training until validation scores don't improve for 50 rounds\n"
     ]
    },
    {
     "name": "stderr",
     "output_type": "stream",
     "text": [
      "[I 2025-06-23 14:19:27,923] Trial 5 finished with value: 6.681328514904635 and parameters: {'num_leaves': 101, 'learning_rate': 0.004433183171150667, 'n_estimators': 185, 'max_depth': 11, 'min_child_samples': 7, 'subsample': 0.8283421635543404, 'colsample_bytree': 0.9917937756303825}. Best is trial 1 with value: 1.483402889685318.\n"
     ]
    },
    {
     "name": "stdout",
     "output_type": "stream",
     "text": [
      "Did not meet early stopping. Best iteration is:\n",
      "[185]\tvalid_0's l2: 36.8293\n",
      "Training until validation scores don't improve for 50 rounds\n",
      "Did not meet early stopping. Best iteration is:\n",
      "[176]\tvalid_0's l2: 139.518\n",
      "Training until validation scores don't improve for 50 rounds\n",
      "Did not meet early stopping. Best iteration is:\n",
      "[176]\tvalid_0's l2: 180.385\n",
      "Training until validation scores don't improve for 50 rounds\n",
      "Did not meet early stopping. Best iteration is:\n",
      "[176]\tvalid_0's l2: 62.2006\n",
      "Training until validation scores don't improve for 50 rounds\n",
      "Did not meet early stopping. Best iteration is:\n",
      "[176]\tvalid_0's l2: 96.4084\n",
      "Training until validation scores don't improve for 50 rounds\n",
      "Did not meet early stopping. Best iteration is:\n",
      "[176]\tvalid_0's l2: 101.252\n"
     ]
    },
    {
     "name": "stderr",
     "output_type": "stream",
     "text": [
      "[I 2025-06-23 14:19:28,620] Trial 6 finished with value: 10.602087595635478 and parameters: {'num_leaves': 113, 'learning_rate': 0.0017643153185777731, 'n_estimators': 176, 'max_depth': 11, 'min_child_samples': 49, 'subsample': 0.9326257709923879, 'colsample_bytree': 0.8225243956210845}. Best is trial 1 with value: 1.483402889685318.\n"
     ]
    },
    {
     "name": "stdout",
     "output_type": "stream",
     "text": [
      "Training until validation scores don't improve for 50 rounds\n",
      "Did not meet early stopping. Best iteration is:\n",
      "[71]\tvalid_0's l2: 83.6518\n",
      "Training until validation scores don't improve for 50 rounds\n",
      "Did not meet early stopping. Best iteration is:\n",
      "[71]\tvalid_0's l2: 103.646\n",
      "Training until validation scores don't improve for 50 rounds\n",
      "Did not meet early stopping. Best iteration is:\n",
      "[71]\tvalid_0's l2: 32.4128\n",
      "Training until validation scores don't improve for 50 rounds\n",
      "Did not meet early stopping. Best iteration is:\n",
      "[71]\tvalid_0's l2: 50.2078\n"
     ]
    },
    {
     "name": "stderr",
     "output_type": "stream",
     "text": [
      "[I 2025-06-23 14:19:28,891] Trial 7 finished with value: 7.874874814824302 and parameters: {'num_leaves': 48, 'learning_rate': 0.008996442377685637, 'n_estimators': 71, 'max_depth': 14, 'min_child_samples': 14, 'subsample': 0.6523565059303079, 'colsample_bytree': 0.9624646234235091}. Best is trial 1 with value: 1.483402889685318.\n"
     ]
    },
    {
     "name": "stdout",
     "output_type": "stream",
     "text": [
      "Training until validation scores don't improve for 50 rounds\n",
      "Did not meet early stopping. Best iteration is:\n",
      "[71]\tvalid_0's l2: 52.8327\n",
      "Training until validation scores don't improve for 50 rounds\n",
      "Did not meet early stopping. Best iteration is:\n",
      "[493]\tvalid_0's l2: 33.6083\n",
      "Training until validation scores don't improve for 50 rounds\n",
      "Did not meet early stopping. Best iteration is:\n",
      "[493]\tvalid_0's l2: 30.4266\n",
      "Training until validation scores don't improve for 50 rounds\n",
      "Did not meet early stopping. Best iteration is:\n",
      "[493]\tvalid_0's l2: 6.44552\n",
      "Training until validation scores don't improve for 50 rounds\n",
      "Did not meet early stopping. Best iteration is:\n",
      "[493]\tvalid_0's l2: 10.0411\n",
      "Training until validation scores don't improve for 50 rounds\n"
     ]
    },
    {
     "name": "stderr",
     "output_type": "stream",
     "text": [
      "[I 2025-06-23 14:19:30,757] Trial 8 finished with value: 4.055031988475177 and parameters: {'num_leaves': 66, 'learning_rate': 0.0029796211262013432, 'n_estimators': 493, 'max_depth': 15, 'min_child_samples': 8, 'subsample': 0.6299218216206329, 'colsample_bytree': 0.6903021369317354}. Best is trial 1 with value: 1.483402889685318.\n"
     ]
    },
    {
     "name": "stdout",
     "output_type": "stream",
     "text": [
      "Did not meet early stopping. Best iteration is:\n",
      "[493]\tvalid_0's l2: 10.5904\n",
      "Training until validation scores don't improve for 50 rounds\n",
      "Did not meet early stopping. Best iteration is:\n",
      "[384]\tvalid_0's l2: 45.0528\n",
      "Training until validation scores don't improve for 50 rounds\n",
      "Did not meet early stopping. Best iteration is:\n",
      "[384]\tvalid_0's l2: 44.5829\n",
      "Training until validation scores don't improve for 50 rounds\n",
      "Did not meet early stopping. Best iteration is:\n",
      "[384]\tvalid_0's l2: 11.3994\n",
      "Training until validation scores don't improve for 50 rounds\n"
     ]
    },
    {
     "name": "stderr",
     "output_type": "stream",
     "text": [
      "[I 2025-06-23 14:19:31,420] Trial 9 finished with value: 5.049667436274545 and parameters: {'num_leaves': 37, 'learning_rate': 0.0030812901478768227, 'n_estimators': 384, 'max_depth': 5, 'min_child_samples': 10, 'subsample': 0.7736331771731128, 'colsample_bytree': 0.8682718875308262}. Best is trial 1 with value: 1.483402889685318.\n"
     ]
    },
    {
     "name": "stdout",
     "output_type": "stream",
     "text": [
      "Did not meet early stopping. Best iteration is:\n",
      "[384]\tvalid_0's l2: 17.5016\n",
      "Training until validation scores don't improve for 50 rounds\n",
      "Did not meet early stopping. Best iteration is:\n",
      "[384]\tvalid_0's l2: 18.4845\n",
      "Training until validation scores don't improve for 50 rounds\n",
      "Did not meet early stopping. Best iteration is:\n",
      "[237]\tvalid_0's l2: 16.2936\n",
      "Training until validation scores don't improve for 50 rounds\n",
      "Did not meet early stopping. Best iteration is:\n",
      "[234]\tvalid_0's l2: 4.21767\n",
      "Training until validation scores don't improve for 50 rounds\n",
      "Did not meet early stopping. Best iteration is:\n",
      "[235]\tvalid_0's l2: 0.38021\n",
      "Training until validation scores don't improve for 50 rounds\n",
      "Did not meet early stopping. Best iteration is:\n",
      "[227]\tvalid_0's l2: 0.431857\n",
      "Training until validation scores don't improve for 50 rounds\n"
     ]
    },
    {
     "name": "stderr",
     "output_type": "stream",
     "text": [
      "[I 2025-06-23 14:19:31,666] Trial 10 finished with value: 1.6252235306169318 and parameters: {'num_leaves': 67, 'learning_rate': 0.05836068702003728, 'n_estimators': 238, 'max_depth': 3, 'min_child_samples': 22, 'subsample': 0.8856823306516047, 'colsample_bytree': 0.6248056080320895}. Best is trial 1 with value: 1.483402889685318.\n"
     ]
    },
    {
     "name": "stdout",
     "output_type": "stream",
     "text": [
      "Did not meet early stopping. Best iteration is:\n",
      "[236]\tvalid_0's l2: 0.58083\n",
      "Training until validation scores don't improve for 50 rounds\n",
      "Early stopping, best iteration is:\n",
      "[197]\tvalid_0's l2: 15.1655\n",
      "Training until validation scores don't improve for 50 rounds\n",
      "Early stopping, best iteration is:\n",
      "[99]\tvalid_0's l2: 4.33396\n",
      "Training until validation scores don't improve for 50 rounds\n",
      "Early stopping, best iteration is:\n",
      "[71]\tvalid_0's l2: 0.335124\n",
      "Training until validation scores don't improve for 50 rounds\n",
      "Early stopping, best iteration is:\n",
      "[111]\tvalid_0's l2: 0.292262\n",
      "Training until validation scores don't improve for 50 rounds\n"
     ]
    },
    {
     "name": "stderr",
     "output_type": "stream",
     "text": [
      "[I 2025-06-23 14:19:32,123] Trial 11 finished with value: 1.5549259855282445 and parameters: {'num_leaves': 80, 'learning_rate': 0.08830730317686672, 'n_estimators': 332, 'max_depth': 8, 'min_child_samples': 37, 'subsample': 0.8510653279487574, 'colsample_bytree': 0.8978580871345088}. Best is trial 1 with value: 1.483402889685318.\n"
     ]
    },
    {
     "name": "stdout",
     "output_type": "stream",
     "text": [
      "Did not meet early stopping. Best iteration is:\n",
      "[323]\tvalid_0's l2: 0.46105\n",
      "Training until validation scores don't improve for 50 rounds\n",
      "Did not meet early stopping. Best iteration is:\n",
      "[61]\tvalid_0's l2: 34.6439\n",
      "Training until validation scores don't improve for 50 rounds\n",
      "Did not meet early stopping. Best iteration is:\n",
      "[61]\tvalid_0's l2: 17.0444\n",
      "Training until validation scores don't improve for 50 rounds\n",
      "Did not meet early stopping. Best iteration is:\n",
      "[61]\tvalid_0's l2: 2.62826\n",
      "Training until validation scores don't improve for 50 rounds\n"
     ]
    },
    {
     "name": "stderr",
     "output_type": "stream",
     "text": [
      "[I 2025-06-23 14:19:32,401] Trial 12 finished with value: 3.139337539504261 and parameters: {'num_leaves': 54, 'learning_rate': 0.031669262025682966, 'n_estimators': 61, 'max_depth': 10, 'min_child_samples': 33, 'subsample': 0.9655765843504567, 'colsample_bytree': 0.8917741707855992}. Best is trial 1 with value: 1.483402889685318.\n"
     ]
    },
    {
     "name": "stdout",
     "output_type": "stream",
     "text": [
      "Did not meet early stopping. Best iteration is:\n",
      "[61]\tvalid_0's l2: 3.9801\n",
      "Training until validation scores don't improve for 50 rounds\n",
      "Did not meet early stopping. Best iteration is:\n",
      "[61]\tvalid_0's l2: 4.26869\n",
      "Training until validation scores don't improve for 50 rounds\n",
      "Did not meet early stopping. Best iteration is:\n",
      "[421]\tvalid_0's l2: 14.9463\n",
      "Training until validation scores don't improve for 50 rounds\n",
      "Did not meet early stopping. Best iteration is:\n",
      "[407]\tvalid_0's l2: 4.19303\n",
      "Training until validation scores don't improve for 50 rounds\n",
      "Did not meet early stopping. Best iteration is:\n",
      "[421]\tvalid_0's l2: 0.343551\n",
      "Training until validation scores don't improve for 50 rounds\n",
      "Did not meet early stopping. Best iteration is:\n",
      "[421]\tvalid_0's l2: 0.294614\n",
      "Training until validation scores don't improve for 50 rounds\n"
     ]
    },
    {
     "name": "stderr",
     "output_type": "stream",
     "text": [
      "[I 2025-06-23 14:19:33,426] Trial 13 finished with value: 1.5394126707100184 and parameters: {'num_leaves': 84, 'learning_rate': 0.025914627868532034, 'n_estimators': 421, 'max_depth': 7, 'min_child_samples': 23, 'subsample': 0.70623756054311, 'colsample_bytree': 0.7583483307695963}. Best is trial 1 with value: 1.483402889685318.\n"
     ]
    },
    {
     "name": "stdout",
     "output_type": "stream",
     "text": [
      "Did not meet early stopping. Best iteration is:\n",
      "[419]\tvalid_0's l2: 0.42825\n",
      "Training until validation scores don't improve for 50 rounds\n",
      "Did not meet early stopping. Best iteration is:\n",
      "[153]\tvalid_0's l2: 23.096\n",
      "Training until validation scores don't improve for 50 rounds\n",
      "Did not meet early stopping. Best iteration is:\n",
      "[153]\tvalid_0's l2: 5.85126\n",
      "Training until validation scores don't improve for 50 rounds\n",
      "Did not meet early stopping. Best iteration is:\n",
      "[153]\tvalid_0's l2: 0.362929\n",
      "Training until validation scores don't improve for 50 rounds\n",
      "Did not meet early stopping. Best iteration is:\n",
      "[153]\tvalid_0's l2: 0.381078\n",
      "Training until validation scores don't improve for 50 rounds\n",
      "Did not meet early stopping. Best iteration is:\n",
      "[153]\tvalid_0's l2: 0.558609\n"
     ]
    },
    {
     "name": "stderr",
     "output_type": "stream",
     "text": [
      "[I 2025-06-23 14:19:34,157] Trial 14 finished with value: 1.8383832228564985 and parameters: {'num_leaves': 127, 'learning_rate': 0.025375259558694067, 'n_estimators': 153, 'max_depth': 12, 'min_child_samples': 40, 'subsample': 0.8925367508353367, 'colsample_bytree': 0.9251539962300752}. Best is trial 1 with value: 1.483402889685318.\n"
     ]
    },
    {
     "name": "stdout",
     "output_type": "stream",
     "text": [
      "Training until validation scores don't improve for 50 rounds\n",
      "Did not meet early stopping. Best iteration is:\n",
      "[261]\tvalid_0's l2: 21.0264\n",
      "Training until validation scores don't improve for 50 rounds\n",
      "Did not meet early stopping. Best iteration is:\n",
      "[261]\tvalid_0's l2: 5.97457\n",
      "Training until validation scores don't improve for 50 rounds\n",
      "Did not meet early stopping. Best iteration is:\n",
      "[261]\tvalid_0's l2: 0.452607\n",
      "Training until validation scores don't improve for 50 rounds\n",
      "Did not meet early stopping. Best iteration is:\n",
      "[261]\tvalid_0's l2: 0.51147\n",
      "Training until validation scores don't improve for 50 rounds\n",
      "Did not meet early stopping. Best iteration is:\n",
      "[261]\tvalid_0's l2: 0.644645\n"
     ]
    },
    {
     "name": "stderr",
     "output_type": "stream",
     "text": [
      "[I 2025-06-23 14:19:34,844] Trial 15 finished with value: 1.8441151908860345 and parameters: {'num_leaves': 55, 'learning_rate': 0.013232840896160778, 'n_estimators': 261, 'max_depth': 6, 'min_child_samples': 25, 'subsample': 0.8162908439124524, 'colsample_bytree': 0.8378734834679094}. Best is trial 1 with value: 1.483402889685318.\n"
     ]
    },
    {
     "name": "stdout",
     "output_type": "stream",
     "text": [
      "Training until validation scores don't improve for 50 rounds\n",
      "Early stopping, best iteration is:\n",
      "[189]\tvalid_0's l2: 15.0089\n",
      "Training until validation scores don't improve for 50 rounds\n",
      "Early stopping, best iteration is:\n",
      "[126]\tvalid_0's l2: 4.29297\n",
      "Training until validation scores don't improve for 50 rounds\n",
      "Did not meet early stopping. Best iteration is:\n",
      "[311]\tvalid_0's l2: 0.326484\n",
      "Training until validation scores don't improve for 50 rounds\n",
      "Early stopping, best iteration is:\n",
      "[159]\tvalid_0's l2: 0.29681\n",
      "Training until validation scores don't improve for 50 rounds\n",
      "Did not meet early stopping. Best iteration is:\n",
      "[337]\tvalid_0's l2: 0.418168\n"
     ]
    },
    {
     "name": "stderr",
     "output_type": "stream",
     "text": [
      "[I 2025-06-23 14:19:35,580] Trial 16 finished with value: 1.5417865795753412 and parameters: {'num_leaves': 71, 'learning_rate': 0.09321611382566102, 'n_estimators': 351, 'max_depth': 9, 'min_child_samples': 32, 'subsample': 0.7433953739507246, 'colsample_bytree': 0.7697423950321346}. Best is trial 1 with value: 1.483402889685318.\n"
     ]
    },
    {
     "name": "stdout",
     "output_type": "stream",
     "text": [
      "Training until validation scores don't improve for 50 rounds\n",
      "Did not meet early stopping. Best iteration is:\n",
      "[288]\tvalid_0's l2: 15.3206\n",
      "Training until validation scores don't improve for 50 rounds\n",
      "Did not meet early stopping. Best iteration is:\n",
      "[289]\tvalid_0's l2: 4.21204\n",
      "Training until validation scores don't improve for 50 rounds\n",
      "Did not meet early stopping. Best iteration is:\n",
      "[289]\tvalid_0's l2: 0.339456\n",
      "Training until validation scores don't improve for 50 rounds\n",
      "Did not meet early stopping. Best iteration is:\n",
      "[288]\tvalid_0's l2: 0.382475\n",
      "Training until validation scores don't improve for 50 rounds\n"
     ]
    },
    {
     "name": "stderr",
     "output_type": "stream",
     "text": [
      "[I 2025-06-23 14:19:35,823] Trial 17 finished with value: 1.582721751461423 and parameters: {'num_leaves': 95, 'learning_rate': 0.05676028990737251, 'n_estimators': 289, 'max_depth': 3, 'min_child_samples': 18, 'subsample': 0.9999991593575169, 'colsample_bytree': 0.7055037043127674}. Best is trial 1 with value: 1.483402889685318.\n"
     ]
    },
    {
     "name": "stdout",
     "output_type": "stream",
     "text": [
      "Did not meet early stopping. Best iteration is:\n",
      "[289]\tvalid_0's l2: 0.556606\n",
      "Training until validation scores don't improve for 50 rounds\n",
      "Did not meet early stopping. Best iteration is:\n",
      "[432]\tvalid_0's l2: 18.2175\n",
      "Training until validation scores don't improve for 50 rounds\n",
      "Did not meet early stopping. Best iteration is:\n",
      "[432]\tvalid_0's l2: 4.39707\n",
      "Training until validation scores don't improve for 50 rounds\n",
      "Did not meet early stopping. Best iteration is:\n",
      "[432]\tvalid_0's l2: 0.349688\n",
      "Training until validation scores don't improve for 50 rounds\n",
      "Did not meet early stopping. Best iteration is:\n",
      "[432]\tvalid_0's l2: 0.319621\n",
      "Training until validation scores don't improve for 50 rounds\n",
      "Did not meet early stopping. Best iteration is:\n",
      "[432]\tvalid_0's l2: 0.494051\n"
     ]
    },
    {
     "name": "stderr",
     "output_type": "stream",
     "text": [
      "[I 2025-06-23 14:19:36,681] Trial 18 finished with value: 1.644939018052599 and parameters: {'num_leaves': 26, 'learning_rate': 0.012778252214287193, 'n_estimators': 432, 'max_depth': 9, 'min_child_samples': 30, 'subsample': 0.6944613177844552, 'colsample_bytree': 0.8649769273471212}. Best is trial 1 with value: 1.483402889685318.\n"
     ]
    },
    {
     "name": "stdout",
     "output_type": "stream",
     "text": [
      "Training until validation scores don't improve for 50 rounds\n",
      "Did not meet early stopping. Best iteration is:\n",
      "[217]\tvalid_0's l2: 17.2513\n",
      "Training until validation scores don't improve for 50 rounds\n",
      "Did not meet early stopping. Best iteration is:\n",
      "[217]\tvalid_0's l2: 4.24233\n",
      "Training until validation scores don't improve for 50 rounds\n",
      "Did not meet early stopping. Best iteration is:\n",
      "[206]\tvalid_0's l2: 0.32332\n",
      "Training until validation scores don't improve for 50 rounds\n",
      "Did not meet early stopping. Best iteration is:\n",
      "[216]\tvalid_0's l2: 0.296917\n",
      "Training until validation scores don't improve for 50 rounds\n"
     ]
    },
    {
     "name": "stderr",
     "output_type": "stream",
     "text": [
      "[I 2025-06-23 14:19:37,173] Trial 19 finished with value: 1.6030624854551014 and parameters: {'num_leaves': 40, 'learning_rate': 0.046469754168650276, 'n_estimators': 217, 'max_depth': 7, 'min_child_samples': 40, 'subsample': 0.8653243547720139, 'colsample_bytree': 0.9152486210450828}. Best is trial 1 with value: 1.483402889685318.\n"
     ]
    },
    {
     "name": "stdout",
     "output_type": "stream",
     "text": [
      "Did not meet early stopping. Best iteration is:\n",
      "[217]\tvalid_0's l2: 0.474227\n",
      "Training until validation scores don't improve for 50 rounds\n",
      "Did not meet early stopping. Best iteration is:\n",
      "[456]\tvalid_0's l2: 14.2782\n",
      "Training until validation scores don't improve for 50 rounds\n",
      "Did not meet early stopping. Best iteration is:\n",
      "[450]\tvalid_0's l2: 4.01813\n",
      "Training until validation scores don't improve for 50 rounds\n",
      "Early stopping, best iteration is:\n",
      "[312]\tvalid_0's l2: 0.341058\n",
      "Training until validation scores don't improve for 50 rounds\n",
      "Did not meet early stopping. Best iteration is:\n",
      "[456]\tvalid_0's l2: 0.302332\n",
      "Training until validation scores don't improve for 50 rounds\n"
     ]
    },
    {
     "name": "stderr",
     "output_type": "stream",
     "text": [
      "[I 2025-06-23 14:19:38,851] Trial 20 finished with value: 1.5140379472327545 and parameters: {'num_leaves': 79, 'learning_rate': 0.019218703254408234, 'n_estimators': 456, 'max_depth': 12, 'min_child_samples': 17, 'subsample': 0.8042751217411975, 'colsample_bytree': 0.7084393740218311}. Best is trial 1 with value: 1.483402889685318.\n"
     ]
    },
    {
     "name": "stdout",
     "output_type": "stream",
     "text": [
      "Did not meet early stopping. Best iteration is:\n",
      "[456]\tvalid_0's l2: 0.426623\n",
      "Training until validation scores don't improve for 50 rounds\n",
      "Did not meet early stopping. Best iteration is:\n",
      "[462]\tvalid_0's l2: 13.4172\n",
      "Training until validation scores don't improve for 50 rounds\n",
      "Did not meet early stopping. Best iteration is:\n",
      "[450]\tvalid_0's l2: 4.14773\n",
      "Training until validation scores don't improve for 50 rounds\n",
      "Early stopping, best iteration is:\n",
      "[144]\tvalid_0's l2: 0.352815\n",
      "Training until validation scores don't improve for 50 rounds\n",
      "Did not meet early stopping. Best iteration is:\n",
      "[459]\tvalid_0's l2: 0.310889\n",
      "Training until validation scores don't improve for 50 rounds\n"
     ]
    },
    {
     "name": "stderr",
     "output_type": "stream",
     "text": [
      "[I 2025-06-23 14:19:40,164] Trial 21 finished with value: 1.502924491254806 and parameters: {'num_leaves': 77, 'learning_rate': 0.03611997717697235, 'n_estimators': 462, 'max_depth': 12, 'min_child_samples': 15, 'subsample': 0.8048493577143574, 'colsample_bytree': 0.6725293108408894}. Best is trial 1 with value: 1.483402889685318.\n"
     ]
    },
    {
     "name": "stdout",
     "output_type": "stream",
     "text": [
      "Did not meet early stopping. Best iteration is:\n",
      "[455]\tvalid_0's l2: 0.440259\n",
      "Training until validation scores don't improve for 50 rounds\n",
      "Did not meet early stopping. Best iteration is:\n",
      "[453]\tvalid_0's l2: 14.2949\n",
      "Training until validation scores don't improve for 50 rounds\n",
      "Did not meet early stopping. Best iteration is:\n",
      "[452]\tvalid_0's l2: 4.45809\n",
      "Training until validation scores don't improve for 50 rounds\n",
      "Early stopping, best iteration is:\n",
      "[312]\tvalid_0's l2: 0.375009\n",
      "Training until validation scores don't improve for 50 rounds\n",
      "Did not meet early stopping. Best iteration is:\n",
      "[453]\tvalid_0's l2: 0.324013\n",
      "Training until validation scores don't improve for 50 rounds\n"
     ]
    },
    {
     "name": "stderr",
     "output_type": "stream",
     "text": [
      "[I 2025-06-23 14:19:41,515] Trial 22 finished with value: 1.5522492916053836 and parameters: {'num_leaves': 60, 'learning_rate': 0.018116821457858426, 'n_estimators': 453, 'max_depth': 12, 'min_child_samples': 14, 'subsample': 0.8101649042677077, 'colsample_bytree': 0.6178081209572989}. Best is trial 1 with value: 1.483402889685318.\n"
     ]
    },
    {
     "name": "stdout",
     "output_type": "stream",
     "text": [
      "Did not meet early stopping. Best iteration is:\n",
      "[453]\tvalid_0's l2: 0.47248\n",
      "Training until validation scores don't improve for 50 rounds\n",
      "Did not meet early stopping. Best iteration is:\n",
      "[391]\tvalid_0's l2: 13.2564\n",
      "Training until validation scores don't improve for 50 rounds\n",
      "Did not meet early stopping. Best iteration is:\n",
      "[391]\tvalid_0's l2: 4.24296\n",
      "Training until validation scores don't improve for 50 rounds\n",
      "Early stopping, best iteration is:\n",
      "[140]\tvalid_0's l2: 0.353993\n",
      "Training until validation scores don't improve for 50 rounds\n",
      "Did not meet early stopping. Best iteration is:\n",
      "[377]\tvalid_0's l2: 0.318162\n",
      "Training until validation scores don't improve for 50 rounds\n"
     ]
    },
    {
     "name": "stderr",
     "output_type": "stream",
     "text": [
      "[I 2025-06-23 14:19:42,741] Trial 23 finished with value: 1.5046450823424968 and parameters: {'num_leaves': 84, 'learning_rate': 0.039074320073561354, 'n_estimators': 391, 'max_depth': 13, 'min_child_samples': 15, 'subsample': 0.8377438390693946, 'colsample_bytree': 0.6870944008350898}. Best is trial 1 with value: 1.483402889685318.\n"
     ]
    },
    {
     "name": "stdout",
     "output_type": "stream",
     "text": [
      "Did not meet early stopping. Best iteration is:\n",
      "[389]\tvalid_0's l2: 0.440113\n",
      "Training until validation scores don't improve for 50 rounds\n",
      "Did not meet early stopping. Best iteration is:\n",
      "[379]\tvalid_0's l2: 12.653\n",
      "Training until validation scores don't improve for 50 rounds\n",
      "Did not meet early stopping. Best iteration is:\n",
      "[369]\tvalid_0's l2: 4.25727\n",
      "Training until validation scores don't improve for 50 rounds\n",
      "Early stopping, best iteration is:\n",
      "[141]\tvalid_0's l2: 0.347437\n",
      "Training until validation scores don't improve for 50 rounds\n",
      "Did not meet early stopping. Best iteration is:\n",
      "[337]\tvalid_0's l2: 0.314116\n",
      "Training until validation scores don't improve for 50 rounds\n"
     ]
    },
    {
     "name": "stderr",
     "output_type": "stream",
     "text": [
      "[I 2025-06-23 14:19:43,999] Trial 24 finished with value: 1.4864467213867916 and parameters: {'num_leaves': 87, 'learning_rate': 0.03557474864033709, 'n_estimators': 379, 'max_depth': 13, 'min_child_samples': 12, 'subsample': 0.9128675705658245, 'colsample_bytree': 0.6585437868482158}. Best is trial 1 with value: 1.483402889685318.\n"
     ]
    },
    {
     "name": "stdout",
     "output_type": "stream",
     "text": [
      "Did not meet early stopping. Best iteration is:\n",
      "[379]\tvalid_0's l2: 0.438127\n",
      "Training until validation scores don't improve for 50 rounds\n",
      "Did not meet early stopping. Best iteration is:\n",
      "[360]\tvalid_0's l2: 20.6252\n",
      "Training until validation scores don't improve for 50 rounds\n",
      "Did not meet early stopping. Best iteration is:\n",
      "[360]\tvalid_0's l2: 10.2882\n",
      "Training until validation scores don't improve for 50 rounds\n",
      "Did not meet early stopping. Best iteration is:\n",
      "[360]\tvalid_0's l2: 1.10349\n",
      "Training until validation scores don't improve for 50 rounds\n",
      "Did not meet early stopping. Best iteration is:\n",
      "[360]\tvalid_0's l2: 1.64758\n",
      "Training until validation scores don't improve for 50 rounds\n"
     ]
    },
    {
     "name": "stderr",
     "output_type": "stream",
     "text": [
      "[I 2025-06-23 14:19:45,833] Trial 25 finished with value: 2.2836756991870955 and parameters: {'num_leaves': 98, 'learning_rate': 0.006899601284202028, 'n_estimators': 360, 'max_depth': 10, 'min_child_samples': 11, 'subsample': 0.9187289044617949, 'colsample_bytree': 0.6533446129369996}. Best is trial 1 with value: 1.483402889685318.\n"
     ]
    },
    {
     "name": "stdout",
     "output_type": "stream",
     "text": [
      "Did not meet early stopping. Best iteration is:\n",
      "[360]\tvalid_0's l2: 1.78301\n",
      "Training until validation scores don't improve for 50 rounds\n",
      "Did not meet early stopping. Best iteration is:\n",
      "[301]\tvalid_0's l2: 15.6573\n",
      "Training until validation scores don't improve for 50 rounds\n",
      "Did not meet early stopping. Best iteration is:\n",
      "[300]\tvalid_0's l2: 4.41394\n",
      "Training until validation scores don't improve for 50 rounds\n",
      "Early stopping, best iteration is:\n",
      "[144]\tvalid_0's l2: 0.373229\n",
      "Training until validation scores don't improve for 50 rounds\n",
      "Did not meet early stopping. Best iteration is:\n",
      "[256]\tvalid_0's l2: 0.324554\n",
      "Training until validation scores don't improve for 50 rounds\n"
     ]
    },
    {
     "name": "stderr",
     "output_type": "stream",
     "text": [
      "[I 2025-06-23 14:19:46,979] Trial 26 finished with value: 1.5838396674044666 and parameters: {'num_leaves': 107, 'learning_rate': 0.036313081792559224, 'n_estimators': 301, 'max_depth': 15, 'min_child_samples': 21, 'subsample': 0.9502975835593968, 'colsample_bytree': 0.6002351832733482}. Best is trial 1 with value: 1.483402889685318.\n"
     ]
    },
    {
     "name": "stdout",
     "output_type": "stream",
     "text": [
      "Did not meet early stopping. Best iteration is:\n",
      "[301]\tvalid_0's l2: 0.463368\n",
      "Training until validation scores don't improve for 50 rounds\n",
      "Did not meet early stopping. Best iteration is:\n",
      "[369]\tvalid_0's l2: 12.0608\n",
      "Training until validation scores don't improve for 50 rounds\n",
      "Did not meet early stopping. Best iteration is:\n",
      "[337]\tvalid_0's l2: 4.17061\n",
      "Training until validation scores don't improve for 50 rounds\n",
      "Early stopping, best iteration is:\n",
      "[97]\tvalid_0's l2: 0.338166\n",
      "Training until validation scores don't improve for 50 rounds\n",
      "Early stopping, best iteration is:\n",
      "[170]\tvalid_0's l2: 0.299591\n",
      "Training until validation scores don't improve for 50 rounds\n"
     ]
    },
    {
     "name": "stderr",
     "output_type": "stream",
     "text": [
      "[I 2025-06-23 14:19:47,896] Trial 27 finished with value: 1.4575532343457864 and parameters: {'num_leaves': 90, 'learning_rate': 0.07206930441661676, 'n_estimators': 371, 'max_depth': 13, 'min_child_samples': 12, 'subsample': 0.8913801862609916, 'colsample_bytree': 0.7344994898357218}. Best is trial 27 with value: 1.4575532343457864.\n"
     ]
    },
    {
     "name": "stdout",
     "output_type": "stream",
     "text": [
      "Early stopping, best iteration is:\n",
      "[244]\tvalid_0's l2: 0.414511\n",
      "Training until validation scores don't improve for 50 rounds\n",
      "Early stopping, best iteration is:\n",
      "[210]\tvalid_0's l2: 12.7397\n",
      "Training until validation scores don't improve for 50 rounds\n",
      "Early stopping, best iteration is:\n",
      "[130]\tvalid_0's l2: 3.8376\n",
      "Training until validation scores don't improve for 50 rounds\n",
      "Early stopping, best iteration is:\n",
      "[132]\tvalid_0's l2: 0.354052\n",
      "Training until validation scores don't improve for 50 rounds\n",
      "Early stopping, best iteration is:\n",
      "[107]\tvalid_0's l2: 0.297683\n",
      "Training until validation scores don't improve for 50 rounds\n"
     ]
    },
    {
     "name": "stderr",
     "output_type": "stream",
     "text": [
      "[I 2025-06-23 14:19:48,767] Trial 28 finished with value: 1.4643454411353196 and parameters: {'num_leaves': 89, 'learning_rate': 0.07330702232050537, 'n_estimators': 360, 'max_depth': 13, 'min_child_samples': 5, 'subsample': 0.8994047587201961, 'colsample_bytree': 0.7295156559726862}. Best is trial 27 with value: 1.4575532343457864.\n"
     ]
    },
    {
     "name": "stdout",
     "output_type": "stream",
     "text": [
      "Early stopping, best iteration is:\n",
      "[185]\tvalid_0's l2: 0.426212\n",
      "Training until validation scores don't improve for 50 rounds\n",
      "Early stopping, best iteration is:\n",
      "[127]\tvalid_0's l2: 12.5149\n",
      "Training until validation scores don't improve for 50 rounds\n",
      "Early stopping, best iteration is:\n",
      "[130]\tvalid_0's l2: 4.23786\n",
      "Training until validation scores don't improve for 50 rounds\n",
      "Early stopping, best iteration is:\n",
      "[63]\tvalid_0's l2: 0.351672\n",
      "Training until validation scores don't improve for 50 rounds\n",
      "Early stopping, best iteration is:\n",
      "[143]\tvalid_0's l2: 0.301933\n",
      "Training until validation scores don't improve for 50 rounds\n"
     ]
    },
    {
     "name": "stderr",
     "output_type": "stream",
     "text": [
      "[I 2025-06-23 14:19:49,731] Trial 29 finished with value: 1.4775647543375263 and parameters: {'num_leaves': 102, 'learning_rate': 0.0737135683488859, 'n_estimators': 262, 'max_depth': 14, 'min_child_samples': 5, 'subsample': 0.8777644177559902, 'colsample_bytree': 0.78336111047}. Best is trial 27 with value: 1.4575532343457864.\n"
     ]
    },
    {
     "name": "stdout",
     "output_type": "stream",
     "text": [
      "Did not meet early stopping. Best iteration is:\n",
      "[249]\tvalid_0's l2: 0.421299\n",
      "Training until validation scores don't improve for 50 rounds\n",
      "Did not meet early stopping. Best iteration is:\n",
      "[252]\tvalid_0's l2: 11.7444\n",
      "Training until validation scores don't improve for 50 rounds\n",
      "Did not meet early stopping. Best iteration is:\n",
      "[253]\tvalid_0's l2: 3.81362\n",
      "Training until validation scores don't improve for 50 rounds\n",
      "Early stopping, best iteration is:\n",
      "[95]\tvalid_0's l2: 0.349312\n",
      "Training until validation scores don't improve for 50 rounds\n",
      "Early stopping, best iteration is:\n",
      "[87]\tvalid_0's l2: 0.297135\n",
      "Training until validation scores don't improve for 50 rounds\n"
     ]
    },
    {
     "name": "stderr",
     "output_type": "stream",
     "text": [
      "[I 2025-06-23 14:19:50,549] Trial 30 finished with value: 1.4336341836011823 and parameters: {'num_leaves': 119, 'learning_rate': 0.09294236936905238, 'n_estimators': 253, 'max_depth': 14, 'min_child_samples': 9, 'subsample': 0.878533121720833, 'colsample_bytree': 0.7377307557063947}. Best is trial 30 with value: 1.4336341836011823.\n"
     ]
    },
    {
     "name": "stdout",
     "output_type": "stream",
     "text": [
      "Early stopping, best iteration is:\n",
      "[87]\tvalid_0's l2: 0.425341\n",
      "Training until validation scores don't improve for 50 rounds\n",
      "Early stopping, best iteration is:\n",
      "[134]\tvalid_0's l2: 11.8081\n",
      "Training until validation scores don't improve for 50 rounds\n",
      "Early stopping, best iteration is:\n",
      "[167]\tvalid_0's l2: 3.95908\n",
      "Training until validation scores don't improve for 50 rounds\n",
      "Early stopping, best iteration is:\n",
      "[52]\tvalid_0's l2: 0.343646\n",
      "Training until validation scores don't improve for 50 rounds\n",
      "Early stopping, best iteration is:\n",
      "[106]\tvalid_0's l2: 0.300503\n",
      "Training until validation scores don't improve for 50 rounds\n"
     ]
    },
    {
     "name": "stderr",
     "output_type": "stream",
     "text": [
      "[I 2025-06-23 14:19:51,374] Trial 31 finished with value: 1.4420601870424403 and parameters: {'num_leaves': 127, 'learning_rate': 0.0973827921252656, 'n_estimators': 255, 'max_depth': 14, 'min_child_samples': 9, 'subsample': 0.8830752784881682, 'colsample_bytree': 0.7352087395705539}. Best is trial 30 with value: 1.4336341836011823.\n"
     ]
    },
    {
     "name": "stdout",
     "output_type": "stream",
     "text": [
      "Early stopping, best iteration is:\n",
      "[158]\tvalid_0's l2: 0.422334\n",
      "Training until validation scores don't improve for 50 rounds\n",
      "Did not meet early stopping. Best iteration is:\n",
      "[208]\tvalid_0's l2: 12.0587\n",
      "Training until validation scores don't improve for 50 rounds\n",
      "Did not meet early stopping. Best iteration is:\n",
      "[221]\tvalid_0's l2: 3.83237\n",
      "Training until validation scores don't improve for 50 rounds\n",
      "Early stopping, best iteration is:\n",
      "[58]\tvalid_0's l2: 0.34689\n",
      "Training until validation scores don't improve for 50 rounds\n",
      "Early stopping, best iteration is:\n",
      "[74]\tvalid_0's l2: 0.302356\n",
      "Training until validation scores don't improve for 50 rounds\n",
      "Early stopping, best iteration is:\n",
      "[162]\tvalid_0's l2: 0.416741\n"
     ]
    },
    {
     "name": "stderr",
     "output_type": "stream",
     "text": [
      "[I 2025-06-23 14:19:52,186] Trial 32 finished with value: 1.442922119914418 and parameters: {'num_leaves': 124, 'learning_rate': 0.09065182545338063, 'n_estimators': 221, 'max_depth': 13, 'min_child_samples': 9, 'subsample': 0.8998802316226193, 'colsample_bytree': 0.7350546373231764}. Best is trial 30 with value: 1.4336341836011823.\n"
     ]
    },
    {
     "name": "stdout",
     "output_type": "stream",
     "text": [
      "Training until validation scores don't improve for 50 rounds\n",
      "Did not meet early stopping. Best iteration is:\n",
      "[185]\tvalid_0's l2: 12.2815\n",
      "Training until validation scores don't improve for 50 rounds\n",
      "Did not meet early stopping. Best iteration is:\n",
      "[217]\tvalid_0's l2: 3.62621\n",
      "Training until validation scores don't improve for 50 rounds\n",
      "Early stopping, best iteration is:\n",
      "[67]\tvalid_0's l2: 0.35028\n",
      "Training until validation scores don't improve for 50 rounds\n",
      "Early stopping, best iteration is:\n",
      "[114]\tvalid_0's l2: 0.301432\n",
      "Training until validation scores don't improve for 50 rounds\n",
      "Early stopping, best iteration is:\n",
      "[118]\tvalid_0's l2: 0.414902\n"
     ]
    },
    {
     "name": "stderr",
     "output_type": "stream",
     "text": [
      "[I 2025-06-23 14:19:53,069] Trial 33 finished with value: 1.438752260829944 and parameters: {'num_leaves': 128, 'learning_rate': 0.0957060240620122, 'n_estimators': 217, 'max_depth': 14, 'min_child_samples': 9, 'subsample': 0.9680302350595603, 'colsample_bytree': 0.7342226124751023}. Best is trial 30 with value: 1.4336341836011823.\n"
     ]
    },
    {
     "name": "stdout",
     "output_type": "stream",
     "text": [
      "Training until validation scores don't improve for 50 rounds\n",
      "Did not meet early stopping. Best iteration is:\n",
      "[115]\tvalid_0's l2: 11.5161\n",
      "Training until validation scores don't improve for 50 rounds\n",
      "Did not meet early stopping. Best iteration is:\n",
      "[118]\tvalid_0's l2: 3.82311\n",
      "Training until validation scores don't improve for 50 rounds\n",
      "Early stopping, best iteration is:\n",
      "[61]\tvalid_0's l2: 0.33679\n",
      "Training until validation scores don't improve for 50 rounds\n",
      "Did not meet early stopping. Best iteration is:\n",
      "[113]\tvalid_0's l2: 0.291917\n",
      "Training until validation scores don't improve for 50 rounds\n",
      "Did not meet early stopping. Best iteration is:\n",
      "[126]\tvalid_0's l2: 0.407999\n"
     ]
    },
    {
     "name": "stderr",
     "output_type": "stream",
     "text": [
      "[I 2025-06-23 14:19:53,771] Trial 34 finished with value: 1.4216396000061462 and parameters: {'num_leaves': 127, 'learning_rate': 0.09203694140231866, 'n_estimators': 126, 'max_depth': 15, 'min_child_samples': 9, 'subsample': 0.9961704512682901, 'colsample_bytree': 0.8021993975722137}. Best is trial 34 with value: 1.4216396000061462.\n"
     ]
    },
    {
     "name": "stdout",
     "output_type": "stream",
     "text": [
      "Training until validation scores don't improve for 50 rounds\n",
      "Did not meet early stopping. Best iteration is:\n",
      "[114]\tvalid_0's l2: 12.4735\n",
      "Training until validation scores don't improve for 50 rounds\n",
      "Did not meet early stopping. Best iteration is:\n",
      "[114]\tvalid_0's l2: 4.04546\n",
      "Training until validation scores don't improve for 50 rounds\n",
      "Did not meet early stopping. Best iteration is:\n",
      "[114]\tvalid_0's l2: 0.343505\n",
      "Training until validation scores don't improve for 50 rounds\n",
      "Did not meet early stopping. Best iteration is:\n",
      "[114]\tvalid_0's l2: 0.295515\n",
      "Training until validation scores don't improve for 50 rounds\n",
      "Did not meet early stopping. Best iteration is:\n",
      "[114]\tvalid_0's l2: 0.42163\n"
     ]
    },
    {
     "name": "stderr",
     "output_type": "stream",
     "text": [
      "[I 2025-06-23 14:19:54,549] Trial 35 finished with value: 1.464430027073425 and parameters: {'num_leaves': 120, 'learning_rate': 0.050261845111974776, 'n_estimators': 114, 'max_depth': 15, 'min_child_samples': 8, 'subsample': 0.9652250953409633, 'colsample_bytree': 0.8015800531872647}. Best is trial 34 with value: 1.4216396000061462.\n"
     ]
    },
    {
     "name": "stdout",
     "output_type": "stream",
     "text": [
      "Training until validation scores don't improve for 50 rounds\n",
      "Did not meet early stopping. Best iteration is:\n",
      "[125]\tvalid_0's l2: 15.9039\n",
      "Training until validation scores don't improve for 50 rounds\n",
      "Did not meet early stopping. Best iteration is:\n",
      "[124]\tvalid_0's l2: 4.17093\n",
      "Training until validation scores don't improve for 50 rounds\n",
      "Did not meet early stopping. Best iteration is:\n",
      "[125]\tvalid_0's l2: 0.339154\n",
      "Training until validation scores don't improve for 50 rounds\n",
      "Did not meet early stopping. Best iteration is:\n",
      "[125]\tvalid_0's l2: 0.303\n",
      "Training until validation scores don't improve for 50 rounds\n",
      "Did not meet early stopping. Best iteration is:\n",
      "[125]\tvalid_0's l2: 0.420409\n"
     ]
    },
    {
     "name": "stderr",
     "output_type": "stream",
     "text": [
      "[I 2025-06-23 14:19:55,324] Trial 36 finished with value: 1.5622934707284155 and parameters: {'num_leaves': 118, 'learning_rate': 0.04741417936363691, 'n_estimators': 125, 'max_depth': 14, 'min_child_samples': 19, 'subsample': 0.9925542651099156, 'colsample_bytree': 0.8036963014473953}. Best is trial 34 with value: 1.4216396000061462.\n"
     ]
    },
    {
     "name": "stdout",
     "output_type": "stream",
     "text": [
      "Training until validation scores don't improve for 50 rounds\n",
      "Did not meet early stopping. Best iteration is:\n",
      "[136]\tvalid_0's l2: 12.3154\n",
      "Training until validation scores don't improve for 50 rounds\n",
      "Early stopping, best iteration is:\n",
      "[122]\tvalid_0's l2: 4.05139\n",
      "Training until validation scores don't improve for 50 rounds\n",
      "Early stopping, best iteration is:\n",
      "[52]\tvalid_0's l2: 0.356505\n",
      "Training until validation scores don't improve for 50 rounds\n",
      "Early stopping, best iteration is:\n",
      "[91]\tvalid_0's l2: 0.308523\n",
      "Training until validation scores don't improve for 50 rounds\n",
      "Early stopping, best iteration is:\n",
      "[120]\tvalid_0's l2: 0.426331\n"
     ]
    },
    {
     "name": "stderr",
     "output_type": "stream",
     "text": [
      "[I 2025-06-23 14:19:56,192] Trial 37 finished with value: 1.4655204912380273 and parameters: {'num_leaves': 110, 'learning_rate': 0.09387604259621923, 'n_estimators': 180, 'max_depth': 15, 'min_child_samples': 7, 'subsample': 0.9431717409811221, 'colsample_bytree': 0.788062434296382}. Best is trial 34 with value: 1.4216396000061462.\n"
     ]
    },
    {
     "name": "stdout",
     "output_type": "stream",
     "text": [
      "Training until validation scores don't improve for 50 rounds\n",
      "Did not meet early stopping. Best iteration is:\n",
      "[203]\tvalid_0's l2: 11.6305\n",
      "Training until validation scores don't improve for 50 rounds\n",
      "Did not meet early stopping. Best iteration is:\n",
      "[204]\tvalid_0's l2: 4.1943\n",
      "Training until validation scores don't improve for 50 rounds\n",
      "Early stopping, best iteration is:\n",
      "[83]\tvalid_0's l2: 0.342538\n",
      "Training until validation scores don't improve for 50 rounds\n",
      "Early stopping, best iteration is:\n",
      "[123]\tvalid_0's l2: 0.296943\n",
      "Training until validation scores don't improve for 50 rounds\n"
     ]
    },
    {
     "name": "stderr",
     "output_type": "stream",
     "text": [
      "[I 2025-06-23 14:19:57,256] Trial 38 finished with value: 1.446390702948983 and parameters: {'num_leaves': 128, 'learning_rate': 0.06529050633641598, 'n_estimators': 204, 'max_depth': 14, 'min_child_samples': 11, 'subsample': 0.9782480071578935, 'colsample_bytree': 0.8338696698757082}. Best is trial 34 with value: 1.4216396000061462.\n"
     ]
    },
    {
     "name": "stdout",
     "output_type": "stream",
     "text": [
      "Did not meet early stopping. Best iteration is:\n",
      "[162]\tvalid_0's l2: 0.413973\n",
      "Training until validation scores don't improve for 50 rounds\n",
      "Did not meet early stopping. Best iteration is:\n",
      "[144]\tvalid_0's l2: 162.77\n",
      "Training until validation scores don't improve for 50 rounds\n",
      "Did not meet early stopping. Best iteration is:\n",
      "[144]\tvalid_0's l2: 235.352\n",
      "Training until validation scores don't improve for 50 rounds\n",
      "Did not meet early stopping. Best iteration is:\n",
      "[144]\tvalid_0's l2: 84.6384\n",
      "Training until validation scores don't improve for 50 rounds\n",
      "Did not meet early stopping. Best iteration is:\n",
      "[144]\tvalid_0's l2: 131.164\n",
      "Training until validation scores don't improve for 50 rounds\n",
      "Did not meet early stopping. Best iteration is:\n",
      "[144]\tvalid_0's l2: 137.587\n"
     ]
    },
    {
     "name": "stderr",
     "output_type": "stream",
     "text": [
      "[I 2025-06-23 14:19:58,228] Trial 39 finished with value: 12.096340231689208 and parameters: {'num_leaves': 118, 'learning_rate': 0.0010811311822308222, 'n_estimators': 144, 'max_depth': 15, 'min_child_samples': 13, 'subsample': 0.9319645922438248, 'colsample_bytree': 0.7427342271395798}. Best is trial 34 with value: 1.4216396000061462.\n"
     ]
    },
    {
     "name": "stdout",
     "output_type": "stream",
     "text": [
      "Training until validation scores don't improve for 50 rounds\n",
      "Did not meet early stopping. Best iteration is:\n",
      "[97]\tvalid_0's l2: 14.6688\n",
      "Training until validation scores don't improve for 50 rounds\n",
      "Did not meet early stopping. Best iteration is:\n",
      "[92]\tvalid_0's l2: 4.24874\n",
      "Training until validation scores don't improve for 50 rounds\n",
      "Did not meet early stopping. Best iteration is:\n",
      "[75]\tvalid_0's l2: 0.345241\n",
      "Training until validation scores don't improve for 50 rounds\n",
      "Did not meet early stopping. Best iteration is:\n",
      "[97]\tvalid_0's l2: 0.303537\n",
      "Training until validation scores don't improve for 50 rounds\n"
     ]
    },
    {
     "name": "stderr",
     "output_type": "stream",
     "text": [
      "[I 2025-06-23 14:19:58,812] Trial 40 finished with value: 1.5358356475884183 and parameters: {'num_leaves': 122, 'learning_rate': 0.0733558187510277, 'n_estimators': 97, 'max_depth': 11, 'min_child_samples': 16, 'subsample': 0.962914361930721, 'colsample_bytree': 0.7671477966372555}. Best is trial 34 with value: 1.4216396000061462.\n"
     ]
    },
    {
     "name": "stdout",
     "output_type": "stream",
     "text": [
      "Did not meet early stopping. Best iteration is:\n",
      "[97]\tvalid_0's l2: 0.421763\n",
      "Training until validation scores don't improve for 50 rounds\n",
      "Did not meet early stopping. Best iteration is:\n",
      "[210]\tvalid_0's l2: 11.7721\n",
      "Training until validation scores don't improve for 50 rounds\n",
      "Did not meet early stopping. Best iteration is:\n",
      "[225]\tvalid_0's l2: 3.75534\n",
      "Training until validation scores don't improve for 50 rounds\n",
      "Early stopping, best iteration is:\n",
      "[51]\tvalid_0's l2: 0.347344\n",
      "Training until validation scores don't improve for 50 rounds\n",
      "Early stopping, best iteration is:\n",
      "[130]\tvalid_0's l2: 0.29718\n",
      "Training until validation scores don't improve for 50 rounds\n"
     ]
    },
    {
     "name": "stderr",
     "output_type": "stream",
     "text": [
      "[I 2025-06-23 14:19:59,817] Trial 41 finished with value: 1.430114183321039 and parameters: {'num_leaves': 123, 'learning_rate': 0.0992786069109502, 'n_estimators': 233, 'max_depth': 14, 'min_child_samples': 9, 'subsample': 0.920982354712768, 'colsample_bytree': 0.7170144136494515}. Best is trial 34 with value: 1.4216396000061462.\n"
     ]
    },
    {
     "name": "stdout",
     "output_type": "stream",
     "text": [
      "Early stopping, best iteration is:\n",
      "[133]\tvalid_0's l2: 0.418808\n",
      "Training until validation scores don't improve for 50 rounds\n",
      "Early stopping, best iteration is:\n",
      "[124]\tvalid_0's l2: 11.6485\n",
      "Training until validation scores don't improve for 50 rounds\n",
      "Early stopping, best iteration is:\n",
      "[107]\tvalid_0's l2: 3.82926\n",
      "Training until validation scores don't improve for 50 rounds\n",
      "Early stopping, best iteration is:\n",
      "[53]\tvalid_0's l2: 0.347664\n",
      "Training until validation scores don't improve for 50 rounds\n",
      "Early stopping, best iteration is:\n",
      "[114]\tvalid_0's l2: 0.303048\n",
      "Training until validation scores don't improve for 50 rounds\n",
      "Early stopping, best iteration is:\n",
      "[140]\tvalid_0's l2: 0.415258\n"
     ]
    },
    {
     "name": "stderr",
     "output_type": "stream",
     "text": [
      "[I 2025-06-23 14:20:00,620] Trial 42 finished with value: 1.4308745693482636 and parameters: {'num_leaves': 113, 'learning_rate': 0.09848696202757536, 'n_estimators': 253, 'max_depth': 14, 'min_child_samples': 9, 'subsample': 0.9256528914959145, 'colsample_bytree': 0.7145708012311219}. Best is trial 34 with value: 1.4216396000061462.\n"
     ]
    },
    {
     "name": "stdout",
     "output_type": "stream",
     "text": [
      "Training until validation scores don't improve for 50 rounds\n",
      "Did not meet early stopping. Best iteration is:\n",
      "[234]\tvalid_0's l2: 12.2769\n",
      "Training until validation scores don't improve for 50 rounds\n",
      "Did not meet early stopping. Best iteration is:\n",
      "[238]\tvalid_0's l2: 4.13377\n",
      "Training until validation scores don't improve for 50 rounds\n",
      "Early stopping, best iteration is:\n",
      "[100]\tvalid_0's l2: 0.351062\n",
      "Training until validation scores don't improve for 50 rounds\n",
      "Early stopping, best iteration is:\n",
      "[172]\tvalid_0's l2: 0.296096\n",
      "Training until validation scores don't improve for 50 rounds\n"
     ]
    },
    {
     "name": "stderr",
     "output_type": "stream",
     "text": [
      "[I 2025-06-23 14:20:01,747] Trial 43 finished with value: 1.4644514584944528 and parameters: {'num_leaves': 106, 'learning_rate': 0.05750094606335707, 'n_estimators': 238, 'max_depth': 14, 'min_child_samples': 7, 'subsample': 0.9245938802053011, 'colsample_bytree': 0.7160402198702365}. Best is trial 34 with value: 1.4216396000061462.\n"
     ]
    },
    {
     "name": "stdout",
     "output_type": "stream",
     "text": [
      "Did not meet early stopping. Best iteration is:\n",
      "[210]\tvalid_0's l2: 0.420676\n",
      "Training until validation scores don't improve for 50 rounds\n",
      "Did not meet early stopping. Best iteration is:\n",
      "[196]\tvalid_0's l2: 12.6738\n",
      "Training until validation scores don't improve for 50 rounds\n",
      "Did not meet early stopping. Best iteration is:\n",
      "[196]\tvalid_0's l2: 4.35607\n",
      "Training until validation scores don't improve for 50 rounds\n",
      "Early stopping, best iteration is:\n",
      "[82]\tvalid_0's l2: 0.371559\n",
      "Training until validation scores don't improve for 50 rounds\n",
      "Early stopping, best iteration is:\n",
      "[144]\tvalid_0's l2: 0.326758\n",
      "Training until validation scores don't improve for 50 rounds\n",
      "Did not meet early stopping. Best iteration is:\n",
      "[189]\tvalid_0's l2: 0.447857\n"
     ]
    },
    {
     "name": "stderr",
     "output_type": "stream",
     "text": [
      "[I 2025-06-23 14:20:02,750] Trial 44 finished with value: 1.4995107143453823 and parameters: {'num_leaves': 113, 'learning_rate': 0.07977653153477367, 'n_estimators': 198, 'max_depth': 15, 'min_child_samples': 5, 'subsample': 0.9848063167381387, 'colsample_bytree': 0.6896690265472275}. Best is trial 34 with value: 1.4216396000061462.\n"
     ]
    },
    {
     "name": "stdout",
     "output_type": "stream",
     "text": [
      "Training until validation scores don't improve for 50 rounds\n",
      "Did not meet early stopping. Best iteration is:\n",
      "[320]\tvalid_0's l2: 11.67\n",
      "Training until validation scores don't improve for 50 rounds\n",
      "Did not meet early stopping. Best iteration is:\n",
      "[319]\tvalid_0's l2: 3.91601\n",
      "Training until validation scores don't improve for 50 rounds\n",
      "Early stopping, best iteration is:\n",
      "[122]\tvalid_0's l2: 0.342662\n",
      "Training until validation scores don't improve for 50 rounds\n",
      "Early stopping, best iteration is:\n",
      "[157]\tvalid_0's l2: 0.294588\n",
      "Training until validation scores don't improve for 50 rounds\n"
     ]
    },
    {
     "name": "stderr",
     "output_type": "stream",
     "text": [
      "[I 2025-06-23 14:20:04,166] Trial 45 finished with value: 1.4325417399424576 and parameters: {'num_leaves': 113, 'learning_rate': 0.04532280841103144, 'n_estimators': 320, 'max_depth': 14, 'min_child_samples': 10, 'subsample': 0.948969674682234, 'colsample_bytree': 0.8133321255626753}. Best is trial 34 with value: 1.4216396000061462.\n"
     ]
    },
    {
     "name": "stdout",
     "output_type": "stream",
     "text": [
      "Did not meet early stopping. Best iteration is:\n",
      "[304]\tvalid_0's l2: 0.409018\n",
      "Training until validation scores don't improve for 50 rounds\n",
      "Did not meet early stopping. Best iteration is:\n",
      "[321]\tvalid_0's l2: 13.1635\n",
      "Training until validation scores don't improve for 50 rounds\n",
      "Early stopping, best iteration is:\n",
      "[182]\tvalid_0's l2: 4.0416\n",
      "Training until validation scores don't improve for 50 rounds\n",
      "Early stopping, best iteration is:\n",
      "[120]\tvalid_0's l2: 0.340204\n",
      "Training until validation scores don't improve for 50 rounds\n",
      "Early stopping, best iteration is:\n",
      "[252]\tvalid_0's l2: 0.298796\n",
      "Training until validation scores don't improve for 50 rounds\n"
     ]
    },
    {
     "name": "stderr",
     "output_type": "stream",
     "text": [
      "[I 2025-06-23 14:20:05,326] Trial 46 finished with value: 1.481883744866298 and parameters: {'num_leaves': 116, 'learning_rate': 0.04656017326134424, 'n_estimators': 321, 'max_depth': 13, 'min_child_samples': 19, 'subsample': 0.9456379491918288, 'colsample_bytree': 0.8481647433091529}. Best is trial 34 with value: 1.4216396000061462.\n"
     ]
    },
    {
     "name": "stdout",
     "output_type": "stream",
     "text": [
      "Did not meet early stopping. Best iteration is:\n",
      "[290]\tvalid_0's l2: 0.410881\n",
      "Training until validation scores don't improve for 50 rounds\n",
      "Did not meet early stopping. Best iteration is:\n",
      "[295]\tvalid_0's l2: 11.6906\n",
      "Training until validation scores don't improve for 50 rounds\n",
      "Early stopping, best iteration is:\n",
      "[181]\tvalid_0's l2: 3.95492\n",
      "Training until validation scores don't improve for 50 rounds\n",
      "Early stopping, best iteration is:\n",
      "[137]\tvalid_0's l2: 0.339829\n",
      "Training until validation scores don't improve for 50 rounds\n",
      "Early stopping, best iteration is:\n",
      "[147]\tvalid_0's l2: 0.296003\n",
      "Training until validation scores don't improve for 50 rounds\n"
     ]
    },
    {
     "name": "stderr",
     "output_type": "stream",
     "text": [
      "[I 2025-06-23 14:20:06,357] Trial 47 finished with value: 1.4348474043283945 and parameters: {'num_leaves': 111, 'learning_rate': 0.05928868066892621, 'n_estimators': 299, 'max_depth': 11, 'min_child_samples': 10, 'subsample': 0.8550589727685929, 'colsample_bytree': 0.8161844257470714}. Best is trial 34 with value: 1.4216396000061462.\n"
     ]
    },
    {
     "name": "stdout",
     "output_type": "stream",
     "text": [
      "Early stopping, best iteration is:\n",
      "[234]\tvalid_0's l2: 0.4088\n",
      "Training until validation scores don't improve for 50 rounds\n",
      "Did not meet early stopping. Best iteration is:\n",
      "[277]\tvalid_0's l2: 101.533\n",
      "Training until validation scores don't improve for 50 rounds\n",
      "Did not meet early stopping. Best iteration is:\n",
      "[277]\tvalid_0's l2: 138.461\n",
      "Training until validation scores don't improve for 50 rounds\n",
      "Did not meet early stopping. Best iteration is:\n",
      "[277]\tvalid_0's l2: 46.1031\n",
      "Training until validation scores don't improve for 50 rounds\n",
      "Did not meet early stopping. Best iteration is:\n",
      "[277]\tvalid_0's l2: 71.5451\n",
      "Training until validation scores don't improve for 50 rounds\n"
     ]
    },
    {
     "name": "stderr",
     "output_type": "stream",
     "text": [
      "[I 2025-06-23 14:20:08,023] Trial 48 finished with value: 9.151048033821832 and parameters: {'num_leaves': 104, 'learning_rate': 0.0016640839025011448, 'n_estimators': 277, 'max_depth': 15, 'min_child_samples': 7, 'subsample': 0.9112271208705007, 'colsample_bytree': 0.7834501761728663}. Best is trial 34 with value: 1.4216396000061462.\n"
     ]
    },
    {
     "name": "stdout",
     "output_type": "stream",
     "text": [
      "Did not meet early stopping. Best iteration is:\n",
      "[277]\tvalid_0's l2: 75.0582\n",
      "Training until validation scores don't improve for 50 rounds\n",
      "Did not meet early stopping. Best iteration is:\n",
      "[166]\tvalid_0's l2: 13.2387\n",
      "Training until validation scores don't improve for 50 rounds\n",
      "Did not meet early stopping. Best iteration is:\n",
      "[166]\tvalid_0's l2: 3.93266\n",
      "Training until validation scores don't improve for 50 rounds\n",
      "Early stopping, best iteration is:\n",
      "[78]\tvalid_0's l2: 0.346468\n",
      "Training until validation scores don't improve for 50 rounds\n",
      "Early stopping, best iteration is:\n",
      "[110]\tvalid_0's l2: 0.30635\n",
      "Training until validation scores don't improve for 50 rounds\n",
      "Did not meet early stopping. Best iteration is:\n",
      "[164]\tvalid_0's l2: 0.417478\n"
     ]
    },
    {
     "name": "stderr",
     "output_type": "stream",
     "text": [
      "[I 2025-06-23 14:20:08,756] Trial 49 finished with value: 1.481964352671686 and parameters: {'num_leaves': 122, 'learning_rate': 0.06512948757255914, 'n_estimators': 168, 'max_depth': 10, 'min_child_samples': 13, 'subsample': 0.9483461160106849, 'colsample_bytree': 0.7530565559315388}. Best is trial 34 with value: 1.4216396000061462.\n"
     ]
    },
    {
     "name": "stdout",
     "output_type": "stream",
     "text": [
      "Training until validation scores don't improve for 50 rounds\n",
      "Did not meet early stopping. Best iteration is:\n",
      "[328]\tvalid_0's l2: 15.7825\n",
      "Training until validation scores don't improve for 50 rounds\n",
      "Did not meet early stopping. Best iteration is:\n",
      "[289]\tvalid_0's l2: 4.10492\n",
      "Training until validation scores don't improve for 50 rounds\n",
      "Early stopping, best iteration is:\n",
      "[248]\tvalid_0's l2: 0.353727\n",
      "Training until validation scores don't improve for 50 rounds\n",
      "Early stopping, best iteration is:\n",
      "[259]\tvalid_0's l2: 0.29956\n",
      "Training until validation scores don't improve for 50 rounds\n"
     ]
    },
    {
     "name": "stderr",
     "output_type": "stream",
     "text": [
      "[I 2025-06-23 14:20:10,120] Trial 50 finished with value: 1.558392574840146 and parameters: {'num_leaves': 99, 'learning_rate': 0.02779055343777841, 'n_estimators': 328, 'max_depth': 12, 'min_child_samples': 26, 'subsample': 0.9366163814895525, 'colsample_bytree': 0.7146838503328774}. Best is trial 34 with value: 1.4216396000061462.\n"
     ]
    },
    {
     "name": "stdout",
     "output_type": "stream",
     "text": [
      "Did not meet early stopping. Best iteration is:\n",
      "[327]\tvalid_0's l2: 0.42395\n",
      "Training until validation scores don't improve for 50 rounds\n",
      "Did not meet early stopping. Best iteration is:\n",
      "[274]\tvalid_0's l2: 12.0095\n",
      "Training until validation scores don't improve for 50 rounds\n",
      "Did not meet early stopping. Best iteration is:\n",
      "[294]\tvalid_0's l2: 3.90904\n",
      "Training until validation scores don't improve for 50 rounds\n",
      "Early stopping, best iteration is:\n",
      "[97]\tvalid_0's l2: 0.343934\n",
      "Training until validation scores don't improve for 50 rounds\n",
      "Early stopping, best iteration is:\n",
      "[198]\tvalid_0's l2: 0.293873\n",
      "Training until validation scores don't improve for 50 rounds\n"
     ]
    },
    {
     "name": "stderr",
     "output_type": "stream",
     "text": [
      "[I 2025-06-23 14:20:11,264] Trial 51 finished with value: 1.442952107520635 and parameters: {'num_leaves': 112, 'learning_rate': 0.05687763608116097, 'n_estimators': 294, 'max_depth': 11, 'min_child_samples': 10, 'subsample': 0.8529362865120833, 'colsample_bytree': 0.8102477436891877}. Best is trial 34 with value: 1.4216396000061462.\n"
     ]
    },
    {
     "name": "stdout",
     "output_type": "stream",
     "text": [
      "Early stopping, best iteration is:\n",
      "[224]\tvalid_0's l2: 0.414215\n",
      "Training until validation scores don't improve for 50 rounds\n",
      "Early stopping, best iteration is:\n",
      "[212]\tvalid_0's l2: 11.808\n",
      "Training until validation scores don't improve for 50 rounds\n",
      "Early stopping, best iteration is:\n",
      "[132]\tvalid_0's l2: 4.1124\n",
      "Training until validation scores don't improve for 50 rounds\n",
      "Early stopping, best iteration is:\n",
      "[64]\tvalid_0's l2: 0.34378\n",
      "Training until validation scores don't improve for 50 rounds\n",
      "Early stopping, best iteration is:\n",
      "[93]\tvalid_0's l2: 0.297571\n",
      "Training until validation scores don't improve for 50 rounds\n"
     ]
    },
    {
     "name": "stderr",
     "output_type": "stream",
     "text": [
      "[I 2025-06-23 14:20:12,064] Trial 52 finished with value: 1.44797064330207 and parameters: {'num_leaves': 110, 'learning_rate': 0.08120405984046057, 'n_estimators': 303, 'max_depth': 14, 'min_child_samples': 11, 'subsample': 0.8330327678199015, 'colsample_bytree': 0.833043521894432}. Best is trial 34 with value: 1.4216396000061462.\n"
     ]
    },
    {
     "name": "stdout",
     "output_type": "stream",
     "text": [
      "Early stopping, best iteration is:\n",
      "[115]\tvalid_0's l2: 0.414536\n",
      "Training until validation scores don't improve for 50 rounds\n",
      "Early stopping, best iteration is:\n",
      "[108]\tvalid_0's l2: 11.6358\n",
      "Training until validation scores don't improve for 50 rounds\n",
      "Early stopping, best iteration is:\n",
      "[134]\tvalid_0's l2: 4.04853\n",
      "Training until validation scores don't improve for 50 rounds\n",
      "Early stopping, best iteration is:\n",
      "[60]\tvalid_0's l2: 0.333693\n",
      "Training until validation scores don't improve for 50 rounds\n"
     ]
    },
    {
     "name": "stderr",
     "output_type": "stream",
     "text": [
      "[I 2025-06-23 14:20:12,810] Trial 53 finished with value: 1.4382096315569457 and parameters: {'num_leaves': 115, 'learning_rate': 0.09909161778065402, 'n_estimators': 235, 'max_depth': 14, 'min_child_samples': 9, 'subsample': 0.866243010628482, 'colsample_bytree': 0.8180727330991382}. Best is trial 34 with value: 1.4216396000061462.\n"
     ]
    },
    {
     "name": "stdout",
     "output_type": "stream",
     "text": [
      "Early stopping, best iteration is:\n",
      "[102]\tvalid_0's l2: 0.300124\n",
      "Training until validation scores don't improve for 50 rounds\n",
      "Early stopping, best iteration is:\n",
      "[91]\tvalid_0's l2: 0.412586\n",
      "Training until validation scores don't improve for 50 rounds\n",
      "Early stopping, best iteration is:\n",
      "[177]\tvalid_0's l2: 12.3895\n",
      "Training until validation scores don't improve for 50 rounds\n",
      "Did not meet early stopping. Best iteration is:\n",
      "[310]\tvalid_0's l2: 3.97281\n",
      "Training until validation scores don't improve for 50 rounds\n",
      "Early stopping, best iteration is:\n",
      "[98]\tvalid_0's l2: 0.350584\n",
      "Training until validation scores don't improve for 50 rounds\n",
      "Early stopping, best iteration is:\n",
      "[153]\tvalid_0's l2: 0.294171\n",
      "Training until validation scores don't improve for 50 rounds\n"
     ]
    },
    {
     "name": "stderr",
     "output_type": "stream",
     "text": [
      "[I 2025-06-23 14:20:13,897] Trial 54 finished with value: 1.458175656904621 and parameters: {'num_leaves': 94, 'learning_rate': 0.06359828661711679, 'n_estimators': 342, 'max_depth': 15, 'min_child_samples': 7, 'subsample': 0.8688714173749206, 'colsample_bytree': 0.8528126875703481}. Best is trial 34 with value: 1.4216396000061462.\n"
     ]
    },
    {
     "name": "stdout",
     "output_type": "stream",
     "text": [
      "Early stopping, best iteration is:\n",
      "[212]\tvalid_0's l2: 0.413887\n",
      "Training until validation scores don't improve for 50 rounds\n",
      "Did not meet early stopping. Best iteration is:\n",
      "[274]\tvalid_0's l2: 43.853\n",
      "Training until validation scores don't improve for 50 rounds\n",
      "Did not meet early stopping. Best iteration is:\n",
      "[274]\tvalid_0's l2: 39.791\n",
      "Training until validation scores don't improve for 50 rounds\n",
      "Did not meet early stopping. Best iteration is:\n",
      "[274]\tvalid_0's l2: 9.69902\n",
      "Training until validation scores don't improve for 50 rounds\n",
      "Did not meet early stopping. Best iteration is:\n",
      "[274]\tvalid_0's l2: 15.1641\n",
      "Training until validation scores don't improve for 50 rounds\n"
     ]
    },
    {
     "name": "stderr",
     "output_type": "stream",
     "text": [
      "[I 2025-06-23 14:20:15,653] Trial 55 finished with value: 4.783533874575268 and parameters: {'num_leaves': 123, 'learning_rate': 0.004559777926640375, 'n_estimators': 274, 'max_depth': 13, 'min_child_samples': 14, 'subsample': 0.7835498188913225, 'colsample_bytree': 0.7721834336648662}. Best is trial 34 with value: 1.4216396000061462.\n"
     ]
    },
    {
     "name": "stdout",
     "output_type": "stream",
     "text": [
      "Did not meet early stopping. Best iteration is:\n",
      "[274]\tvalid_0's l2: 15.8329\n",
      "Training until validation scores don't improve for 50 rounds\n",
      "Did not meet early stopping. Best iteration is:\n",
      "[316]\tvalid_0's l2: 13.2349\n",
      "Training until validation scores don't improve for 50 rounds\n",
      "Early stopping, best iteration is:\n",
      "[157]\tvalid_0's l2: 4.0005\n",
      "Training until validation scores don't improve for 50 rounds\n",
      "Early stopping, best iteration is:\n",
      "[199]\tvalid_0's l2: 0.341877\n",
      "Training until validation scores don't improve for 50 rounds\n",
      "Early stopping, best iteration is:\n",
      "[245]\tvalid_0's l2: 0.29451\n",
      "Training until validation scores don't improve for 50 rounds\n"
     ]
    },
    {
     "name": "stderr",
     "output_type": "stream",
     "text": [
      "[I 2025-06-23 14:20:16,873] Trial 56 finished with value: 1.4813122449060476 and parameters: {'num_leaves': 107, 'learning_rate': 0.04273105118839052, 'n_estimators': 316, 'max_depth': 14, 'min_child_samples': 17, 'subsample': 0.8456084754468861, 'colsample_bytree': 0.8741436137555022}. Best is trial 34 with value: 1.4216396000061462.\n"
     ]
    },
    {
     "name": "stdout",
     "output_type": "stream",
     "text": [
      "Did not meet early stopping. Best iteration is:\n",
      "[304]\tvalid_0's l2: 0.410966\n",
      "Training until validation scores don't improve for 50 rounds\n",
      "Did not meet early stopping. Best iteration is:\n",
      "[78]\tvalid_0's l2: 24.7093\n",
      "Training until validation scores don't improve for 50 rounds\n",
      "Did not meet early stopping. Best iteration is:\n",
      "[78]\tvalid_0's l2: 6.26363\n",
      "Training until validation scores don't improve for 50 rounds\n",
      "Did not meet early stopping. Best iteration is:\n",
      "[78]\tvalid_0's l2: 0.387659\n",
      "Training until validation scores don't improve for 50 rounds\n",
      "Did not meet early stopping. Best iteration is:\n",
      "[78]\tvalid_0's l2: 0.40182\n",
      "Training until validation scores don't improve for 50 rounds\n"
     ]
    },
    {
     "name": "stderr",
     "output_type": "stream",
     "text": [
      "[I 2025-06-23 14:20:17,074] Trial 57 finished with value: 1.9106091604677584 and parameters: {'num_leaves': 17, 'learning_rate': 0.052747649488692594, 'n_estimators': 78, 'max_depth': 11, 'min_child_samples': 50, 'subsample': 0.9041066149176099, 'colsample_bytree': 0.7541254458232531}. Best is trial 34 with value: 1.4216396000061462.\n"
     ]
    },
    {
     "name": "stdout",
     "output_type": "stream",
     "text": [
      "Did not meet early stopping. Best iteration is:\n",
      "[78]\tvalid_0's l2: 0.677266\n",
      "Training until validation scores don't improve for 50 rounds\n",
      "Did not meet early stopping. Best iteration is:\n",
      "[249]\tvalid_0's l2: 12.0409\n",
      "Training until validation scores don't improve for 50 rounds\n",
      "Early stopping, best iteration is:\n",
      "[146]\tvalid_0's l2: 4.00071\n",
      "Training until validation scores don't improve for 50 rounds\n",
      "Early stopping, best iteration is:\n",
      "[84]\tvalid_0's l2: 0.335453\n",
      "Training until validation scores don't improve for 50 rounds\n",
      "Early stopping, best iteration is:\n",
      "[157]\tvalid_0's l2: 0.295781\n",
      "Training until validation scores don't improve for 50 rounds\n",
      "Early stopping, best iteration is:\n",
      "[129]\tvalid_0's l2: 0.412563\n"
     ]
    },
    {
     "name": "stderr",
     "output_type": "stream",
     "text": [
      "[I 2025-06-23 14:20:17,941] Trial 58 finished with value: 1.4471060153356707 and parameters: {'num_leaves': 117, 'learning_rate': 0.08005450067752734, 'n_estimators': 253, 'max_depth': 12, 'min_child_samples': 12, 'subsample': 0.9210285492621973, 'colsample_bytree': 0.7950713377507294}. Best is trial 34 with value: 1.4216396000061462.\n"
     ]
    },
    {
     "name": "stdout",
     "output_type": "stream",
     "text": [
      "Training until validation scores don't improve for 50 rounds\n",
      "Did not meet early stopping. Best iteration is:\n",
      "[257]\tvalid_0's l2: 12.8284\n",
      "Training until validation scores don't improve for 50 rounds\n",
      "Early stopping, best iteration is:\n",
      "[183]\tvalid_0's l2: 4.2534\n",
      "Training until validation scores don't improve for 50 rounds\n",
      "Early stopping, best iteration is:\n",
      "[84]\tvalid_0's l2: 0.362103\n",
      "Training until validation scores don't improve for 50 rounds\n",
      "Did not meet early stopping. Best iteration is:\n",
      "[278]\tvalid_0's l2: 0.314247\n",
      "Training until validation scores don't improve for 50 rounds\n"
     ]
    },
    {
     "name": "stderr",
     "output_type": "stream",
     "text": [
      "[I 2025-06-23 14:20:19,124] Trial 59 finished with value: 1.494341731802654 and parameters: {'num_leaves': 124, 'learning_rate': 0.06022495815785991, 'n_estimators': 279, 'max_depth': 10, 'min_child_samples': 6, 'subsample': 0.6106818519438819, 'colsample_bytree': 0.6733925267916868}. Best is trial 34 with value: 1.4216396000061462.\n"
     ]
    },
    {
     "name": "stdout",
     "output_type": "stream",
     "text": [
      "Did not meet early stopping. Best iteration is:\n",
      "[241]\tvalid_0's l2: 0.44267\n",
      "Training until validation scores don't improve for 50 rounds\n",
      "Did not meet early stopping. Best iteration is:\n",
      "[399]\tvalid_0's l2: 12.4108\n",
      "Training until validation scores don't improve for 50 rounds\n",
      "Early stopping, best iteration is:\n",
      "[293]\tvalid_0's l2: 3.42899\n",
      "Training until validation scores don't improve for 50 rounds\n",
      "Did not meet early stopping. Best iteration is:\n",
      "[398]\tvalid_0's l2: 0.320511\n",
      "Training until validation scores don't improve for 50 rounds\n",
      "Early stopping, best iteration is:\n",
      "[85]\tvalid_0's l2: 0.343949\n",
      "Training until validation scores don't improve for 50 rounds\n",
      "Did not meet early stopping. Best iteration is:\n",
      "[398]\tvalid_0's l2: 0.434313\n"
     ]
    },
    {
     "name": "stderr",
     "output_type": "stream",
     "text": [
      "[I 2025-06-23 14:20:19,512] Trial 60 finished with value: 1.4372553758523927 and parameters: {'num_leaves': 111, 'learning_rate': 0.08561496014364134, 'n_estimators': 400, 'max_depth': 4, 'min_child_samples': 10, 'subsample': 0.9794549885590556, 'colsample_bytree': 0.8214392806571331}. Best is trial 34 with value: 1.4216396000061462.\n"
     ]
    },
    {
     "name": "stdout",
     "output_type": "stream",
     "text": [
      "Training until validation scores don't improve for 50 rounds\n",
      "Early stopping, best iteration is:\n",
      "[92]\tvalid_0's l2: 13.392\n",
      "Training until validation scores don't improve for 50 rounds\n",
      "Early stopping, best iteration is:\n",
      "[109]\tvalid_0's l2: 3.89258\n",
      "Training until validation scores don't improve for 50 rounds\n",
      "Early stopping, best iteration is:\n",
      "[167]\tvalid_0's l2: 0.338335\n",
      "Training until validation scores don't improve for 50 rounds\n",
      "Early stopping, best iteration is:\n",
      "[172]\tvalid_0's l2: 0.293213\n",
      "Training until validation scores don't improve for 50 rounds\n"
     ]
    },
    {
     "name": "stderr",
     "output_type": "stream",
     "text": [
      "[I 2025-06-23 14:20:19,976] Trial 61 finished with value: 1.4793208340861153 and parameters: {'num_leaves': 110, 'learning_rate': 0.0830693838455887, 'n_estimators': 417, 'max_depth': 6, 'min_child_samples': 10, 'subsample': 0.9785190577719589, 'colsample_bytree': 0.8238466254698421}. Best is trial 34 with value: 1.4216396000061462.\n"
     ]
    },
    {
     "name": "stdout",
     "output_type": "stream",
     "text": [
      "Early stopping, best iteration is:\n",
      "[240]\tvalid_0's l2: 0.410848\n",
      "Training until validation scores don't improve for 50 rounds\n",
      "Did not meet early stopping. Best iteration is:\n",
      "[392]\tvalid_0's l2: 14.5509\n",
      "Training until validation scores don't improve for 50 rounds\n",
      "Did not meet early stopping. Best iteration is:\n",
      "[353]\tvalid_0's l2: 3.74563\n",
      "Training until validation scores don't improve for 50 rounds\n"
     ]
    },
    {
     "name": "stderr",
     "output_type": "stream",
     "text": [
      "[I 2025-06-23 14:20:20,374] Trial 62 finished with value: 1.5137512787446659 and parameters: {'num_leaves': 120, 'learning_rate': 0.0697276759747056, 'n_estimators': 399, 'max_depth': 4, 'min_child_samples': 15, 'subsample': 0.9963297120332892, 'colsample_bytree': 0.8440732600667127}. Best is trial 34 with value: 1.4216396000061462.\n"
     ]
    },
    {
     "name": "stdout",
     "output_type": "stream",
     "text": [
      "Did not meet early stopping. Best iteration is:\n",
      "[399]\tvalid_0's l2: 0.331914\n",
      "Training until validation scores don't improve for 50 rounds\n",
      "Early stopping, best iteration is:\n",
      "[106]\tvalid_0's l2: 0.336651\n",
      "Training until validation scores don't improve for 50 rounds\n",
      "Did not meet early stopping. Best iteration is:\n",
      "[399]\tvalid_0's l2: 0.438904\n",
      "Training until validation scores don't improve for 50 rounds\n",
      "Did not meet early stopping. Best iteration is:\n",
      "[335]\tvalid_0's l2: 12.2661\n",
      "Training until validation scores don't improve for 50 rounds\n",
      "Early stopping, best iteration is:\n",
      "[84]\tvalid_0's l2: 4.00209\n",
      "Training until validation scores don't improve for 50 rounds\n",
      "Early stopping, best iteration is:\n",
      "[64]\tvalid_0's l2: 0.340622\n",
      "Training until validation scores don't improve for 50 rounds\n",
      "Early stopping, best iteration is:\n",
      "[122]\tvalid_0's l2: 0.297015\n",
      "Training until validation scores don't improve for 50 rounds\n"
     ]
    },
    {
     "name": "stderr",
     "output_type": "stream",
     "text": [
      "[I 2025-06-23 14:20:21,175] Trial 63 finished with value: 1.4541720192022598 and parameters: {'num_leaves': 114, 'learning_rate': 0.08466329364026133, 'n_estimators': 342, 'max_depth': 13, 'min_child_samples': 13, 'subsample': 0.9572742287486019, 'colsample_bytree': 0.8157879034811906}. Best is trial 34 with value: 1.4216396000061462.\n"
     ]
    },
    {
     "name": "stdout",
     "output_type": "stream",
     "text": [
      "Early stopping, best iteration is:\n",
      "[110]\tvalid_0's l2: 0.408855\n",
      "Training until validation scores don't improve for 50 rounds\n",
      "Did not meet early stopping. Best iteration is:\n",
      "[456]\tvalid_0's l2: 12.1585\n",
      "Training until validation scores don't improve for 50 rounds\n",
      "Did not meet early stopping. Best iteration is:\n",
      "[471]\tvalid_0's l2: 3.81774\n",
      "Training until validation scores don't improve for 50 rounds\n",
      "Early stopping, best iteration is:\n",
      "[291]\tvalid_0's l2: 0.348615\n",
      "Training until validation scores don't improve for 50 rounds\n",
      "Early stopping, best iteration is:\n",
      "[302]\tvalid_0's l2: 0.305979\n",
      "Training until validation scores don't improve for 50 rounds\n"
     ]
    },
    {
     "name": "stderr",
     "output_type": "stream",
     "text": [
      "[I 2025-06-23 14:20:23,065] Trial 64 finished with value: 1.4470437482174063 and parameters: {'num_leaves': 103, 'learning_rate': 0.021354679805815277, 'n_estimators': 477, 'max_depth': 9, 'min_child_samples': 8, 'subsample': 0.9752847017912086, 'colsample_bytree': 0.7710349717880345}. Best is trial 34 with value: 1.4216396000061462.\n"
     ]
    },
    {
     "name": "stdout",
     "output_type": "stream",
     "text": [
      "Did not meet early stopping. Best iteration is:\n",
      "[477]\tvalid_0's l2: 0.423562\n",
      "Training until validation scores don't improve for 50 rounds\n",
      "Did not meet early stopping. Best iteration is:\n",
      "[305]\tvalid_0's l2: 14.0437\n",
      "Training until validation scores don't improve for 50 rounds\n",
      "Did not meet early stopping. Best iteration is:\n",
      "[289]\tvalid_0's l2: 4.27134\n",
      "Training until validation scores don't improve for 50 rounds\n",
      "Early stopping, best iteration is:\n",
      "[232]\tvalid_0's l2: 0.360123\n",
      "Training until validation scores don't improve for 50 rounds\n",
      "Did not meet early stopping. Best iteration is:\n",
      "[280]\tvalid_0's l2: 0.316425\n",
      "Training until validation scores don't improve for 50 rounds\n"
     ]
    },
    {
     "name": "stderr",
     "output_type": "stream",
     "text": [
      "[I 2025-06-23 14:20:24,078] Trial 65 finished with value: 1.529470286630056 and parameters: {'num_leaves': 108, 'learning_rate': 0.03168291558428625, 'n_estimators': 307, 'max_depth': 7, 'min_child_samples': 11, 'subsample': 0.9298358517823262, 'colsample_bytree': 0.6953729594348479}. Best is trial 34 with value: 1.4216396000061462.\n"
     ]
    },
    {
     "name": "stdout",
     "output_type": "stream",
     "text": [
      "Did not meet early stopping. Best iteration is:\n",
      "[305]\tvalid_0's l2: 0.449593\n",
      "Training until validation scores don't improve for 50 rounds\n",
      "Early stopping, best iteration is:\n",
      "[131]\tvalid_0's l2: 12.9399\n",
      "Training until validation scores don't improve for 50 rounds\n",
      "Did not meet early stopping. Best iteration is:\n",
      "[229]\tvalid_0's l2: 3.8603\n",
      "Training until validation scores don't improve for 50 rounds\n",
      "Did not meet early stopping. Best iteration is:\n",
      "[229]\tvalid_0's l2: 0.352017\n",
      "Training until validation scores don't improve for 50 rounds\n"
     ]
    },
    {
     "name": "stderr",
     "output_type": "stream",
     "text": [
      "[I 2025-06-23 14:20:24,312] Trial 66 finished with value: 1.489440051403873 and parameters: {'num_leaves': 98, 'learning_rate': 0.0539276865141703, 'n_estimators': 230, 'max_depth': 3, 'min_child_samples': 5, 'subsample': 0.9565166915247079, 'colsample_bytree': 0.8608641916116854}. Best is trial 34 with value: 1.4216396000061462.\n"
     ]
    },
    {
     "name": "stdout",
     "output_type": "stream",
     "text": [
      "Early stopping, best iteration is:\n",
      "[147]\tvalid_0's l2: 0.337015\n",
      "Training until validation scores don't improve for 50 rounds\n",
      "Did not meet early stopping. Best iteration is:\n",
      "[230]\tvalid_0's l2: 0.50608\n",
      "Training until validation scores don't improve for 50 rounds\n",
      "Did not meet early stopping. Best iteration is:\n",
      "[232]\tvalid_0's l2: 13.0086\n",
      "Training until validation scores don't improve for 50 rounds\n",
      "Did not meet early stopping. Best iteration is:\n",
      "[248]\tvalid_0's l2: 3.65567\n",
      "Training until validation scores don't improve for 50 rounds\n",
      "Did not meet early stopping. Best iteration is:\n",
      "[246]\tvalid_0's l2: 0.33152\n",
      "Training until validation scores don't improve for 50 rounds\n",
      "Did not meet early stopping. Best iteration is:\n",
      "[247]\tvalid_0's l2: 0.299353\n"
     ]
    },
    {
     "name": "stderr",
     "output_type": "stream",
     "text": [
      "[I 2025-06-23 14:20:24,750] Trial 67 finished with value: 1.4596186181955915 and parameters: {'num_leaves': 124, 'learning_rate': 0.03940782667151584, 'n_estimators': 248, 'max_depth': 5, 'min_child_samples': 10, 'subsample': 0.8198270920750618, 'colsample_bytree': 0.8853146899070317}. Best is trial 34 with value: 1.4216396000061462.\n"
     ]
    },
    {
     "name": "stdout",
     "output_type": "stream",
     "text": [
      "Training until validation scores don't improve for 50 rounds\n",
      "Did not meet early stopping. Best iteration is:\n",
      "[246]\tvalid_0's l2: 0.430945\n",
      "Training until validation scores don't improve for 50 rounds\n",
      "Early stopping, best iteration is:\n",
      "[305]\tvalid_0's l2: 16.6426\n",
      "Training until validation scores don't improve for 50 rounds\n",
      "Early stopping, best iteration is:\n",
      "[214]\tvalid_0's l2: 4.09519\n",
      "Training until validation scores don't improve for 50 rounds\n",
      "Did not meet early stopping. Best iteration is:\n",
      "[425]\tvalid_0's l2: 0.314783\n",
      "Training until validation scores don't improve for 50 rounds\n",
      "Did not meet early stopping. Best iteration is:\n",
      "[438]\tvalid_0's l2: 0.291706\n"
     ]
    },
    {
     "name": "stderr",
     "output_type": "stream",
     "text": [
      "[I 2025-06-23 14:20:25,164] Trial 68 finished with value: 1.570676216340988 and parameters: {'num_leaves': 118, 'learning_rate': 0.07051254520482417, 'n_estimators': 438, 'max_depth': 4, 'min_child_samples': 35, 'subsample': 0.8824674478130764, 'colsample_bytree': 0.9056623999222944}. Best is trial 34 with value: 1.4216396000061462.\n"
     ]
    },
    {
     "name": "stdout",
     "output_type": "stream",
     "text": [
      "Training until validation scores don't improve for 50 rounds\n",
      "Did not meet early stopping. Best iteration is:\n",
      "[438]\tvalid_0's l2: 0.421257\n",
      "Training until validation scores don't improve for 50 rounds\n",
      "Early stopping, best iteration is:\n",
      "[170]\tvalid_0's l2: 11.2725\n",
      "Training until validation scores don't improve for 50 rounds\n",
      "Early stopping, best iteration is:\n",
      "[151]\tvalid_0's l2: 3.74152\n",
      "Training until validation scores don't improve for 50 rounds\n",
      "Early stopping, best iteration is:\n",
      "[54]\tvalid_0's l2: 0.338779\n",
      "Training until validation scores don't improve for 50 rounds\n",
      "Early stopping, best iteration is:\n",
      "[121]\tvalid_0's l2: 0.300563\n",
      "Training until validation scores don't improve for 50 rounds\n"
     ]
    },
    {
     "name": "stderr",
     "output_type": "stream",
     "text": [
      "[I 2025-06-23 14:20:25,968] Trial 69 finished with value: 1.4125448882862708 and parameters: {'num_leaves': 111, 'learning_rate': 0.09951236526700208, 'n_estimators': 267, 'max_depth': 13, 'min_child_samples': 8, 'subsample': 0.9874414765123858, 'colsample_bytree': 0.7981026863821957}. Best is trial 69 with value: 1.4125448882862708.\n"
     ]
    },
    {
     "name": "stdout",
     "output_type": "stream",
     "text": [
      "Early stopping, best iteration is:\n",
      "[101]\tvalid_0's l2: 0.41047\n",
      "Training until validation scores don't improve for 50 rounds\n",
      "Did not meet early stopping. Best iteration is:\n",
      "[194]\tvalid_0's l2: 35.5168\n",
      "Training until validation scores don't improve for 50 rounds\n",
      "Did not meet early stopping. Best iteration is:\n",
      "[194]\tvalid_0's l2: 15.2186\n",
      "Training until validation scores don't improve for 50 rounds\n",
      "Did not meet early stopping. Best iteration is:\n",
      "[194]\tvalid_0's l2: 1.93092\n",
      "Training until validation scores don't improve for 50 rounds\n",
      "Did not meet early stopping. Best iteration is:\n",
      "[194]\tvalid_0's l2: 2.90479\n",
      "Training until validation scores don't improve for 50 rounds\n"
     ]
    },
    {
     "name": "stderr",
     "output_type": "stream",
     "text": [
      "[I 2025-06-23 14:20:26,800] Trial 70 finished with value: 2.947633001385752 and parameters: {'num_leaves': 94, 'learning_rate': 0.010938769487683957, 'n_estimators': 194, 'max_depth': 13, 'min_child_samples': 44, 'subsample': 0.9098670697398618, 'colsample_bytree': 0.958838874838013}. Best is trial 69 with value: 1.4125448882862708.\n"
     ]
    },
    {
     "name": "stdout",
     "output_type": "stream",
     "text": [
      "Did not meet early stopping. Best iteration is:\n",
      "[194]\tvalid_0's l2: 3.18103\n",
      "Training until validation scores don't improve for 50 rounds\n",
      "Did not meet early stopping. Best iteration is:\n",
      "[50]\tvalid_0's l2: 12.5286\n",
      "Training until validation scores don't improve for 50 rounds\n",
      "Did not meet early stopping. Best iteration is:\n",
      "[50]\tvalid_0's l2: 4.37246\n",
      "Training until validation scores don't improve for 50 rounds\n"
     ]
    },
    {
     "name": "stderr",
     "output_type": "stream",
     "text": [
      "[I 2025-06-23 14:20:27,188] Trial 71 finished with value: 1.4851527846227508 and parameters: {'num_leaves': 113, 'learning_rate': 0.09647272290870579, 'n_estimators': 50, 'max_depth': 15, 'min_child_samples': 8, 'subsample': 0.9988092416940451, 'colsample_bytree': 0.8303075461133611}. Best is trial 69 with value: 1.4125448882862708.\n"
     ]
    },
    {
     "name": "stdout",
     "output_type": "stream",
     "text": [
      "Did not meet early stopping. Best iteration is:\n",
      "[50]\tvalid_0's l2: 0.337105\n",
      "Training until validation scores don't improve for 50 rounds\n",
      "Did not meet early stopping. Best iteration is:\n",
      "[50]\tvalid_0's l2: 0.314023\n",
      "Training until validation scores don't improve for 50 rounds\n",
      "Did not meet early stopping. Best iteration is:\n",
      "[50]\tvalid_0's l2: 0.42793\n",
      "Training until validation scores don't improve for 50 rounds\n",
      "Early stopping, best iteration is:\n",
      "[149]\tvalid_0's l2: 13.0229\n",
      "Training until validation scores don't improve for 50 rounds\n",
      "Did not meet early stopping. Best iteration is:\n",
      "[239]\tvalid_0's l2: 3.93713\n",
      "Training until validation scores don't improve for 50 rounds\n",
      "Early stopping, best iteration is:\n",
      "[62]\tvalid_0's l2: 0.339465\n",
      "Training until validation scores don't improve for 50 rounds\n",
      "Did not meet early stopping. Best iteration is:\n",
      "[282]\tvalid_0's l2: 0.295147\n",
      "Training until validation scores don't improve for 50 rounds\n"
     ]
    },
    {
     "name": "stderr",
     "output_type": "stream",
     "text": [
      "[I 2025-06-23 14:20:28,065] Trial 72 finished with value: 1.4732663702789652 and parameters: {'num_leaves': 126, 'learning_rate': 0.08296655439140678, 'n_estimators': 285, 'max_depth': 8, 'min_child_samples': 6, 'subsample': 0.9887972975858021, 'colsample_bytree': 0.796235339182837}. Best is trial 69 with value: 1.4125448882862708.\n"
     ]
    },
    {
     "name": "stdout",
     "output_type": "stream",
     "text": [
      "Early stopping, best iteration is:\n",
      "[187]\tvalid_0's l2: 0.419217\n",
      "Training until validation scores don't improve for 50 rounds\n",
      "Did not meet early stopping. Best iteration is:\n",
      "[238]\tvalid_0's l2: 11.5882\n",
      "Training until validation scores don't improve for 50 rounds\n",
      "Early stopping, best iteration is:\n",
      "[196]\tvalid_0's l2: 3.91904\n",
      "Training until validation scores don't improve for 50 rounds\n",
      "Early stopping, best iteration is:\n",
      "[97]\tvalid_0's l2: 0.35076\n",
      "Training until validation scores don't improve for 50 rounds\n",
      "Early stopping, best iteration is:\n",
      "[104]\tvalid_0's l2: 0.298536\n",
      "Training until validation scores don't improve for 50 rounds\n"
     ]
    },
    {
     "name": "stderr",
     "output_type": "stream",
     "text": [
      "[I 2025-06-23 14:20:29,130] Trial 73 finished with value: 1.433131551588842 and parameters: {'num_leaves': 121, 'learning_rate': 0.06419493179245317, 'n_estimators': 269, 'max_depth': 14, 'min_child_samples': 9, 'subsample': 0.9713109484739038, 'colsample_bytree': 0.8106624174509292}. Best is trial 69 with value: 1.4125448882862708.\n"
     ]
    },
    {
     "name": "stdout",
     "output_type": "stream",
     "text": [
      "Early stopping, best iteration is:\n",
      "[131]\tvalid_0's l2: 0.413739\n",
      "Training until validation scores don't improve for 50 rounds\n",
      "Early stopping, best iteration is:\n",
      "[221]\tvalid_0's l2: 11.9065\n",
      "Training until validation scores don't improve for 50 rounds\n",
      "Early stopping, best iteration is:\n",
      "[184]\tvalid_0's l2: 4.0902\n",
      "Training until validation scores don't improve for 50 rounds\n",
      "Early stopping, best iteration is:\n",
      "[97]\tvalid_0's l2: 0.339502\n",
      "Training until validation scores don't improve for 50 rounds\n",
      "Early stopping, best iteration is:\n",
      "[67]\tvalid_0's l2: 0.307918\n",
      "Training until validation scores don't improve for 50 rounds\n",
      "Early stopping, best iteration is:\n",
      "[115]\tvalid_0's l2: 0.415076\n"
     ]
    },
    {
     "name": "stderr",
     "output_type": "stream",
     "text": [
      "[I 2025-06-23 14:20:29,963] Trial 74 finished with value: 1.4509690940695048 and parameters: {'num_leaves': 120, 'learning_rate': 0.09943729910968371, 'n_estimators': 293, 'max_depth': 14, 'min_child_samples': 12, 'subsample': 0.9682869858914229, 'colsample_bytree': 0.7820228611151994}. Best is trial 69 with value: 1.4125448882862708.\n"
     ]
    },
    {
     "name": "stdout",
     "output_type": "stream",
     "text": [
      "Training until validation scores don't improve for 50 rounds\n",
      "Early stopping, best iteration is:\n",
      "[191]\tvalid_0's l2: 11.7672\n",
      "Training until validation scores don't improve for 50 rounds\n",
      "Early stopping, best iteration is:\n",
      "[192]\tvalid_0's l2: 3.8972\n",
      "Training until validation scores don't improve for 50 rounds\n",
      "Early stopping, best iteration is:\n",
      "[78]\tvalid_0's l2: 0.357408\n",
      "Training until validation scores don't improve for 50 rounds\n",
      "Early stopping, best iteration is:\n",
      "[125]\tvalid_0's l2: 0.299805\n",
      "Training until validation scores don't improve for 50 rounds\n"
     ]
    },
    {
     "name": "stderr",
     "output_type": "stream",
     "text": [
      "[I 2025-06-23 14:20:30,994] Trial 75 finished with value: 1.439587744593626 and parameters: {'num_leaves': 120, 'learning_rate': 0.06486729396898919, 'n_estimators': 270, 'max_depth': 13, 'min_child_samples': 8, 'subsample': 0.9419189767041103, 'colsample_bytree': 0.7457125872120663}. Best is trial 69 with value: 1.4125448882862708.\n"
     ]
    },
    {
     "name": "stdout",
     "output_type": "stream",
     "text": [
      "Early stopping, best iteration is:\n",
      "[144]\tvalid_0's l2: 0.420022\n",
      "Training until validation scores don't improve for 50 rounds\n",
      "Early stopping, best iteration is:\n",
      "[128]\tvalid_0's l2: 12.6023\n",
      "Training until validation scores don't improve for 50 rounds\n",
      "Early stopping, best iteration is:\n",
      "[160]\tvalid_0's l2: 4.05416\n",
      "Training until validation scores don't improve for 50 rounds\n",
      "Early stopping, best iteration is:\n",
      "[80]\tvalid_0's l2: 0.342236\n",
      "Training until validation scores don't improve for 50 rounds\n",
      "Early stopping, best iteration is:\n",
      "[100]\tvalid_0's l2: 0.296446\n",
      "Training until validation scores don't improve for 50 rounds\n"
     ]
    },
    {
     "name": "stderr",
     "output_type": "stream",
     "text": [
      "[I 2025-06-23 14:20:31,967] Trial 76 finished with value: 1.4678568314017266 and parameters: {'num_leaves': 116, 'learning_rate': 0.07487320792841105, 'n_estimators': 261, 'max_depth': 14, 'min_child_samples': 6, 'subsample': 0.9367313640301176, 'colsample_bytree': 0.8077882649132005}. Best is trial 69 with value: 1.4125448882862708.\n"
     ]
    },
    {
     "name": "stdout",
     "output_type": "stream",
     "text": [
      "Early stopping, best iteration is:\n",
      "[143]\tvalid_0's l2: 0.417762\n",
      "Training until validation scores don't improve for 50 rounds\n",
      "Did not meet early stopping. Best iteration is:\n",
      "[213]\tvalid_0's l2: 15.5584\n",
      "Training until validation scores don't improve for 50 rounds\n",
      "Did not meet early stopping. Best iteration is:\n",
      "[173]\tvalid_0's l2: 4.0263\n",
      "Training until validation scores don't improve for 50 rounds\n",
      "Early stopping, best iteration is:\n",
      "[161]\tvalid_0's l2: 0.354774\n",
      "Training until validation scores don't improve for 50 rounds\n",
      "Did not meet early stopping. Best iteration is:\n",
      "[198]\tvalid_0's l2: 0.298242\n",
      "Training until validation scores don't improve for 50 rounds\n",
      "Did not meet early stopping. Best iteration is:\n",
      "[205]\tvalid_0's l2: 0.42998\n"
     ]
    },
    {
     "name": "stderr",
     "output_type": "stream",
     "text": [
      "[I 2025-06-23 14:20:32,896] Trial 77 finished with value: 1.5496890234695109 and parameters: {'num_leaves': 105, 'learning_rate': 0.043627799118825215, 'n_estimators': 213, 'max_depth': 15, 'min_child_samples': 29, 'subsample': 0.7556649718314686, 'colsample_bytree': 0.7198912570685565}. Best is trial 69 with value: 1.4125448882862708.\n"
     ]
    },
    {
     "name": "stdout",
     "output_type": "stream",
     "text": [
      "Training until validation scores don't improve for 50 rounds\n",
      "Did not meet early stopping. Best iteration is:\n",
      "[225]\tvalid_0's l2: 13.0444\n",
      "Training until validation scores don't improve for 50 rounds\n",
      "Early stopping, best iteration is:\n",
      "[135]\tvalid_0's l2: 4.07377\n",
      "Training until validation scores don't improve for 50 rounds\n",
      "Early stopping, best iteration is:\n",
      "[102]\tvalid_0's l2: 0.345251\n",
      "Training until validation scores don't improve for 50 rounds\n",
      "Early stopping, best iteration is:\n",
      "[150]\tvalid_0's l2: 0.303496\n",
      "Training until validation scores don't improve for 50 rounds\n"
     ]
    },
    {
     "name": "stderr",
     "output_type": "stream",
     "text": [
      "[I 2025-06-23 14:20:33,998] Trial 78 finished with value: 1.4832072968109682 and parameters: {'num_leaves': 128, 'learning_rate': 0.04963993408355036, 'n_estimators': 225, 'max_depth': 14, 'min_child_samples': 14, 'subsample': 0.9532518267961705, 'colsample_bytree': 0.7617514454375934}. Best is trial 69 with value: 1.4125448882862708.\n"
     ]
    },
    {
     "name": "stdout",
     "output_type": "stream",
     "text": [
      "Did not meet early stopping. Best iteration is:\n",
      "[223]\tvalid_0's l2: 0.419245\n",
      "Training until validation scores don't improve for 50 rounds\n",
      "Did not meet early stopping. Best iteration is:\n",
      "[300]\tvalid_0's l2: 11.003\n",
      "Training until validation scores don't improve for 50 rounds\n",
      "Early stopping, best iteration is:\n",
      "[227]\tvalid_0's l2: 3.94009\n",
      "Training until validation scores don't improve for 50 rounds\n",
      "Early stopping, best iteration is:\n",
      "[91]\tvalid_0's l2: 0.347963\n",
      "Training until validation scores don't improve for 50 rounds\n",
      "Early stopping, best iteration is:\n",
      "[186]\tvalid_0's l2: 0.289779\n",
      "Training until validation scores don't improve for 50 rounds\n"
     ]
    },
    {
     "name": "stderr",
     "output_type": "stream",
     "text": [
      "[I 2025-06-23 14:20:35,154] Trial 79 finished with value: 1.413700368405747 and parameters: {'num_leaves': 101, 'learning_rate': 0.05983216334048249, 'n_estimators': 308, 'max_depth': 13, 'min_child_samples': 9, 'subsample': 0.8964421922439273, 'colsample_bytree': 0.9977800311587826}. Best is trial 69 with value: 1.4125448882862708.\n"
     ]
    },
    {
     "name": "stdout",
     "output_type": "stream",
     "text": [
      "Early stopping, best iteration is:\n",
      "[178]\tvalid_0's l2: 0.407377\n",
      "Training until validation scores don't improve for 50 rounds\n",
      "Did not meet early stopping. Best iteration is:\n",
      "[166]\tvalid_0's l2: 12.6924\n",
      "Training until validation scores don't improve for 50 rounds\n",
      "Did not meet early stopping. Best iteration is:\n",
      "[128]\tvalid_0's l2: 4.25992\n",
      "Training until validation scores don't improve for 50 rounds\n",
      "Early stopping, best iteration is:\n",
      "[82]\tvalid_0's l2: 0.344786\n",
      "Training until validation scores don't improve for 50 rounds\n"
     ]
    },
    {
     "name": "stderr",
     "output_type": "stream",
     "text": [
      "[I 2025-06-23 14:20:35,706] Trial 80 finished with value: 1.4797116550146279 and parameters: {'num_leaves': 74, 'learning_rate': 0.08703844370764408, 'n_estimators': 166, 'max_depth': 12, 'min_child_samples': 16, 'subsample': 0.9224123836008515, 'colsample_bytree': 0.9226912740068257}. Best is trial 69 with value: 1.4125448882862708.\n"
     ]
    },
    {
     "name": "stdout",
     "output_type": "stream",
     "text": [
      "Early stopping, best iteration is:\n",
      "[101]\tvalid_0's l2: 0.298069\n",
      "Training until validation scores don't improve for 50 rounds\n",
      "Did not meet early stopping. Best iteration is:\n",
      "[142]\tvalid_0's l2: 0.4081\n",
      "Training until validation scores don't improve for 50 rounds\n",
      "Did not meet early stopping. Best iteration is:\n",
      "[243]\tvalid_0's l2: 11.3435\n",
      "Training until validation scores don't improve for 50 rounds\n",
      "Did not meet early stopping. Best iteration is:\n",
      "[214]\tvalid_0's l2: 3.80148\n",
      "Training until validation scores don't improve for 50 rounds\n",
      "Early stopping, best iteration is:\n",
      "[115]\tvalid_0's l2: 0.341006\n",
      "Training until validation scores don't improve for 50 rounds\n",
      "Early stopping, best iteration is:\n",
      "[136]\tvalid_0's l2: 0.293377\n",
      "Training until validation scores don't improve for 50 rounds\n"
     ]
    },
    {
     "name": "stderr",
     "output_type": "stream",
     "text": [
      "[I 2025-06-23 14:20:36,714] Trial 81 finished with value: 1.4160462437103225 and parameters: {'num_leaves': 100, 'learning_rate': 0.06174830929770927, 'n_estimators': 245, 'max_depth': 13, 'min_child_samples': 9, 'subsample': 0.8748381351462506, 'colsample_bytree': 0.9431014509289816}. Best is trial 69 with value: 1.4125448882862708.\n"
     ]
    },
    {
     "name": "stdout",
     "output_type": "stream",
     "text": [
      "Early stopping, best iteration is:\n",
      "[168]\tvalid_0's l2: 0.405625\n",
      "Training until validation scores don't improve for 50 rounds\n",
      "Did not meet early stopping. Best iteration is:\n",
      "[245]\tvalid_0's l2: 10.9134\n",
      "Training until validation scores don't improve for 50 rounds\n",
      "Did not meet early stopping. Best iteration is:\n",
      "[206]\tvalid_0's l2: 3.8987\n",
      "Training until validation scores don't improve for 50 rounds\n",
      "Early stopping, best iteration is:\n",
      "[80]\tvalid_0's l2: 0.344685\n",
      "Training until validation scores don't improve for 50 rounds\n",
      "Early stopping, best iteration is:\n",
      "[170]\tvalid_0's l2: 0.292058\n",
      "Training until validation scores don't improve for 50 rounds\n",
      "Early stopping, best iteration is:\n",
      "[115]\tvalid_0's l2: 0.409176\n"
     ]
    },
    {
     "name": "stderr",
     "output_type": "stream",
     "text": [
      "[I 2025-06-23 14:20:37,654] Trial 82 finished with value: 1.409050181360311 and parameters: {'num_leaves': 100, 'learning_rate': 0.07346470799079811, 'n_estimators': 245, 'max_depth': 13, 'min_child_samples': 9, 'subsample': 0.8993516398154066, 'colsample_bytree': 0.9749340842524324}. Best is trial 82 with value: 1.409050181360311.\n"
     ]
    },
    {
     "name": "stdout",
     "output_type": "stream",
     "text": [
      "Training until validation scores don't improve for 50 rounds\n",
      "Did not meet early stopping. Best iteration is:\n",
      "[238]\tvalid_0's l2: 11.4422\n",
      "Training until validation scores don't improve for 50 rounds\n",
      "Early stopping, best iteration is:\n",
      "[93]\tvalid_0's l2: 4.27544\n",
      "Training until validation scores don't improve for 50 rounds\n",
      "Early stopping, best iteration is:\n",
      "[99]\tvalid_0's l2: 0.339536\n",
      "Training until validation scores don't improve for 50 rounds\n",
      "Did not meet early stopping. Best iteration is:\n",
      "[217]\tvalid_0's l2: 0.291936\n",
      "Training until validation scores don't improve for 50 rounds\n"
     ]
    },
    {
     "name": "stderr",
     "output_type": "stream",
     "text": [
      "[I 2025-06-23 14:20:38,580] Trial 83 finished with value: 1.4424786078828895 and parameters: {'num_leaves': 101, 'learning_rate': 0.06797762032020299, 'n_estimators': 238, 'max_depth': 13, 'min_child_samples': 12, 'subsample': 0.8909339054446378, 'colsample_bytree': 0.997552338472706}. Best is trial 82 with value: 1.409050181360311.\n"
     ]
    },
    {
     "name": "stdout",
     "output_type": "stream",
     "text": [
      "Did not meet early stopping. Best iteration is:\n",
      "[198]\tvalid_0's l2: 0.408364\n",
      "Training until validation scores don't improve for 50 rounds\n",
      "Did not meet early stopping. Best iteration is:\n",
      "[242]\tvalid_0's l2: 11.3\n",
      "Training until validation scores don't improve for 50 rounds\n",
      "Early stopping, best iteration is:\n",
      "[156]\tvalid_0's l2: 3.91061\n",
      "Training until validation scores don't improve for 50 rounds\n",
      "Early stopping, best iteration is:\n",
      "[94]\tvalid_0's l2: 0.342896\n",
      "Training until validation scores don't improve for 50 rounds\n",
      "Early stopping, best iteration is:\n",
      "[124]\tvalid_0's l2: 0.29291\n",
      "Training until validation scores don't improve for 50 rounds\n"
     ]
    },
    {
     "name": "stderr",
     "output_type": "stream",
     "text": [
      "[I 2025-06-23 14:20:39,427] Trial 84 finished with value: 1.421007806738257 and parameters: {'num_leaves': 85, 'learning_rate': 0.07394558522751905, 'n_estimators': 242, 'max_depth': 13, 'min_child_samples': 8, 'subsample': 0.8958185677781686, 'colsample_bytree': 0.9824128142590863}. Best is trial 82 with value: 1.409050181360311.\n"
     ]
    },
    {
     "name": "stdout",
     "output_type": "stream",
     "text": [
      "Early stopping, best iteration is:\n",
      "[170]\tvalid_0's l2: 0.408547\n",
      "Training until validation scores don't improve for 50 rounds\n",
      "Early stopping, best iteration is:\n",
      "[181]\tvalid_0's l2: 12.1556\n",
      "Training until validation scores don't improve for 50 rounds\n",
      "Did not meet early stopping. Best iteration is:\n",
      "[246]\tvalid_0's l2: 4.10775\n",
      "Training until validation scores don't improve for 50 rounds\n",
      "Early stopping, best iteration is:\n",
      "[77]\tvalid_0's l2: 0.358437\n",
      "Training until validation scores don't improve for 50 rounds\n",
      "Early stopping, best iteration is:\n",
      "[94]\tvalid_0's l2: 0.291974\n",
      "Training until validation scores don't improve for 50 rounds\n",
      "Early stopping, best iteration is:\n",
      "[151]\tvalid_0's l2: 0.411432\n"
     ]
    },
    {
     "name": "stderr",
     "output_type": "stream",
     "text": [
      "[I 2025-06-23 14:20:40,299] Trial 85 finished with value: 1.4587445149335905 and parameters: {'num_leaves': 92, 'learning_rate': 0.07622579214693717, 'n_estimators': 246, 'max_depth': 12, 'min_child_samples': 6, 'subsample': 0.9009092254537503, 'colsample_bytree': 0.9714809379796862}. Best is trial 82 with value: 1.409050181360311.\n"
     ]
    },
    {
     "name": "stdout",
     "output_type": "stream",
     "text": [
      "Training until validation scores don't improve for 50 rounds\n",
      "Did not meet early stopping. Best iteration is:\n",
      "[313]\tvalid_0's l2: 11.2008\n",
      "Training until validation scores don't improve for 50 rounds\n",
      "Did not meet early stopping. Best iteration is:\n",
      "[311]\tvalid_0's l2: 3.90809\n",
      "Training until validation scores don't improve for 50 rounds\n",
      "Early stopping, best iteration is:\n",
      "[107]\tvalid_0's l2: 0.337945\n",
      "Training until validation scores don't improve for 50 rounds\n",
      "Early stopping, best iteration is:\n",
      "[245]\tvalid_0's l2: 0.288907\n",
      "Training until validation scores don't improve for 50 rounds\n"
     ]
    },
    {
     "name": "stderr",
     "output_type": "stream",
     "text": [
      "[I 2025-06-23 14:20:41,539] Trial 86 finished with value: 1.4170506293678016 and parameters: {'num_leaves': 88, 'learning_rate': 0.052263500025320486, 'n_estimators': 313, 'max_depth': 13, 'min_child_samples': 8, 'subsample': 0.8720962012487569, 'colsample_bytree': 0.9471555445912998}. Best is trial 82 with value: 1.409050181360311.\n"
     ]
    },
    {
     "name": "stdout",
     "output_type": "stream",
     "text": [
      "Early stopping, best iteration is:\n",
      "[197]\tvalid_0's l2: 0.413157\n",
      "Training until validation scores don't improve for 50 rounds\n",
      "Did not meet early stopping. Best iteration is:\n",
      "[285]\tvalid_0's l2: 20.1432\n",
      "Training until validation scores don't improve for 50 rounds\n",
      "Did not meet early stopping. Best iteration is:\n",
      "[285]\tvalid_0's l2: 11.7739\n",
      "Training until validation scores don't improve for 50 rounds\n",
      "Did not meet early stopping. Best iteration is:\n",
      "[285]\tvalid_0's l2: 1.42627\n",
      "Training until validation scores don't improve for 50 rounds\n",
      "Did not meet early stopping. Best iteration is:\n",
      "[285]\tvalid_0's l2: 2.10016\n",
      "Training until validation scores don't improve for 50 rounds\n"
     ]
    },
    {
     "name": "stderr",
     "output_type": "stream",
     "text": [
      "[I 2025-06-23 14:20:43,230] Trial 87 finished with value: 2.4130075026143922 and parameters: {'num_leaves': 97, 'learning_rate': 0.00812083595963815, 'n_estimators': 285, 'max_depth': 12, 'min_child_samples': 8, 'subsample': 0.873678834335607, 'colsample_bytree': 0.9815634124722041}. Best is trial 82 with value: 1.409050181360311.\n"
     ]
    },
    {
     "name": "stdout",
     "output_type": "stream",
     "text": [
      "Did not meet early stopping. Best iteration is:\n",
      "[285]\tvalid_0's l2: 2.25644\n",
      "Training until validation scores don't improve for 50 rounds\n",
      "Did not meet early stopping. Best iteration is:\n",
      "[182]\tvalid_0's l2: 12.5623\n",
      "Training until validation scores don't improve for 50 rounds\n",
      "Did not meet early stopping. Best iteration is:\n",
      "[206]\tvalid_0's l2: 4.14046\n",
      "Training until validation scores don't improve for 50 rounds\n",
      "Early stopping, best iteration is:\n",
      "[121]\tvalid_0's l2: 0.342328\n",
      "Training until validation scores don't improve for 50 rounds\n",
      "Early stopping, best iteration is:\n",
      "[153]\tvalid_0's l2: 0.295124\n",
      "Training until validation scores don't improve for 50 rounds\n",
      "Early stopping, best iteration is:\n",
      "[156]\tvalid_0's l2: 0.417143\n"
     ]
    },
    {
     "name": "stderr",
     "output_type": "stream",
     "text": [
      "[I 2025-06-23 14:20:44,157] Trial 88 finished with value: 1.4706716159395137 and parameters: {'num_leaves': 84, 'learning_rate': 0.05291693921551977, 'n_estimators': 206, 'max_depth': 13, 'min_child_samples': 5, 'subsample': 0.8603338654044824, 'colsample_bytree': 0.9819333023983338}. Best is trial 82 with value: 1.409050181360311.\n"
     ]
    },
    {
     "name": "stdout",
     "output_type": "stream",
     "text": [
      "Training until validation scores don't improve for 50 rounds\n",
      "Did not meet early stopping. Best iteration is:\n",
      "[143]\tvalid_0's l2: 11.3859\n",
      "Training until validation scores don't improve for 50 rounds\n",
      "Did not meet early stopping. Best iteration is:\n",
      "[128]\tvalid_0's l2: 4.04829\n",
      "Training until validation scores don't improve for 50 rounds\n",
      "Early stopping, best iteration is:\n",
      "[82]\tvalid_0's l2: 0.360907\n",
      "Training until validation scores don't improve for 50 rounds\n"
     ]
    },
    {
     "name": "stderr",
     "output_type": "stream",
     "text": [
      "[I 2025-06-23 14:20:44,840] Trial 89 finished with value: 1.4338635461971583 and parameters: {'num_leaves': 87, 'learning_rate': 0.08861356619412028, 'n_estimators': 144, 'max_depth': 13, 'min_child_samples': 7, 'subsample': 0.8929050723963301, 'colsample_bytree': 0.9385442219713911}. Best is trial 82 with value: 1.409050181360311.\n"
     ]
    },
    {
     "name": "stdout",
     "output_type": "stream",
     "text": [
      "Did not meet early stopping. Best iteration is:\n",
      "[144]\tvalid_0's l2: 0.288297\n",
      "Training until validation scores don't improve for 50 rounds\n",
      "Did not meet early stopping. Best iteration is:\n",
      "[120]\tvalid_0's l2: 0.416401\n",
      "Training until validation scores don't improve for 50 rounds\n",
      "Did not meet early stopping. Best iteration is:\n",
      "[260]\tvalid_0's l2: 11.4834\n",
      "Training until validation scores don't improve for 50 rounds\n",
      "Did not meet early stopping. Best iteration is:\n",
      "[246]\tvalid_0's l2: 4.08773\n",
      "Training until validation scores don't improve for 50 rounds\n",
      "Early stopping, best iteration is:\n",
      "[131]\tvalid_0's l2: 0.330529\n",
      "Training until validation scores don't improve for 50 rounds\n",
      "Early stopping, best iteration is:\n",
      "[167]\tvalid_0's l2: 0.288606\n",
      "Training until validation scores don't improve for 50 rounds\n"
     ]
    },
    {
     "name": "stderr",
     "output_type": "stream",
     "text": [
      "[I 2025-06-23 14:20:45,624] Trial 90 finished with value: 1.433264313920685 and parameters: {'num_leaves': 79, 'learning_rate': 0.07562890209372321, 'n_estimators': 261, 'max_depth': 12, 'min_child_samples': 11, 'subsample': 0.9090842620018239, 'colsample_bytree': 0.9496382361691224}. Best is trial 82 with value: 1.409050181360311.\n"
     ]
    },
    {
     "name": "stdout",
     "output_type": "stream",
     "text": [
      "Early stopping, best iteration is:\n",
      "[135]\tvalid_0's l2: 0.414283\n",
      "Training until validation scores don't improve for 50 rounds\n",
      "Did not meet early stopping. Best iteration is:\n",
      "[310]\tvalid_0's l2: 11.5256\n",
      "Training until validation scores don't improve for 50 rounds\n",
      "Did not meet early stopping. Best iteration is:\n",
      "[310]\tvalid_0's l2: 3.85557\n",
      "Training until validation scores don't improve for 50 rounds\n",
      "Early stopping, best iteration is:\n",
      "[115]\tvalid_0's l2: 0.331751\n",
      "Training until validation scores don't improve for 50 rounds\n",
      "Early stopping, best iteration is:\n",
      "[188]\tvalid_0's l2: 0.287728\n",
      "Training until validation scores don't improve for 50 rounds\n"
     ]
    },
    {
     "name": "stderr",
     "output_type": "stream",
     "text": [
      "[I 2025-06-23 14:20:46,659] Trial 91 finished with value: 1.4227596156938664 and parameters: {'num_leaves': 82, 'learning_rate': 0.057160145806051235, 'n_estimators': 310, 'max_depth': 13, 'min_child_samples': 8, 'subsample': 0.9165895309743921, 'colsample_bytree': 0.9455479872450379}. Best is trial 82 with value: 1.409050181360311.\n"
     ]
    },
    {
     "name": "stdout",
     "output_type": "stream",
     "text": [
      "Early stopping, best iteration is:\n",
      "[220]\tvalid_0's l2: 0.413339\n",
      "Training until validation scores don't improve for 50 rounds\n",
      "Early stopping, best iteration is:\n",
      "[180]\tvalid_0's l2: 11.5563\n",
      "Training until validation scores don't improve for 50 rounds\n",
      "Did not meet early stopping. Best iteration is:\n",
      "[331]\tvalid_0's l2: 3.95455\n",
      "Training until validation scores don't improve for 50 rounds\n",
      "Early stopping, best iteration is:\n",
      "[139]\tvalid_0's l2: 0.338909\n",
      "Training until validation scores don't improve for 50 rounds\n",
      "Early stopping, best iteration is:\n",
      "[170]\tvalid_0's l2: 0.292854\n",
      "Training until validation scores don't improve for 50 rounds\n"
     ]
    },
    {
     "name": "stderr",
     "output_type": "stream",
     "text": [
      "[I 2025-06-23 14:20:47,769] Trial 92 finished with value: 1.430261221338317 and parameters: {'num_leaves': 83, 'learning_rate': 0.061060852696240196, 'n_estimators': 335, 'max_depth': 13, 'min_child_samples': 8, 'subsample': 0.9145559467506086, 'colsample_bytree': 0.9493740332443461}. Best is trial 82 with value: 1.409050181360311.\n"
     ]
    },
    {
     "name": "stdout",
     "output_type": "stream",
     "text": [
      "Did not meet early stopping. Best iteration is:\n",
      "[297]\tvalid_0's l2: 0.409505\n",
      "Training until validation scores don't improve for 50 rounds\n",
      "Early stopping, best iteration is:\n",
      "[253]\tvalid_0's l2: 12.1033\n",
      "Training until validation scores don't improve for 50 rounds\n",
      "Did not meet early stopping. Best iteration is:\n",
      "[330]\tvalid_0's l2: 4.02313\n",
      "Training until validation scores don't improve for 50 rounds\n",
      "Early stopping, best iteration is:\n",
      "[171]\tvalid_0's l2: 0.333552\n",
      "Training until validation scores don't improve for 50 rounds\n",
      "Did not meet early stopping. Best iteration is:\n",
      "[330]\tvalid_0's l2: 0.28831\n",
      "Training until validation scores don't improve for 50 rounds\n"
     ]
    },
    {
     "name": "stderr",
     "output_type": "stream",
     "text": [
      "[I 2025-06-23 14:20:49,148] Trial 93 finished with value: 1.4480641288608505 and parameters: {'num_leaves': 81, 'learning_rate': 0.03246468592465946, 'n_estimators': 335, 'max_depth': 13, 'min_child_samples': 7, 'subsample': 0.8422374836939505, 'colsample_bytree': 0.9461796204359826}. Best is trial 82 with value: 1.409050181360311.\n"
     ]
    },
    {
     "name": "stdout",
     "output_type": "stream",
     "text": [
      "Did not meet early stopping. Best iteration is:\n",
      "[334]\tvalid_0's l2: 0.410978\n",
      "Training until validation scores don't improve for 50 rounds\n",
      "Early stopping, best iteration is:\n",
      "[210]\tvalid_0's l2: 11.5672\n",
      "Training until validation scores don't improve for 50 rounds\n",
      "Did not meet early stopping. Best iteration is:\n",
      "[309]\tvalid_0's l2: 3.86649\n",
      "Training until validation scores don't improve for 50 rounds\n",
      "Early stopping, best iteration is:\n",
      "[202]\tvalid_0's l2: 0.339815\n",
      "Training until validation scores don't improve for 50 rounds\n",
      "Early stopping, best iteration is:\n",
      "[247]\tvalid_0's l2: 0.293007\n",
      "Training until validation scores don't improve for 50 rounds\n"
     ]
    },
    {
     "name": "stderr",
     "output_type": "stream",
     "text": [
      "[I 2025-06-23 14:20:50,212] Trial 94 finished with value: 1.427409077886803 and parameters: {'num_leaves': 64, 'learning_rate': 0.03986134194672176, 'n_estimators': 310, 'max_depth': 12, 'min_child_samples': 8, 'subsample': 0.9159797735974976, 'colsample_bytree': 0.9686506724802036}. Best is trial 82 with value: 1.409050181360311.\n"
     ]
    },
    {
     "name": "stdout",
     "output_type": "stream",
     "text": [
      "Did not meet early stopping. Best iteration is:\n",
      "[309]\tvalid_0's l2: 0.416563\n",
      "Training until validation scores don't improve for 50 rounds\n",
      "Early stopping, best iteration is:\n",
      "[244]\tvalid_0's l2: 12.4656\n",
      "Training until validation scores don't improve for 50 rounds\n",
      "Did not meet early stopping. Best iteration is:\n",
      "[302]\tvalid_0's l2: 4.148\n",
      "Training until validation scores don't improve for 50 rounds\n",
      "Early stopping, best iteration is:\n",
      "[219]\tvalid_0's l2: 0.341294\n",
      "Training until validation scores don't improve for 50 rounds\n",
      "Early stopping, best iteration is:\n",
      "[196]\tvalid_0's l2: 0.290303\n",
      "Training until validation scores don't improve for 50 rounds\n"
     ]
    },
    {
     "name": "stderr",
     "output_type": "stream",
     "text": [
      "[I 2025-06-23 14:20:51,261] Trial 95 finished with value: 1.467666199679043 and parameters: {'num_leaves': 63, 'learning_rate': 0.041458810935187496, 'n_estimators': 311, 'max_depth': 12, 'min_child_samples': 6, 'subsample': 0.8883252395409786, 'colsample_bytree': 0.9651855441408743}. Best is trial 82 with value: 1.409050181360311.\n"
     ]
    },
    {
     "name": "stdout",
     "output_type": "stream",
     "text": [
      "Did not meet early stopping. Best iteration is:\n",
      "[311]\tvalid_0's l2: 0.4199\n",
      "Training until validation scores don't improve for 50 rounds\n",
      "Did not meet early stopping. Best iteration is:\n",
      "[355]\tvalid_0's l2: 11.9059\n",
      "Training until validation scores don't improve for 50 rounds\n",
      "Early stopping, best iteration is:\n",
      "[149]\tvalid_0's l2: 4.17278\n",
      "Training until validation scores don't improve for 50 rounds\n",
      "Early stopping, best iteration is:\n",
      "[170]\tvalid_0's l2: 0.336221\n",
      "Training until validation scores don't improve for 50 rounds\n",
      "Early stopping, best iteration is:\n",
      "[257]\tvalid_0's l2: 0.293802\n"
     ]
    },
    {
     "name": "stderr",
     "output_type": "stream",
     "text": [
      "[I 2025-06-23 14:20:52,215] Trial 96 finished with value: 1.4520227915524422 and parameters: {'num_leaves': 70, 'learning_rate': 0.05444831660413946, 'n_estimators': 355, 'max_depth': 13, 'min_child_samples': 13, 'subsample': 0.8763968258107337, 'colsample_bytree': 0.9845582558839308}. Best is trial 82 with value: 1.409050181360311.\n"
     ]
    },
    {
     "name": "stdout",
     "output_type": "stream",
     "text": [
      "Training until validation scores don't improve for 50 rounds\n",
      "Early stopping, best iteration is:\n",
      "[198]\tvalid_0's l2: 0.416022\n",
      "Training until validation scores don't improve for 50 rounds\n",
      "Did not meet early stopping. Best iteration is:\n",
      "[323]\tvalid_0's l2: 11.5788\n",
      "Training until validation scores don't improve for 50 rounds\n",
      "Did not meet early stopping. Best iteration is:\n",
      "[323]\tvalid_0's l2: 3.80843\n",
      "Training until validation scores don't improve for 50 rounds\n",
      "Early stopping, best iteration is:\n",
      "[223]\tvalid_0's l2: 0.331248\n",
      "Training until validation scores don't improve for 50 rounds\n",
      "Did not meet early stopping. Best iteration is:\n",
      "[316]\tvalid_0's l2: 0.292482\n",
      "Training until validation scores don't improve for 50 rounds\n"
     ]
    },
    {
     "name": "stderr",
     "output_type": "stream",
     "text": [
      "[I 2025-06-23 14:20:53,470] Trial 97 finished with value: 1.4225345574309753 and parameters: {'num_leaves': 76, 'learning_rate': 0.03783684605449378, 'n_estimators': 323, 'max_depth': 13, 'min_child_samples': 9, 'subsample': 0.8976411378322177, 'colsample_bytree': 0.9375206151716485}. Best is trial 82 with value: 1.409050181360311.\n"
     ]
    },
    {
     "name": "stdout",
     "output_type": "stream",
     "text": [
      "Did not meet early stopping. Best iteration is:\n",
      "[286]\tvalid_0's l2: 0.412211\n",
      "Training until validation scores don't improve for 50 rounds\n",
      "Did not meet early stopping. Best iteration is:\n",
      "[347]\tvalid_0's l2: 12.471\n",
      "Training until validation scores don't improve for 50 rounds\n",
      "Did not meet early stopping. Best iteration is:\n",
      "[341]\tvalid_0's l2: 3.97535\n",
      "Training until validation scores don't improve for 50 rounds\n",
      "Early stopping, best iteration is:\n",
      "[297]\tvalid_0's l2: 0.326805\n",
      "Training until validation scores don't improve for 50 rounds\n",
      "Did not meet early stopping. Best iteration is:\n",
      "[341]\tvalid_0's l2: 0.288243\n",
      "Training until validation scores don't improve for 50 rounds\n"
     ]
    },
    {
     "name": "stderr",
     "output_type": "stream",
     "text": [
      "[I 2025-06-23 14:20:54,665] Trial 98 finished with value: 1.455753946138072 and parameters: {'num_leaves': 57, 'learning_rate': 0.027984371479388967, 'n_estimators': 347, 'max_depth': 12, 'min_child_samples': 11, 'subsample': 0.7224379304010267, 'colsample_bytree': 0.9317695674517916}. Best is trial 82 with value: 1.409050181360311.\n"
     ]
    },
    {
     "name": "stdout",
     "output_type": "stream",
     "text": [
      "Did not meet early stopping. Best iteration is:\n",
      "[345]\tvalid_0's l2: 0.415975\n",
      "Training until validation scores don't improve for 50 rounds\n",
      "Did not meet early stopping. Best iteration is:\n",
      "[346]\tvalid_0's l2: 11.6802\n",
      "Training until validation scores don't improve for 50 rounds\n",
      "Did not meet early stopping. Best iteration is:\n",
      "[331]\tvalid_0's l2: 3.84184\n",
      "Training until validation scores don't improve for 50 rounds\n",
      "Early stopping, best iteration is:\n",
      "[222]\tvalid_0's l2: 0.32864\n",
      "Training until validation scores don't improve for 50 rounds\n",
      "Early stopping, best iteration is:\n",
      "[292]\tvalid_0's l2: 0.291746\n",
      "Training until validation scores don't improve for 50 rounds\n"
     ]
    },
    {
     "name": "stderr",
     "output_type": "stream",
     "text": [
      "[I 2025-06-23 14:20:55,945] Trial 99 finished with value: 1.4263549741286137 and parameters: {'num_leaves': 67, 'learning_rate': 0.03640441465414191, 'n_estimators': 373, 'max_depth': 12, 'min_child_samples': 9, 'subsample': 0.89653426920452, 'colsample_bytree': 0.9698455363042231}. Best is trial 82 with value: 1.409050181360311.\n"
     ]
    },
    {
     "name": "stdout",
     "output_type": "stream",
     "text": [
      "Did not meet early stopping. Best iteration is:\n",
      "[344]\tvalid_0's l2: 0.410472\n",
      "Best params: {'num_leaves': 100, 'learning_rate': 0.07346470799079811, 'n_estimators': 245, 'max_depth': 13, 'min_child_samples': 9, 'subsample': 0.8993516398154066, 'colsample_bytree': 0.9749340842524324}\n",
      "Best CV RMSE: 1.409050181360311\n"
     ]
    }
   ],
   "source": [
    "import numpy as np\n",
    "import pandas as pd\n",
    "import optuna\n",
    "from lightgbm import LGBMRegressor, early_stopping\n",
    "from sklearn.model_selection import TimeSeriesSplit\n",
    "from sklearn.metrics import mean_squared_error\n",
    "\n",
    "# ── 0) 데이터 준비 ──\n",
    "df_full = load_and_merge()  # preprocessing.py 에서 병합+기존 피처까지 적용된 DataFrame\n",
    "target_col   = \"기온(degC)_관측\"\n",
    "base_feats   = [\"일사량(w/m^2)_예측\", \"기온(degC)_예측\", \"hour\", \"month\", \"weekday\"]\n",
    "lags         = [1, 3, 6, 12, 24]\n",
    "rolls        = [3, 6]\n",
    "feature_cols = base_feats + [f\"temp_lag_{lag}h\" for lag in lags] + [f\"temp_roll_{w}h\" for w in rolls]\n",
    "\n",
    "# ── 1) Objective 정의 ──\n",
    "def objective(trial):\n",
    "    # 1-1) 하이퍼파라미터 공간\n",
    "    params = {\n",
    "        \"num_leaves\":          trial.suggest_int(\"num_leaves\", 16, 128),\n",
    "        \"learning_rate\":       trial.suggest_float(\"learning_rate\", 1e-3, 1e-1, log=True),\n",
    "        \"n_estimators\":        trial.suggest_int(\"n_estimators\", 50, 500),\n",
    "        \"max_depth\":           trial.suggest_int(\"max_depth\", 3, 15),\n",
    "        \"min_child_samples\":   trial.suggest_int(\"min_child_samples\", 5, 50),\n",
    "        \"subsample\":           trial.suggest_float(\"subsample\", 0.6, 1.0),\n",
    "        \"colsample_bytree\":    trial.suggest_float(\"colsample_bytree\", 0.6, 1.0),\n",
    "    }\n",
    "\n",
    "    # 1-2) Fold‐wise CV with safe feature‐creation\n",
    "    tss   = TimeSeriesSplit(n_splits=5)\n",
    "    rmses = []\n",
    "\n",
    "    for tr_idx, va_idx in tss.split(df_full):\n",
    "        train = df_full.iloc[tr_idx].copy()\n",
    "        val   = df_full.iloc[va_idx].copy()\n",
    "\n",
    "        # (a) train 구간에서만 lag/rolling 생성\n",
    "        for lag in lags:\n",
    "            train[f\"temp_lag_{lag}h\"] = train[target_col].shift(lag)\n",
    "        for w in rolls:\n",
    "            train[f\"temp_roll_{w}h\"] = (\n",
    "                train[target_col].shift(1)\n",
    "                      .rolling(window=w)\n",
    "                      .mean()\n",
    "            )\n",
    "        train.dropna(subset=feature_cols + [target_col], inplace=True)\n",
    "\n",
    "        # (b) val 은 train 기준으로 계산된 값만 사용하도록 병합 후 슬라이스\n",
    "        combined = pd.concat([train, val])\n",
    "        for lag in lags:\n",
    "            combined[f\"temp_lag_{lag}h\"] = combined[target_col].shift(lag)\n",
    "        for w in rolls:\n",
    "            combined[f\"temp_roll_{w}h\"] = (\n",
    "                combined[target_col].shift(1)\n",
    "                        .rolling(window=w)\n",
    "                        .mean()\n",
    "            )\n",
    "        val = combined.loc[val.index]\n",
    "        val.dropna(subset=feature_cols + [target_col], inplace=True)\n",
    "\n",
    "        # (c) 학습·예측\n",
    "        X_tr, y_tr = train[feature_cols], train[target_col]\n",
    "        X_va, y_va = val[feature_cols],   val[target_col]\n",
    "\n",
    "        mdl = LGBMRegressor(**params, random_state=42, verbose=-1)\n",
    "        mdl.fit(\n",
    "            X_tr, y_tr,\n",
    "            eval_set=[(X_va, y_va)],\n",
    "            callbacks=[early_stopping(stopping_rounds=50)]\n",
    "        )\n",
    "        preds = mdl.predict(X_va, num_iteration=mdl.best_iteration_)\n",
    "        rmses.append(mean_squared_error(y_va, preds) ** 0.5)\n",
    "\n",
    "    return np.mean(rmses)\n",
    "\n",
    "\n",
    "# ── 2) Study 생성 & 최적화 ──\n",
    "study = optuna.create_study(direction=\"minimize\")\n",
    "study.optimize(objective, n_trials=100)\n",
    "\n",
    "print(\"Best params:\", study.best_params)\n",
    "print(\"Best CV RMSE:\", study.best_value)\n"
   ]
  },
  {
   "cell_type": "code",
   "execution_count": null,
   "id": "843d9316",
   "metadata": {},
   "outputs": [],
   "source": [
    "# ── 02_feature_engineering.ipynb 에 추가할 셀 ──\n",
    "\n",
    "import optuna\n",
    "import numpy as np\n",
    "from sklearn.model_selection import TimeSeriesSplit\n",
    "from sklearn.metrics import mean_squared_error\n",
    "from catboost import CatBoostRegressor, Pool\n",
    "from sklearn.ensemble import RandomForestRegressor\n",
    "\n",
    "# 이미 위에서 정의된:\n",
    "# df_full, lags, rolls, feat_cols, target_col = \n",
    "#   load_and_merge(), [1,3,6,12,24], [3,6], \n",
    "#   [...], \"기온(degC)_관측\"\n",
    "feat_cols = feature_cols\n",
    "\n",
    "# 1) CatBoost 용 objective\n",
    "def objective_cb(trial):\n",
    "    params = {\n",
    "        \"learning_rate\":       trial.suggest_float(\"learning_rate\", 1e-3, 1e-1, log=True),\n",
    "        \"depth\":               trial.suggest_int  (\"depth\",          4,   12),\n",
    "        \"l2_leaf_reg\":         trial.suggest_float(\"l2_leaf_reg\",    1e-3, 10.0, log=True),\n",
    "        \"bagging_temperature\": trial.suggest_float(\"bagging_temperature\", 0.0, 1.0),\n",
    "        \"border_count\":        trial.suggest_int  (\"border_count\",   32,  255),\n",
    "        \"iterations\":          trial.suggest_int  (\"iterations\",     100, 1000),\n",
    "        \"random_state\":        42,\n",
    "        \"verbose\":             False\n",
    "    }\n",
    "    tss = TimeSeriesSplit(n_splits=5)\n",
    "    rmses = []\n",
    "    for tr_idx, va_idx in tss.split(df_full):\n",
    "        train = df_full.iloc[tr_idx].copy()\n",
    "        val   = df_full.iloc[va_idx].copy()\n",
    "\n",
    "        # (a) train 구간에만 lag/rolling\n",
    "        for lag in lags:\n",
    "            train[f\"temp_lag_{lag}h\"] = train[target_col].shift(lag)\n",
    "        for w in rolls:\n",
    "            train[f\"temp_roll_{w}h\"] = (\n",
    "                train[target_col].shift(1)\n",
    "                            .rolling(window=w)\n",
    "                            .mean()\n",
    "            )\n",
    "        train.dropna(subset=feat_cols+[target_col], inplace=True)\n",
    "\n",
    "        # (b) val 은 train 기준으로 계산된 피처만\n",
    "        combined = pd.concat([train, val])\n",
    "        for lag in lags:\n",
    "            combined[f\"temp_lag_{lag}h\"] = combined[target_col].shift(lag)\n",
    "        for w in rolls:\n",
    "            combined[f\"temp_roll_{w}h\"] = (\n",
    "                combined[target_col].shift(1)\n",
    "                            .rolling(window=w)\n",
    "                            .mean()\n",
    "            )\n",
    "        val = combined.loc[val.index]\n",
    "        val.dropna(subset=feat_cols+[target_col], inplace=True)\n",
    "\n",
    "        # (c) 학습 & 예측\n",
    "        X_tr, y_tr = train[feat_cols], train[target_col]\n",
    "        X_va, y_va = val  [feat_cols], val  [target_col]\n",
    "\n",
    "        mdl = CatBoostRegressor(**params, early_stopping_rounds=50)\n",
    "        mdl.fit(Pool(X_tr, y_tr), eval_set=Pool(X_va, y_va))\n",
    "        preds = mdl.predict(X_va)\n",
    "        rmses.append(mean_squared_error(y_va, preds) ** 0.5)\n",
    "\n",
    "    return np.mean(rmses)\n",
    "\n",
    "study_cb = optuna.create_study(direction=\"minimize\")\n",
    "study_cb.optimize(objective_cb, n_trials=100)\n",
    "print(\"▶ CatBoost best params:\", study_cb.best_params)\n",
    "print(\"▶ CatBoost best CV RMSE:\", study_cb.best_value)\n",
    "\n",
    "\n",
    "# 2) RandomForest 용 objective\n",
    "def objective_rf(trial):\n",
    "    params = {\n",
    "        \"n_estimators\":       trial.suggest_int(\"n_estimators\",       50,  500),\n",
    "        \"max_depth\":          trial.suggest_int(\"max_depth\",          5,   30),\n",
    "        \"min_samples_split\":  trial.suggest_int(\"min_samples_split\",  2,   20),\n",
    "        \"min_samples_leaf\":   trial.suggest_int(\"min_samples_leaf\",   1,   10),\n",
    "        \"max_features\":       trial.suggest_categorical(\"max_features\", [\"sqrt\",\"log2\"]),\n",
    "        \"random_state\":       42,\n",
    "        \"n_jobs\":             -1\n",
    "    }\n",
    "    tss = TimeSeriesSplit(n_splits=5)\n",
    "    rmses = []\n",
    "    for tr_idx, va_idx in tss.split(df_full):\n",
    "        train = df_full.iloc[tr_idx].copy()\n",
    "        val   = df_full.iloc[va_idx].copy()\n",
    "\n",
    "        # (a) train 구간에만 lag/rolling\n",
    "        for lag in lags:\n",
    "            train[f\"temp_lag_{lag}h\"] = train[target_col].shift(lag)\n",
    "        for w in rolls:\n",
    "            train[f\"temp_roll_{w}h\"] = (\n",
    "                train[target_col].shift(1)\n",
    "                            .rolling(window=w)\n",
    "                            .mean()\n",
    "            )\n",
    "        train.dropna(subset=feat_cols+[target_col], inplace=True)\n",
    "\n",
    "        # (b) val 은 train 기준으로 계산된 피처만\n",
    "        combined = pd.concat([train, val])\n",
    "        for lag in lags:\n",
    "            combined[f\"temp_lag_{lag}h\"] = combined[target_col].shift(lag)\n",
    "        for w in rolls:\n",
    "            combined[f\"temp_roll_{w}h\"] = (\n",
    "                combined[target_col].shift(1)\n",
    "                            .rolling(window=w)\n",
    "                            .mean()\n",
    "            )\n",
    "        val = combined.loc[val.index]\n",
    "        val.dropna(subset=feat_cols+[target_col], inplace=True)\n",
    "\n",
    "        # (c) 학습 & 예측\n",
    "        X_tr, y_tr = train[feat_cols], train[target_col]\n",
    "        X_va, y_va = val  [feat_cols], val  [target_col]\n",
    "\n",
    "        mdl = RandomForestRegressor(**params)\n",
    "        mdl.fit(X_tr, y_tr)\n",
    "        preds = mdl.predict(X_va)\n",
    "        rmses.append(mean_squared_error(y_va, preds) ** 0.5)\n",
    "\n",
    "    return np.mean(rmses)\n",
    "\n",
    "study_rf = optuna.create_study(direction=\"minimize\")\n",
    "study_rf.optimize(objective_rf, n_trials=100)\n",
    "print(\"▶ RF best params:\", study_rf.best_params)\n",
    "print(\"▶ RF best CV RMSE:\", study_rf.best_value)\n"
   ]
  },
  {
   "cell_type": "code",
   "execution_count": 2,
   "id": "6e9a02a5",
   "metadata": {},
   "outputs": [
    {
     "name": "stdout",
     "output_type": "stream",
     "text": [
      "Fold 1 RMSE: 1.3250\n",
      "Fold 2 RMSE: 0.9251\n",
      "Fold 3 RMSE: 0.2058\n",
      "Fold 4 RMSE: 0.3671\n",
      "Fold 5 RMSE: 0.2960\n",
      "\n",
      "[Pressure CV RMSE] 평균: 0.6238\n"
     ]
    }
   ],
   "source": [
    "# ── Pressure Lag & Rolling Feature + fold‐wise CV 평가 ──\n",
    "import sys, os\n",
    "import numpy as np\n",
    "import pandas as pd\n",
    "from sklearn.model_selection import TimeSeriesSplit\n",
    "from sklearn.metrics import mean_squared_error\n",
    "from lightgbm import LGBMRegressor\n",
    "\n",
    "# 프로젝트 루트 경로 설정 (notebook → project_root/src 접근)\n",
    "project_root = os.path.abspath(os.path.join(os.getcwd(), \"..\"))\n",
    "if project_root not in sys.path:\n",
    "    sys.path.insert(0, project_root)\n",
    "\n",
    "from src.preprocessing import load_and_merge\n",
    "\n",
    "# 1) 데이터 로드 (병합 + 기존 파생피처 포함)\n",
    "df = load_and_merge()\n",
    "\n",
    "# 2) CV 설정 및 피처 리스트\n",
    "tss    = TimeSeriesSplit(n_splits=5)\n",
    "lags   = [1, 3, 6, 12, 24]\n",
    "rolls  = [3, 6, 12, 24]\n",
    "target_col    = \"대기압(mmHg)_관측\"\n",
    "base_features = [\n",
    "    \"일사량(w/m^2)_예측\",\n",
    "    \"습도(%)_예측\",\n",
    "    \"절대습도_예측\",\n",
    "    \"기온(degC)_예측\",\n",
    "    \"대기압(mmHg)_예측\",\n",
    "    \"hour\", \"month\", \"weekday\"\n",
    "]\n",
    "\n",
    "rmses = []\n",
    "for fold, (tr_idx, va_idx) in enumerate(tss.split(df), 1):\n",
    "    train = df.iloc[tr_idx].copy()\n",
    "    val   = df.iloc[va_idx].copy()\n",
    "\n",
    "    # (a) train 구간에서만 lag/rolling 생성\n",
    "    for lag in lags:\n",
    "        train[f\"pressure_lag_{lag}h\"] = train[target_col].shift(lag)\n",
    "    for w in rolls:\n",
    "        train[f\"pressure_roll_{w}h\"] = (\n",
    "            train[target_col].shift(1)\n",
    "                   .rolling(window=w)\n",
    "                   .mean()\n",
    "        )\n",
    "    feat_cols = base_features + \\\n",
    "                [f\"pressure_lag_{lag}h\" for lag in lags] + \\\n",
    "                [f\"pressure_roll_{w}h\" for w in rolls]\n",
    "    train.dropna(subset=feat_cols + [target_col], inplace=True)\n",
    "\n",
    "    # (b) val 에도 train 기준 피처만 적용 (combined trick)\n",
    "    combined = pd.concat([train, val])\n",
    "    for lag in lags:\n",
    "        combined[f\"pressure_lag_{lag}h\"] = combined[target_col].shift(lag)\n",
    "    for w in rolls:\n",
    "        combined[f\"pressure_roll_{w}h\"] = (\n",
    "            combined[target_col].shift(1)\n",
    "                       .rolling(window=w)\n",
    "                       .mean()\n",
    "        )\n",
    "    val2 = combined.loc[val.index].copy()\n",
    "    val2.dropna(subset=feat_cols + [target_col], inplace=True)\n",
    "\n",
    "    # (c) 학습·예측\n",
    "    X_tr, y_tr = train[feat_cols], train[target_col]\n",
    "    X_va, y_va = val2[feat_cols],  val2[target_col]\n",
    "\n",
    "    mdl = LGBMRegressor(random_state=42, verbose=-1)\n",
    "    mdl.fit(X_tr, y_tr)\n",
    "    preds = mdl.predict(X_va)\n",
    "\n",
    "    rmse = mean_squared_error(y_va, preds) ** 0.5\n",
    "    print(f\"Fold {fold} RMSE: {rmse:.4f}\")\n",
    "    rmses.append(rmse)\n",
    "\n",
    "print(f\"\\n[Pressure CV RMSE] 평균: {np.mean(rmses):.4f}\")\n"
   ]
  },
  {
   "cell_type": "code",
   "execution_count": 10,
   "id": "b6d5df84",
   "metadata": {},
   "outputs": [
    {
     "name": "stderr",
     "output_type": "stream",
     "text": [
      "[I 2025-06-24 01:16:53,958] A new study created in memory with name: no-name-bdfec386-a383-4374-8e98-236a28b57bba\n"
     ]
    },
    {
     "name": "stdout",
     "output_type": "stream",
     "text": [
      "Training until validation scores don't improve for 50 rounds\n",
      "Did not meet early stopping. Best iteration is:\n",
      "[425]\tvalid_0's l2: 16.2063\n",
      "Training until validation scores don't improve for 50 rounds\n",
      "Did not meet early stopping. Best iteration is:\n",
      "[425]\tvalid_0's l2: 13.5345\n",
      "Training until validation scores don't improve for 50 rounds\n",
      "Did not meet early stopping. Best iteration is:\n",
      "[425]\tvalid_0's l2: 2.28261\n",
      "Training until validation scores don't improve for 50 rounds\n",
      "Did not meet early stopping. Best iteration is:\n",
      "[425]\tvalid_0's l2: 5.25238\n",
      "Training until validation scores don't improve for 50 rounds\n",
      "Did not meet early stopping. Best iteration is:\n",
      "[425]\tvalid_0's l2: 4.65203\n"
     ]
    },
    {
     "name": "stderr",
     "output_type": "stream",
     "text": [
      "[I 2025-06-24 01:16:54,687] Trial 0 finished with value: 2.7328245160033777 and parameters: {'num_leaves': 16, 'learning_rate': 0.00261466532037708, 'n_estimators': 425, 'max_depth': 30, 'min_child_samples': 76, 'subsample': 0.9255745599823761, 'colsample_bytree': 0.7594143576083004, 'lambda_l1': 2.520385027446699e-07, 'lambda_l2': 0.002597693415807421, 'min_gain_to_split': 0.5554052829301592}. Best is trial 0 with value: 2.7328245160033777.\n"
     ]
    },
    {
     "name": "stdout",
     "output_type": "stream",
     "text": [
      "Training until validation scores don't improve for 50 rounds\n",
      "Did not meet early stopping. Best iteration is:\n",
      "[243]\tvalid_0's l2: 4.55456\n",
      "Training until validation scores don't improve for 50 rounds\n",
      "Did not meet early stopping. Best iteration is:\n",
      "[243]\tvalid_0's l2: 1.23026\n",
      "Training until validation scores don't improve for 50 rounds\n",
      "Did not meet early stopping. Best iteration is:\n",
      "[243]\tvalid_0's l2: 0.0420237\n",
      "Training until validation scores don't improve for 50 rounds\n",
      "Did not meet early stopping. Best iteration is:\n",
      "[243]\tvalid_0's l2: 0.143371\n",
      "Training until validation scores don't improve for 50 rounds\n"
     ]
    },
    {
     "name": "stderr",
     "output_type": "stream",
     "text": [
      "[I 2025-06-24 01:16:55,322] Trial 1 finished with value: 0.8286639495178758 and parameters: {'num_leaves': 37, 'learning_rate': 0.030853662187034763, 'n_estimators': 243, 'max_depth': 26, 'min_child_samples': 61, 'subsample': 0.506598342976627, 'colsample_bytree': 0.9038296791407417, 'lambda_l1': 2.928376225269948e-06, 'lambda_l2': 0.00029401325242180257, 'min_gain_to_split': 0.08183741389172094}. Best is trial 1 with value: 0.8286639495178758.\n"
     ]
    },
    {
     "name": "stdout",
     "output_type": "stream",
     "text": [
      "Did not meet early stopping. Best iteration is:\n",
      "[243]\tvalid_0's l2: 0.100088\n",
      "Training until validation scores don't improve for 50 rounds\n",
      "Did not meet early stopping. Best iteration is:\n",
      "[465]\tvalid_0's l2: 7.97012\n",
      "Training until validation scores don't improve for 50 rounds\n",
      "Did not meet early stopping. Best iteration is:\n",
      "[465]\tvalid_0's l2: 3.45379\n",
      "Training until validation scores don't improve for 50 rounds\n",
      "Did not meet early stopping. Best iteration is:\n",
      "[465]\tvalid_0's l2: 0.282001\n",
      "Training until validation scores don't improve for 50 rounds\n",
      "Did not meet early stopping. Best iteration is:\n",
      "[465]\tvalid_0's l2: 0.693779\n",
      "Training until validation scores don't improve for 50 rounds\n"
     ]
    },
    {
     "name": "stderr",
     "output_type": "stream",
     "text": [
      "[I 2025-06-24 01:16:56,591] Trial 2 finished with value: 1.360443812521717 and parameters: {'num_leaves': 77, 'learning_rate': 0.004869152151099507, 'n_estimators': 465, 'max_depth': 22, 'min_child_samples': 68, 'subsample': 0.633630894148305, 'colsample_bytree': 0.7354909040573678, 'lambda_l1': 0.09971217868159118, 'lambda_l2': 0.09809245168655086, 'min_gain_to_split': 0.6052649932570766}. Best is trial 1 with value: 0.8286639495178758.\n"
     ]
    },
    {
     "name": "stdout",
     "output_type": "stream",
     "text": [
      "Did not meet early stopping. Best iteration is:\n",
      "[465]\tvalid_0's l2: 0.572548\n",
      "Training until validation scores don't improve for 50 rounds\n",
      "Did not meet early stopping. Best iteration is:\n",
      "[320]\tvalid_0's l2: 3.77342\n",
      "Training until validation scores don't improve for 50 rounds\n",
      "Did not meet early stopping. Best iteration is:\n",
      "[320]\tvalid_0's l2: 1.86131\n",
      "Training until validation scores don't improve for 50 rounds\n",
      "Did not meet early stopping. Best iteration is:\n",
      "[320]\tvalid_0's l2: 0.146374\n",
      "Training until validation scores don't improve for 50 rounds\n",
      "Did not meet early stopping. Best iteration is:\n",
      "[320]\tvalid_0's l2: 0.385661\n",
      "Training until validation scores don't improve for 50 rounds\n"
     ]
    },
    {
     "name": "stderr",
     "output_type": "stream",
     "text": [
      "[I 2025-06-24 01:16:57,634] Trial 3 finished with value: 0.975901008885194 and parameters: {'num_leaves': 53, 'learning_rate': 0.008335881212143074, 'n_estimators': 320, 'max_depth': 6, 'min_child_samples': 29, 'subsample': 0.6174000584676536, 'colsample_bytree': 0.9347517429443983, 'lambda_l1': 9.842536701650174e-07, 'lambda_l2': 2.1874664665489811e-07, 'min_gain_to_split': 0.13692647645455414}. Best is trial 1 with value: 0.8286639495178758.\n"
     ]
    },
    {
     "name": "stdout",
     "output_type": "stream",
     "text": [
      "Did not meet early stopping. Best iteration is:\n",
      "[320]\tvalid_0's l2: 0.323844\n",
      "Training until validation scores don't improve for 50 rounds\n",
      "Early stopping, best iteration is:\n",
      "[355]\tvalid_0's l2: 5.81847\n",
      "Training until validation scores don't improve for 50 rounds\n",
      "Early stopping, best iteration is:\n",
      "[171]\tvalid_0's l2: 1.56466\n",
      "Training until validation scores don't improve for 50 rounds\n",
      "Early stopping, best iteration is:\n",
      "[180]\tvalid_0's l2: 0.0602487\n",
      "Training until validation scores don't improve for 50 rounds\n",
      "Early stopping, best iteration is:\n",
      "[179]\tvalid_0's l2: 0.164495\n",
      "Training until validation scores don't improve for 50 rounds\n",
      "Early stopping, best iteration is:\n",
      "[188]\tvalid_0's l2: 0.139519\n"
     ]
    },
    {
     "name": "stderr",
     "output_type": "stream",
     "text": [
      "[I 2025-06-24 01:16:58,018] Trial 4 finished with value: 0.9377416162672961 and parameters: {'num_leaves': 49, 'learning_rate': 0.04639754129728919, 'n_estimators': 436, 'max_depth': 29, 'min_child_samples': 90, 'subsample': 0.7683571517724535, 'colsample_bytree': 0.5254362026607904, 'lambda_l1': 1.411757054884813e-06, 'lambda_l2': 4.997686911988682e-08, 'min_gain_to_split': 0.3328006848321723}. Best is trial 1 with value: 0.8286639495178758.\n"
     ]
    },
    {
     "name": "stdout",
     "output_type": "stream",
     "text": [
      "Training until validation scores don't improve for 50 rounds\n",
      "Did not meet early stopping. Best iteration is:\n",
      "[367]\tvalid_0's l2: 33.2154\n",
      "Training until validation scores don't improve for 50 rounds\n",
      "Did not meet early stopping. Best iteration is:\n",
      "[367]\tvalid_0's l2: 39.1057\n",
      "Training until validation scores don't improve for 50 rounds\n",
      "Did not meet early stopping. Best iteration is:\n",
      "[367]\tvalid_0's l2: 8.1867\n",
      "Training until validation scores don't improve for 50 rounds\n",
      "Did not meet early stopping. Best iteration is:\n",
      "[367]\tvalid_0's l2: 18.5595\n",
      "Training until validation scores don't improve for 50 rounds\n"
     ]
    },
    {
     "name": "stderr",
     "output_type": "stream",
     "text": [
      "[I 2025-06-24 01:16:58,583] Trial 5 finished with value: 4.648137601305199 and parameters: {'num_leaves': 16, 'learning_rate': 0.0012513514329026026, 'n_estimators': 367, 'max_depth': 16, 'min_child_samples': 61, 'subsample': 0.5219723301491024, 'colsample_bytree': 0.5429681999470187, 'lambda_l1': 2.2989986099392404e-06, 'lambda_l2': 0.02265072752415944, 'min_gain_to_split': 0.2897196670649953}. Best is trial 1 with value: 0.8286639495178758.\n"
     ]
    },
    {
     "name": "stdout",
     "output_type": "stream",
     "text": [
      "Did not meet early stopping. Best iteration is:\n",
      "[367]\tvalid_0's l2: 16.4401\n",
      "Training until validation scores don't improve for 50 rounds\n",
      "Did not meet early stopping. Best iteration is:\n",
      "[200]\tvalid_0's l2: 14.3094\n",
      "Training until validation scores don't improve for 50 rounds\n",
      "Did not meet early stopping. Best iteration is:\n",
      "[200]\tvalid_0's l2: 11.7219\n",
      "Training until validation scores don't improve for 50 rounds\n",
      "Did not meet early stopping. Best iteration is:\n",
      "[200]\tvalid_0's l2: 2.03606\n",
      "Training until validation scores don't improve for 50 rounds\n",
      "Did not meet early stopping. Best iteration is:\n",
      "[200]\tvalid_0's l2: 4.62121\n",
      "Training until validation scores don't improve for 50 rounds\n"
     ]
    },
    {
     "name": "stderr",
     "output_type": "stream",
     "text": [
      "[I 2025-06-24 01:16:59,075] Trial 6 finished with value: 2.561720336819376 and parameters: {'num_leaves': 34, 'learning_rate': 0.005828379784517752, 'n_estimators': 200, 'max_depth': 11, 'min_child_samples': 51, 'subsample': 0.6044930917021465, 'colsample_bytree': 0.9356681477542911, 'lambda_l1': 2.1282985041472134e-05, 'lambda_l2': 0.015649841711016393, 'min_gain_to_split': 0.7813257070124672}. Best is trial 1 with value: 0.8286639495178758.\n"
     ]
    },
    {
     "name": "stdout",
     "output_type": "stream",
     "text": [
      "Did not meet early stopping. Best iteration is:\n",
      "[200]\tvalid_0's l2: 4.10262\n",
      "Training until validation scores don't improve for 50 rounds\n",
      "Early stopping, best iteration is:\n",
      "[131]\tvalid_0's l2: 3.73077\n",
      "Training until validation scores don't improve for 50 rounds\n",
      "Early stopping, best iteration is:\n",
      "[144]\tvalid_0's l2: 1.0649\n",
      "Training until validation scores don't improve for 50 rounds\n",
      "Early stopping, best iteration is:\n",
      "[137]\tvalid_0's l2: 0.0431654\n",
      "Training until validation scores don't improve for 50 rounds\n"
     ]
    },
    {
     "name": "stderr",
     "output_type": "stream",
     "text": [
      "[I 2025-06-24 01:16:59,424] Trial 7 finished with value: 0.7741758037800823 and parameters: {'num_leaves': 42, 'learning_rate': 0.06732816306328793, 'n_estimators': 266, 'max_depth': 9, 'min_child_samples': 40, 'subsample': 0.5550881821114142, 'colsample_bytree': 0.9540321095995741, 'lambda_l1': 3.0074042378901065, 'lambda_l2': 2.5820388990848796e-05, 'min_gain_to_split': 0.05435036022930051}. Best is trial 7 with value: 0.7741758037800823.\n"
     ]
    },
    {
     "name": "stdout",
     "output_type": "stream",
     "text": [
      "Early stopping, best iteration is:\n",
      "[141]\tvalid_0's l2: 0.144435\n",
      "Training until validation scores don't improve for 50 rounds\n",
      "Early stopping, best iteration is:\n",
      "[148]\tvalid_0's l2: 0.102152\n",
      "Training until validation scores don't improve for 50 rounds\n",
      "Did not meet early stopping. Best iteration is:\n",
      "[201]\tvalid_0's l2: 9.00679\n",
      "Training until validation scores don't improve for 50 rounds\n",
      "Did not meet early stopping. Best iteration is:\n",
      "[201]\tvalid_0's l2: 6.46718\n",
      "Training until validation scores don't improve for 50 rounds\n",
      "Did not meet early stopping. Best iteration is:\n",
      "[201]\tvalid_0's l2: 1.00135\n",
      "Training until validation scores don't improve for 50 rounds\n",
      "Did not meet early stopping. Best iteration is:\n",
      "[201]\tvalid_0's l2: 2.30273\n",
      "Training until validation scores don't improve for 50 rounds\n",
      "Did not meet early stopping. Best iteration is:\n",
      "[201]\tvalid_0's l2: 2.04243\n"
     ]
    },
    {
     "name": "stderr",
     "output_type": "stream",
     "text": [
      "[I 2025-06-24 01:17:00,022] Trial 8 finished with value: 1.8982963656515632 and parameters: {'num_leaves': 64, 'learning_rate': 0.007636827611706075, 'n_estimators': 201, 'max_depth': 28, 'min_child_samples': 40, 'subsample': 0.977654016799971, 'colsample_bytree': 0.9066055273050689, 'lambda_l1': 0.33408139272288984, 'lambda_l2': 0.1652644626061593, 'min_gain_to_split': 0.9956446382233471}. Best is trial 7 with value: 0.7741758037800823.\n"
     ]
    },
    {
     "name": "stdout",
     "output_type": "stream",
     "text": [
      "Training until validation scores don't improve for 50 rounds\n",
      "Did not meet early stopping. Best iteration is:\n",
      "[366]\tvalid_0's l2: 31.1432\n",
      "Training until validation scores don't improve for 50 rounds\n",
      "Did not meet early stopping. Best iteration is:\n",
      "[366]\tvalid_0's l2: 35.9838\n",
      "Training until validation scores don't improve for 50 rounds\n",
      "Did not meet early stopping. Best iteration is:\n",
      "[366]\tvalid_0's l2: 6.87285\n",
      "Training until validation scores don't improve for 50 rounds\n",
      "Did not meet early stopping. Best iteration is:\n",
      "[366]\tvalid_0's l2: 15.5856\n",
      "Training until validation scores don't improve for 50 rounds\n"
     ]
    },
    {
     "name": "stderr",
     "output_type": "stream",
     "text": [
      "[I 2025-06-24 01:17:00,820] Trial 9 finished with value: 4.372625021380768 and parameters: {'num_leaves': 94, 'learning_rate': 0.001520059211218686, 'n_estimators': 366, 'max_depth': 21, 'min_child_samples': 27, 'subsample': 0.6818778964134288, 'colsample_bytree': 0.5495597954347763, 'lambda_l1': 4.125639908582998e-08, 'lambda_l2': 5.742356626537462, 'min_gain_to_split': 0.778394142431789}. Best is trial 7 with value: 0.7741758037800823.\n"
     ]
    },
    {
     "name": "stdout",
     "output_type": "stream",
     "text": [
      "Did not meet early stopping. Best iteration is:\n",
      "[366]\tvalid_0's l2: 13.7968\n",
      "Training until validation scores don't improve for 50 rounds\n",
      "Early stopping, best iteration is:\n",
      "[119]\tvalid_0's l2: 2.76092\n",
      "Training until validation scores don't improve for 50 rounds\n",
      "Early stopping, best iteration is:\n",
      "[153]\tvalid_0's l2: 0.996626\n",
      "Training until validation scores don't improve for 50 rounds\n",
      "Early stopping, best iteration is:\n",
      "[157]\tvalid_0's l2: 0.0494992\n",
      "Training until validation scores don't improve for 50 rounds\n"
     ]
    },
    {
     "name": "stderr",
     "output_type": "stream",
     "text": [
      "[I 2025-06-24 01:17:01,144] Trial 10 finished with value: 0.7171026613945676 and parameters: {'num_leaves': 127, 'learning_rate': 0.08731738798248771, 'n_estimators': 299, 'max_depth': 5, 'min_child_samples': 13, 'subsample': 0.8034040575268309, 'colsample_bytree': 0.7773252231873566, 'lambda_l1': 7.643697857622725, 'lambda_l2': 1.2898765410655197e-05, 'min_gain_to_split': 0.0101354776632184}. Best is trial 10 with value: 0.7171026613945676.\n"
     ]
    },
    {
     "name": "stdout",
     "output_type": "stream",
     "text": [
      "Early stopping, best iteration is:\n",
      "[170]\tvalid_0's l2: 0.145675\n",
      "Training until validation scores don't improve for 50 rounds\n",
      "Early stopping, best iteration is:\n",
      "[195]\tvalid_0's l2: 0.103326\n",
      "Training until validation scores don't improve for 50 rounds\n",
      "Early stopping, best iteration is:\n",
      "[117]\tvalid_0's l2: 2.85092\n",
      "Training until validation scores don't improve for 50 rounds\n",
      "Early stopping, best iteration is:\n",
      "[137]\tvalid_0's l2: 0.998147\n",
      "Training until validation scores don't improve for 50 rounds\n",
      "Early stopping, best iteration is:\n",
      "[145]\tvalid_0's l2: 0.0507599\n",
      "Training until validation scores don't improve for 50 rounds\n",
      "Early stopping, best iteration is:\n",
      "[164]\tvalid_0's l2: 0.147109\n",
      "Training until validation scores don't improve for 50 rounds\n"
     ]
    },
    {
     "name": "stderr",
     "output_type": "stream",
     "text": [
      "[I 2025-06-24 01:17:01,623] Trial 11 finished with value: 0.7234538576045937 and parameters: {'num_leaves': 128, 'learning_rate': 0.09941648995367937, 'n_estimators': 295, 'max_depth': 5, 'min_child_samples': 13, 'subsample': 0.8181381990864703, 'colsample_bytree': 0.7922631906619105, 'lambda_l1': 8.405163384098257, 'lambda_l2': 1.3099781469340367e-05, 'min_gain_to_split': 0.0043343219639397496}. Best is trial 10 with value: 0.7171026613945676.\n"
     ]
    },
    {
     "name": "stdout",
     "output_type": "stream",
     "text": [
      "Early stopping, best iteration is:\n",
      "[202]\tvalid_0's l2: 0.102965\n",
      "Training until validation scores don't improve for 50 rounds\n",
      "Did not meet early stopping. Best iteration is:\n",
      "[276]\tvalid_0's l2: 2.20124\n",
      "Training until validation scores don't improve for 50 rounds\n",
      "Did not meet early stopping. Best iteration is:\n",
      "[309]\tvalid_0's l2: 0.635856\n",
      "Training until validation scores don't improve for 50 rounds\n",
      "Did not meet early stopping. Best iteration is:\n",
      "[309]\tvalid_0's l2: 0.047385\n",
      "Training until validation scores don't improve for 50 rounds\n",
      "Did not meet early stopping. Best iteration is:\n",
      "[307]\tvalid_0's l2: 0.140069\n",
      "Training until validation scores don't improve for 50 rounds\n"
     ]
    },
    {
     "name": "stderr",
     "output_type": "stream",
     "text": [
      "[I 2025-06-24 01:17:02,209] Trial 12 finished with value: 0.6385984837128873 and parameters: {'num_leaves': 126, 'learning_rate': 0.021774701151473504, 'n_estimators': 309, 'max_depth': 5, 'min_child_samples': 5, 'subsample': 0.8585253361618993, 'colsample_bytree': 0.7772857251930849, 'lambda_l1': 0.004710327988247538, 'lambda_l2': 6.790034391938217e-06, 'min_gain_to_split': 0.27759204118650244}. Best is trial 12 with value: 0.6385984837128873.\n"
     ]
    },
    {
     "name": "stdout",
     "output_type": "stream",
     "text": [
      "Did not meet early stopping. Best iteration is:\n",
      "[309]\tvalid_0's l2: 0.102393\n",
      "Training until validation scores don't improve for 50 rounds\n",
      "Did not meet early stopping. Best iteration is:\n",
      "[316]\tvalid_0's l2: 2.26796\n",
      "Training until validation scores don't improve for 50 rounds\n",
      "Did not meet early stopping. Best iteration is:\n",
      "[331]\tvalid_0's l2: 0.68795\n",
      "Training until validation scores don't improve for 50 rounds\n",
      "Did not meet early stopping. Best iteration is:\n",
      "[331]\tvalid_0's l2: 0.0479428\n",
      "Training until validation scores don't improve for 50 rounds\n",
      "Did not meet early stopping. Best iteration is:\n",
      "[331]\tvalid_0's l2: 0.142721\n",
      "Training until validation scores don't improve for 50 rounds\n"
     ]
    },
    {
     "name": "stderr",
     "output_type": "stream",
     "text": [
      "[I 2025-06-24 01:17:03,319] Trial 13 finished with value: 0.652878468256722 and parameters: {'num_leaves': 119, 'learning_rate': 0.01916519007386978, 'n_estimators': 331, 'max_depth': 13, 'min_child_samples': 6, 'subsample': 0.8574578331910477, 'colsample_bytree': 0.6767729253028631, 'lambda_l1': 0.002946134763334778, 'lambda_l2': 1.2545130864778586e-06, 'min_gain_to_split': 0.31945551480121315}. Best is trial 12 with value: 0.6385984837128873.\n"
     ]
    },
    {
     "name": "stdout",
     "output_type": "stream",
     "text": [
      "Did not meet early stopping. Best iteration is:\n",
      "[331]\tvalid_0's l2: 0.110389\n",
      "Training until validation scores don't improve for 50 rounds\n",
      "Early stopping, best iteration is:\n",
      "[258]\tvalid_0's l2: 2.29374\n",
      "Training until validation scores don't improve for 50 rounds\n",
      "Early stopping, best iteration is:\n",
      "[292]\tvalid_0's l2: 0.684087\n",
      "Training until validation scores don't improve for 50 rounds\n",
      "Did not meet early stopping. Best iteration is:\n",
      "[308]\tvalid_0's l2: 0.0499894\n",
      "Training until validation scores don't improve for 50 rounds\n",
      "Did not meet early stopping. Best iteration is:\n",
      "[316]\tvalid_0's l2: 0.143445\n",
      "Training until validation scores don't improve for 50 rounds\n",
      "Did not meet early stopping. Best iteration is:\n",
      "[317]\tvalid_0's l2: 0.109013\n"
     ]
    },
    {
     "name": "stderr",
     "output_type": "stream",
     "text": [
      "[I 2025-06-24 01:17:04,257] Trial 14 finished with value: 0.6548198083441893 and parameters: {'num_leaves': 106, 'learning_rate': 0.023469042295857875, 'n_estimators': 346, 'max_depth': 14, 'min_child_samples': 6, 'subsample': 0.8863595096790685, 'colsample_bytree': 0.6465635131124687, 'lambda_l1': 0.002855093239349202, 'lambda_l2': 7.022509295186925e-07, 'min_gain_to_split': 0.29684331437155814}. Best is trial 12 with value: 0.6385984837128873.\n"
     ]
    },
    {
     "name": "stdout",
     "output_type": "stream",
     "text": [
      "Training until validation scores don't improve for 50 rounds\n",
      "Did not meet early stopping. Best iteration is:\n",
      "[391]\tvalid_0's l2: 2.41282\n",
      "Training until validation scores don't improve for 50 rounds\n",
      "Did not meet early stopping. Best iteration is:\n",
      "[391]\tvalid_0's l2: 0.86762\n",
      "Training until validation scores don't improve for 50 rounds\n",
      "Did not meet early stopping. Best iteration is:\n",
      "[391]\tvalid_0's l2: 0.0518095\n",
      "Training until validation scores don't improve for 50 rounds\n",
      "Did not meet early stopping. Best iteration is:\n",
      "[391]\tvalid_0's l2: 0.146503\n",
      "Training until validation scores don't improve for 50 rounds\n"
     ]
    },
    {
     "name": "stderr",
     "output_type": "stream",
     "text": [
      "[I 2025-06-24 01:17:05,436] Trial 15 finished with value: 0.6855104631215568 and parameters: {'num_leaves': 109, 'learning_rate': 0.015408573622018246, 'n_estimators': 391, 'max_depth': 13, 'min_child_samples': 26, 'subsample': 0.8779871802935212, 'colsample_bytree': 0.6761796627706733, 'lambda_l1': 0.00505701261437724, 'lambda_l2': 1.5382313022335166e-08, 'min_gain_to_split': 0.4334838713755563}. Best is trial 12 with value: 0.6385984837128873.\n"
     ]
    },
    {
     "name": "stdout",
     "output_type": "stream",
     "text": [
      "Did not meet early stopping. Best iteration is:\n",
      "[391]\tvalid_0's l2: 0.110483\n",
      "Training until validation scores don't improve for 50 rounds\n",
      "Did not meet early stopping. Best iteration is:\n",
      "[476]\tvalid_0's l2: 2.20235\n",
      "Training until validation scores don't improve for 50 rounds\n",
      "Did not meet early stopping. Best iteration is:\n",
      "[498]\tvalid_0's l2: 0.678007\n",
      "Training until validation scores don't improve for 50 rounds\n",
      "Did not meet early stopping. Best iteration is:\n",
      "[498]\tvalid_0's l2: 0.0436899\n",
      "Training until validation scores don't improve for 50 rounds\n",
      "Did not meet early stopping. Best iteration is:\n",
      "[498]\tvalid_0's l2: 0.140144\n",
      "Training until validation scores don't improve for 50 rounds\n"
     ]
    },
    {
     "name": "stderr",
     "output_type": "stream",
     "text": [
      "[I 2025-06-24 01:17:07,374] Trial 16 finished with value: 0.6417258259746381 and parameters: {'num_leaves': 114, 'learning_rate': 0.012988035393004969, 'n_estimators': 498, 'max_depth': 9, 'min_child_samples': 6, 'subsample': 0.71890041033991, 'colsample_bytree': 0.8376455315760846, 'lambda_l1': 0.00016692806204783388, 'lambda_l2': 1.4369823647879138e-06, 'min_gain_to_split': 0.1962688842664002}. Best is trial 12 with value: 0.6385984837128873.\n"
     ]
    },
    {
     "name": "stdout",
     "output_type": "stream",
     "text": [
      "Did not meet early stopping. Best iteration is:\n",
      "[498]\tvalid_0's l2: 0.101001\n",
      "Training until validation scores don't improve for 50 rounds\n",
      "Did not meet early stopping. Best iteration is:\n",
      "[498]\tvalid_0's l2: 1.99719\n",
      "Training until validation scores don't improve for 50 rounds\n",
      "Did not meet early stopping. Best iteration is:\n",
      "[498]\tvalid_0's l2: 0.815969\n",
      "Training until validation scores don't improve for 50 rounds\n",
      "Did not meet early stopping. Best iteration is:\n",
      "[498]\tvalid_0's l2: 0.0432159\n",
      "Training until validation scores don't improve for 50 rounds\n",
      "Did not meet early stopping. Best iteration is:\n",
      "[498]\tvalid_0's l2: 0.13792\n",
      "Training until validation scores don't improve for 50 rounds\n"
     ]
    },
    {
     "name": "stderr",
     "output_type": "stream",
     "text": [
      "[I 2025-06-24 01:17:09,237] Trial 17 finished with value: 0.6409876247340758 and parameters: {'num_leaves': 87, 'learning_rate': 0.011846571296598638, 'n_estimators': 498, 'max_depth': 9, 'min_child_samples': 18, 'subsample': 0.7163622346394547, 'colsample_bytree': 0.8742261585140261, 'lambda_l1': 9.770318812698888e-05, 'lambda_l2': 0.00010616752664090146, 'min_gain_to_split': 0.18878903102346734}. Best is trial 12 with value: 0.6385984837128873.\n"
     ]
    },
    {
     "name": "stdout",
     "output_type": "stream",
     "text": [
      "Did not meet early stopping. Best iteration is:\n",
      "[498]\tvalid_0's l2: 0.0955728\n",
      "Training until validation scores don't improve for 50 rounds\n",
      "Early stopping, best iteration is:\n",
      "[166]\tvalid_0's l2: 1.98179\n",
      "Training until validation scores don't improve for 50 rounds\n",
      "Early stopping, best iteration is:\n",
      "[189]\tvalid_0's l2: 0.823706\n",
      "Training until validation scores don't improve for 50 rounds\n",
      "Early stopping, best iteration is:\n",
      "[201]\tvalid_0's l2: 0.0449954\n",
      "Training until validation scores don't improve for 50 rounds\n"
     ]
    },
    {
     "name": "stderr",
     "output_type": "stream",
     "text": [
      "[I 2025-06-24 01:17:09,804] Trial 18 finished with value: 0.6419300425208423 and parameters: {'num_leaves': 88, 'learning_rate': 0.0346701838745674, 'n_estimators': 395, 'max_depth': 8, 'min_child_samples': 18, 'subsample': 0.7253167565910525, 'colsample_bytree': 0.8453247637539449, 'lambda_l1': 0.00021468072007429844, 'lambda_l2': 0.00014388131665793, 'min_gain_to_split': 0.4341188161245522}. Best is trial 12 with value: 0.6385984837128873.\n"
     ]
    },
    {
     "name": "stdout",
     "output_type": "stream",
     "text": [
      "Early stopping, best iteration is:\n",
      "[202]\tvalid_0's l2: 0.137933\n",
      "Training until validation scores don't improve for 50 rounds\n",
      "Early stopping, best iteration is:\n",
      "[205]\tvalid_0's l2: 0.0965922\n",
      "Training until validation scores don't improve for 50 rounds\n",
      "Did not meet early stopping. Best iteration is:\n",
      "[499]\tvalid_0's l2: 7.09501\n",
      "Training until validation scores don't improve for 50 rounds\n",
      "Did not meet early stopping. Best iteration is:\n",
      "[499]\tvalid_0's l2: 4.56294\n",
      "Training until validation scores don't improve for 50 rounds\n",
      "Did not meet early stopping. Best iteration is:\n",
      "[499]\tvalid_0's l2: 0.576844\n",
      "Training until validation scores don't improve for 50 rounds\n",
      "Did not meet early stopping. Best iteration is:\n",
      "[499]\tvalid_0's l2: 1.39442\n",
      "Training until validation scores don't improve for 50 rounds\n"
     ]
    },
    {
     "name": "stderr",
     "output_type": "stream",
     "text": [
      "[I 2025-06-24 01:17:12,306] Trial 19 finished with value: 1.5689146367249638 and parameters: {'num_leaves': 96, 'learning_rate': 0.0036246592894743114, 'n_estimators': 499, 'max_depth': 19, 'min_child_samples': 39, 'subsample': 0.9957002262532604, 'colsample_bytree': 0.9868593019338615, 'lambda_l1': 0.03759897537112059, 'lambda_l2': 0.0016566336780874022, 'min_gain_to_split': 0.19771868069964196}. Best is trial 12 with value: 0.6385984837128873.\n"
     ]
    },
    {
     "name": "stdout",
     "output_type": "stream",
     "text": [
      "Did not meet early stopping. Best iteration is:\n",
      "[499]\tvalid_0's l2: 1.21985\n",
      "Training until validation scores don't improve for 50 rounds\n",
      "Did not meet early stopping. Best iteration is:\n",
      "[255]\tvalid_0's l2: 2.76387\n",
      "Training until validation scores don't improve for 50 rounds\n",
      "Did not meet early stopping. Best iteration is:\n",
      "[255]\tvalid_0's l2: 1.33698\n",
      "Training until validation scores don't improve for 50 rounds\n",
      "Did not meet early stopping. Best iteration is:\n",
      "[255]\tvalid_0's l2: 0.106683\n",
      "Training until validation scores don't improve for 50 rounds\n",
      "Did not meet early stopping. Best iteration is:\n",
      "[255]\tvalid_0's l2: 0.279893\n",
      "Training until validation scores don't improve for 50 rounds\n"
     ]
    },
    {
     "name": "stderr",
     "output_type": "stream",
     "text": [
      "[I 2025-06-24 01:17:13,556] Trial 20 finished with value: 0.8315767331769992 and parameters: {'num_leaves': 76, 'learning_rate': 0.011438023686562736, 'n_estimators': 255, 'max_depth': 8, 'min_child_samples': 17, 'subsample': 0.6718864684754795, 'colsample_bytree': 0.8603572092846478, 'lambda_l1': 2.494353525038237e-05, 'lambda_l2': 2.9769933537265607e-05, 'min_gain_to_split': 0.44844656710911657}. Best is trial 12 with value: 0.6385984837128873.\n"
     ]
    },
    {
     "name": "stdout",
     "output_type": "stream",
     "text": [
      "Did not meet early stopping. Best iteration is:\n",
      "[255]\tvalid_0's l2: 0.233715\n",
      "Training until validation scores don't improve for 50 rounds\n",
      "Did not meet early stopping. Best iteration is:\n",
      "[499]\tvalid_0's l2: 2.32284\n",
      "Training until validation scores don't improve for 50 rounds\n",
      "Did not meet early stopping. Best iteration is:\n",
      "[499]\tvalid_0's l2: 0.674956\n",
      "Training until validation scores don't improve for 50 rounds\n",
      "Did not meet early stopping. Best iteration is:\n",
      "[499]\tvalid_0's l2: 0.0437886\n",
      "Training until validation scores don't improve for 50 rounds\n",
      "Did not meet early stopping. Best iteration is:\n",
      "[499]\tvalid_0's l2: 0.140243\n",
      "Training until validation scores don't improve for 50 rounds\n"
     ]
    },
    {
     "name": "stderr",
     "output_type": "stream",
     "text": [
      "[I 2025-06-24 01:17:15,908] Trial 21 finished with value: 0.650089126628058 and parameters: {'num_leaves': 112, 'learning_rate': 0.011992479959804613, 'n_estimators': 499, 'max_depth': 11, 'min_child_samples': 5, 'subsample': 0.7318292173926177, 'colsample_bytree': 0.8328733019740053, 'lambda_l1': 0.00021039398085035465, 'lambda_l2': 2.298324214677387e-06, 'min_gain_to_split': 0.19653976999882564}. Best is trial 12 with value: 0.6385984837128873.\n"
     ]
    },
    {
     "name": "stdout",
     "output_type": "stream",
     "text": [
      "Did not meet early stopping. Best iteration is:\n",
      "[499]\tvalid_0's l2: 0.103076\n",
      "Training until validation scores don't improve for 50 rounds\n",
      "Early stopping, best iteration is:\n",
      "[405]\tvalid_0's l2: 2.45411\n",
      "Training until validation scores don't improve for 50 rounds\n",
      "Did not meet early stopping. Best iteration is:\n",
      "[441]\tvalid_0's l2: 0.855531\n",
      "Training until validation scores don't improve for 50 rounds\n",
      "Did not meet early stopping. Best iteration is:\n",
      "[462]\tvalid_0's l2: 0.0476024\n",
      "Training until validation scores don't improve for 50 rounds\n",
      "Did not meet early stopping. Best iteration is:\n",
      "[462]\tvalid_0's l2: 0.137688\n",
      "Training until validation scores don't improve for 50 rounds\n"
     ]
    },
    {
     "name": "stderr",
     "output_type": "stream",
     "text": [
      "[I 2025-06-24 01:17:17,410] Trial 22 finished with value: 0.6796936321322479 and parameters: {'num_leaves': 101, 'learning_rate': 0.01585598077286646, 'n_estimators': 462, 'max_depth': 10, 'min_child_samples': 22, 'subsample': 0.77864845368173, 'colsample_bytree': 0.7218322693731967, 'lambda_l1': 3.573990886963913e-05, 'lambda_l2': 1.8012798472576875e-07, 'min_gain_to_split': 0.1932441324478546}. Best is trial 12 with value: 0.6385984837128873.\n"
     ]
    },
    {
     "name": "stdout",
     "output_type": "stream",
     "text": [
      "Did not meet early stopping. Best iteration is:\n",
      "[459]\tvalid_0's l2: 0.100944\n",
      "Training until validation scores don't improve for 50 rounds\n",
      "Early stopping, best iteration is:\n",
      "[269]\tvalid_0's l2: 2.57455\n",
      "Training until validation scores don't improve for 50 rounds\n",
      "Early stopping, best iteration is:\n",
      "[279]\tvalid_0's l2: 0.943071\n",
      "Training until validation scores don't improve for 50 rounds\n",
      "Early stopping, best iteration is:\n",
      "[286]\tvalid_0's l2: 0.0433214\n",
      "Training until validation scores don't improve for 50 rounds\n",
      "Early stopping, best iteration is:\n",
      "[294]\tvalid_0's l2: 0.140308\n",
      "Training until validation scores don't improve for 50 rounds\n"
     ]
    },
    {
     "name": "stderr",
     "output_type": "stream",
     "text": [
      "[I 2025-06-24 01:17:18,438] Trial 23 finished with value: 0.6929329807820076 and parameters: {'num_leaves': 119, 'learning_rate': 0.025887849036004513, 'n_estimators': 463, 'max_depth': 8, 'min_child_samples': 33, 'subsample': 0.7015724560726102, 'colsample_bytree': 0.8126988189977571, 'lambda_l1': 0.0010591884110718024, 'lambda_l2': 4.99186460362753e-06, 'min_gain_to_split': 0.13723696427520088}. Best is trial 12 with value: 0.6385984837128873.\n"
     ]
    },
    {
     "name": "stdout",
     "output_type": "stream",
     "text": [
      "Early stopping, best iteration is:\n",
      "[305]\tvalid_0's l2: 0.0938129\n",
      "Training until validation scores don't improve for 50 rounds\n",
      "Did not meet early stopping. Best iteration is:\n",
      "[437]\tvalid_0's l2: 2.10562\n",
      "Training until validation scores don't improve for 50 rounds\n",
      "Did not meet early stopping. Best iteration is:\n",
      "[437]\tvalid_0's l2: 0.754803\n",
      "Training until validation scores don't improve for 50 rounds\n",
      "Did not meet early stopping. Best iteration is:\n",
      "[437]\tvalid_0's l2: 0.0441567\n",
      "Training until validation scores don't improve for 50 rounds\n",
      "Did not meet early stopping. Best iteration is:\n",
      "[437]\tvalid_0's l2: 0.140261\n",
      "Training until validation scores don't improve for 50 rounds\n"
     ]
    },
    {
     "name": "stderr",
     "output_type": "stream",
     "text": [
      "[I 2025-06-24 01:17:19,994] Trial 24 finished with value: 0.6441237788709788 and parameters: {'num_leaves': 88, 'learning_rate': 0.012004239614181535, 'n_estimators': 437, 'max_depth': 7, 'min_child_samples': 14, 'subsample': 0.8511598686224999, 'colsample_bytree': 0.8739572088094616, 'lambda_l1': 0.012602494875001207, 'lambda_l2': 7.626660682226036e-05, 'min_gain_to_split': 0.24774418303330364}. Best is trial 12 with value: 0.6385984837128873.\n"
     ]
    },
    {
     "name": "stdout",
     "output_type": "stream",
     "text": [
      "Did not meet early stopping. Best iteration is:\n",
      "[437]\tvalid_0's l2: 0.0999179\n",
      "Training until validation scores don't improve for 50 rounds\n",
      "Early stopping, best iteration is:\n",
      "[183]\tvalid_0's l2: 3.75276\n",
      "Training until validation scores don't improve for 50 rounds\n",
      "Early stopping, best iteration is:\n",
      "[156]\tvalid_0's l2: 1.07532\n",
      "Training until validation scores don't improve for 50 rounds\n",
      "Early stopping, best iteration is:\n",
      "[165]\tvalid_0's l2: 0.052274\n",
      "Training until validation scores don't improve for 50 rounds\n",
      "Early stopping, best iteration is:\n",
      "[165]\tvalid_0's l2: 0.147681\n",
      "Training until validation scores don't improve for 50 rounds\n"
     ]
    },
    {
     "name": "stderr",
     "output_type": "stream",
     "text": [
      "[I 2025-06-24 01:17:20,448] Trial 25 finished with value: 0.7860806018313382 and parameters: {'num_leaves': 116, 'learning_rate': 0.04385343417235679, 'n_estimators': 473, 'max_depth': 16, 'min_child_samples': 49, 'subsample': 0.9348622023783265, 'colsample_bytree': 0.604115882000828, 'lambda_l1': 0.00036492277136493075, 'lambda_l2': 0.0010595190753290992, 'min_gain_to_split': 0.3802093008207954}. Best is trial 12 with value: 0.6385984837128873.\n"
     ]
    },
    {
     "name": "stdout",
     "output_type": "stream",
     "text": [
      "Early stopping, best iteration is:\n",
      "[168]\tvalid_0's l2: 0.117851\n",
      "Training until validation scores don't improve for 50 rounds\n",
      "Did not meet early stopping. Best iteration is:\n",
      "[408]\tvalid_0's l2: 3.49611\n",
      "Training until validation scores don't improve for 50 rounds\n",
      "Did not meet early stopping. Best iteration is:\n",
      "[408]\tvalid_0's l2: 1.61873\n",
      "Training until validation scores don't improve for 50 rounds\n",
      "Did not meet early stopping. Best iteration is:\n",
      "[408]\tvalid_0's l2: 0.247643\n",
      "Training until validation scores don't improve for 50 rounds\n",
      "Did not meet early stopping. Best iteration is:\n",
      "[408]\tvalid_0's l2: 0.578598\n",
      "Training until validation scores don't improve for 50 rounds\n",
      "Did not meet early stopping. Best iteration is:\n",
      "[408]\tvalid_0's l2: 0.519047\n"
     ]
    },
    {
     "name": "stderr",
     "output_type": "stream",
     "text": [
      "[I 2025-06-24 01:17:21,416] Trial 26 finished with value: 1.0241645479814232 and parameters: {'num_leaves': 67, 'learning_rate': 0.005779731834250292, 'n_estimators': 408, 'max_depth': 5, 'min_child_samples': 5, 'subsample': 0.8115077143383576, 'colsample_bytree': 0.8851010963942005, 'lambda_l1': 8.858907872350916e-05, 'lambda_l2': 3.5372198692571513e-07, 'min_gain_to_split': 0.11957523821105143}. Best is trial 12 with value: 0.6385984837128873.\n"
     ]
    },
    {
     "name": "stdout",
     "output_type": "stream",
     "text": [
      "Training until validation scores don't improve for 50 rounds\n",
      "Early stopping, best iteration is:\n",
      "[340]\tvalid_0's l2: 1.88354\n",
      "Training until validation scores don't improve for 50 rounds\n",
      "Early stopping, best iteration is:\n",
      "[383]\tvalid_0's l2: 0.848184\n",
      "Training until validation scores don't improve for 50 rounds\n",
      "Early stopping, best iteration is:\n",
      "[408]\tvalid_0's l2: 0.0437827\n",
      "Training until validation scores don't improve for 50 rounds\n",
      "Early stopping, best iteration is:\n",
      "[412]\tvalid_0's l2: 0.135128\n",
      "Training until validation scores don't improve for 50 rounds\n"
     ]
    },
    {
     "name": "stderr",
     "output_type": "stream",
     "text": [
      "[I 2025-06-24 01:17:22,858] Trial 27 finished with value: 0.6360458609205742 and parameters: {'num_leaves': 86, 'learning_rate': 0.017783534510394036, 'n_estimators': 490, 'max_depth': 11, 'min_child_samples': 21, 'subsample': 0.7463043285246266, 'colsample_bytree': 0.8105001117843165, 'lambda_l1': 0.0009419040145929839, 'lambda_l2': 3.3269088303598517e-06, 'min_gain_to_split': 0.23804648196702663}. Best is trial 27 with value: 0.6360458609205742.\n"
     ]
    },
    {
     "name": "stdout",
     "output_type": "stream",
     "text": [
      "Early stopping, best iteration is:\n",
      "[405]\tvalid_0's l2: 0.0960978\n",
      "Training until validation scores don't improve for 50 rounds\n",
      "Did not meet early stopping. Best iteration is:\n",
      "[284]\tvalid_0's l2: 2.66758\n",
      "Training until validation scores don't improve for 50 rounds\n",
      "Did not meet early stopping. Best iteration is:\n",
      "[284]\tvalid_0's l2: 1.03111\n",
      "Training until validation scores don't improve for 50 rounds\n",
      "Did not meet early stopping. Best iteration is:\n",
      "[284]\tvalid_0's l2: 0.0507465\n",
      "Training until validation scores don't improve for 50 rounds\n",
      "Did not meet early stopping. Best iteration is:\n",
      "[284]\tvalid_0's l2: 0.148936\n",
      "Training until validation scores don't improve for 50 rounds\n"
     ]
    },
    {
     "name": "stderr",
     "output_type": "stream",
     "text": [
      "[I 2025-06-24 01:17:23,700] Trial 28 finished with value: 0.7182613209541927 and parameters: {'num_leaves': 83, 'learning_rate': 0.019421370239291302, 'n_estimators': 284, 'max_depth': 12, 'min_child_samples': 34, 'subsample': 0.7583890138482996, 'colsample_bytree': 0.7118274322925888, 'lambda_l1': 0.0008735317099395326, 'lambda_l2': 4.4237676603101605e-06, 'min_gain_to_split': 0.5407545387492712}. Best is trial 27 with value: 0.6360458609205742.\n"
     ]
    },
    {
     "name": "stdout",
     "output_type": "stream",
     "text": [
      "Did not meet early stopping. Best iteration is:\n",
      "[284]\tvalid_0's l2: 0.109829\n",
      "Training until validation scores don't improve for 50 rounds\n",
      "Did not meet early stopping. Best iteration is:\n",
      "[422]\tvalid_0's l2: 6.93893\n",
      "Training until validation scores don't improve for 50 rounds\n",
      "Did not meet early stopping. Best iteration is:\n",
      "[422]\tvalid_0's l2: 2.03737\n",
      "Training until validation scores don't improve for 50 rounds\n",
      "Did not meet early stopping. Best iteration is:\n",
      "[422]\tvalid_0's l2: 0.0743204\n",
      "Training until validation scores don't improve for 50 rounds\n",
      "Did not meet early stopping. Best iteration is:\n",
      "[422]\tvalid_0's l2: 0.20949\n",
      "Training until validation scores don't improve for 50 rounds\n"
     ]
    },
    {
     "name": "stderr",
     "output_type": "stream",
     "text": [
      "[I 2025-06-24 01:17:24,684] Trial 29 finished with value: 1.040671204755613 and parameters: {'num_leaves': 58, 'learning_rate': 0.008532842857265247, 'n_estimators': 422, 'max_depth': 16, 'min_child_samples': 86, 'subsample': 0.9209239652430954, 'colsample_bytree': 0.7637719130067979, 'lambda_l1': 0.41677406939852013, 'lambda_l2': 0.00047944384007045756, 'min_gain_to_split': 0.6781839627964905}. Best is trial 27 with value: 0.6360458609205742.\n"
     ]
    },
    {
     "name": "stdout",
     "output_type": "stream",
     "text": [
      "Did not meet early stopping. Best iteration is:\n",
      "[422]\tvalid_0's l2: 0.169322\n",
      "Training until validation scores don't improve for 50 rounds\n",
      "Did not meet early stopping. Best iteration is:\n",
      "[481]\tvalid_0's l2: 11.3519\n",
      "Training until validation scores don't improve for 50 rounds\n",
      "Did not meet early stopping. Best iteration is:\n",
      "[481]\tvalid_0's l2: 11.7598\n",
      "Training until validation scores don't improve for 50 rounds\n",
      "Did not meet early stopping. Best iteration is:\n",
      "[481]\tvalid_0's l2: 2.27182\n",
      "Training until validation scores don't improve for 50 rounds\n",
      "Did not meet early stopping. Best iteration is:\n",
      "[481]\tvalid_0's l2: 5.151\n",
      "Training until validation scores don't improve for 50 rounds\n"
     ]
    },
    {
     "name": "stderr",
     "output_type": "stream",
     "text": [
      "[I 2025-06-24 01:17:26,734] Trial 30 finished with value: 2.5440550033447566 and parameters: {'num_leaves': 69, 'learning_rate': 0.002303183015775189, 'n_estimators': 481, 'max_depth': 7, 'min_child_samples': 20, 'subsample': 0.6430153504994136, 'colsample_bytree': 0.8072744533142242, 'lambda_l1': 1.0921011717152602e-05, 'lambda_l2': 0.00012606309610012063, 'min_gain_to_split': 0.3789534133576882}. Best is trial 27 with value: 0.6360458609205742.\n"
     ]
    },
    {
     "name": "stdout",
     "output_type": "stream",
     "text": [
      "Did not meet early stopping. Best iteration is:\n",
      "[481]\tvalid_0's l2: 4.60065\n",
      "Training until validation scores don't improve for 50 rounds\n",
      "Early stopping, best iteration is:\n",
      "[384]\tvalid_0's l2: 2.36708\n",
      "Training until validation scores don't improve for 50 rounds\n",
      "Did not meet early stopping. Best iteration is:\n",
      "[444]\tvalid_0's l2: 0.656782\n",
      "Training until validation scores don't improve for 50 rounds\n",
      "Did not meet early stopping. Best iteration is:\n",
      "[448]\tvalid_0's l2: 0.0440602\n",
      "Training until validation scores don't improve for 50 rounds\n",
      "Did not meet early stopping. Best iteration is:\n",
      "[447]\tvalid_0's l2: 0.136326\n",
      "Training until validation scores don't improve for 50 rounds\n"
     ]
    },
    {
     "name": "stderr",
     "output_type": "stream",
     "text": [
      "[I 2025-06-24 01:17:28,267] Trial 31 finished with value: 0.6489705595882251 and parameters: {'num_leaves': 102, 'learning_rate': 0.015678864733214126, 'n_estimators': 448, 'max_depth': 10, 'min_child_samples': 11, 'subsample': 0.7139130857292797, 'colsample_bytree': 0.8259296099932084, 'lambda_l1': 0.016475282846854806, 'lambda_l2': 8.904638658753195e-08, 'min_gain_to_split': 0.21980710815036877}. Best is trial 27 with value: 0.6360458609205742.\n"
     ]
    },
    {
     "name": "stdout",
     "output_type": "stream",
     "text": [
      "Did not meet early stopping. Best iteration is:\n",
      "[448]\tvalid_0's l2: 0.100343\n",
      "Training until validation scores don't improve for 50 rounds\n",
      "Early stopping, best iteration is:\n",
      "[177]\tvalid_0's l2: 2.3436\n",
      "Training until validation scores don't improve for 50 rounds\n",
      "Early stopping, best iteration is:\n",
      "[198]\tvalid_0's l2: 0.850747\n",
      "Training until validation scores don't improve for 50 rounds\n",
      "Early stopping, best iteration is:\n",
      "[202]\tvalid_0's l2: 0.0447769\n",
      "Training until validation scores don't improve for 50 rounds\n",
      "Early stopping, best iteration is:\n",
      "[206]\tvalid_0's l2: 0.138631\n",
      "Training until validation scores don't improve for 50 rounds\n",
      "Early stopping, best iteration is:\n",
      "[212]\tvalid_0's l2: 0.0984294\n"
     ]
    },
    {
     "name": "stderr",
     "output_type": "stream",
     "text": [
      "[I 2025-06-24 01:17:28,984] Trial 32 finished with value: 0.6701828465146626 and parameters: {'num_leaves': 120, 'learning_rate': 0.03549616015420234, 'n_estimators': 489, 'max_depth': 10, 'min_child_samples': 23, 'subsample': 0.6623310165237881, 'colsample_bytree': 0.7602640122205347, 'lambda_l1': 0.0004167202512932181, 'lambda_l2': 1.7273950742887e-06, 'min_gain_to_split': 0.261513977184915}. Best is trial 27 with value: 0.6360458609205742.\n"
     ]
    },
    {
     "name": "stdout",
     "output_type": "stream",
     "text": [
      "Training until validation scores don't improve for 50 rounds\n",
      "Early stopping, best iteration is:\n",
      "[254]\tvalid_0's l2: 2.1771\n",
      "Training until validation scores don't improve for 50 rounds\n",
      "Early stopping, best iteration is:\n",
      "[288]\tvalid_0's l2: 0.630207\n",
      "Training until validation scores don't improve for 50 rounds\n",
      "Early stopping, best iteration is:\n",
      "[301]\tvalid_0's l2: 0.0424392\n",
      "Training until validation scores don't improve for 50 rounds\n",
      "Early stopping, best iteration is:\n",
      "[305]\tvalid_0's l2: 0.13555\n",
      "Training until validation scores don't improve for 50 rounds\n"
     ]
    },
    {
     "name": "stderr",
     "output_type": "stream",
     "text": [
      "[I 2025-06-24 01:17:30,233] Trial 33 finished with value: 0.6307842694745225 and parameters: {'num_leaves': 82, 'learning_rate': 0.025375398936243083, 'n_estimators': 449, 'max_depth': 14, 'min_child_samples': 10, 'subsample': 0.7855247382910409, 'colsample_bytree': 0.9029110072462092, 'lambda_l1': 7.188699987697448e-05, 'lambda_l2': 7.43667653350207e-06, 'min_gain_to_split': 0.09511620614968253}. Best is trial 33 with value: 0.6307842694745225.\n"
     ]
    },
    {
     "name": "stdout",
     "output_type": "stream",
     "text": [
      "Early stopping, best iteration is:\n",
      "[311]\tvalid_0's l2: 0.0963393\n",
      "Training until validation scores don't improve for 50 rounds\n",
      "Did not meet early stopping. Best iteration is:\n",
      "[446]\tvalid_0's l2: 4.97985\n",
      "Training until validation scores don't improve for 50 rounds\n",
      "Did not meet early stopping. Best iteration is:\n",
      "[450]\tvalid_0's l2: 1.21861\n",
      "Training until validation scores don't improve for 50 rounds\n",
      "Early stopping, best iteration is:\n",
      "[278]\tvalid_0's l2: 0.0406299\n",
      "Training until validation scores don't improve for 50 rounds\n",
      "Did not meet early stopping. Best iteration is:\n",
      "[446]\tvalid_0's l2: 0.140482\n",
      "Training until validation scores don't improve for 50 rounds\n",
      "Early stopping, best iteration is:\n",
      "[272]\tvalid_0's l2: 0.11075\n"
     ]
    },
    {
     "name": "stderr",
     "output_type": "stream",
     "text": [
      "[I 2025-06-24 01:17:31,227] Trial 34 finished with value: 0.848927128133339 and parameters: {'num_leaves': 79, 'learning_rate': 0.02914232676748253, 'n_estimators': 450, 'max_depth': 15, 'min_child_samples': 75, 'subsample': 0.7838153620750608, 'colsample_bytree': 0.8871552140284213, 'lambda_l1': 8.017273536260465e-06, 'lambda_l2': 1.1229590856703093e-05, 'min_gain_to_split': 0.09932773518042882}. Best is trial 33 with value: 0.6307842694745225.\n"
     ]
    },
    {
     "name": "stdout",
     "output_type": "stream",
     "text": [
      "Training until validation scores don't improve for 50 rounds\n",
      "Early stopping, best iteration is:\n",
      "[282]\tvalid_0's l2: 2.43004\n",
      "Training until validation scores don't improve for 50 rounds\n",
      "Early stopping, best iteration is:\n",
      "[194]\tvalid_0's l2: 0.92237\n",
      "Training until validation scores don't improve for 50 rounds\n",
      "Early stopping, best iteration is:\n",
      "[187]\tvalid_0's l2: 0.0424516\n",
      "Training until validation scores don't improve for 50 rounds\n",
      "Early stopping, best iteration is:\n",
      "[195]\tvalid_0's l2: 0.140702\n",
      "Training until validation scores don't improve for 50 rounds\n"
     ]
    },
    {
     "name": "stderr",
     "output_type": "stream",
     "text": [
      "[I 2025-06-24 01:17:32,060] Trial 35 finished with value: 0.6799946762869089 and parameters: {'num_leaves': 87, 'learning_rate': 0.04255988005788381, 'n_estimators': 477, 'max_depth': 19, 'min_child_samples': 32, 'subsample': 0.8413576979283286, 'colsample_bytree': 0.9746266280908085, 'lambda_l1': 2.820925901683676e-07, 'lambda_l2': 5.3893582299781e-05, 'min_gain_to_split': 0.06316384172828164}. Best is trial 33 with value: 0.6307842694745225.\n"
     ]
    },
    {
     "name": "stdout",
     "output_type": "stream",
     "text": [
      "Early stopping, best iteration is:\n",
      "[187]\tvalid_0's l2: 0.0897444\n",
      "Training until validation scores don't improve for 50 rounds\n",
      "Early stopping, best iteration is:\n",
      "[92]\tvalid_0's l2: 2.30548\n",
      "Training until validation scores don't improve for 50 rounds\n",
      "Early stopping, best iteration is:\n",
      "[107]\tvalid_0's l2: 0.630723\n",
      "Training until validation scores don't improve for 50 rounds\n",
      "Early stopping, best iteration is:\n",
      "[113]\tvalid_0's l2: 0.0443801\n",
      "Training until validation scores don't improve for 50 rounds\n",
      "Early stopping, best iteration is:\n",
      "[113]\tvalid_0's l2: 0.138276\n",
      "Training until validation scores don't improve for 50 rounds\n"
     ]
    },
    {
     "name": "stderr",
     "output_type": "stream",
     "text": [
      "[I 2025-06-24 01:17:32,596] Trial 36 finished with value: 0.64238916030526 and parameters: {'num_leaves': 95, 'learning_rate': 0.06599048177215476, 'n_estimators': 424, 'max_depth': 12, 'min_child_samples': 11, 'subsample': 0.7499008769575303, 'colsample_bytree': 0.741297726994202, 'lambda_l1': 5.264604678236927e-05, 'lambda_l2': 0.0004030942449945409, 'min_gain_to_split': 0.1490819864072864}. Best is trial 33 with value: 0.6307842694745225.\n"
     ]
    },
    {
     "name": "stdout",
     "output_type": "stream",
     "text": [
      "Early stopping, best iteration is:\n",
      "[112]\tvalid_0's l2: 0.100402\n",
      "Training until validation scores don't improve for 50 rounds\n",
      "Did not meet early stopping. Best iteration is:\n",
      "[230]\tvalid_0's l2: 4.87539\n",
      "Training until validation scores don't improve for 50 rounds\n",
      "Did not meet early stopping. Best iteration is:\n",
      "[230]\tvalid_0's l2: 1.41301\n",
      "Training until validation scores don't improve for 50 rounds\n",
      "Did not meet early stopping. Best iteration is:\n",
      "[230]\tvalid_0's l2: 0.042811\n",
      "Training until validation scores don't improve for 50 rounds\n",
      "Did not meet early stopping. Best iteration is:\n",
      "[230]\tvalid_0's l2: 0.151612\n",
      "Training until validation scores don't improve for 50 rounds\n",
      "Did not meet early stopping. Best iteration is:\n",
      "[230]\tvalid_0's l2: 0.107984\n"
     ]
    },
    {
     "name": "stderr",
     "output_type": "stream",
     "text": [
      "[I 2025-06-24 01:17:33,292] Trial 37 finished with value: 0.864323808992484 and parameters: {'num_leaves': 60, 'learning_rate': 0.021714279605210017, 'n_estimators': 230, 'max_depth': 18, 'min_child_samples': 60, 'subsample': 0.5945179321111822, 'colsample_bytree': 0.9411535223049281, 'lambda_l1': 0.0008250056309736615, 'lambda_l2': 5.562818898748357e-06, 'min_gain_to_split': 0.36924184571668867}. Best is trial 33 with value: 0.6307842694745225.\n"
     ]
    },
    {
     "name": "stdout",
     "output_type": "stream",
     "text": [
      "Training until validation scores don't improve for 50 rounds\n",
      "Did not meet early stopping. Best iteration is:\n",
      "[318]\tvalid_0's l2: 4.90192\n",
      "Training until validation scores don't improve for 50 rounds\n",
      "Did not meet early stopping. Best iteration is:\n",
      "[318]\tvalid_0's l2: 1.93412\n",
      "Training until validation scores don't improve for 50 rounds\n",
      "Did not meet early stopping. Best iteration is:\n",
      "[318]\tvalid_0's l2: 0.100922\n",
      "Training until validation scores don't improve for 50 rounds\n",
      "Did not meet early stopping. Best iteration is:\n",
      "[318]\tvalid_0's l2: 0.289656\n",
      "Training until validation scores don't improve for 50 rounds\n"
     ]
    },
    {
     "name": "stderr",
     "output_type": "stream",
     "text": [
      "[I 2025-06-24 01:17:34,548] Trial 38 finished with value: 0.989194449536865 and parameters: {'num_leaves': 74, 'learning_rate': 0.009228726814744797, 'n_estimators': 318, 'max_depth': 23, 'min_child_samples': 46, 'subsample': 0.7918519192033668, 'colsample_bytree': 0.9080911269402814, 'lambda_l1': 0.07056030424099079, 'lambda_l2': 3.071416674314077e-08, 'min_gain_to_split': 0.0532533433763035}. Best is trial 33 with value: 0.6307842694745225.\n"
     ]
    },
    {
     "name": "stdout",
     "output_type": "stream",
     "text": [
      "Did not meet early stopping. Best iteration is:\n",
      "[318]\tvalid_0's l2: 0.235553\n",
      "Training until validation scores don't improve for 50 rounds\n",
      "Early stopping, best iteration is:\n",
      "[215]\tvalid_0's l2: 1.97472\n",
      "Training until validation scores don't improve for 50 rounds\n",
      "Early stopping, best iteration is:\n",
      "[240]\tvalid_0's l2: 0.852297\n",
      "Training until validation scores don't improve for 50 rounds\n",
      "Early stopping, best iteration is:\n",
      "[253]\tvalid_0's l2: 0.0416292\n",
      "Training until validation scores don't improve for 50 rounds\n",
      "Early stopping, best iteration is:\n",
      "[260]\tvalid_0's l2: 0.133051\n",
      "Training until validation scores don't improve for 50 rounds\n",
      "Early stopping, best iteration is:\n",
      "[275]\tvalid_0's l2: 0.091795\n"
     ]
    },
    {
     "name": "stderr",
     "output_type": "stream",
     "text": [
      "[I 2025-06-24 01:17:35,229] Trial 39 finished with value: 0.6400436204070917 and parameters: {'num_leaves': 82, 'learning_rate': 0.02913422983487542, 'n_estimators': 459, 'max_depth': 6, 'min_child_samples': 17, 'subsample': 0.8319270754616839, 'colsample_bytree': 0.9104784955026488, 'lambda_l1': 6.920169192221498e-06, 'lambda_l2': 4.5541731662521047e-07, 'min_gain_to_split': 0.15465250892032578}. Best is trial 33 with value: 0.6307842694745225.\n"
     ]
    },
    {
     "name": "stdout",
     "output_type": "stream",
     "text": [
      "Training until validation scores don't improve for 50 rounds\n",
      "Early stopping, best iteration is:\n",
      "[130]\tvalid_0's l2: 6.57218\n",
      "Training until validation scores don't improve for 50 rounds\n",
      "Early stopping, best iteration is:\n",
      "[104]\tvalid_0's l2: 1.66711\n",
      "Training until validation scores don't improve for 50 rounds\n"
     ]
    },
    {
     "name": "stderr",
     "output_type": "stream",
     "text": [
      "[I 2025-06-24 01:17:35,582] Trial 40 finished with value: 0.9605635523438393 and parameters: {'num_leaves': 27, 'learning_rate': 0.0636269639422831, 'n_estimators': 367, 'max_depth': 6, 'min_child_samples': 100, 'subsample': 0.907577507517104, 'colsample_bytree': 0.9111976866645036, 'lambda_l1': 1.1299694981518293e-08, 'lambda_l2': 5.311573121942575e-07, 'min_gain_to_split': 0.6179349643744911}. Best is trial 33 with value: 0.6307842694745225.\n"
     ]
    },
    {
     "name": "stdout",
     "output_type": "stream",
     "text": [
      "Early stopping, best iteration is:\n",
      "[108]\tvalid_0's l2: 0.0435587\n",
      "Training until validation scores don't improve for 50 rounds\n",
      "Early stopping, best iteration is:\n",
      "[110]\tvalid_0's l2: 0.156638\n",
      "Training until validation scores don't improve for 50 rounds\n",
      "Early stopping, best iteration is:\n",
      "[111]\tvalid_0's l2: 0.118022\n",
      "Training until validation scores don't improve for 50 rounds\n",
      "Early stopping, best iteration is:\n",
      "[201]\tvalid_0's l2: 2.05299\n",
      "Training until validation scores don't improve for 50 rounds\n",
      "Early stopping, best iteration is:\n",
      "[228]\tvalid_0's l2: 0.826472\n",
      "Training until validation scores don't improve for 50 rounds\n",
      "Early stopping, best iteration is:\n",
      "[240]\tvalid_0's l2: 0.0421636\n",
      "Training until validation scores don't improve for 50 rounds\n",
      "Early stopping, best iteration is:\n",
      "[244]\tvalid_0's l2: 0.134121\n",
      "Training until validation scores don't improve for 50 rounds\n",
      "Early stopping, best iteration is:\n",
      "[247]\tvalid_0's l2: 0.0922083\n"
     ]
    },
    {
     "name": "stderr",
     "output_type": "stream",
     "text": [
      "[I 2025-06-24 01:17:36,412] Trial 41 finished with value: 0.6434301844969685 and parameters: {'num_leaves': 80, 'learning_rate': 0.0309683386615902, 'n_estimators': 450, 'max_depth': 7, 'min_child_samples': 17, 'subsample': 0.7544456895634465, 'colsample_bytree': 0.8624488399290483, 'lambda_l1': 3.5860964439318326e-06, 'lambda_l2': 0.005441777540981844, 'min_gain_to_split': 0.15584082119972564}. Best is trial 33 with value: 0.6307842694745225.\n"
     ]
    },
    {
     "name": "stdout",
     "output_type": "stream",
     "text": [
      "Training until validation scores don't improve for 50 rounds\n",
      "Early stopping, best iteration is:\n",
      "[341]\tvalid_0's l2: 2.33996\n",
      "Training until validation scores don't improve for 50 rounds\n",
      "Early stopping, best iteration is:\n",
      "[368]\tvalid_0's l2: 0.875749\n",
      "Training until validation scores don't improve for 50 rounds\n",
      "Early stopping, best iteration is:\n",
      "[386]\tvalid_0's l2: 0.0419568\n",
      "Training until validation scores don't improve for 50 rounds\n",
      "Early stopping, best iteration is:\n",
      "[397]\tvalid_0's l2: 0.136388\n",
      "Training until validation scores don't improve for 50 rounds\n",
      "Early stopping, best iteration is:\n",
      "[407]\tvalid_0's l2: 0.092772\n"
     ]
    },
    {
     "name": "stderr",
     "output_type": "stream",
     "text": [
      "[I 2025-06-24 01:17:37,358] Trial 42 finished with value: 0.6688465403333741 and parameters: {'num_leaves': 72, 'learning_rate': 0.01843113267655659, 'n_estimators': 465, 'max_depth': 6, 'min_child_samples': 24, 'subsample': 0.826456865258978, 'colsample_bytree': 0.9654231000191542, 'lambda_l1': 4.952039240220727e-06, 'lambda_l2': 8.829056172878408e-08, 'min_gain_to_split': 0.2635152796244826}. Best is trial 33 with value: 0.6307842694745225.\n"
     ]
    },
    {
     "name": "stdout",
     "output_type": "stream",
     "text": [
      "Training until validation scores don't improve for 50 rounds\n",
      "Did not meet early stopping. Best iteration is:\n",
      "[483]\tvalid_0's l2: 3.22927\n",
      "Training until validation scores don't improve for 50 rounds\n",
      "Did not meet early stopping. Best iteration is:\n",
      "[483]\tvalid_0's l2: 1.45054\n",
      "Training until validation scores don't improve for 50 rounds\n",
      "Did not meet early stopping. Best iteration is:\n",
      "[483]\tvalid_0's l2: 0.0824308\n",
      "Training until validation scores don't improve for 50 rounds\n",
      "Did not meet early stopping. Best iteration is:\n",
      "[483]\tvalid_0's l2: 0.234957\n",
      "Training until validation scores don't improve for 50 rounds\n"
     ]
    },
    {
     "name": "stderr",
     "output_type": "stream",
     "text": [
      "[I 2025-06-24 01:17:39,388] Trial 43 finished with value: 0.8411616804199685 and parameters: {'num_leaves': 52, 'learning_rate': 0.006631026500783554, 'n_estimators': 483, 'max_depth': 9, 'min_child_samples': 29, 'subsample': 0.6895542537633048, 'colsample_bytree': 0.9205010588554077, 'lambda_l1': 3.9861421879734943e-07, 'lambda_l2': 4.561208109172432e-05, 'min_gain_to_split': 0.08913480110817927}. Best is trial 33 with value: 0.6307842694745225.\n"
     ]
    },
    {
     "name": "stdout",
     "output_type": "stream",
     "text": [
      "Did not meet early stopping. Best iteration is:\n",
      "[483]\tvalid_0's l2: 0.187122\n",
      "Training until validation scores don't improve for 50 rounds\n",
      "Early stopping, best iteration is:\n",
      "[108]\tvalid_0's l2: 2.25426\n",
      "Training until validation scores don't improve for 50 rounds\n",
      "Early stopping, best iteration is:\n",
      "[121]\tvalid_0's l2: 0.650975\n",
      "Training until validation scores don't improve for 50 rounds\n",
      "Early stopping, best iteration is:\n",
      "[129]\tvalid_0's l2: 0.0451001\n",
      "Training until validation scores don't improve for 50 rounds\n",
      "Early stopping, best iteration is:\n",
      "[131]\tvalid_0's l2: 0.139088\n",
      "Training until validation scores don't improve for 50 rounds\n"
     ]
    },
    {
     "name": "stderr",
     "output_type": "stream",
     "text": [
      "[I 2025-06-24 01:17:39,819] Trial 44 finished with value: 0.6431124126283334 and parameters: {'num_leaves': 84, 'learning_rate': 0.05503696930184569, 'n_estimators': 438, 'max_depth': 11, 'min_child_samples': 9, 'subsample': 0.7395273801513902, 'colsample_bytree': 0.791191043256284, 'lambda_l1': 8.159180018660325e-07, 'lambda_l2': 1.494167900266177e-05, 'min_gain_to_split': 0.331531518402299}. Best is trial 33 with value: 0.6307842694745225.\n"
     ]
    },
    {
     "name": "stdout",
     "output_type": "stream",
     "text": [
      "Early stopping, best iteration is:\n",
      "[131]\tvalid_0's l2: 0.103684\n",
      "Training until validation scores don't improve for 50 rounds\n",
      "Early stopping, best iteration is:\n",
      "[219]\tvalid_0's l2: 2.76969\n",
      "Training until validation scores don't improve for 50 rounds\n",
      "Early stopping, best iteration is:\n",
      "[288]\tvalid_0's l2: 0.80341\n",
      "Training until validation scores don't improve for 50 rounds\n",
      "Early stopping, best iteration is:\n",
      "[234]\tvalid_0's l2: 0.0427813\n",
      "Training until validation scores don't improve for 50 rounds\n",
      "Early stopping, best iteration is:\n",
      "[309]\tvalid_0's l2: 0.139219\n",
      "Training until validation scores don't improve for 50 rounds\n"
     ]
    },
    {
     "name": "stderr",
     "output_type": "stream",
     "text": [
      "[I 2025-06-24 01:17:41,425] Trial 45 finished with value: 0.6879966888886456 and parameters: {'num_leaves': 93, 'learning_rate': 0.02660307098940816, 'n_estimators': 408, 'max_depth': 14, 'min_child_samples': 16, 'subsample': 0.9516519818571033, 'colsample_bytree': 0.9992156643324321, 'lambda_l1': 6.415670729390792e-05, 'lambda_l2': 1.8529489861706733e-07, 'min_gain_to_split': 0.029564600698359395}. Best is trial 33 with value: 0.6307842694745225.\n"
     ]
    },
    {
     "name": "stdout",
     "output_type": "stream",
     "text": [
      "Early stopping, best iteration is:\n",
      "[327]\tvalid_0's l2: 0.0896741\n",
      "Training until validation scores don't improve for 50 rounds\n",
      "Early stopping, best iteration is:\n",
      "[167]\tvalid_0's l2: 2.27258\n",
      "Training until validation scores don't improve for 50 rounds\n",
      "Early stopping, best iteration is:\n",
      "[196]\tvalid_0's l2: 0.632095\n",
      "Training until validation scores don't improve for 50 rounds\n",
      "Early stopping, best iteration is:\n",
      "[209]\tvalid_0's l2: 0.0422709\n",
      "Training until validation scores don't improve for 50 rounds\n",
      "Early stopping, best iteration is:\n",
      "[224]\tvalid_0's l2: 0.137356\n",
      "Training until validation scores don't improve for 50 rounds\n"
     ]
    },
    {
     "name": "stderr",
     "output_type": "stream",
     "text": [
      "[I 2025-06-24 01:17:41,913] Trial 46 finished with value: 0.636554679482662 and parameters: {'num_leaves': 100, 'learning_rate': 0.037979481120997055, 'n_estimators': 324, 'max_depth': 5, 'min_child_samples': 10, 'subsample': 0.8875592783481626, 'colsample_bytree': 0.9477175896950627, 'lambda_l1': 1.4454688774865369e-05, 'lambda_l2': 2.824660598841029e-06, 'min_gain_to_split': 0.16634314686159735}. Best is trial 33 with value: 0.6307842694745225.\n"
     ]
    },
    {
     "name": "stdout",
     "output_type": "stream",
     "text": [
      "Early stopping, best iteration is:\n",
      "[252]\tvalid_0's l2: 0.0924205\n",
      "Training until validation scores don't improve for 50 rounds\n",
      "Early stopping, best iteration is:\n",
      "[154]\tvalid_0's l2: 2.32047\n",
      "Training until validation scores don't improve for 50 rounds\n",
      "Early stopping, best iteration is:\n",
      "[182]\tvalid_0's l2: 0.637921\n",
      "Training until validation scores don't improve for 50 rounds\n",
      "Early stopping, best iteration is:\n",
      "[194]\tvalid_0's l2: 0.0428891\n",
      "Training until validation scores don't improve for 50 rounds\n",
      "Early stopping, best iteration is:\n",
      "[202]\tvalid_0's l2: 0.137863\n",
      "Training until validation scores don't improve for 50 rounds\n",
      "Early stopping, best iteration is:\n",
      "[228]\tvalid_0's l2: 0.0941295\n"
     ]
    },
    {
     "name": "stderr",
     "output_type": "stream",
     "text": [
      "[I 2025-06-24 01:17:42,377] Trial 47 finished with value: 0.6414423053260985 and parameters: {'num_leaves': 103, 'learning_rate': 0.038439446217300485, 'n_estimators': 331, 'max_depth': 5, 'min_child_samples': 11, 'subsample': 0.8819308954010265, 'colsample_bytree': 0.9445748309969246, 'lambda_l1': 1.458983234245963e-05, 'lambda_l2': 6.98912611503658e-07, 'min_gain_to_split': 0.242776283126294}. Best is trial 33 with value: 0.6307842694745225.\n"
     ]
    },
    {
     "name": "stdout",
     "output_type": "stream",
     "text": [
      "Training until validation scores don't improve for 50 rounds\n",
      "Early stopping, best iteration is:\n",
      "[111]\tvalid_0's l2: 2.3122\n",
      "Training until validation scores don't improve for 50 rounds\n",
      "Early stopping, best iteration is:\n",
      "[129]\tvalid_0's l2: 0.649481\n",
      "Training until validation scores don't improve for 50 rounds\n",
      "Early stopping, best iteration is:\n",
      "[136]\tvalid_0's l2: 0.0416982\n",
      "Training until validation scores don't improve for 50 rounds\n",
      "Early stopping, best iteration is:\n",
      "[137]\tvalid_0's l2: 0.136404\n",
      "Training until validation scores don't improve for 50 rounds\n"
     ]
    },
    {
     "name": "stderr",
     "output_type": "stream",
     "text": [
      "[I 2025-06-24 01:17:42,883] Trial 48 finished with value: 0.6417357846559144 and parameters: {'num_leaves': 124, 'learning_rate': 0.052383128399028145, 'n_estimators': 312, 'max_depth': 6, 'min_child_samples': 9, 'subsample': 0.8308557093429573, 'colsample_bytree': 0.9282714656660052, 'lambda_l1': 1.839430922956082e-06, 'lambda_l2': 3.87122388676559e-06, 'min_gain_to_split': 0.2930117671904462}. Best is trial 33 with value: 0.6307842694745225.\n"
     ]
    },
    {
     "name": "stdout",
     "output_type": "stream",
     "text": [
      "Early stopping, best iteration is:\n",
      "[142]\tvalid_0's l2: 0.0952667\n",
      "Training until validation scores don't improve for 50 rounds\n",
      "Early stopping, best iteration is:\n",
      "[258]\tvalid_0's l2: 2.55119\n",
      "Training until validation scores don't improve for 50 rounds\n",
      "Early stopping, best iteration is:\n",
      "[287]\tvalid_0's l2: 0.918167\n",
      "Training until validation scores don't improve for 50 rounds\n",
      "Did not meet early stopping. Best iteration is:\n",
      "[305]\tvalid_0's l2: 0.0544026\n",
      "Training until validation scores don't improve for 50 rounds\n",
      "Did not meet early stopping. Best iteration is:\n",
      "[311]\tvalid_0's l2: 0.144433\n",
      "Training until validation scores don't improve for 50 rounds\n"
     ]
    },
    {
     "name": "stderr",
     "output_type": "stream",
     "text": [
      "[I 2025-06-24 01:17:43,663] Trial 49 finished with value: 0.6995973142532012 and parameters: {'num_leaves': 98, 'learning_rate': 0.02230838622455594, 'n_estimators': 352, 'max_depth': 7, 'min_child_samples': 22, 'subsample': 0.8666634976856059, 'colsample_bytree': 0.6934044733530392, 'lambda_l1': 0.0025135212592407555, 'lambda_l2': 2.2130719191806083, 'min_gain_to_split': 0.9428372835036218}. Best is trial 33 with value: 0.6307842694745225.\n"
     ]
    },
    {
     "name": "stdout",
     "output_type": "stream",
     "text": [
      "Did not meet early stopping. Best iteration is:\n",
      "[313]\tvalid_0's l2: 0.108403\n",
      "Training until validation scores don't improve for 50 rounds\n",
      "Early stopping, best iteration is:\n",
      "[91]\tvalid_0's l2: 2.28147\n",
      "Training until validation scores don't improve for 50 rounds\n",
      "Early stopping, best iteration is:\n",
      "[86]\tvalid_0's l2: 0.901018\n",
      "Training until validation scores don't improve for 50 rounds\n",
      "Early stopping, best iteration is:\n",
      "[84]\tvalid_0's l2: 0.0434147\n",
      "Training until validation scores don't improve for 50 rounds\n",
      "Early stopping, best iteration is:\n",
      "[89]\tvalid_0's l2: 0.142255\n",
      "Training until validation scores don't improve for 50 rounds\n",
      "Early stopping, best iteration is:\n",
      "[92]\tvalid_0's l2: 0.0928496\n"
     ]
    },
    {
     "name": "stderr",
     "output_type": "stream",
     "text": [
      "[I 2025-06-24 01:17:44,065] Trial 50 finished with value: 0.669982745300338 and parameters: {'num_leaves': 107, 'learning_rate': 0.08167770587873188, 'n_estimators': 283, 'max_depth': 25, 'min_child_samples': 28, 'subsample': 0.900274535722557, 'colsample_bytree': 0.9574044766027017, 'lambda_l1': 0.006366806187687218, 'lambda_l2': 1.072205234856023e-06, 'min_gain_to_split': 0.16000050958587153}. Best is trial 33 with value: 0.6307842694745225.\n"
     ]
    },
    {
     "name": "stdout",
     "output_type": "stream",
     "text": [
      "Training until validation scores don't improve for 50 rounds\n",
      "Did not meet early stopping. Best iteration is:\n",
      "[304]\tvalid_0's l2: 2.12368\n",
      "Training until validation scores don't improve for 50 rounds\n",
      "Did not meet early stopping. Best iteration is:\n",
      "[305]\tvalid_0's l2: 0.769971\n",
      "Training until validation scores don't improve for 50 rounds\n",
      "Did not meet early stopping. Best iteration is:\n",
      "[305]\tvalid_0's l2: 0.0468869\n",
      "Training until validation scores don't improve for 50 rounds\n",
      "Did not meet early stopping. Best iteration is:\n",
      "[305]\tvalid_0's l2: 0.14065\n",
      "Training until validation scores don't improve for 50 rounds\n"
     ]
    },
    {
     "name": "stderr",
     "output_type": "stream",
     "text": [
      "[I 2025-06-24 01:17:45,669] Trial 51 finished with value: 0.6496184399891142 and parameters: {'num_leaves': 92, 'learning_rate': 0.01544885554656705, 'n_estimators': 305, 'max_depth': 9, 'min_child_samples': 14, 'subsample': 0.7980398419494308, 'colsample_bytree': 0.8525899065798211, 'lambda_l1': 9.508457402718416e-05, 'lambda_l2': 8.845868223584433e-06, 'min_gain_to_split': 0.10831047640346567}. Best is trial 33 with value: 0.6307842694745225.\n"
     ]
    },
    {
     "name": "stdout",
     "output_type": "stream",
     "text": [
      "Did not meet early stopping. Best iteration is:\n",
      "[305]\tvalid_0's l2: 0.103529\n",
      "Training until validation scores don't improve for 50 rounds\n",
      "Did not meet early stopping. Best iteration is:\n",
      "[349]\tvalid_0's l2: 2.24507\n",
      "Training until validation scores don't improve for 50 rounds\n",
      "Did not meet early stopping. Best iteration is:\n",
      "[349]\tvalid_0's l2: 1.10542\n",
      "Training until validation scores don't improve for 50 rounds\n",
      "Did not meet early stopping. Best iteration is:\n",
      "[349]\tvalid_0's l2: 0.0693409\n",
      "Training until validation scores don't improve for 50 rounds\n",
      "Did not meet early stopping. Best iteration is:\n",
      "[349]\tvalid_0's l2: 0.187267\n",
      "Training until validation scores don't improve for 50 rounds\n",
      "Did not meet early stopping. Best iteration is:\n",
      "[349]\tvalid_0's l2: 0.152907\n"
     ]
    },
    {
     "name": "stderr",
     "output_type": "stream",
     "text": [
      "[I 2025-06-24 01:17:46,471] Trial 52 finished with value: 0.7273695556865233 and parameters: {'num_leaves': 89, 'learning_rate': 0.01040927011472974, 'n_estimators': 349, 'max_depth': 5, 'min_child_samples': 19, 'subsample': 0.7695034659510357, 'colsample_bytree': 0.8987719903791398, 'lambda_l1': 2.0751126796263703e-05, 'lambda_l2': 1.8475076760145185e-05, 'min_gain_to_split': 0.17424810222372492}. Best is trial 33 with value: 0.6307842694745225.\n"
     ]
    },
    {
     "name": "stdout",
     "output_type": "stream",
     "text": [
      "Training until validation scores don't improve for 50 rounds\n",
      "Early stopping, best iteration is:\n",
      "[203]\tvalid_0's l2: 2.12868\n",
      "Training until validation scores don't improve for 50 rounds\n",
      "Early stopping, best iteration is:\n",
      "[235]\tvalid_0's l2: 0.654991\n",
      "Training until validation scores don't improve for 50 rounds\n",
      "Early stopping, best iteration is:\n",
      "[245]\tvalid_0's l2: 0.043109\n",
      "Training until validation scores don't improve for 50 rounds\n",
      "Early stopping, best iteration is:\n",
      "[248]\tvalid_0's l2: 0.137727\n",
      "Training until validation scores don't improve for 50 rounds\n"
     ]
    },
    {
     "name": "stderr",
     "output_type": "stream",
     "text": [
      "[I 2025-06-24 01:17:47,402] Trial 53 finished with value: 0.632214307282314 and parameters: {'num_leaves': 85, 'learning_rate': 0.02960692942414928, 'n_estimators': 333, 'max_depth': 8, 'min_child_samples': 8, 'subsample': 0.8622873820141562, 'colsample_bytree': 0.8132042054180728, 'lambda_l1': 0.0016326628939326618, 'lambda_l2': 0.0001626925140214481, 'min_gain_to_split': 0.22315862480888163}. Best is trial 33 with value: 0.6307842694745225.\n"
     ]
    },
    {
     "name": "stdout",
     "output_type": "stream",
     "text": [
      "Early stopping, best iteration is:\n",
      "[254]\tvalid_0's l2: 0.0986041\n",
      "Training until validation scores don't improve for 50 rounds\n",
      "Early stopping, best iteration is:\n",
      "[216]\tvalid_0's l2: 2.2702\n",
      "Training until validation scores don't improve for 50 rounds\n",
      "Early stopping, best iteration is:\n",
      "[243]\tvalid_0's l2: 0.642191\n",
      "Training until validation scores don't improve for 50 rounds\n",
      "Early stopping, best iteration is:\n",
      "[256]\tvalid_0's l2: 0.0440617\n",
      "Training until validation scores don't improve for 50 rounds\n",
      "Early stopping, best iteration is:\n",
      "[260]\tvalid_0's l2: 0.136615\n",
      "Training until validation scores don't improve for 50 rounds\n"
     ]
    },
    {
     "name": "stderr",
     "output_type": "stream",
     "text": [
      "[I 2025-06-24 01:17:48,464] Trial 54 finished with value: 0.6403952155536528 and parameters: {'num_leaves': 83, 'learning_rate': 0.030529954196164798, 'n_estimators': 336, 'max_depth': 8, 'min_child_samples': 9, 'subsample': 0.8612009121834319, 'colsample_bytree': 0.7826301120824719, 'lambda_l1': 0.000536333982719037, 'lambda_l2': 2.2645293490329374e-06, 'min_gain_to_split': 0.07160531351616894}. Best is trial 33 with value: 0.6307842694745225.\n"
     ]
    },
    {
     "name": "stdout",
     "output_type": "stream",
     "text": [
      "Early stopping, best iteration is:\n",
      "[265]\tvalid_0's l2: 0.0988257\n",
      "Training until validation scores don't improve for 50 rounds\n",
      "Early stopping, best iteration is:\n",
      "[243]\tvalid_0's l2: 2.20293\n",
      "Training until validation scores don't improve for 50 rounds\n",
      "Early stopping, best iteration is:\n",
      "[276]\tvalid_0's l2: 0.659749\n",
      "Training until validation scores don't improve for 50 rounds\n",
      "Early stopping, best iteration is:\n",
      "[290]\tvalid_0's l2: 0.0429243\n",
      "Training until validation scores don't improve for 50 rounds\n",
      "Early stopping, best iteration is:\n",
      "[298]\tvalid_0's l2: 0.136982\n",
      "Training until validation scores don't improve for 50 rounds\n",
      "Early stopping, best iteration is:\n",
      "[304]\tvalid_0's l2: 0.0976627\n"
     ]
    },
    {
     "name": "stderr",
     "output_type": "stream",
     "text": [
      "[I 2025-06-24 01:17:49,221] Trial 55 finished with value: 0.6372557600094862 and parameters: {'num_leaves': 78, 'learning_rate': 0.024660549868097546, 'n_estimators': 378, 'max_depth': 6, 'min_child_samples': 8, 'subsample': 0.8395739978083339, 'colsample_bytree': 0.8233154780394489, 'lambda_l1': 0.001869968607303107, 'lambda_l2': 1.0681947384778526e-08, 'min_gain_to_split': 0.290434788403536}. Best is trial 33 with value: 0.6307842694745225.\n"
     ]
    },
    {
     "name": "stdout",
     "output_type": "stream",
     "text": [
      "Training until validation scores don't improve for 50 rounds\n",
      "Early stopping, best iteration is:\n",
      "[242]\tvalid_0's l2: 2.21842\n",
      "Training until validation scores don't improve for 50 rounds\n",
      "Early stopping, best iteration is:\n",
      "[277]\tvalid_0's l2: 0.678803\n",
      "Training until validation scores don't improve for 50 rounds\n",
      "Early stopping, best iteration is:\n",
      "[293]\tvalid_0's l2: 0.0439621\n",
      "Training until validation scores don't improve for 50 rounds\n",
      "Early stopping, best iteration is:\n",
      "[298]\tvalid_0's l2: 0.138959\n",
      "Training until validation scores don't improve for 50 rounds\n"
     ]
    },
    {
     "name": "stderr",
     "output_type": "stream",
     "text": [
      "[I 2025-06-24 01:17:50,215] Trial 56 finished with value: 0.6424469441026066 and parameters: {'num_leaves': 76, 'learning_rate': 0.024224050709481117, 'n_estimators': 373, 'max_depth': 12, 'min_child_samples': 9, 'subsample': 0.9506177725933355, 'colsample_bytree': 0.8131857795343334, 'lambda_l1': 0.001962587475580123, 'lambda_l2': 1.032264008138724e-08, 'min_gain_to_split': 0.3388338284884866}. Best is trial 33 with value: 0.6307842694745225.\n"
     ]
    },
    {
     "name": "stdout",
     "output_type": "stream",
     "text": [
      "Early stopping, best iteration is:\n",
      "[302]\tvalid_0's l2: 0.100146\n",
      "Training until validation scores don't improve for 50 rounds\n",
      "Early stopping, best iteration is:\n",
      "[318]\tvalid_0's l2: 2.13972\n",
      "Training until validation scores don't improve for 50 rounds\n",
      "Did not meet early stopping. Best iteration is:\n",
      "[366]\tvalid_0's l2: 0.657061\n",
      "Training until validation scores don't improve for 50 rounds\n",
      "Did not meet early stopping. Best iteration is:\n",
      "[383]\tvalid_0's l2: 0.0454417\n",
      "Training until validation scores don't improve for 50 rounds\n",
      "Did not meet early stopping. Best iteration is:\n",
      "[383]\tvalid_0's l2: 0.139389\n",
      "Training until validation scores don't improve for 50 rounds\n"
     ]
    },
    {
     "name": "stderr",
     "output_type": "stream",
     "text": [
      "[I 2025-06-24 01:17:51,221] Trial 57 finished with value: 0.6354066377465368 and parameters: {'num_leaves': 71, 'learning_rate': 0.01809068883254927, 'n_estimators': 383, 'max_depth': 8, 'min_child_samples': 6, 'subsample': 0.9008525101538574, 'colsample_bytree': 0.8011978780109671, 'lambda_l1': 0.010920315425331142, 'lambda_l2': 0.14853790692348962, 'min_gain_to_split': 0.47561413227011284}. Best is trial 33 with value: 0.6307842694745225.\n"
     ]
    },
    {
     "name": "stdout",
     "output_type": "stream",
     "text": [
      "Did not meet early stopping. Best iteration is:\n",
      "[382]\tvalid_0's l2: 0.10058\n",
      "Training until validation scores don't improve for 50 rounds\n",
      "Early stopping, best iteration is:\n",
      "[302]\tvalid_0's l2: 2.16784\n",
      "Training until validation scores don't improve for 50 rounds\n",
      "Did not meet early stopping. Best iteration is:\n",
      "[342]\tvalid_0's l2: 0.668366\n",
      "Training until validation scores don't improve for 50 rounds\n",
      "Did not meet early stopping. Best iteration is:\n",
      "[365]\tvalid_0's l2: 0.045498\n",
      "Training until validation scores don't improve for 50 rounds\n",
      "Did not meet early stopping. Best iteration is:\n",
      "[368]\tvalid_0's l2: 0.139094\n",
      "Training until validation scores don't improve for 50 rounds\n"
     ]
    },
    {
     "name": "stderr",
     "output_type": "stream",
     "text": [
      "[I 2025-06-24 01:17:52,305] Trial 58 finished with value: 0.6381769006276035 and parameters: {'num_leaves': 64, 'learning_rate': 0.019001871737231772, 'n_estimators': 387, 'max_depth': 10, 'min_child_samples': 14, 'subsample': 0.8986327089075946, 'colsample_bytree': 0.8235018238698669, 'lambda_l1': 0.010861722438076553, 'lambda_l2': 0.0866597108821759, 'min_gain_to_split': 0.505753422741657}. Best is trial 33 with value: 0.6307842694745225.\n"
     ]
    },
    {
     "name": "stdout",
     "output_type": "stream",
     "text": [
      "Did not meet early stopping. Best iteration is:\n",
      "[375]\tvalid_0's l2: 0.0990566\n",
      "Training until validation scores don't improve for 50 rounds\n",
      "Did not meet early stopping. Best iteration is:\n",
      "[359]\tvalid_0's l2: 2.22394\n",
      "Training until validation scores don't improve for 50 rounds\n",
      "Did not meet early stopping. Best iteration is:\n",
      "[359]\tvalid_0's l2: 0.675341\n",
      "Training until validation scores don't improve for 50 rounds\n",
      "Did not meet early stopping. Best iteration is:\n",
      "[359]\tvalid_0's l2: 0.0466467\n",
      "Training until validation scores don't improve for 50 rounds\n",
      "Did not meet early stopping. Best iteration is:\n",
      "[359]\tvalid_0's l2: 0.142193\n",
      "Training until validation scores don't improve for 50 rounds\n"
     ]
    },
    {
     "name": "stderr",
     "output_type": "stream",
     "text": [
      "[I 2025-06-24 01:17:53,823] Trial 59 finished with value: 0.6455051582589193 and parameters: {'num_leaves': 72, 'learning_rate': 0.013703056459090597, 'n_estimators': 359, 'max_depth': 13, 'min_child_samples': 8, 'subsample': 0.8098914779614832, 'colsample_bytree': 0.8030952731832743, 'lambda_l1': 0.03201226724639375, 'lambda_l2': 0.01002592794556744, 'min_gain_to_split': 0.22535666822967926}. Best is trial 33 with value: 0.6307842694745225.\n"
     ]
    },
    {
     "name": "stdout",
     "output_type": "stream",
     "text": [
      "Did not meet early stopping. Best iteration is:\n",
      "[359]\tvalid_0's l2: 0.103287\n",
      "Training until validation scores don't improve for 50 rounds\n",
      "Early stopping, best iteration is:\n",
      "[118]\tvalid_0's l2: 2.21589\n",
      "Training until validation scores don't improve for 50 rounds\n",
      "Early stopping, best iteration is:\n",
      "[135]\tvalid_0's l2: 0.659072\n",
      "Training until validation scores don't improve for 50 rounds\n",
      "Early stopping, best iteration is:\n",
      "[143]\tvalid_0's l2: 0.0441333\n",
      "Training until validation scores don't improve for 50 rounds\n",
      "Early stopping, best iteration is:\n",
      "[147]\tvalid_0's l2: 0.141567\n",
      "Training until validation scores don't improve for 50 rounds\n"
     ]
    },
    {
     "name": "stderr",
     "output_type": "stream",
     "text": [
      "[I 2025-06-24 01:17:54,318] Trial 60 finished with value: 0.640357714978921 and parameters: {'num_leaves': 98, 'learning_rate': 0.048552630998614045, 'n_estimators': 379, 'max_depth': 8, 'min_child_samples': 5, 'subsample': 0.9306180322500859, 'colsample_bytree': 0.8424776044247079, 'lambda_l1': 0.0012340328006382076, 'lambda_l2': 0.0009314182303239303, 'min_gain_to_split': 0.41012825934682906}. Best is trial 33 with value: 0.6307842694745225.\n"
     ]
    },
    {
     "name": "stdout",
     "output_type": "stream",
     "text": [
      "Early stopping, best iteration is:\n",
      "[153]\tvalid_0's l2: 0.0992491\n",
      "Training until validation scores don't improve for 50 rounds\n",
      "Early stopping, best iteration is:\n",
      "[314]\tvalid_0's l2: 2.14358\n",
      "Training until validation scores don't improve for 50 rounds\n",
      "Did not meet early stopping. Best iteration is:\n",
      "[356]\tvalid_0's l2: 0.734558\n",
      "Training until validation scores don't improve for 50 rounds\n",
      "Did not meet early stopping. Best iteration is:\n",
      "[376]\tvalid_0's l2: 0.0454817\n",
      "Training until validation scores don't improve for 50 rounds\n",
      "Did not meet early stopping. Best iteration is:\n",
      "[384]\tvalid_0's l2: 0.139161\n",
      "Training until validation scores don't improve for 50 rounds\n"
     ]
    },
    {
     "name": "stderr",
     "output_type": "stream",
     "text": [
      "[I 2025-06-24 01:17:55,271] Trial 61 finished with value: 0.644644788371922 and parameters: {'num_leaves': 63, 'learning_rate': 0.018132129373571157, 'n_estimators': 390, 'max_depth': 10, 'min_child_samples': 14, 'subsample': 0.8795137200129817, 'colsample_bytree': 0.8239209425072157, 'lambda_l1': 0.010104410681062177, 'lambda_l2': 0.037269544213022573, 'min_gain_to_split': 0.5921521493783293}. Best is trial 33 with value: 0.6307842694745225.\n"
     ]
    },
    {
     "name": "stdout",
     "output_type": "stream",
     "text": [
      "Did not meet early stopping. Best iteration is:\n",
      "[389]\tvalid_0's l2: 0.0997025\n",
      "Training until validation scores don't improve for 50 rounds\n",
      "Early stopping, best iteration is:\n",
      "[172]\tvalid_0's l2: 2.10278\n",
      "Training until validation scores don't improve for 50 rounds\n",
      "Early stopping, best iteration is:\n",
      "[187]\tvalid_0's l2: 0.687205\n",
      "Training until validation scores don't improve for 50 rounds\n",
      "Early stopping, best iteration is:\n",
      "[197]\tvalid_0's l2: 0.0475286\n",
      "Training until validation scores don't improve for 50 rounds\n",
      "Early stopping, best iteration is:\n",
      "[202]\tvalid_0's l2: 0.142866\n"
     ]
    },
    {
     "name": "stderr",
     "output_type": "stream",
     "text": [
      "[I 2025-06-24 01:17:55,761] Trial 62 finished with value: 0.63942436383773 and parameters: {'num_leaves': 45, 'learning_rate': 0.035840383876827156, 'n_estimators': 341, 'max_depth': 11, 'min_child_samples': 12, 'subsample': 0.8980127960297783, 'colsample_bytree': 0.7439833067539652, 'lambda_l1': 0.18626791938336607, 'lambda_l2': 3.901264236399844, 'min_gain_to_split': 0.5223036731873096}. Best is trial 33 with value: 0.6307842694745225.\n"
     ]
    },
    {
     "name": "stdout",
     "output_type": "stream",
     "text": [
      "Training until validation scores don't improve for 50 rounds\n",
      "Early stopping, best iteration is:\n",
      "[203]\tvalid_0's l2: 0.103723\n",
      "Training until validation scores don't improve for 50 rounds\n",
      "Early stopping, best iteration is:\n",
      "[322]\tvalid_0's l2: 2.10966\n",
      "Training until validation scores don't improve for 50 rounds\n",
      "Did not meet early stopping. Best iteration is:\n",
      "[365]\tvalid_0's l2: 0.880118\n",
      "Training until validation scores don't improve for 50 rounds\n",
      "Did not meet early stopping. Best iteration is:\n",
      "[384]\tvalid_0's l2: 0.046956\n",
      "Training until validation scores don't improve for 50 rounds\n",
      "Did not meet early stopping. Best iteration is:\n",
      "[391]\tvalid_0's l2: 0.139663\n",
      "Training until validation scores don't improve for 50 rounds\n"
     ]
    },
    {
     "name": "stderr",
     "output_type": "stream",
     "text": [
      "[I 2025-06-24 01:17:56,722] Trial 63 finished with value: 0.6594140161640667 and parameters: {'num_leaves': 69, 'learning_rate': 0.018201736493883156, 'n_estimators': 408, 'max_depth': 7, 'min_child_samples': 20, 'subsample': 0.9170210741286697, 'colsample_bytree': 0.7629499179079738, 'lambda_l1': 0.004564728211078967, 'lambda_l2': 0.48826163438390824, 'min_gain_to_split': 0.45302053952296556}. Best is trial 33 with value: 0.6307842694745225.\n"
     ]
    },
    {
     "name": "stdout",
     "output_type": "stream",
     "text": [
      "Did not meet early stopping. Best iteration is:\n",
      "[399]\tvalid_0's l2: 0.0998871\n",
      "Training until validation scores don't improve for 50 rounds\n",
      "Early stopping, best iteration is:\n",
      "[278]\tvalid_0's l2: 2.15639\n",
      "Training until validation scores don't improve for 50 rounds\n",
      "Early stopping, best iteration is:\n",
      "[320]\tvalid_0's l2: 0.661861\n",
      "Training until validation scores don't improve for 50 rounds\n",
      "Did not meet early stopping. Best iteration is:\n",
      "[338]\tvalid_0's l2: 0.04514\n",
      "Training until validation scores don't improve for 50 rounds\n",
      "Did not meet early stopping. Best iteration is:\n",
      "[341]\tvalid_0's l2: 0.138423\n",
      "Training until validation scores don't improve for 50 rounds\n"
     ]
    },
    {
     "name": "stderr",
     "output_type": "stream",
     "text": [
      "[I 2025-06-24 01:17:57,687] Trial 64 finished with value: 0.6361261594602061 and parameters: {'num_leaves': 58, 'learning_rate': 0.020635026442676504, 'n_estimators': 382, 'max_depth': 14, 'min_child_samples': 14, 'subsample': 0.9495588822553472, 'colsample_bytree': 0.7949896514636319, 'lambda_l1': 0.02094127389954595, 'lambda_l2': 0.17625734894812115, 'min_gain_to_split': 0.47335058730207}. Best is trial 33 with value: 0.6307842694745225.\n"
     ]
    },
    {
     "name": "stdout",
     "output_type": "stream",
     "text": [
      "Did not meet early stopping. Best iteration is:\n",
      "[347]\tvalid_0's l2: 0.0986605\n",
      "Training until validation scores don't improve for 50 rounds\n",
      "Early stopping, best iteration is:\n",
      "[224]\tvalid_0's l2: 2.39962\n",
      "Training until validation scores don't improve for 50 rounds\n",
      "Early stopping, best iteration is:\n",
      "[251]\tvalid_0's l2: 0.675854\n",
      "Training until validation scores don't improve for 50 rounds\n",
      "Early stopping, best iteration is:\n",
      "[262]\tvalid_0's l2: 0.0491106\n",
      "Training until validation scores don't improve for 50 rounds\n",
      "Early stopping, best iteration is:\n",
      "[270]\tvalid_0's l2: 0.143076\n",
      "Training until validation scores don't improve for 50 rounds\n",
      "Did not meet early stopping. Best iteration is:\n",
      "[276]\tvalid_0's l2: 0.104846\n"
     ]
    },
    {
     "name": "stderr",
     "output_type": "stream",
     "text": [
      "[I 2025-06-24 01:17:58,299] Trial 65 finished with value: 0.6589675980116951 and parameters: {'num_leaves': 56, 'learning_rate': 0.025714777386573656, 'n_estimators': 323, 'max_depth': 14, 'min_child_samples': 8, 'subsample': 0.8461654987624971, 'colsample_bytree': 0.7748838398470508, 'lambda_l1': 0.0291461690233644, 'lambda_l2': 1.151260148538656, 'min_gain_to_split': 0.7200566350336757}. Best is trial 33 with value: 0.6307842694745225.\n"
     ]
    },
    {
     "name": "stdout",
     "output_type": "stream",
     "text": [
      "Training until validation scores don't improve for 50 rounds\n",
      "Early stopping, best iteration is:\n",
      "[176]\tvalid_0's l2: 4.65877\n",
      "Training until validation scores don't improve for 50 rounds\n",
      "Early stopping, best iteration is:\n",
      "[177]\tvalid_0's l2: 1.34566\n",
      "Training until validation scores don't improve for 50 rounds\n",
      "Early stopping, best iteration is:\n",
      "[173]\tvalid_0's l2: 0.0458475\n",
      "Training until validation scores don't improve for 50 rounds\n"
     ]
    },
    {
     "name": "stderr",
     "output_type": "stream",
     "text": [
      "[I 2025-06-24 01:17:58,707] Trial 66 finished with value: 0.8484397225768294 and parameters: {'num_leaves': 77, 'learning_rate': 0.042635742223361896, 'n_estimators': 357, 'max_depth': 17, 'min_child_samples': 58, 'subsample': 0.97532750727632, 'colsample_bytree': 0.797440899399243, 'lambda_l1': 1.6136407560060193, 'lambda_l2': 0.00022576506365073066, 'min_gain_to_split': 0.3099555085147322}. Best is trial 33 with value: 0.6307842694745225.\n"
     ]
    },
    {
     "name": "stdout",
     "output_type": "stream",
     "text": [
      "Early stopping, best iteration is:\n",
      "[178]\tvalid_0's l2: 0.149121\n",
      "Training until validation scores don't improve for 50 rounds\n",
      "Early stopping, best iteration is:\n",
      "[183]\tvalid_0's l2: 0.104635\n",
      "Training until validation scores don't improve for 50 rounds\n",
      "Early stopping, best iteration is:\n",
      "[263]\tvalid_0's l2: 2.40847\n",
      "Training until validation scores don't improve for 50 rounds\n",
      "Early stopping, best iteration is:\n",
      "[299]\tvalid_0's l2: 0.863339\n",
      "Training until validation scores don't improve for 50 rounds\n",
      "Early stopping, best iteration is:\n",
      "[315]\tvalid_0's l2: 0.043816\n",
      "Training until validation scores don't improve for 50 rounds\n",
      "Early stopping, best iteration is:\n",
      "[321]\tvalid_0's l2: 0.140302\n",
      "Training until validation scores don't improve for 50 rounds\n",
      "Early stopping, best iteration is:\n",
      "[326]\tvalid_0's l2: 0.0958478\n"
     ]
    },
    {
     "name": "stderr",
     "output_type": "stream",
     "text": [
      "[I 2025-06-24 01:17:59,535] Trial 67 finished with value: 0.6749138935693318 and parameters: {'num_leaves': 90, 'learning_rate': 0.02189723054657047, 'n_estimators': 383, 'max_depth': 15, 'min_child_samples': 24, 'subsample': 0.9456067114398701, 'colsample_bytree': 0.8727694912605275, 'lambda_l1': 0.00023261448357449899, 'lambda_l2': 0.2509538106689151, 'min_gain_to_split': 0.4836761971326669}. Best is trial 33 with value: 0.6307842694745225.\n"
     ]
    },
    {
     "name": "stdout",
     "output_type": "stream",
     "text": [
      "Training until validation scores don't improve for 50 rounds\n",
      "Did not meet early stopping. Best iteration is:\n",
      "[414]\tvalid_0's l2: 5.3444\n",
      "Training until validation scores don't improve for 50 rounds\n",
      "Did not meet early stopping. Best iteration is:\n",
      "[416]\tvalid_0's l2: 1.43076\n",
      "Training until validation scores don't improve for 50 rounds\n",
      "Did not meet early stopping. Best iteration is:\n",
      "[416]\tvalid_0's l2: 0.0514264\n",
      "Training until validation scores don't improve for 50 rounds\n",
      "Did not meet early stopping. Best iteration is:\n",
      "[416]\tvalid_0's l2: 0.152677\n",
      "Training until validation scores don't improve for 50 rounds\n"
     ]
    },
    {
     "name": "stderr",
     "output_type": "stream",
     "text": [
      "[I 2025-06-24 01:18:00,386] Trial 68 finished with value: 0.8938330590789818 and parameters: {'num_leaves': 38, 'learning_rate': 0.013749198806628163, 'n_estimators': 416, 'max_depth': 12, 'min_child_samples': 70, 'subsample': 0.9745615314436276, 'colsample_bytree': 0.7283885897723981, 'lambda_l1': 0.0021546417475313854, 'lambda_l2': 0.08266316538851741, 'min_gain_to_split': 0.5950836316552723}. Best is trial 33 with value: 0.6307842694745225.\n"
     ]
    },
    {
     "name": "stdout",
     "output_type": "stream",
     "text": [
      "Did not meet early stopping. Best iteration is:\n",
      "[416]\tvalid_0's l2: 0.118138\n",
      "Training until validation scores don't improve for 50 rounds\n",
      "Early stopping, best iteration is:\n",
      "[176]\tvalid_0's l2: 2.65748\n",
      "Training until validation scores don't improve for 50 rounds\n",
      "Early stopping, best iteration is:\n",
      "[202]\tvalid_0's l2: 0.797605\n",
      "Training until validation scores don't improve for 50 rounds\n",
      "Early stopping, best iteration is:\n",
      "[212]\tvalid_0's l2: 0.0441375\n",
      "Training until validation scores don't improve for 50 rounds\n",
      "Early stopping, best iteration is:\n",
      "[215]\tvalid_0's l2: 0.135104\n",
      "Training until validation scores don't improve for 50 rounds\n",
      "Early stopping, best iteration is:\n",
      "[217]\tvalid_0's l2: 0.0949859\n"
     ]
    },
    {
     "name": "stderr",
     "output_type": "stream",
     "text": [
      "[I 2025-06-24 01:18:01,054] Trial 69 finished with value: 0.6818239650135152 and parameters: {'num_leaves': 66, 'learning_rate': 0.03437868492255483, 'n_estimators': 398, 'max_depth': 13, 'min_child_samples': 15, 'subsample': 0.8720769458614432, 'colsample_bytree': 0.8422394763838741, 'lambda_l1': 0.07668557875824725, 'lambda_l2': 0.0039920091228378835, 'min_gain_to_split': 0.2244567252505012}. Best is trial 33 with value: 0.6307842694745225.\n"
     ]
    },
    {
     "name": "stdout",
     "output_type": "stream",
     "text": [
      "Training until validation scores don't improve for 50 rounds\n",
      "Did not meet early stopping. Best iteration is:\n",
      "[287]\tvalid_0's l2: 2.73069\n",
      "Training until validation scores don't improve for 50 rounds\n",
      "Did not meet early stopping. Best iteration is:\n",
      "[287]\tvalid_0's l2: 0.951167\n",
      "Training until validation scores don't improve for 50 rounds\n",
      "Did not meet early stopping. Best iteration is:\n",
      "[287]\tvalid_0's l2: 0.0561985\n",
      "Training until validation scores don't improve for 50 rounds\n",
      "Did not meet early stopping. Best iteration is:\n",
      "[287]\tvalid_0's l2: 0.155657\n",
      "Training until validation scores don't improve for 50 rounds\n"
     ]
    },
    {
     "name": "stderr",
     "output_type": "stream",
     "text": [
      "[I 2025-06-24 01:18:01,813] Trial 70 finished with value: 0.721572044640079 and parameters: {'num_leaves': 49, 'learning_rate': 0.01654624548075966, 'n_estimators': 287, 'max_depth': 9, 'min_child_samples': 5, 'subsample': 0.9963283397148041, 'colsample_bytree': 0.7808036705406808, 'lambda_l1': 0.00014316746478775893, 'lambda_l2': 9.70892400864179, 'min_gain_to_split': 0.3581682324504434}. Best is trial 33 with value: 0.6307842694745225.\n"
     ]
    },
    {
     "name": "stdout",
     "output_type": "stream",
     "text": [
      "Did not meet early stopping. Best iteration is:\n",
      "[287]\tvalid_0's l2: 0.121458\n",
      "Training until validation scores don't improve for 50 rounds\n",
      "Early stopping, best iteration is:\n",
      "[289]\tvalid_0's l2: 2.19207\n",
      "Training until validation scores don't improve for 50 rounds\n",
      "Did not meet early stopping. Best iteration is:\n",
      "[331]\tvalid_0's l2: 0.648162\n",
      "Training until validation scores don't improve for 50 rounds\n",
      "Did not meet early stopping. Best iteration is:\n",
      "[348]\tvalid_0's l2: 0.0450976\n",
      "Training until validation scores don't improve for 50 rounds\n",
      "Did not meet early stopping. Best iteration is:\n",
      "[354]\tvalid_0's l2: 0.139008\n",
      "Training until validation scores don't improve for 50 rounds\n"
     ]
    },
    {
     "name": "stderr",
     "output_type": "stream",
     "text": [
      "[I 2025-06-24 01:18:02,717] Trial 71 finished with value: 0.6368249055026791 and parameters: {'num_leaves': 63, 'learning_rate': 0.019845383095116863, 'n_estimators': 372, 'max_depth': 10, 'min_child_samples': 12, 'subsample': 0.8923355847447062, 'colsample_bytree': 0.8162191188512119, 'lambda_l1': 0.009258735720635918, 'lambda_l2': 0.04289928057798975, 'min_gain_to_split': 0.48878370048951675}. Best is trial 33 with value: 0.6307842694745225.\n"
     ]
    },
    {
     "name": "stdout",
     "output_type": "stream",
     "text": [
      "Did not meet early stopping. Best iteration is:\n",
      "[359]\tvalid_0's l2: 0.0981409\n",
      "Training until validation scores don't improve for 50 rounds\n",
      "Early stopping, best iteration is:\n",
      "[293]\tvalid_0's l2: 2.53225\n",
      "Training until validation scores don't improve for 50 rounds\n",
      "Did not meet early stopping. Best iteration is:\n",
      "[334]\tvalid_0's l2: 0.684585\n",
      "Training until validation scores don't improve for 50 rounds\n",
      "Did not meet early stopping. Best iteration is:\n",
      "[347]\tvalid_0's l2: 0.0588995\n",
      "Training until validation scores don't improve for 50 rounds\n",
      "Did not meet early stopping. Best iteration is:\n",
      "[359]\tvalid_0's l2: 0.149455\n",
      "Training until validation scores don't improve for 50 rounds\n"
     ]
    },
    {
     "name": "stderr",
     "output_type": "stream",
     "text": [
      "[I 2025-06-24 01:18:03,796] Trial 72 finished with value: 0.678537011868978 and parameters: {'num_leaves': 60, 'learning_rate': 0.02084367336632841, 'n_estimators': 368, 'max_depth': 8, 'min_child_samples': 12, 'subsample': 0.9618043517887446, 'colsample_bytree': 0.5062714490199927, 'lambda_l1': 0.019163940517880274, 'lambda_l2': 0.20146752557281855, 'min_gain_to_split': 0.42564318472568974}. Best is trial 33 with value: 0.6307842694745225.\n"
     ]
    },
    {
     "name": "stdout",
     "output_type": "stream",
     "text": [
      "Did not meet early stopping. Best iteration is:\n",
      "[358]\tvalid_0's l2: 0.118813\n",
      "Training until validation scores don't improve for 50 rounds\n",
      "Early stopping, best iteration is:\n",
      "[212]\tvalid_0's l2: 2.17753\n",
      "Training until validation scores don't improve for 50 rounds\n",
      "Early stopping, best iteration is:\n",
      "[243]\tvalid_0's l2: 0.890729\n",
      "Training until validation scores don't improve for 50 rounds\n",
      "Early stopping, best iteration is:\n",
      "[258]\tvalid_0's l2: 0.0461591\n",
      "Training until validation scores don't improve for 50 rounds\n"
     ]
    },
    {
     "name": "stderr",
     "output_type": "stream",
     "text": [
      "[I 2025-06-24 01:18:04,395] Trial 73 finished with value: 0.6642935189033576 and parameters: {'num_leaves': 71, 'learning_rate': 0.026782724940496033, 'n_estimators': 398, 'max_depth': 7, 'min_child_samples': 20, 'subsample': 0.9176401102955924, 'colsample_bytree': 0.8133415540302065, 'lambda_l1': 0.005547630854758013, 'lambda_l2': 0.6677783812079798, 'min_gain_to_split': 0.5524163590147845}. Best is trial 33 with value: 0.6307842694745225.\n"
     ]
    },
    {
     "name": "stdout",
     "output_type": "stream",
     "text": [
      "Early stopping, best iteration is:\n",
      "[258]\tvalid_0's l2: 0.139185\n",
      "Training until validation scores don't improve for 50 rounds\n",
      "Early stopping, best iteration is:\n",
      "[267]\tvalid_0's l2: 0.0986681\n",
      "Training until validation scores don't improve for 50 rounds\n",
      "Early stopping, best iteration is:\n",
      "[233]\tvalid_0's l2: 2.1198\n",
      "Training until validation scores don't improve for 50 rounds\n",
      "Early stopping, best iteration is:\n",
      "[268]\tvalid_0's l2: 0.660799\n",
      "Training until validation scores don't improve for 50 rounds\n",
      "Did not meet early stopping. Best iteration is:\n",
      "[283]\tvalid_0's l2: 0.0435397\n",
      "Training until validation scores don't improve for 50 rounds\n",
      "Did not meet early stopping. Best iteration is:\n",
      "[287]\tvalid_0's l2: 0.140643\n",
      "Training until validation scores don't improve for 50 rounds\n"
     ]
    },
    {
     "name": "stderr",
     "output_type": "stream",
     "text": [
      "[I 2025-06-24 01:18:05,263] Trial 74 finished with value: 0.6329997947837739 and parameters: {'num_leaves': 79, 'learning_rate': 0.024435664150745787, 'n_estimators': 327, 'max_depth': 15, 'min_child_samples': 8, 'subsample': 0.8900615956028946, 'colsample_bytree': 0.8885429793374882, 'lambda_l1': 0.0006289569037512181, 'lambda_l2': 0.03691303312656337, 'min_gain_to_split': 0.48139197087421226}. Best is trial 33 with value: 0.6307842694745225.\n"
     ]
    },
    {
     "name": "stdout",
     "output_type": "stream",
     "text": [
      "Did not meet early stopping. Best iteration is:\n",
      "[293]\tvalid_0's l2: 0.0976333\n",
      "Training until validation scores don't improve for 50 rounds\n",
      "Early stopping, best iteration is:\n",
      "[143]\tvalid_0's l2: 2.19467\n",
      "Training until validation scores don't improve for 50 rounds\n",
      "Early stopping, best iteration is:\n",
      "[164]\tvalid_0's l2: 0.664296\n",
      "Training until validation scores don't improve for 50 rounds\n",
      "Early stopping, best iteration is:\n",
      "[175]\tvalid_0's l2: 0.0446736\n",
      "Training until validation scores don't improve for 50 rounds\n",
      "Early stopping, best iteration is:\n",
      "[177]\tvalid_0's l2: 0.140953\n"
     ]
    },
    {
     "name": "stderr",
     "output_type": "stream",
     "text": [
      "[I 2025-06-24 01:18:05,799] Trial 75 finished with value: 0.6391147918667732 and parameters: {'num_leaves': 85, 'learning_rate': 0.03976439953266536, 'n_estimators': 322, 'max_depth': 15, 'min_child_samples': 12, 'subsample': 0.8904130858633947, 'colsample_bytree': 0.8867042626786924, 'lambda_l1': 0.0006650717295373941, 'lambda_l2': 0.03182200801854493, 'min_gain_to_split': 0.4751162249078026}. Best is trial 33 with value: 0.6307842694745225.\n"
     ]
    },
    {
     "name": "stdout",
     "output_type": "stream",
     "text": [
      "Training until validation scores don't improve for 50 rounds\n",
      "Early stopping, best iteration is:\n",
      "[180]\tvalid_0's l2: 0.0975253\n",
      "Training until validation scores don't improve for 50 rounds\n",
      "Early stopping, best iteration is:\n",
      "[196]\tvalid_0's l2: 2.48475\n",
      "Training until validation scores don't improve for 50 rounds\n",
      "Early stopping, best iteration is:\n",
      "[223]\tvalid_0's l2: 0.885584\n",
      "Training until validation scores don't improve for 50 rounds\n",
      "Early stopping, best iteration is:\n",
      "[233]\tvalid_0's l2: 0.0446854\n",
      "Training until validation scores don't improve for 50 rounds\n"
     ]
    },
    {
     "name": "stderr",
     "output_type": "stream",
     "text": [
      "[I 2025-06-24 01:18:06,357] Trial 76 finished with value: 0.6832584289692161 and parameters: {'num_leaves': 55, 'learning_rate': 0.029030995946188784, 'n_estimators': 340, 'max_depth': 14, 'min_child_samples': 26, 'subsample': 0.9347526631282194, 'colsample_bytree': 0.8597831018108598, 'lambda_l1': 0.14964865034236283, 'lambda_l2': 0.013955368989729319, 'min_gain_to_split': 0.6574860062210713}. Best is trial 33 with value: 0.6307842694745225.\n"
     ]
    },
    {
     "name": "stdout",
     "output_type": "stream",
     "text": [
      "Early stopping, best iteration is:\n",
      "[238]\tvalid_0's l2: 0.141543\n",
      "Training until validation scores don't improve for 50 rounds\n",
      "Early stopping, best iteration is:\n",
      "[243]\tvalid_0's l2: 0.0969185\n",
      "Training until validation scores don't improve for 50 rounds\n",
      "Did not meet early stopping. Best iteration is:\n",
      "[300]\tvalid_0's l2: 39.3323\n",
      "Training until validation scores don't improve for 50 rounds\n",
      "Did not meet early stopping. Best iteration is:\n",
      "[300]\tvalid_0's l2: 48.5857\n",
      "Training until validation scores don't improve for 50 rounds\n",
      "Did not meet early stopping. Best iteration is:\n",
      "[300]\tvalid_0's l2: 10.6843\n",
      "Training until validation scores don't improve for 50 rounds\n",
      "Did not meet early stopping. Best iteration is:\n",
      "[300]\tvalid_0's l2: 24.078\n",
      "Training until validation scores don't improve for 50 rounds\n"
     ]
    },
    {
     "name": "stderr",
     "output_type": "stream",
     "text": [
      "[I 2025-06-24 01:18:07,627] Trial 77 finished with value: 5.206861211294582 and parameters: {'num_leaves': 80, 'learning_rate': 0.0010757345848323673, 'n_estimators': 300, 'max_depth': 16, 'min_child_samples': 37, 'subsample': 0.5043766312263275, 'colsample_bytree': 0.8745875906133216, 'lambda_l1': 0.00041352776832421595, 'lambda_l2': 0.06273305516086643, 'min_gain_to_split': 0.5743076722170436}. Best is trial 33 with value: 0.6307842694745225.\n"
     ]
    },
    {
     "name": "stdout",
     "output_type": "stream",
     "text": [
      "Did not meet early stopping. Best iteration is:\n",
      "[300]\tvalid_0's l2: 21.3149\n",
      "Training until validation scores don't improve for 50 rounds\n",
      "Did not meet early stopping. Best iteration is:\n",
      "[329]\tvalid_0's l2: 2.62406\n",
      "Training until validation scores don't improve for 50 rounds\n",
      "Did not meet early stopping. Best iteration is:\n",
      "[329]\tvalid_0's l2: 0.794772\n",
      "Training until validation scores don't improve for 50 rounds\n",
      "Did not meet early stopping. Best iteration is:\n",
      "[329]\tvalid_0's l2: 0.0751084\n",
      "Training until validation scores don't improve for 50 rounds\n",
      "Did not meet early stopping. Best iteration is:\n",
      "[329]\tvalid_0's l2: 0.196772\n",
      "Training until validation scores don't improve for 50 rounds\n"
     ]
    },
    {
     "name": "stderr",
     "output_type": "stream",
     "text": [
      "[I 2025-06-24 01:18:09,048] Trial 78 finished with value: 0.7258125945128683 and parameters: {'num_leaves': 74, 'learning_rate': 0.010474205947826954, 'n_estimators': 329, 'max_depth': 11, 'min_child_samples': 7, 'subsample': 0.9104494380213134, 'colsample_bytree': 0.7550942860631448, 'lambda_l1': 4.0526437428320363e-05, 'lambda_l2': 0.26395400995628604, 'min_gain_to_split': 0.41012141466825686}. Best is trial 33 with value: 0.6307842694745225.\n"
     ]
    },
    {
     "name": "stdout",
     "output_type": "stream",
     "text": [
      "Did not meet early stopping. Best iteration is:\n",
      "[329]\tvalid_0's l2: 0.160014\n",
      "Training until validation scores don't improve for 50 rounds\n",
      "Early stopping, best iteration is:\n",
      "[172]\tvalid_0's l2: 2.9245\n",
      "Training until validation scores don't improve for 50 rounds\n",
      "Early stopping, best iteration is:\n",
      "[196]\tvalid_0's l2: 0.820369\n",
      "Training until validation scores don't improve for 50 rounds\n",
      "Early stopping, best iteration is:\n",
      "[207]\tvalid_0's l2: 0.0438189\n",
      "Training until validation scores don't improve for 50 rounds\n",
      "Early stopping, best iteration is:\n",
      "[212]\tvalid_0's l2: 0.141634\n",
      "Training until validation scores don't improve for 50 rounds\n",
      "Early stopping, best iteration is:\n",
      "[212]\tvalid_0's l2: 0.0961025\n"
     ]
    },
    {
     "name": "stderr",
     "output_type": "stream",
     "text": [
      "[I 2025-06-24 01:18:09,643] Trial 79 finished with value: 0.7023074648290468 and parameters: {'num_leaves': 62, 'learning_rate': 0.032996830485894815, 'n_estimators': 272, 'max_depth': 17, 'min_child_samples': 16, 'subsample': 0.8197353857095037, 'colsample_bytree': 0.9266155981267812, 'lambda_l1': 0.0561258890570012, 'lambda_l2': 0.12682193025198488, 'min_gain_to_split': 0.5203356452920094}. Best is trial 33 with value: 0.6307842694745225.\n"
     ]
    },
    {
     "name": "stdout",
     "output_type": "stream",
     "text": [
      "Training until validation scores don't improve for 50 rounds\n",
      "Did not meet early stopping. Best iteration is:\n",
      "[432]\tvalid_0's l2: 2.31626\n",
      "Training until validation scores don't improve for 50 rounds\n",
      "Did not meet early stopping. Best iteration is:\n",
      "[432]\tvalid_0's l2: 0.659041\n",
      "Training until validation scores don't improve for 50 rounds\n",
      "Did not meet early stopping. Best iteration is:\n",
      "[432]\tvalid_0's l2: 0.0448664\n",
      "Training until validation scores don't improve for 50 rounds\n",
      "Did not meet early stopping. Best iteration is:\n",
      "[432]\tvalid_0's l2: 0.141221\n",
      "Training until validation scores don't improve for 50 rounds\n"
     ]
    },
    {
     "name": "stderr",
     "output_type": "stream",
     "text": [
      "[I 2025-06-24 01:18:11,002] Trial 80 finished with value: 0.6480874210203668 and parameters: {'num_leaves': 66, 'learning_rate': 0.01265455396537809, 'n_estimators': 432, 'max_depth': 15, 'min_child_samples': 11, 'subsample': 0.8557133770779218, 'colsample_bytree': 0.897804431694094, 'lambda_l1': 0.0013512771068858865, 'lambda_l2': 2.9251917894365264e-05, 'min_gain_to_split': 0.46861568218717364}. Best is trial 33 with value: 0.6307842694745225.\n"
     ]
    },
    {
     "name": "stdout",
     "output_type": "stream",
     "text": [
      "Did not meet early stopping. Best iteration is:\n",
      "[432]\tvalid_0's l2: 0.101816\n",
      "Training until validation scores don't improve for 50 rounds\n",
      "Early stopping, best iteration is:\n",
      "[234]\tvalid_0's l2: 2.11008\n",
      "Training until validation scores don't improve for 50 rounds\n",
      "Early stopping, best iteration is:\n",
      "[267]\tvalid_0's l2: 0.64349\n",
      "Training until validation scores don't improve for 50 rounds\n",
      "Early stopping, best iteration is:\n",
      "[283]\tvalid_0's l2: 0.0435184\n",
      "Training until validation scores don't improve for 50 rounds\n",
      "Early stopping, best iteration is:\n",
      "[286]\tvalid_0's l2: 0.137394\n",
      "Training until validation scores don't improve for 50 rounds\n"
     ]
    },
    {
     "name": "stderr",
     "output_type": "stream",
     "text": [
      "[I 2025-06-24 01:18:12,099] Trial 81 finished with value: 0.6297054396501484 and parameters: {'num_leaves': 77, 'learning_rate': 0.025439496845891866, 'n_estimators': 375, 'max_depth': 9, 'min_child_samples': 7, 'subsample': 0.8861445101829468, 'colsample_bytree': 0.8265852692700184, 'lambda_l1': 0.003255797059431927, 'lambda_l2': 0.02192519577042027, 'min_gain_to_split': 0.2806587834897405}. Best is trial 81 with value: 0.6297054396501484.\n"
     ]
    },
    {
     "name": "stdout",
     "output_type": "stream",
     "text": [
      "Early stopping, best iteration is:\n",
      "[291]\tvalid_0's l2: 0.0988844\n",
      "Training until validation scores don't improve for 50 rounds\n",
      "Early stopping, best iteration is:\n",
      "[285]\tvalid_0's l2: 2.28163\n",
      "Training until validation scores don't improve for 50 rounds\n",
      "Did not meet early stopping. Best iteration is:\n",
      "[326]\tvalid_0's l2: 0.675125\n",
      "Training until validation scores don't improve for 50 rounds\n",
      "Did not meet early stopping. Best iteration is:\n",
      "[342]\tvalid_0's l2: 0.0461933\n",
      "Training until validation scores don't improve for 50 rounds\n",
      "Did not meet early stopping. Best iteration is:\n",
      "[348]\tvalid_0's l2: 0.139646\n",
      "Training until validation scores don't improve for 50 rounds\n"
     ]
    },
    {
     "name": "stderr",
     "output_type": "stream",
     "text": [
      "[I 2025-06-24 01:18:13,181] Trial 82 finished with value: 0.648322973696648 and parameters: {'num_leaves': 75, 'learning_rate': 0.020556500418359196, 'n_estimators': 360, 'max_depth': 12, 'min_child_samples': 10, 'subsample': 0.8828784424262739, 'colsample_bytree': 0.7923809095411902, 'lambda_l1': 0.004062880883610305, 'lambda_l2': 0.026653840622654704, 'min_gain_to_split': 0.3955037126016169}. Best is trial 81 with value: 0.6297054396501484.\n"
     ]
    },
    {
     "name": "stdout",
     "output_type": "stream",
     "text": [
      "Did not meet early stopping. Best iteration is:\n",
      "[352]\tvalid_0's l2: 0.102932\n",
      "Training until validation scores don't improve for 50 rounds\n",
      "Early stopping, best iteration is:\n",
      "[274]\tvalid_0's l2: 2.12749\n",
      "Training until validation scores don't improve for 50 rounds\n",
      "Did not meet early stopping. Best iteration is:\n",
      "[313]\tvalid_0's l2: 0.625963\n",
      "Training until validation scores don't improve for 50 rounds\n",
      "Did not meet early stopping. Best iteration is:\n",
      "[324]\tvalid_0's l2: 0.0425785\n",
      "Training until validation scores don't improve for 50 rounds\n",
      "Did not meet early stopping. Best iteration is:\n",
      "[329]\tvalid_0's l2: 0.1361\n",
      "Training until validation scores don't improve for 50 rounds\n"
     ]
    },
    {
     "name": "stderr",
     "output_type": "stream",
     "text": [
      "[I 2025-06-24 01:18:14,427] Trial 83 finished with value: 0.6272273546480586 and parameters: {'num_leaves': 81, 'learning_rate': 0.023373730277067212, 'n_estimators': 345, 'max_depth': 10, 'min_child_samples': 5, 'subsample': 0.9275170722182879, 'colsample_bytree': 0.8303962721510243, 'lambda_l1': 0.020419432966939453, 'lambda_l2': 0.045918165794688263, 'min_gain_to_split': 0.11365720317572042}. Best is trial 83 with value: 0.6272273546480586.\n"
     ]
    },
    {
     "name": "stdout",
     "output_type": "stream",
     "text": [
      "Did not meet early stopping. Best iteration is:\n",
      "[330]\tvalid_0's l2: 0.0967854\n",
      "Training until validation scores don't improve for 50 rounds\n",
      "Did not meet early stopping. Best iteration is:\n",
      "[344]\tvalid_0's l2: 2.10378\n",
      "Training until validation scores don't improve for 50 rounds\n",
      "Did not meet early stopping. Best iteration is:\n",
      "[344]\tvalid_0's l2: 0.64363\n",
      "Training until validation scores don't improve for 50 rounds\n",
      "Did not meet early stopping. Best iteration is:\n",
      "[344]\tvalid_0's l2: 0.0435555\n",
      "Training until validation scores don't improve for 50 rounds\n",
      "Did not meet early stopping. Best iteration is:\n",
      "[344]\tvalid_0's l2: 0.137149\n",
      "Training until validation scores don't improve for 50 rounds\n"
     ]
    },
    {
     "name": "stderr",
     "output_type": "stream",
     "text": [
      "[I 2025-06-24 01:18:15,952] Trial 84 finished with value: 0.6301496995601606 and parameters: {'num_leaves': 81, 'learning_rate': 0.017166950112212368, 'n_estimators': 344, 'max_depth': 11, 'min_child_samples': 5, 'subsample': 0.9615314634727513, 'colsample_bytree': 0.8358495611374721, 'lambda_l1': 0.003062186580312557, 'lambda_l2': 0.015333573893195184, 'min_gain_to_split': 0.12541179593230273}. Best is trial 83 with value: 0.6272273546480586.\n"
     ]
    },
    {
     "name": "stdout",
     "output_type": "stream",
     "text": [
      "Did not meet early stopping. Best iteration is:\n",
      "[344]\tvalid_0's l2: 0.101765\n",
      "Training until validation scores don't improve for 50 rounds\n",
      "Did not meet early stopping. Best iteration is:\n",
      "[313]\tvalid_0's l2: 2.0797\n",
      "Training until validation scores don't improve for 50 rounds\n",
      "Did not meet early stopping. Best iteration is:\n",
      "[313]\tvalid_0's l2: 0.65075\n",
      "Training until validation scores don't improve for 50 rounds\n",
      "Did not meet early stopping. Best iteration is:\n",
      "[313]\tvalid_0's l2: 0.0446082\n",
      "Training until validation scores don't improve for 50 rounds\n",
      "Did not meet early stopping. Best iteration is:\n",
      "[313]\tvalid_0's l2: 0.138815\n",
      "Training until validation scores don't improve for 50 rounds\n"
     ]
    },
    {
     "name": "stderr",
     "output_type": "stream",
     "text": [
      "[I 2025-06-24 01:18:17,736] Trial 85 finished with value: 0.6304812142854243 and parameters: {'num_leaves': 81, 'learning_rate': 0.017077309336085995, 'n_estimators': 313, 'max_depth': 11, 'min_child_samples': 6, 'subsample': 0.9665653839792422, 'colsample_bytree': 0.8418882399653072, 'lambda_l1': 0.018223883072430027, 'lambda_l2': 0.01040141696937176, 'min_gain_to_split': 0.021000051809998227}. Best is trial 83 with value: 0.6272273546480586.\n"
     ]
    },
    {
     "name": "stdout",
     "output_type": "stream",
     "text": [
      "Did not meet early stopping. Best iteration is:\n",
      "[313]\tvalid_0's l2: 0.102281\n",
      "Training until validation scores don't improve for 50 rounds\n",
      "Did not meet early stopping. Best iteration is:\n",
      "[345]\tvalid_0's l2: 2.10907\n",
      "Training until validation scores don't improve for 50 rounds\n",
      "Did not meet early stopping. Best iteration is:\n",
      "[345]\tvalid_0's l2: 0.64994\n",
      "Training until validation scores don't improve for 50 rounds\n",
      "Did not meet early stopping. Best iteration is:\n",
      "[345]\tvalid_0's l2: 0.0458337\n",
      "Training until validation scores don't improve for 50 rounds\n",
      "Did not meet early stopping. Best iteration is:\n",
      "[345]\tvalid_0's l2: 0.140946\n",
      "Training until validation scores don't improve for 50 rounds\n"
     ]
    },
    {
     "name": "stderr",
     "output_type": "stream",
     "text": [
      "[I 2025-06-24 01:18:19,752] Trial 86 finished with value: 0.6340099807529402 and parameters: {'num_leaves': 81, 'learning_rate': 0.014595665031825604, 'n_estimators': 345, 'max_depth': 11, 'min_child_samples': 6, 'subsample': 0.9643223453870915, 'colsample_bytree': 0.8363492878295995, 'lambda_l1': 0.006228281287676007, 'lambda_l2': 0.00874427702816879, 'min_gain_to_split': 0.017753358111680217}. Best is trial 83 with value: 0.6272273546480586.\n"
     ]
    },
    {
     "name": "stdout",
     "output_type": "stream",
     "text": [
      "Did not meet early stopping. Best iteration is:\n",
      "[345]\tvalid_0's l2: 0.103737\n",
      "Training until validation scores don't improve for 50 rounds\n",
      "Did not meet early stopping. Best iteration is:\n",
      "[345]\tvalid_0's l2: 2.10145\n",
      "Training until validation scores don't improve for 50 rounds\n",
      "Did not meet early stopping. Best iteration is:\n",
      "[345]\tvalid_0's l2: 0.648026\n",
      "Training until validation scores don't improve for 50 rounds\n",
      "Did not meet early stopping. Best iteration is:\n",
      "[345]\tvalid_0's l2: 0.0463941\n",
      "Training until validation scores don't improve for 50 rounds\n",
      "Did not meet early stopping. Best iteration is:\n",
      "[345]\tvalid_0's l2: 0.141818\n",
      "Training until validation scores don't improve for 50 rounds\n"
     ]
    },
    {
     "name": "stderr",
     "output_type": "stream",
     "text": [
      "[I 2025-06-24 01:18:21,765] Trial 87 finished with value: 0.6339805352525312 and parameters: {'num_leaves': 81, 'learning_rate': 0.014137177794605719, 'n_estimators': 345, 'max_depth': 30, 'min_child_samples': 7, 'subsample': 0.9654499948897857, 'colsample_bytree': 0.8355303583890363, 'lambda_l1': 0.0032618944733795257, 'lambda_l2': 0.007647527376371408, 'min_gain_to_split': 0.0026213035090822817}. Best is trial 83 with value: 0.6272273546480586.\n"
     ]
    },
    {
     "name": "stdout",
     "output_type": "stream",
     "text": [
      "Did not meet early stopping. Best iteration is:\n",
      "[345]\tvalid_0's l2: 0.104513\n",
      "Training until validation scores don't improve for 50 rounds\n",
      "Did not meet early stopping. Best iteration is:\n",
      "[314]\tvalid_0's l2: 2.17644\n",
      "Training until validation scores don't improve for 50 rounds\n",
      "Did not meet early stopping. Best iteration is:\n",
      "[314]\tvalid_0's l2: 0.659611\n",
      "Training until validation scores don't improve for 50 rounds\n",
      "Did not meet early stopping. Best iteration is:\n",
      "[314]\tvalid_0's l2: 0.0467601\n",
      "Training until validation scores don't improve for 50 rounds\n",
      "Did not meet early stopping. Best iteration is:\n",
      "[314]\tvalid_0's l2: 0.14514\n",
      "Training until validation scores don't improve for 50 rounds\n"
     ]
    },
    {
     "name": "stderr",
     "output_type": "stream",
     "text": [
      "[I 2025-06-24 01:18:23,716] Trial 88 finished with value: 0.6427327063846573 and parameters: {'num_leaves': 81, 'learning_rate': 0.014773578209201485, 'n_estimators': 314, 'max_depth': 21, 'min_child_samples': 5, 'subsample': 0.9665056100900151, 'colsample_bytree': 0.8520580663881483, 'lambda_l1': 0.007408317961968639, 'lambda_l2': 0.008235684948153538, 'min_gain_to_split': 0.0016367905452491366}. Best is trial 83 with value: 0.6272273546480586.\n"
     ]
    },
    {
     "name": "stdout",
     "output_type": "stream",
     "text": [
      "Did not meet early stopping. Best iteration is:\n",
      "[314]\tvalid_0's l2: 0.108248\n",
      "Training until validation scores don't improve for 50 rounds\n",
      "Did not meet early stopping. Best iteration is:\n",
      "[345]\tvalid_0's l2: 2.06581\n",
      "Training until validation scores don't improve for 50 rounds\n",
      "Did not meet early stopping. Best iteration is:\n",
      "[345]\tvalid_0's l2: 0.655973\n",
      "Training until validation scores don't improve for 50 rounds\n",
      "Did not meet early stopping. Best iteration is:\n",
      "[345]\tvalid_0's l2: 0.0468743\n",
      "Training until validation scores don't improve for 50 rounds\n",
      "Did not meet early stopping. Best iteration is:\n",
      "[345]\tvalid_0's l2: 0.142716\n",
      "Training until validation scores don't improve for 50 rounds\n"
     ]
    },
    {
     "name": "stderr",
     "output_type": "stream",
     "text": [
      "[I 2025-06-24 01:18:25,895] Trial 89 finished with value: 0.6336524191344035 and parameters: {'num_leaves': 91, 'learning_rate': 0.013948990634292871, 'n_estimators': 345, 'max_depth': 28, 'min_child_samples': 7, 'subsample': 0.9800922537646071, 'colsample_bytree': 0.8387299529288059, 'lambda_l1': 0.00296590700185263, 'lambda_l2': 0.003878779198856793, 'min_gain_to_split': 0.035940503213730865}. Best is trial 83 with value: 0.6272273546480586.\n"
     ]
    },
    {
     "name": "stdout",
     "output_type": "stream",
     "text": [
      "Did not meet early stopping. Best iteration is:\n",
      "[345]\tvalid_0's l2: 0.106776\n",
      "Training until validation scores don't improve for 50 rounds\n",
      "Did not meet early stopping. Best iteration is:\n",
      "[337]\tvalid_0's l2: 3.03741\n",
      "Training until validation scores don't improve for 50 rounds\n",
      "Did not meet early stopping. Best iteration is:\n",
      "[337]\tvalid_0's l2: 1.32226\n",
      "Training until validation scores don't improve for 50 rounds\n",
      "Did not meet early stopping. Best iteration is:\n",
      "[337]\tvalid_0's l2: 0.162092\n",
      "Training until validation scores don't improve for 50 rounds\n",
      "Did not meet early stopping. Best iteration is:\n",
      "[337]\tvalid_0's l2: 0.402573\n",
      "Training until validation scores don't improve for 50 rounds\n"
     ]
    },
    {
     "name": "stderr",
     "output_type": "stream",
     "text": [
      "[I 2025-06-24 01:18:28,311] Trial 90 finished with value: 0.9035614875599242 and parameters: {'num_leaves': 90, 'learning_rate': 0.0076958873713807285, 'n_estimators': 337, 'max_depth': 30, 'min_child_samples': 7, 'subsample': 0.9890018543353318, 'colsample_bytree': 0.867407769578912, 'lambda_l1': 0.0012481849293146884, 'lambda_l2': 0.0013560534981685035, 'min_gain_to_split': 0.037059477743757285}. Best is trial 83 with value: 0.6272273546480586.\n"
     ]
    },
    {
     "name": "stdout",
     "output_type": "stream",
     "text": [
      "Did not meet early stopping. Best iteration is:\n",
      "[337]\tvalid_0's l2: 0.345747\n",
      "Training until validation scores don't improve for 50 rounds\n",
      "Did not meet early stopping. Best iteration is:\n",
      "[349]\tvalid_0's l2: 2.48119\n",
      "Training until validation scores don't improve for 50 rounds\n",
      "Did not meet early stopping. Best iteration is:\n",
      "[349]\tvalid_0's l2: 0.850988\n",
      "Training until validation scores don't improve for 50 rounds\n",
      "Did not meet early stopping. Best iteration is:\n",
      "[349]\tvalid_0's l2: 0.0765537\n",
      "Training until validation scores don't improve for 50 rounds\n",
      "Did not meet early stopping. Best iteration is:\n",
      "[349]\tvalid_0's l2: 0.209354\n",
      "Training until validation scores don't improve for 50 rounds\n"
     ]
    },
    {
     "name": "stderr",
     "output_type": "stream",
     "text": [
      "[I 2025-06-24 01:18:30,330] Trial 91 finished with value: 0.728027439294189 and parameters: {'num_leaves': 85, 'learning_rate': 0.009472861719718987, 'n_estimators': 349, 'max_depth': 29, 'min_child_samples': 7, 'subsample': 0.9579728313609901, 'colsample_bytree': 0.8380285877254552, 'lambda_l1': 0.003234310815519236, 'lambda_l2': 0.004048193285633411, 'min_gain_to_split': 0.12871236090938315}. Best is trial 83 with value: 0.6272273546480586.\n"
     ]
    },
    {
     "name": "stdout",
     "output_type": "stream",
     "text": [
      "Did not meet early stopping. Best iteration is:\n",
      "[349]\tvalid_0's l2: 0.166652\n",
      "Training until validation scores don't improve for 50 rounds\n",
      "Did not meet early stopping. Best iteration is:\n",
      "[331]\tvalid_0's l2: 2.31921\n",
      "Training until validation scores don't improve for 50 rounds\n",
      "Did not meet early stopping. Best iteration is:\n",
      "[331]\tvalid_0's l2: 0.726946\n",
      "Training until validation scores don't improve for 50 rounds\n",
      "Did not meet early stopping. Best iteration is:\n",
      "[331]\tvalid_0's l2: 0.0570309\n",
      "Training until validation scores don't improve for 50 rounds\n",
      "Did not meet early stopping. Best iteration is:\n",
      "[331]\tvalid_0's l2: 0.167741\n",
      "Training until validation scores don't improve for 50 rounds\n"
     ]
    },
    {
     "name": "stderr",
     "output_type": "stream",
     "text": [
      "[I 2025-06-24 01:18:32,269] Trial 92 finished with value: 0.6766685740228652 and parameters: {'num_leaves': 82, 'learning_rate': 0.011489827660537164, 'n_estimators': 331, 'max_depth': 27, 'min_child_samples': 5, 'subsample': 0.9825287989909319, 'colsample_bytree': 0.8319348886001257, 'lambda_l1': 0.0031751783934079714, 'lambda_l2': 0.018845486361799633, 'min_gain_to_split': 0.0440542286020148}. Best is trial 83 with value: 0.6272273546480586.\n"
     ]
    },
    {
     "name": "stdout",
     "output_type": "stream",
     "text": [
      "Did not meet early stopping. Best iteration is:\n",
      "[331]\tvalid_0's l2: 0.129213\n",
      "Training until validation scores don't improve for 50 rounds\n",
      "Did not meet early stopping. Best iteration is:\n",
      "[343]\tvalid_0's l2: 2.27642\n",
      "Training until validation scores don't improve for 50 rounds\n",
      "Did not meet early stopping. Best iteration is:\n",
      "[343]\tvalid_0's l2: 0.680269\n",
      "Training until validation scores don't improve for 50 rounds\n",
      "Did not meet early stopping. Best iteration is:\n",
      "[343]\tvalid_0's l2: 0.0476538\n",
      "Training until validation scores don't improve for 50 rounds\n",
      "Did not meet early stopping. Best iteration is:\n",
      "[343]\tvalid_0's l2: 0.143697\n",
      "Training until validation scores don't improve for 50 rounds\n"
     ]
    },
    {
     "name": "stderr",
     "output_type": "stream",
     "text": [
      "[I 2025-06-24 01:18:34,184] Trial 93 finished with value: 0.6517615387774875 and parameters: {'num_leaves': 78, 'learning_rate': 0.013666369873354492, 'n_estimators': 343, 'max_depth': 29, 'min_child_samples': 10, 'subsample': 0.9408293394873846, 'colsample_bytree': 0.8502376891485259, 'lambda_l1': 0.03770112468989836, 'lambda_l2': 0.0029652965368337793, 'min_gain_to_split': 0.024574886368839893}. Best is trial 83 with value: 0.6272273546480586.\n"
     ]
    },
    {
     "name": "stdout",
     "output_type": "stream",
     "text": [
      "Did not meet early stopping. Best iteration is:\n",
      "[343]\tvalid_0's l2: 0.107498\n",
      "Training until validation scores don't improve for 50 rounds\n",
      "Did not meet early stopping. Best iteration is:\n",
      "[352]\tvalid_0's l2: 2.06566\n",
      "Training until validation scores don't improve for 50 rounds\n",
      "Did not meet early stopping. Best iteration is:\n",
      "[352]\tvalid_0's l2: 0.641747\n",
      "Training until validation scores don't improve for 50 rounds\n",
      "Did not meet early stopping. Best iteration is:\n",
      "[352]\tvalid_0's l2: 0.0438307\n",
      "Training until validation scores don't improve for 50 rounds\n",
      "Did not meet early stopping. Best iteration is:\n",
      "[352]\tvalid_0's l2: 0.140689\n",
      "Training until validation scores don't improve for 50 rounds\n"
     ]
    },
    {
     "name": "stderr",
     "output_type": "stream",
     "text": [
      "[I 2025-06-24 01:18:36,191] Trial 94 finished with value: 0.6278428526257962 and parameters: {'num_leaves': 86, 'learning_rate': 0.014520142826192505, 'n_estimators': 352, 'max_depth': 29, 'min_child_samples': 7, 'subsample': 0.9279763067257856, 'colsample_bytree': 0.8887357804996971, 'lambda_l1': 0.01869835081571286, 'lambda_l2': 0.007392699950442299, 'min_gain_to_split': 0.07341487836831634}. Best is trial 83 with value: 0.6272273546480586.\n"
     ]
    },
    {
     "name": "stdout",
     "output_type": "stream",
     "text": [
      "Did not meet early stopping. Best iteration is:\n",
      "[352]\tvalid_0's l2: 0.100133\n",
      "Training until validation scores don't improve for 50 rounds\n",
      "Did not meet early stopping. Best iteration is:\n",
      "[354]\tvalid_0's l2: 2.22454\n",
      "Training until validation scores don't improve for 50 rounds\n",
      "Did not meet early stopping. Best iteration is:\n",
      "[354]\tvalid_0's l2: 0.638867\n",
      "Training until validation scores don't improve for 50 rounds\n",
      "Did not meet early stopping. Best iteration is:\n",
      "[354]\tvalid_0's l2: 0.0427299\n",
      "Training until validation scores don't improve for 50 rounds\n",
      "Did not meet early stopping. Best iteration is:\n",
      "[354]\tvalid_0's l2: 0.139265\n",
      "Training until validation scores don't improve for 50 rounds\n"
     ]
    },
    {
     "name": "stderr",
     "output_type": "stream",
     "text": [
      "[I 2025-06-24 01:18:38,016] Trial 95 finished with value: 0.6367692413728003 and parameters: {'num_leaves': 87, 'learning_rate': 0.01624685184759813, 'n_estimators': 354, 'max_depth': 28, 'min_child_samples': 8, 'subsample': 0.9251305248086183, 'colsample_bytree': 0.8878503145880963, 'lambda_l1': 0.020521684119743148, 'lambda_l2': 0.000682276139055065, 'min_gain_to_split': 0.07402902300569533}. Best is trial 83 with value: 0.6272273546480586.\n"
     ]
    },
    {
     "name": "stdout",
     "output_type": "stream",
     "text": [
      "Did not meet early stopping. Best iteration is:\n",
      "[354]\tvalid_0's l2: 0.098076\n",
      "Training until validation scores don't improve for 50 rounds\n",
      "Did not meet early stopping. Best iteration is:\n",
      "[272]\tvalid_0's l2: 2.7363\n",
      "Training until validation scores don't improve for 50 rounds\n",
      "Did not meet early stopping. Best iteration is:\n",
      "[305]\tvalid_0's l2: 0.803492\n",
      "Training until validation scores don't improve for 50 rounds\n",
      "Did not meet early stopping. Best iteration is:\n",
      "[307]\tvalid_0's l2: 0.0431801\n",
      "Training until validation scores don't improve for 50 rounds\n",
      "Did not meet early stopping. Best iteration is:\n",
      "[308]\tvalid_0's l2: 0.137083\n",
      "Training until validation scores don't improve for 50 rounds\n"
     ]
    },
    {
     "name": "stderr",
     "output_type": "stream",
     "text": [
      "[I 2025-06-24 01:18:39,286] Trial 96 finished with value: 0.6862295629869419 and parameters: {'num_leaves': 93, 'learning_rate': 0.023588687910054362, 'n_estimators': 308, 'max_depth': 29, 'min_child_samples': 16, 'subsample': 0.9849393867180303, 'colsample_bytree': 0.8799216165809916, 'lambda_l1': 0.0006137185134620546, 'lambda_l2': 0.0025389859784407786, 'min_gain_to_split': 0.09962935333049439}. Best is trial 83 with value: 0.6272273546480586.\n"
     ]
    },
    {
     "name": "stdout",
     "output_type": "stream",
     "text": [
      "Did not meet early stopping. Best iteration is:\n",
      "[308]\tvalid_0's l2: 0.0915347\n",
      "Training until validation scores don't improve for 50 rounds\n",
      "Did not meet early stopping. Best iteration is:\n",
      "[318]\tvalid_0's l2: 3.65267\n",
      "Training until validation scores don't improve for 50 rounds\n",
      "Did not meet early stopping. Best iteration is:\n",
      "[318]\tvalid_0's l2: 1.16798\n",
      "Training until validation scores don't improve for 50 rounds\n",
      "Did not meet early stopping. Best iteration is:\n",
      "[318]\tvalid_0's l2: 0.0426261\n",
      "Training until validation scores don't improve for 50 rounds\n",
      "Did not meet early stopping. Best iteration is:\n",
      "[318]\tvalid_0's l2: 0.143237\n",
      "Training until validation scores don't improve for 50 rounds\n"
     ]
    },
    {
     "name": "stderr",
     "output_type": "stream",
     "text": [
      "[I 2025-06-24 01:18:40,572] Trial 97 finished with value: 0.7802389460614736 and parameters: {'num_leaves': 85, 'learning_rate': 0.01685074334981424, 'n_estimators': 318, 'max_depth': 26, 'min_child_samples': 44, 'subsample': 0.9982900903873874, 'colsample_bytree': 0.8944279184180489, 'lambda_l1': 0.0017024498826353743, 'lambda_l2': 0.014458797011295663, 'min_gain_to_split': 0.12564180492901375}. Best is trial 83 with value: 0.6272273546480586.\n"
     ]
    },
    {
     "name": "stdout",
     "output_type": "stream",
     "text": [
      "Did not meet early stopping. Best iteration is:\n",
      "[318]\tvalid_0's l2: 0.105195\n",
      "Training until validation scores don't improve for 50 rounds\n",
      "Early stopping, best iteration is:\n",
      "[250]\tvalid_0's l2: 1.9276\n",
      "Training until validation scores don't improve for 50 rounds\n",
      "Early stopping, best iteration is:\n",
      "[277]\tvalid_0's l2: 0.800259\n",
      "Training until validation scores don't improve for 50 rounds\n",
      "Did not meet early stopping. Best iteration is:\n",
      "[291]\tvalid_0's l2: 0.0430837\n",
      "Training until validation scores don't improve for 50 rounds\n",
      "Did not meet early stopping. Best iteration is:\n",
      "[293]\tvalid_0's l2: 0.135955\n",
      "Training until validation scores don't improve for 50 rounds\n"
     ]
    },
    {
     "name": "stderr",
     "output_type": "stream",
     "text": [
      "[I 2025-06-24 01:18:41,838] Trial 98 finished with value: 0.6327231067713243 and parameters: {'num_leaves': 92, 'learning_rate': 0.026508515588795915, 'n_estimators': 333, 'max_depth': 28, 'min_child_samples': 18, 'subsample': 0.9710558351008896, 'colsample_bytree': 0.8587377627060089, 'lambda_l1': 0.0002803449528296938, 'lambda_l2': 0.05384609271503021, 'min_gain_to_split': 0.07864954719947796}. Best is trial 83 with value: 0.6272273546480586.\n"
     ]
    },
    {
     "name": "stdout",
     "output_type": "stream",
     "text": [
      "Did not meet early stopping. Best iteration is:\n",
      "[305]\tvalid_0's l2: 0.092645\n",
      "Training until validation scores don't improve for 50 rounds\n",
      "Early stopping, best iteration is:\n",
      "[232]\tvalid_0's l2: 2.11294\n",
      "Training until validation scores don't improve for 50 rounds\n",
      "Early stopping, best iteration is:\n",
      "[260]\tvalid_0's l2: 0.625934\n",
      "Training until validation scores don't improve for 50 rounds\n",
      "Early stopping, best iteration is:\n",
      "[275]\tvalid_0's l2: 0.0427203\n",
      "Training until validation scores don't improve for 50 rounds\n",
      "Early stopping, best iteration is:\n",
      "[275]\tvalid_0's l2: 0.137611\n",
      "Training until validation scores don't improve for 50 rounds\n"
     ]
    },
    {
     "name": "stderr",
     "output_type": "stream",
     "text": [
      "[I 2025-06-24 01:18:42,976] Trial 99 finished with value: 0.625407834611758 and parameters: {'num_leaves': 97, 'learning_rate': 0.02804068987960324, 'n_estimators': 363, 'max_depth': 28, 'min_child_samples': 13, 'subsample': 0.9370061903177824, 'colsample_bytree': 0.8602878955177367, 'lambda_l1': 0.0002825380124798681, 'lambda_l2': 0.057676865307727046, 'min_gain_to_split': 0.08634867043692838}. Best is trial 99 with value: 0.625407834611758.\n"
     ]
    },
    {
     "name": "stdout",
     "output_type": "stream",
     "text": [
      "Early stopping, best iteration is:\n",
      "[281]\tvalid_0's l2: 0.0928027\n",
      "Training until validation scores don't improve for 50 rounds\n",
      "Early stopping, best iteration is:\n",
      "[226]\tvalid_0's l2: 2.00606\n",
      "Training until validation scores don't improve for 50 rounds\n",
      "Early stopping, best iteration is:\n",
      "[269]\tvalid_0's l2: 0.811812\n",
      "Training until validation scores don't improve for 50 rounds\n",
      "Early stopping, best iteration is:\n",
      "[283]\tvalid_0's l2: 0.0430573\n",
      "Training until validation scores don't improve for 50 rounds\n",
      "Early stopping, best iteration is:\n",
      "[286]\tvalid_0's l2: 0.136841\n",
      "Training until validation scores don't improve for 50 rounds\n"
     ]
    },
    {
     "name": "stderr",
     "output_type": "stream",
     "text": [
      "[I 2025-06-24 01:18:44,158] Trial 100 finished with value: 0.6399148877861882 and parameters: {'num_leaves': 88, 'learning_rate': 0.027270480658306964, 'n_estimators': 363, 'max_depth': 25, 'min_child_samples': 17, 'subsample': 0.9350916416471495, 'colsample_bytree': 0.9166141122171967, 'lambda_l1': 0.0002914990374739224, 'lambda_l2': 0.05233367934352792, 'min_gain_to_split': 0.07656800129112426}. Best is trial 99 with value: 0.625407834611758.\n"
     ]
    },
    {
     "name": "stdout",
     "output_type": "stream",
     "text": [
      "Early stopping, best iteration is:\n",
      "[298]\tvalid_0's l2: 0.0928979\n",
      "Training until validation scores don't improve for 50 rounds\n",
      "Early stopping, best iteration is:\n",
      "[207]\tvalid_0's l2: 2.11825\n",
      "Training until validation scores don't improve for 50 rounds\n",
      "Early stopping, best iteration is:\n",
      "[233]\tvalid_0's l2: 0.616076\n",
      "Training until validation scores don't improve for 50 rounds\n",
      "Early stopping, best iteration is:\n",
      "[244]\tvalid_0's l2: 0.0436581\n",
      "Training until validation scores don't improve for 50 rounds\n",
      "Early stopping, best iteration is:\n",
      "[246]\tvalid_0's l2: 0.136637\n",
      "Training until validation scores don't improve for 50 rounds\n"
     ]
    },
    {
     "name": "stderr",
     "output_type": "stream",
     "text": [
      "[I 2025-06-24 01:18:45,348] Trial 101 finished with value: 0.6247128925136274 and parameters: {'num_leaves': 98, 'learning_rate': 0.03210031216046311, 'n_estimators': 328, 'max_depth': 28, 'min_child_samples': 13, 'subsample': 0.925133865723789, 'colsample_bytree': 0.8596210000271808, 'lambda_l1': 0.0001248045219967755, 'lambda_l2': 0.02092525363964265, 'min_gain_to_split': 0.05921413598542545}. Best is trial 101 with value: 0.6247128925136274.\n"
     ]
    },
    {
     "name": "stdout",
     "output_type": "stream",
     "text": [
      "Early stopping, best iteration is:\n",
      "[253]\tvalid_0's l2: 0.0928112\n",
      "Training until validation scores don't improve for 50 rounds\n",
      "Early stopping, best iteration is:\n",
      "[270]\tvalid_0's l2: 2.09967\n",
      "Training until validation scores don't improve for 50 rounds\n",
      "Did not meet early stopping. Best iteration is:\n",
      "[304]\tvalid_0's l2: 0.627683\n",
      "Training until validation scores don't improve for 50 rounds\n",
      "Did not meet early stopping. Best iteration is:\n",
      "[319]\tvalid_0's l2: 0.0424863\n",
      "Training until validation scores don't improve for 50 rounds\n",
      "Did not meet early stopping. Best iteration is:\n",
      "[323]\tvalid_0's l2: 0.137458\n",
      "Training until validation scores don't improve for 50 rounds\n"
     ]
    },
    {
     "name": "stderr",
     "output_type": "stream",
     "text": [
      "[I 2025-06-24 01:18:46,686] Trial 102 finished with value: 0.6246465192500056 and parameters: {'num_leaves': 97, 'learning_rate': 0.023617267248713318, 'n_estimators': 328, 'max_depth': 27, 'min_child_samples': 13, 'subsample': 0.9113186453086655, 'colsample_bytree': 0.8675474703368288, 'lambda_l1': 0.00016303006603169188, 'lambda_l2': 0.022301524480343223, 'min_gain_to_split': 0.11201343758158164}. Best is trial 102 with value: 0.6246465192500056.\n"
     ]
    },
    {
     "name": "stdout",
     "output_type": "stream",
     "text": [
      "Did not meet early stopping. Best iteration is:\n",
      "[328]\tvalid_0's l2: 0.0930664\n",
      "Training until validation scores don't improve for 50 rounds\n",
      "Early stopping, best iteration is:\n",
      "[193]\tvalid_0's l2: 2.0935\n",
      "Training until validation scores don't improve for 50 rounds\n",
      "Early stopping, best iteration is:\n",
      "[219]\tvalid_0's l2: 0.629671\n",
      "Training until validation scores don't improve for 50 rounds\n",
      "Early stopping, best iteration is:\n",
      "[230]\tvalid_0's l2: 0.0434089\n",
      "Training until validation scores don't improve for 50 rounds\n",
      "Early stopping, best iteration is:\n",
      "[234]\tvalid_0's l2: 0.138866\n",
      "Training until validation scores don't improve for 50 rounds\n"
     ]
    },
    {
     "name": "stderr",
     "output_type": "stream",
     "text": [
      "[I 2025-06-24 01:18:47,634] Trial 103 finished with value: 0.6253723882889581 and parameters: {'num_leaves': 96, 'learning_rate': 0.03272699828272984, 'n_estimators': 294, 'max_depth': 28, 'min_child_samples': 13, 'subsample': 0.9191483737118732, 'colsample_bytree': 0.8592661064934219, 'lambda_l1': 0.00013444263353263615, 'lambda_l2': 0.022210013858527826, 'min_gain_to_split': 0.11265479815484944}. Best is trial 102 with value: 0.6246465192500056.\n"
     ]
    },
    {
     "name": "stdout",
     "output_type": "stream",
     "text": [
      "Early stopping, best iteration is:\n",
      "[239]\tvalid_0's l2: 0.0933014\n",
      "Training until validation scores don't improve for 50 rounds\n",
      "Early stopping, best iteration is:\n",
      "[218]\tvalid_0's l2: 2.13349\n",
      "Training until validation scores don't improve for 50 rounds\n",
      "Did not meet early stopping. Best iteration is:\n",
      "[248]\tvalid_0's l2: 0.623282\n",
      "Training until validation scores don't improve for 50 rounds\n",
      "Did not meet early stopping. Best iteration is:\n",
      "[260]\tvalid_0's l2: 0.0429451\n",
      "Training until validation scores don't improve for 50 rounds\n",
      "Did not meet early stopping. Best iteration is:\n",
      "[265]\tvalid_0's l2: 0.136248\n",
      "Training until validation scores don't improve for 50 rounds\n"
     ]
    },
    {
     "name": "stderr",
     "output_type": "stream",
     "text": [
      "[I 2025-06-24 01:18:48,779] Trial 104 finished with value: 0.6265402413304375 and parameters: {'num_leaves': 96, 'learning_rate': 0.029029437212914004, 'n_estimators': 290, 'max_depth': 27, 'min_child_samples': 13, 'subsample': 0.9105850139748017, 'colsample_bytree': 0.8655695973415299, 'lambda_l1': 7.624212361261868e-05, 'lambda_l2': 0.027599160298674208, 'min_gain_to_split': 0.11441482033554692}. Best is trial 102 with value: 0.6246465192500056.\n"
     ]
    },
    {
     "name": "stdout",
     "output_type": "stream",
     "text": [
      "Did not meet early stopping. Best iteration is:\n",
      "[268]\tvalid_0's l2: 0.0937709\n",
      "Training until validation scores don't improve for 50 rounds\n",
      "Early stopping, best iteration is:\n",
      "[198]\tvalid_0's l2: 2.11402\n",
      "Training until validation scores don't improve for 50 rounds\n",
      "Early stopping, best iteration is:\n",
      "[227]\tvalid_0's l2: 0.620399\n",
      "Training until validation scores don't improve for 50 rounds\n",
      "Early stopping, best iteration is:\n",
      "[233]\tvalid_0's l2: 0.0427721\n",
      "Training until validation scores don't improve for 50 rounds\n",
      "Early stopping, best iteration is:\n",
      "[239]\tvalid_0's l2: 0.13897\n",
      "Training until validation scores don't improve for 50 rounds\n"
     ]
    },
    {
     "name": "stderr",
     "output_type": "stream",
     "text": [
      "[I 2025-06-24 01:18:49,976] Trial 105 finished with value: 0.6254597999184226 and parameters: {'num_leaves': 105, 'learning_rate': 0.031803056833435386, 'n_estimators': 293, 'max_depth': 27, 'min_child_samples': 13, 'subsample': 0.9097449054663392, 'colsample_bytree': 0.866528430747841, 'lambda_l1': 6.242749484292766e-05, 'lambda_l2': 0.021286644257597107, 'min_gain_to_split': 0.11567914246119028}. Best is trial 102 with value: 0.6246465192500056.\n"
     ]
    },
    {
     "name": "stdout",
     "output_type": "stream",
     "text": [
      "Did not meet early stopping. Best iteration is:\n",
      "[246]\tvalid_0's l2: 0.093683\n",
      "Training until validation scores don't improve for 50 rounds\n",
      "Early stopping, best iteration is:\n",
      "[196]\tvalid_0's l2: 2.09878\n",
      "Training until validation scores don't improve for 50 rounds\n",
      "Early stopping, best iteration is:\n",
      "[221]\tvalid_0's l2: 0.630259\n",
      "Training until validation scores don't improve for 50 rounds\n",
      "Early stopping, best iteration is:\n",
      "[228]\tvalid_0's l2: 0.0434022\n",
      "Training until validation scores don't improve for 50 rounds\n",
      "Early stopping, best iteration is:\n",
      "[234]\tvalid_0's l2: 0.137078\n",
      "Training until validation scores don't improve for 50 rounds\n"
     ]
    },
    {
     "name": "stderr",
     "output_type": "stream",
     "text": [
      "[I 2025-06-24 01:18:51,073] Trial 106 finished with value: 0.6257042051664109 and parameters: {'num_leaves': 106, 'learning_rate': 0.0323193497337607, 'n_estimators': 297, 'max_depth': 27, 'min_child_samples': 13, 'subsample': 0.922467621243666, 'colsample_bytree': 0.8639247197084021, 'lambda_l1': 0.00014123668558857307, 'lambda_l2': 0.01083076166199611, 'min_gain_to_split': 0.10976361917901822}. Best is trial 102 with value: 0.6246465192500056.\n"
     ]
    },
    {
     "name": "stdout",
     "output_type": "stream",
     "text": [
      "Early stopping, best iteration is:\n",
      "[240]\tvalid_0's l2: 0.0944604\n",
      "Training until validation scores don't improve for 50 rounds\n",
      "Early stopping, best iteration is:\n",
      "[194]\tvalid_0's l2: 2.12249\n",
      "Training until validation scores don't improve for 50 rounds\n",
      "Early stopping, best iteration is:\n",
      "[219]\tvalid_0's l2: 0.628928\n",
      "Training until validation scores don't improve for 50 rounds\n",
      "Did not meet early stopping. Best iteration is:\n",
      "[229]\tvalid_0's l2: 0.0435197\n",
      "Training until validation scores don't improve for 50 rounds\n",
      "Did not meet early stopping. Best iteration is:\n",
      "[232]\tvalid_0's l2: 0.138022\n",
      "Training until validation scores don't improve for 50 rounds\n"
     ]
    },
    {
     "name": "stderr",
     "output_type": "stream",
     "text": [
      "[I 2025-06-24 01:18:52,137] Trial 107 finished with value: 0.6272249705429489 and parameters: {'num_leaves': 106, 'learning_rate': 0.03296668044607353, 'n_estimators': 270, 'max_depth': 27, 'min_child_samples': 13, 'subsample': 0.9111288353253978, 'colsample_bytree': 0.8679600281287055, 'lambda_l1': 0.00011123890215535503, 'lambda_l2': 0.022919633338253597, 'min_gain_to_split': 0.11362709348028813}. Best is trial 102 with value: 0.6246465192500056.\n"
     ]
    },
    {
     "name": "stdout",
     "output_type": "stream",
     "text": [
      "Did not meet early stopping. Best iteration is:\n",
      "[233]\tvalid_0's l2: 0.0936797\n",
      "Training until validation scores don't improve for 50 rounds\n",
      "Early stopping, best iteration is:\n",
      "[103]\tvalid_0's l2: 2.1237\n",
      "Training until validation scores don't improve for 50 rounds\n",
      "Early stopping, best iteration is:\n",
      "[118]\tvalid_0's l2: 0.634279\n",
      "Training until validation scores don't improve for 50 rounds\n",
      "Early stopping, best iteration is:\n",
      "[125]\tvalid_0's l2: 0.0432911\n",
      "Training until validation scores don't improve for 50 rounds\n",
      "Early stopping, best iteration is:\n",
      "[128]\tvalid_0's l2: 0.138716\n"
     ]
    },
    {
     "name": "stderr",
     "output_type": "stream",
     "text": [
      "[I 2025-06-24 01:18:52,688] Trial 108 finished with value: 0.6282717037350563 and parameters: {'num_leaves': 110, 'learning_rate': 0.058828594905789566, 'n_estimators': 259, 'max_depth': 26, 'min_child_samples': 13, 'subsample': 0.9114496445347711, 'colsample_bytree': 0.8668734611489148, 'lambda_l1': 0.00014019501411669243, 'lambda_l2': 0.02459150797916712, 'min_gain_to_split': 0.17666571513989215}. Best is trial 102 with value: 0.6246465192500056.\n"
     ]
    },
    {
     "name": "stdout",
     "output_type": "stream",
     "text": [
      "Training until validation scores don't improve for 50 rounds\n",
      "Early stopping, best iteration is:\n",
      "[129]\tvalid_0's l2: 0.0943344\n",
      "Training until validation scores don't improve for 50 rounds\n",
      "Early stopping, best iteration is:\n",
      "[128]\tvalid_0's l2: 1.76739\n",
      "Training until validation scores don't improve for 50 rounds\n",
      "Early stopping, best iteration is:\n",
      "[143]\tvalid_0's l2: 0.842074\n",
      "Training until validation scores don't improve for 50 rounds\n",
      "Early stopping, best iteration is:\n",
      "[141]\tvalid_0's l2: 0.0438782\n",
      "Training until validation scores don't improve for 50 rounds\n",
      "Early stopping, best iteration is:\n",
      "[152]\tvalid_0's l2: 0.138109\n",
      "Training until validation scores don't improve for 50 rounds\n"
     ]
    },
    {
     "name": "stderr",
     "output_type": "stream",
     "text": [
      "[I 2025-06-24 01:18:53,454] Trial 109 finished with value: 0.6268366391157024 and parameters: {'num_leaves': 104, 'learning_rate': 0.05179731215680194, 'n_estimators': 254, 'max_depth': 26, 'min_child_samples': 21, 'subsample': 0.9114200341918097, 'colsample_bytree': 0.868084082993846, 'lambda_l1': 0.0001295285431806556, 'lambda_l2': 0.07570256565265737, 'min_gain_to_split': 0.05725041204179856}. Best is trial 102 with value: 0.6246465192500056.\n"
     ]
    },
    {
     "name": "stdout",
     "output_type": "stream",
     "text": [
      "Early stopping, best iteration is:\n",
      "[156]\tvalid_0's l2: 0.0936373\n",
      "Training until validation scores don't improve for 50 rounds\n",
      "Early stopping, best iteration is:\n",
      "[151]\tvalid_0's l2: 2.31396\n",
      "Training until validation scores don't improve for 50 rounds\n",
      "Early stopping, best iteration is:\n",
      "[153]\tvalid_0's l2: 0.834246\n",
      "Training until validation scores don't improve for 50 rounds\n",
      "Early stopping, best iteration is:\n",
      "[161]\tvalid_0's l2: 0.0442005\n",
      "Training until validation scores don't improve for 50 rounds\n",
      "Early stopping, best iteration is:\n",
      "[164]\tvalid_0's l2: 0.137383\n",
      "Training until validation scores don't improve for 50 rounds\n",
      "Early stopping, best iteration is:\n",
      "[169]\tvalid_0's l2: 0.0935255\n"
     ]
    },
    {
     "name": "stderr",
     "output_type": "stream",
     "text": [
      "[I 2025-06-24 01:18:54,124] Trial 110 finished with value: 0.6642506728350034 and parameters: {'num_leaves': 104, 'learning_rate': 0.04585970556449799, 'n_estimators': 274, 'max_depth': 27, 'min_child_samples': 22, 'subsample': 0.9257503186054562, 'colsample_bytree': 0.8779624290529775, 'lambda_l1': 2.707227108181294e-05, 'lambda_l2': 0.07613150521355734, 'min_gain_to_split': 0.14140150537042415}. Best is trial 102 with value: 0.6246465192500056.\n"
     ]
    },
    {
     "name": "stdout",
     "output_type": "stream",
     "text": [
      "Training until validation scores don't improve for 50 rounds\n",
      "Early stopping, best iteration is:\n",
      "[109]\tvalid_0's l2: 2.07548\n",
      "Training until validation scores don't improve for 50 rounds\n",
      "Early stopping, best iteration is:\n",
      "[124]\tvalid_0's l2: 0.735057\n",
      "Training until validation scores don't improve for 50 rounds\n",
      "Early stopping, best iteration is:\n",
      "[132]\tvalid_0's l2: 0.0423319\n",
      "Training until validation scores don't improve for 50 rounds\n",
      "Early stopping, best iteration is:\n",
      "[133]\tvalid_0's l2: 0.139053\n",
      "Training until validation scores don't improve for 50 rounds\n"
     ]
    },
    {
     "name": "stderr",
     "output_type": "stream",
     "text": [
      "[I 2025-06-24 01:18:54,724] Trial 111 finished with value: 0.6368931113556824 and parameters: {'num_leaves': 109, 'learning_rate': 0.05576802756791204, 'n_estimators': 248, 'max_depth': 26, 'min_child_samples': 14, 'subsample': 0.9069491853800147, 'colsample_bytree': 0.8657751280833923, 'lambda_l1': 0.00012453521961934409, 'lambda_l2': 0.02310330664289091, 'min_gain_to_split': 0.17602561037435677}. Best is trial 102 with value: 0.6246465192500056.\n"
     ]
    },
    {
     "name": "stdout",
     "output_type": "stream",
     "text": [
      "Early stopping, best iteration is:\n",
      "[134]\tvalid_0's l2: 0.0947493\n",
      "Training until validation scores don't improve for 50 rounds\n",
      "Early stopping, best iteration is:\n",
      "[104]\tvalid_0's l2: 1.93311\n",
      "Training until validation scores don't improve for 50 rounds\n",
      "Early stopping, best iteration is:\n",
      "[115]\tvalid_0's l2: 0.809767\n",
      "Training until validation scores don't improve for 50 rounds\n",
      "Early stopping, best iteration is:\n",
      "[119]\tvalid_0's l2: 0.0424893\n",
      "Training until validation scores don't improve for 50 rounds\n"
     ]
    },
    {
     "name": "stderr",
     "output_type": "stream",
     "text": [
      "[I 2025-06-24 01:18:55,296] Trial 112 finished with value: 0.6343679097960753 and parameters: {'num_leaves': 113, 'learning_rate': 0.06171897641665074, 'n_estimators': 236, 'max_depth': 27, 'min_child_samples': 19, 'subsample': 0.9145497008619085, 'colsample_bytree': 0.8551845363385964, 'lambda_l1': 5.618606494910166e-05, 'lambda_l2': 0.005756297928038504, 'min_gain_to_split': 0.10492983990839101}. Best is trial 102 with value: 0.6246465192500056.\n"
     ]
    },
    {
     "name": "stdout",
     "output_type": "stream",
     "text": [
      "Early stopping, best iteration is:\n",
      "[123]\tvalid_0's l2: 0.136531\n",
      "Training until validation scores don't improve for 50 rounds\n",
      "Early stopping, best iteration is:\n",
      "[129]\tvalid_0's l2: 0.0936203\n",
      "Training until validation scores don't improve for 50 rounds\n",
      "Early stopping, best iteration is:\n",
      "[91]\tvalid_0's l2: 2.25001\n",
      "Training until validation scores don't improve for 50 rounds\n",
      "Early stopping, best iteration is:\n",
      "[103]\tvalid_0's l2: 0.621447\n",
      "Training until validation scores don't improve for 50 rounds\n",
      "Early stopping, best iteration is:\n",
      "[108]\tvalid_0's l2: 0.0428689\n",
      "Training until validation scores don't improve for 50 rounds\n",
      "Early stopping, best iteration is:\n",
      "[111]\tvalid_0's l2: 0.138424\n",
      "Training until validation scores don't improve for 50 rounds\n"
     ]
    },
    {
     "name": "stderr",
     "output_type": "stream",
     "text": [
      "[I 2025-06-24 01:18:55,842] Trial 113 finished with value: 0.634492657274946 and parameters: {'num_leaves': 97, 'learning_rate': 0.07227760538424792, 'n_estimators': 262, 'max_depth': 25, 'min_child_samples': 13, 'subsample': 0.9407307030473868, 'colsample_bytree': 0.8683389437579669, 'lambda_l1': 0.00016642095259348402, 'lambda_l2': 0.10036596922685984, 'min_gain_to_split': 0.06070061872285902}. Best is trial 102 with value: 0.6246465192500056.\n"
     ]
    },
    {
     "name": "stdout",
     "output_type": "stream",
     "text": [
      "Early stopping, best iteration is:\n",
      "[107]\tvalid_0's l2: 0.0930483\n",
      "Training until validation scores don't improve for 50 rounds\n",
      "Early stopping, best iteration is:\n",
      "[192]\tvalid_0's l2: 2.71651\n",
      "Training until validation scores don't improve for 50 rounds\n",
      "Early stopping, best iteration is:\n",
      "[212]\tvalid_0's l2: 0.820592\n",
      "Training until validation scores don't improve for 50 rounds\n",
      "Early stopping, best iteration is:\n",
      "[225]\tvalid_0's l2: 0.0429292\n",
      "Training until validation scores don't improve for 50 rounds\n",
      "Early stopping, best iteration is:\n",
      "[233]\tvalid_0's l2: 0.13738\n",
      "Training until validation scores don't improve for 50 rounds\n"
     ]
    },
    {
     "name": "stderr",
     "output_type": "stream",
     "text": [
      "[I 2025-06-24 01:18:56,805] Trial 114 finished with value: 0.6875800267988833 and parameters: {'num_leaves': 110, 'learning_rate': 0.03328391036278367, 'n_estimators': 292, 'max_depth': 26, 'min_child_samples': 15, 'subsample': 0.9206837309485321, 'colsample_bytree': 0.9040475859401829, 'lambda_l1': 3.839102131058407e-05, 'lambda_l2': 0.031262939644075984, 'min_gain_to_split': 0.11436748959398094}. Best is trial 102 with value: 0.6246465192500056.\n"
     ]
    },
    {
     "name": "stdout",
     "output_type": "stream",
     "text": [
      "Early stopping, best iteration is:\n",
      "[236]\tvalid_0's l2: 0.093641\n",
      "Training until validation scores don't improve for 50 rounds\n",
      "Early stopping, best iteration is:\n",
      "[170]\tvalid_0's l2: 2.24088\n",
      "Training until validation scores don't improve for 50 rounds\n",
      "Early stopping, best iteration is:\n",
      "[193]\tvalid_0's l2: 0.841034\n",
      "Training until validation scores don't improve for 50 rounds\n",
      "Early stopping, best iteration is:\n",
      "[200]\tvalid_0's l2: 0.0532471\n",
      "Training until validation scores don't improve for 50 rounds\n",
      "Early stopping, best iteration is:\n",
      "[205]\tvalid_0's l2: 0.141667\n",
      "Training until validation scores don't improve for 50 rounds\n",
      "Early stopping, best iteration is:\n",
      "[207]\tvalid_0's l2: 0.108452\n"
     ]
    },
    {
     "name": "stderr",
     "output_type": "stream",
     "text": [
      "[I 2025-06-24 01:18:57,491] Trial 115 finished with value: 0.6700996941201082 and parameters: {'num_leaves': 106, 'learning_rate': 0.037212583416094326, 'n_estimators': 279, 'max_depth': 28, 'min_child_samples': 17, 'subsample': 0.9068601144916293, 'colsample_bytree': 0.6028988639733837, 'lambda_l1': 0.00011068633357368737, 'lambda_l2': 0.3387860480166328, 'min_gain_to_split': 0.1914613827460248}. Best is trial 102 with value: 0.6246465192500056.\n"
     ]
    },
    {
     "name": "stdout",
     "output_type": "stream",
     "text": [
      "Training until validation scores don't improve for 50 rounds\n",
      "Early stopping, best iteration is:\n",
      "[191]\tvalid_0's l2: 2.61483\n",
      "Training until validation scores don't improve for 50 rounds\n",
      "Early stopping, best iteration is:\n",
      "[189]\tvalid_0's l2: 0.921211\n",
      "Training until validation scores don't improve for 50 rounds\n",
      "Early stopping, best iteration is:\n",
      "[191]\tvalid_0's l2: 0.0426698\n",
      "Training until validation scores don't improve for 50 rounds\n",
      "Early stopping, best iteration is:\n",
      "[193]\tvalid_0's l2: 0.140957\n",
      "Training until validation scores don't improve for 50 rounds\n",
      "Early stopping, best iteration is:\n",
      "[201]\tvalid_0's l2: 0.0916616\n"
     ]
    },
    {
     "name": "stderr",
     "output_type": "stream",
     "text": [
      "[I 2025-06-24 01:18:58,264] Trial 116 finished with value: 0.6923213858500963 and parameters: {'num_leaves': 100, 'learning_rate': 0.04022311315577927, 'n_estimators': 260, 'max_depth': 24, 'min_child_samples': 30, 'subsample': 0.9298740108010086, 'colsample_bytree': 0.8813676633747337, 'lambda_l1': 6.657353154284201e-05, 'lambda_l2': 0.10622954357107098, 'min_gain_to_split': 0.08991308466940351}. Best is trial 102 with value: 0.6246465192500056.\n"
     ]
    },
    {
     "name": "stdout",
     "output_type": "stream",
     "text": [
      "Training until validation scores don't improve for 50 rounds\n",
      "Did not meet early stopping. Best iteration is:\n",
      "[202]\tvalid_0's l2: 1.82206\n",
      "Training until validation scores don't improve for 50 rounds\n",
      "Did not meet early stopping. Best iteration is:\n",
      "[217]\tvalid_0's l2: 0.827105\n",
      "Training until validation scores don't improve for 50 rounds\n",
      "Did not meet early stopping. Best iteration is:\n",
      "[216]\tvalid_0's l2: 0.0431429\n",
      "Training until validation scores don't improve for 50 rounds\n",
      "Did not meet early stopping. Best iteration is:\n",
      "[217]\tvalid_0's l2: 0.138896\n",
      "Training until validation scores don't improve for 50 rounds\n"
     ]
    },
    {
     "name": "stderr",
     "output_type": "stream",
     "text": [
      "[I 2025-06-24 01:18:59,179] Trial 117 finished with value: 0.6294619580037081 and parameters: {'num_leaves': 116, 'learning_rate': 0.03105174111799344, 'n_estimators': 217, 'max_depth': 27, 'min_child_samples': 21, 'subsample': 0.9520508084495508, 'colsample_bytree': 0.8601814861770729, 'lambda_l1': 8.229205298803928e-05, 'lambda_l2': 0.013028072301245365, 'min_gain_to_split': 0.14478098992293148}. Best is trial 102 with value: 0.6246465192500056.\n"
     ]
    },
    {
     "name": "stdout",
     "output_type": "stream",
     "text": [
      "Did not meet early stopping. Best iteration is:\n",
      "[217]\tvalid_0's l2: 0.0946322\n",
      "Training until validation scores don't improve for 50 rounds\n",
      "Early stopping, best iteration is:\n",
      "[132]\tvalid_0's l2: 2.19139\n",
      "Training until validation scores don't improve for 50 rounds\n",
      "Early stopping, best iteration is:\n",
      "[147]\tvalid_0's l2: 0.637356\n",
      "Training until validation scores don't improve for 50 rounds\n",
      "Early stopping, best iteration is:\n",
      "[151]\tvalid_0's l2: 0.0442617\n",
      "Training until validation scores don't improve for 50 rounds\n",
      "Early stopping, best iteration is:\n",
      "[156]\tvalid_0's l2: 0.138585\n",
      "Training until validation scores don't improve for 50 rounds\n",
      "Early stopping, best iteration is:\n",
      "[164]\tvalid_0's l2: 0.0935798\n"
     ]
    },
    {
     "name": "stderr",
     "output_type": "stream",
     "text": [
      "[I 2025-06-24 01:18:59,906] Trial 118 finished with value: 0.6334488519401982 and parameters: {'num_leaves': 95, 'learning_rate': 0.05047415077523109, 'n_estimators': 299, 'max_depth': 29, 'min_child_samples': 12, 'subsample': 0.9095404420285499, 'colsample_bytree': 0.8489623490422936, 'lambda_l1': 0.000222660569522358, 'lambda_l2': 0.0021232555558540816, 'min_gain_to_split': 0.05403559502684969}. Best is trial 102 with value: 0.6246465192500056.\n"
     ]
    },
    {
     "name": "stdout",
     "output_type": "stream",
     "text": [
      "Training until validation scores don't improve for 50 rounds\n",
      "Early stopping, best iteration is:\n",
      "[86]\tvalid_0's l2: 1.84126\n",
      "Training until validation scores don't improve for 50 rounds\n",
      "Early stopping, best iteration is:\n",
      "[93]\tvalid_0's l2: 0.822371\n",
      "Training until validation scores don't improve for 50 rounds\n",
      "Early stopping, best iteration is:\n",
      "[97]\tvalid_0's l2: 0.0426034\n",
      "Training until validation scores don't improve for 50 rounds\n",
      "Early stopping, best iteration is:\n",
      "[101]\tvalid_0's l2: 0.136087\n",
      "Training until validation scores don't improve for 50 rounds\n",
      "Early stopping, best iteration is:\n",
      "[103]\tvalid_0's l2: 0.0915369\n"
     ]
    },
    {
     "name": "stderr",
     "output_type": "stream",
     "text": [
      "[I 2025-06-24 01:19:00,387] Trial 119 finished with value: 0.6283267536053363 and parameters: {'num_leaves': 104, 'learning_rate': 0.0753902969248262, 'n_estimators': 254, 'max_depth': 27, 'min_child_samples': 19, 'subsample': 0.8701313627294298, 'colsample_bytree': 0.8938704270441544, 'lambda_l1': 2.070045444315196e-05, 'lambda_l2': 0.04211732531092002, 'min_gain_to_split': 0.1132402572535074}. Best is trial 102 with value: 0.6246465192500056.\n"
     ]
    },
    {
     "name": "stdout",
     "output_type": "stream",
     "text": [
      "Training until validation scores don't improve for 50 rounds\n",
      "Early stopping, best iteration is:\n",
      "[162]\tvalid_0's l2: 2.26462\n",
      "Training until validation scores don't improve for 50 rounds\n",
      "Early stopping, best iteration is:\n",
      "[150]\tvalid_0's l2: 0.853235\n",
      "Training until validation scores don't improve for 50 rounds\n",
      "Early stopping, best iteration is:\n",
      "[156]\tvalid_0's l2: 0.0424668\n",
      "Training until validation scores don't improve for 50 rounds\n",
      "Early stopping, best iteration is:\n",
      "[160]\tvalid_0's l2: 0.137866\n",
      "Training until validation scores don't improve for 50 rounds\n"
     ]
    },
    {
     "name": "stderr",
     "output_type": "stream",
     "text": [
      "[I 2025-06-24 01:19:00,977] Trial 120 finished with value: 0.6623734100929621 and parameters: {'num_leaves': 106, 'learning_rate': 0.04619098477612739, 'n_estimators': 270, 'max_depth': 24, 'min_child_samples': 26, 'subsample': 0.939925842736565, 'colsample_bytree': 0.8734949781699004, 'lambda_l1': 0.00017018187364839223, 'lambda_l2': 0.005906200057988223, 'min_gain_to_split': 0.17096259109000767}. Best is trial 102 with value: 0.6246465192500056.\n"
     ]
    },
    {
     "name": "stdout",
     "output_type": "stream",
     "text": [
      "Early stopping, best iteration is:\n",
      "[166]\tvalid_0's l2: 0.0935839\n",
      "Training until validation scores don't improve for 50 rounds\n",
      "Early stopping, best iteration is:\n",
      "[89]\tvalid_0's l2: 1.77084\n",
      "Training until validation scores don't improve for 50 rounds\n",
      "Early stopping, best iteration is:\n",
      "[97]\tvalid_0's l2: 0.798882\n",
      "Training until validation scores don't improve for 50 rounds\n",
      "Early stopping, best iteration is:\n",
      "[102]\tvalid_0's l2: 0.042399\n",
      "Training until validation scores don't improve for 50 rounds\n",
      "Early stopping, best iteration is:\n",
      "[101]\tvalid_0's l2: 0.136277\n",
      "Training until validation scores don't improve for 50 rounds\n"
     ]
    },
    {
     "name": "stderr",
     "output_type": "stream",
     "text": [
      "[I 2025-06-24 01:19:01,497] Trial 121 finished with value: 0.620941341022382 and parameters: {'num_leaves': 103, 'learning_rate': 0.07388163691069162, 'n_estimators': 252, 'max_depth': 27, 'min_child_samples': 19, 'subsample': 0.8710148509302867, 'colsample_bytree': 0.8933785480332813, 'lambda_l1': 1.725469744768315e-05, 'lambda_l2': 0.04905364910420104, 'min_gain_to_split': 0.09056695749382586}. Best is trial 121 with value: 0.620941341022382.\n"
     ]
    },
    {
     "name": "stdout",
     "output_type": "stream",
     "text": [
      "Early stopping, best iteration is:\n",
      "[105]\tvalid_0's l2: 0.0930916\n",
      "Training until validation scores don't improve for 50 rounds\n",
      "Early stopping, best iteration is:\n",
      "[61]\tvalid_0's l2: 2.75684\n",
      "Training until validation scores don't improve for 50 rounds\n",
      "Early stopping, best iteration is:\n",
      "[87]\tvalid_0's l2: 0.807601\n",
      "Training until validation scores don't improve for 50 rounds\n",
      "Early stopping, best iteration is:\n",
      "[87]\tvalid_0's l2: 0.0440846\n",
      "Training until validation scores don't improve for 50 rounds\n",
      "Early stopping, best iteration is:\n",
      "[92]\tvalid_0's l2: 0.139072\n",
      "Training until validation scores don't improve for 50 rounds\n"
     ]
    },
    {
     "name": "stderr",
     "output_type": "stream",
     "text": [
      "[I 2025-06-24 01:19:01,964] Trial 122 finished with value: 0.6898018404539541 and parameters: {'num_leaves': 102, 'learning_rate': 0.0827262521339357, 'n_estimators': 242, 'max_depth': 28, 'min_child_samples': 15, 'subsample': 0.9228486530133553, 'colsample_bytree': 0.9166775330426457, 'lambda_l1': 0.0003821389051038301, 'lambda_l2': 0.01968846397777127, 'min_gain_to_split': 0.08554121400261466}. Best is trial 121 with value: 0.620941341022382.\n"
     ]
    },
    {
     "name": "stdout",
     "output_type": "stream",
     "text": [
      "Early stopping, best iteration is:\n",
      "[98]\tvalid_0's l2: 0.0942989\n",
      "Training until validation scores don't improve for 50 rounds\n",
      "Early stopping, best iteration is:\n",
      "[72]\tvalid_0's l2: 2.14183\n",
      "Training until validation scores don't improve for 50 rounds\n",
      "Early stopping, best iteration is:\n",
      "[80]\tvalid_0's l2: 0.629633\n",
      "Training until validation scores don't improve for 50 rounds\n",
      "Early stopping, best iteration is:\n",
      "[81]\tvalid_0's l2: 0.0437386\n",
      "Training until validation scores don't improve for 50 rounds\n",
      "Early stopping, best iteration is:\n",
      "[86]\tvalid_0's l2: 0.137803\n",
      "Training until validation scores don't improve for 50 rounds\n"
     ]
    },
    {
     "name": "stderr",
     "output_type": "stream",
     "text": [
      "[I 2025-06-24 01:19:02,441] Trial 123 finished with value: 0.6288674009067124 and parameters: {'num_leaves': 99, 'learning_rate': 0.09053877950795583, 'n_estimators': 294, 'max_depth': 26, 'min_child_samples': 13, 'subsample': 0.8991184584868821, 'colsample_bytree': 0.90225384824212, 'lambda_l1': 4.552317261538022e-05, 'lambda_l2': 0.07054475465296532, 'min_gain_to_split': 0.05841108262971698}. Best is trial 121 with value: 0.620941341022382.\n"
     ]
    },
    {
     "name": "stdout",
     "output_type": "stream",
     "text": [
      "Early stopping, best iteration is:\n",
      "[90]\tvalid_0's l2: 0.0942407\n",
      "Training until validation scores don't improve for 50 rounds\n",
      "Early stopping, best iteration is:\n",
      "[108]\tvalid_0's l2: 2.30481\n",
      "Training until validation scores don't improve for 50 rounds\n",
      "Early stopping, best iteration is:\n",
      "[123]\tvalid_0's l2: 0.639598\n",
      "Training until validation scores don't improve for 50 rounds\n",
      "Early stopping, best iteration is:\n",
      "[129]\tvalid_0's l2: 0.0436382\n",
      "Training until validation scores don't improve for 50 rounds\n"
     ]
    },
    {
     "name": "stderr",
     "output_type": "stream",
     "text": [
      "[I 2025-06-24 01:19:03,028] Trial 124 finished with value: 0.6429587460677902 and parameters: {'num_leaves': 110, 'learning_rate': 0.05718280001731171, 'n_estimators': 287, 'max_depth': 29, 'min_child_samples': 11, 'subsample': 0.9295365023758706, 'colsample_bytree': 0.8667200999716429, 'lambda_l1': 1.3456724358543258e-05, 'lambda_l2': 0.02560631628019872, 'min_gain_to_split': 0.14672376791169936}. Best is trial 121 with value: 0.620941341022382.\n"
     ]
    },
    {
     "name": "stdout",
     "output_type": "stream",
     "text": [
      "Early stopping, best iteration is:\n",
      "[131]\tvalid_0's l2: 0.138654\n",
      "Training until validation scores don't improve for 50 rounds\n",
      "Early stopping, best iteration is:\n",
      "[132]\tvalid_0's l2: 0.0996197\n",
      "Training until validation scores don't improve for 50 rounds\n",
      "Early stopping, best iteration is:\n",
      "[202]\tvalid_0's l2: 2.03275\n",
      "Training until validation scores don't improve for 50 rounds\n",
      "Early stopping, best iteration is:\n",
      "[223]\tvalid_0's l2: 0.821374\n",
      "Training until validation scores don't improve for 50 rounds\n",
      "Did not meet early stopping. Best iteration is:\n",
      "[236]\tvalid_0's l2: 0.0434479\n",
      "Training until validation scores don't improve for 50 rounds\n",
      "Did not meet early stopping. Best iteration is:\n",
      "[239]\tvalid_0's l2: 0.13961\n",
      "Training until validation scores don't improve for 50 rounds\n"
     ]
    },
    {
     "name": "stderr",
     "output_type": "stream",
     "text": [
      "[I 2025-06-24 01:19:04,073] Trial 125 finished with value: 0.6443549033026011 and parameters: {'num_leaves': 108, 'learning_rate': 0.03201623161018004, 'n_estimators': 278, 'max_depth': 27, 'min_child_samples': 18, 'subsample': 0.9160826933746815, 'colsample_bytree': 0.9358322492527552, 'lambda_l1': 2.9852382496803573e-05, 'lambda_l2': 0.15758246842922807, 'min_gain_to_split': 0.10937110690824342}. Best is trial 121 with value: 0.620941341022382.\n"
     ]
    },
    {
     "name": "stdout",
     "output_type": "stream",
     "text": [
      "Did not meet early stopping. Best iteration is:\n",
      "[246]\tvalid_0's l2: 0.0946462\n",
      "Training until validation scores don't improve for 50 rounds\n",
      "Did not meet early stopping. Best iteration is:\n",
      "[267]\tvalid_0's l2: 2.34529\n",
      "Training until validation scores don't improve for 50 rounds\n",
      "Did not meet early stopping. Best iteration is:\n",
      "[255]\tvalid_0's l2: 0.833297\n",
      "Training until validation scores don't improve for 50 rounds\n",
      "Did not meet early stopping. Best iteration is:\n",
      "[266]\tvalid_0's l2: 0.0434289\n",
      "Training until validation scores don't improve for 50 rounds\n",
      "Did not meet early stopping. Best iteration is:\n",
      "[267]\tvalid_0's l2: 0.135976\n",
      "Training until validation scores don't improve for 50 rounds\n"
     ]
    },
    {
     "name": "stderr",
     "output_type": "stream",
     "text": [
      "[I 2025-06-24 01:19:05,270] Trial 126 finished with value: 0.6650526224556546 and parameters: {'num_leaves': 96, 'learning_rate': 0.02867377232053541, 'n_estimators': 267, 'max_depth': 26, 'min_child_samples': 24, 'subsample': 0.902209114204287, 'colsample_bytree': 0.884037722466327, 'lambda_l1': 0.00010423072978201998, 'lambda_l2': 0.04670682829648242, 'min_gain_to_split': 0.0931616100051808}. Best is trial 121 with value: 0.620941341022382.\n"
     ]
    },
    {
     "name": "stdout",
     "output_type": "stream",
     "text": [
      "Did not meet early stopping. Best iteration is:\n",
      "[267]\tvalid_0's l2: 0.092314\n",
      "Training until validation scores don't improve for 50 rounds\n",
      "Early stopping, best iteration is:\n",
      "[145]\tvalid_0's l2: 2.20905\n",
      "Training until validation scores don't improve for 50 rounds\n",
      "Early stopping, best iteration is:\n",
      "[167]\tvalid_0's l2: 0.649484\n",
      "Training until validation scores don't improve for 50 rounds\n",
      "Early stopping, best iteration is:\n",
      "[174]\tvalid_0's l2: 0.0431627\n",
      "Training until validation scores don't improve for 50 rounds\n",
      "Early stopping, best iteration is:\n",
      "[174]\tvalid_0's l2: 0.139269\n",
      "Training until validation scores don't improve for 50 rounds\n",
      "Early stopping, best iteration is:\n",
      "[178]\tvalid_0's l2: 0.0963924\n"
     ]
    },
    {
     "name": "stderr",
     "output_type": "stream",
     "text": [
      "[I 2025-06-24 01:19:05,965] Trial 127 finished with value: 0.6367215011332579 and parameters: {'num_leaves': 101, 'learning_rate': 0.04189194332115175, 'n_estimators': 253, 'max_depth': 28, 'min_child_samples': 10, 'subsample': 0.947810716422444, 'colsample_bytree': 0.8551560246519581, 'lambda_l1': 7.555988180531566e-06, 'lambda_l2': 0.011602092830532302, 'min_gain_to_split': 0.19806276456491315}. Best is trial 121 with value: 0.620941341022382.\n"
     ]
    },
    {
     "name": "stdout",
     "output_type": "stream",
     "text": [
      "Training until validation scores don't improve for 50 rounds\n",
      "Early stopping, best iteration is:\n",
      "[171]\tvalid_0's l2: 2.86235\n",
      "Training until validation scores don't improve for 50 rounds\n",
      "Early stopping, best iteration is:\n",
      "[192]\tvalid_0's l2: 0.803336\n",
      "Training until validation scores don't improve for 50 rounds\n",
      "Early stopping, best iteration is:\n",
      "[200]\tvalid_0's l2: 0.0429213\n",
      "Training until validation scores don't improve for 50 rounds\n",
      "Early stopping, best iteration is:\n",
      "[206]\tvalid_0's l2: 0.138522\n",
      "Training until validation scores don't improve for 50 rounds\n"
     ]
    },
    {
     "name": "stderr",
     "output_type": "stream",
     "text": [
      "[I 2025-06-24 01:19:06,825] Trial 128 finished with value: 0.6944671492543599 and parameters: {'num_leaves': 115, 'learning_rate': 0.03683301982187414, 'n_estimators': 262, 'max_depth': 25, 'min_child_samples': 16, 'subsample': 0.8716657627834586, 'colsample_bytree': 0.8774878347146781, 'lambda_l1': 7.474269328357124e-05, 'lambda_l2': 0.03304138826719668, 'min_gain_to_split': 0.1312285220815885}. Best is trial 121 with value: 0.620941341022382.\n"
     ]
    },
    {
     "name": "stdout",
     "output_type": "stream",
     "text": [
      "Did not meet early stopping. Best iteration is:\n",
      "[213]\tvalid_0's l2: 0.0929257\n",
      "Training until validation scores don't improve for 50 rounds\n",
      "Early stopping, best iteration is:\n",
      "[111]\tvalid_0's l2: 2.1075\n",
      "Training until validation scores don't improve for 50 rounds\n",
      "Early stopping, best iteration is:\n",
      "[124]\tvalid_0's l2: 0.622958\n",
      "Training until validation scores don't improve for 50 rounds\n",
      "Early stopping, best iteration is:\n",
      "[128]\tvalid_0's l2: 0.0429187\n",
      "Training until validation scores don't improve for 50 rounds\n",
      "Early stopping, best iteration is:\n",
      "[132]\tvalid_0's l2: 0.1365\n",
      "Training until validation scores don't improve for 50 rounds\n",
      "Early stopping, best iteration is:\n",
      "[139]\tvalid_0's l2: 0.0925405\n"
     ]
    },
    {
     "name": "stderr",
     "output_type": "stream",
     "text": [
      "[I 2025-06-24 01:19:07,485] Trial 129 finished with value: 0.6243661968284553 and parameters: {'num_leaves': 104, 'learning_rate': 0.05980642655899839, 'n_estimators': 227, 'max_depth': 24, 'min_child_samples': 13, 'subsample': 0.5692807803506723, 'colsample_bytree': 0.8931390325818289, 'lambda_l1': 0.00018216604644494228, 'lambda_l2': 0.019257201657313757, 'min_gain_to_split': 0.049563679343795075}. Best is trial 121 with value: 0.620941341022382.\n"
     ]
    },
    {
     "name": "stdout",
     "output_type": "stream",
     "text": [
      "Training until validation scores don't improve for 50 rounds\n",
      "Did not meet early stopping. Best iteration is:\n",
      "[196]\tvalid_0's l2: 1.78511\n",
      "Training until validation scores don't improve for 50 rounds\n",
      "Did not meet early stopping. Best iteration is:\n",
      "[205]\tvalid_0's l2: 0.838987\n",
      "Training until validation scores don't improve for 50 rounds\n",
      "Did not meet early stopping. Best iteration is:\n",
      "[205]\tvalid_0's l2: 0.0433757\n",
      "Training until validation scores don't improve for 50 rounds\n",
      "Did not meet early stopping. Best iteration is:\n",
      "[205]\tvalid_0's l2: 0.136109\n",
      "Training until validation scores don't improve for 50 rounds\n"
     ]
    },
    {
     "name": "stderr",
     "output_type": "stream",
     "text": [
      "[I 2025-06-24 01:19:08,565] Trial 130 finished with value: 0.6267573083995829 and parameters: {'num_leaves': 104, 'learning_rate': 0.03440157593835835, 'n_estimators': 205, 'max_depth': 30, 'min_child_samples': 21, 'subsample': 0.5510672283526661, 'colsample_bytree': 0.9108575779192237, 'lambda_l1': 0.00034145384307108877, 'lambda_l2': 0.05848328171064336, 'min_gain_to_split': 0.05278682056881272}. Best is trial 121 with value: 0.620941341022382.\n"
     ]
    },
    {
     "name": "stdout",
     "output_type": "stream",
     "text": [
      "Did not meet early stopping. Best iteration is:\n",
      "[205]\tvalid_0's l2: 0.0927475\n",
      "Training until validation scores don't improve for 50 rounds\n",
      "Did not meet early stopping. Best iteration is:\n",
      "[231]\tvalid_0's l2: 2.41613\n",
      "Training until validation scores don't improve for 50 rounds\n",
      "Did not meet early stopping. Best iteration is:\n",
      "[215]\tvalid_0's l2: 0.836266\n",
      "Training until validation scores don't improve for 50 rounds\n",
      "Did not meet early stopping. Best iteration is:\n",
      "[221]\tvalid_0's l2: 0.0442295\n",
      "Training until validation scores don't improve for 50 rounds\n",
      "Did not meet early stopping. Best iteration is:\n",
      "[228]\tvalid_0's l2: 0.138305\n",
      "Training until validation scores don't improve for 50 rounds\n"
     ]
    },
    {
     "name": "stderr",
     "output_type": "stream",
     "text": [
      "[I 2025-06-24 01:19:09,661] Trial 131 finished with value: 0.6712687497652736 and parameters: {'num_leaves': 104, 'learning_rate': 0.03510003843675632, 'n_estimators': 233, 'max_depth': 30, 'min_child_samples': 22, 'subsample': 0.5661969613504945, 'colsample_bytree': 0.9247433703653063, 'lambda_l1': 0.00021054115154697393, 'lambda_l2': 0.05941502352972318, 'min_gain_to_split': 0.04264112683206847}. Best is trial 121 with value: 0.620941341022382.\n"
     ]
    },
    {
     "name": "stdout",
     "output_type": "stream",
     "text": [
      "Did not meet early stopping. Best iteration is:\n",
      "[233]\tvalid_0's l2: 0.0931914\n",
      "Training until validation scores don't improve for 50 rounds\n",
      "Early stopping, best iteration is:\n",
      "[132]\tvalid_0's l2: 1.88787\n",
      "Training until validation scores don't improve for 50 rounds\n",
      "Early stopping, best iteration is:\n",
      "[149]\tvalid_0's l2: 0.823817\n",
      "Training until validation scores don't improve for 50 rounds\n",
      "Early stopping, best iteration is:\n",
      "[156]\tvalid_0's l2: 0.043443\n",
      "Training until validation scores don't improve for 50 rounds\n",
      "Early stopping, best iteration is:\n",
      "[157]\tvalid_0's l2: 0.138015\n",
      "Training until validation scores don't improve for 50 rounds\n",
      "Early stopping, best iteration is:\n",
      "[165]\tvalid_0's l2: 0.0944979\n"
     ]
    },
    {
     "name": "stderr",
     "output_type": "stream",
     "text": [
      "[I 2025-06-24 01:19:10,341] Trial 132 finished with value: 0.6337963732603573 and parameters: {'num_leaves': 98, 'learning_rate': 0.04942055636633506, 'n_estimators': 221, 'max_depth': 27, 'min_child_samples': 20, 'subsample': 0.5508024350638865, 'colsample_bytree': 0.9096271203027677, 'lambda_l1': 0.00040737626878438574, 'lambda_l2': 0.11735995032181191, 'min_gain_to_split': 0.06931112150093716}. Best is trial 121 with value: 0.620941341022382.\n"
     ]
    },
    {
     "name": "stdout",
     "output_type": "stream",
     "text": [
      "Training until validation scores don't improve for 50 rounds\n",
      "Early stopping, best iteration is:\n",
      "[91]\tvalid_0's l2: 2.56683\n",
      "Training until validation scores don't improve for 50 rounds\n",
      "Early stopping, best iteration is:\n",
      "[68]\tvalid_0's l2: 0.814042\n",
      "Training until validation scores don't improve for 50 rounds\n",
      "Early stopping, best iteration is:\n",
      "[106]\tvalid_0's l2: 0.0433048\n",
      "Training until validation scores don't improve for 50 rounds\n",
      "Early stopping, best iteration is:\n",
      "[109]\tvalid_0's l2: 0.135931\n",
      "Training until validation scores don't improve for 50 rounds\n"
     ]
    },
    {
     "name": "stderr",
     "output_type": "stream",
     "text": [
      "[I 2025-06-24 01:19:10,877] Trial 133 finished with value: 0.6769363740870026 and parameters: {'num_leaves': 95, 'learning_rate': 0.07267525663058522, 'n_estimators': 217, 'max_depth': 29, 'min_child_samples': 15, 'subsample': 0.5207507446853972, 'colsample_bytree': 0.8895983892994163, 'lambda_l1': 1.7822418930465814e-05, 'lambda_l2': 0.017425904931119583, 'min_gain_to_split': 0.054233662553146766}. Best is trial 121 with value: 0.620941341022382.\n"
     ]
    },
    {
     "name": "stdout",
     "output_type": "stream",
     "text": [
      "Early stopping, best iteration is:\n",
      "[112]\tvalid_0's l2: 0.0921242\n",
      "Training until validation scores don't improve for 50 rounds\n",
      "Did not meet early stopping. Best iteration is:\n",
      "[177]\tvalid_0's l2: 3.69105\n",
      "Training until validation scores don't improve for 50 rounds\n",
      "Early stopping, best iteration is:\n",
      "[149]\tvalid_0's l2: 0.965446\n",
      "Training until validation scores don't improve for 50 rounds\n",
      "Early stopping, best iteration is:\n",
      "[105]\tvalid_0's l2: 0.0406\n"
     ]
    },
    {
     "name": "stderr",
     "output_type": "stream",
     "text": [
      "[I 2025-06-24 01:19:11,257] Trial 134 finished with value: 0.760213506788511 and parameters: {'num_leaves': 106, 'learning_rate': 0.09672928750003579, 'n_estimators': 226, 'max_depth': 28, 'min_child_samples': 55, 'subsample': 0.5823992374721042, 'colsample_bytree': 0.9012173474612419, 'lambda_l1': 4.7476359717433314e-05, 'lambda_l2': 0.007408299436514055, 'min_gain_to_split': 0.091900307804942}. Best is trial 121 with value: 0.620941341022382.\n"
     ]
    },
    {
     "name": "stdout",
     "output_type": "stream",
     "text": [
      "Training until validation scores don't improve for 50 rounds\n",
      "Early stopping, best iteration is:\n",
      "[109]\tvalid_0's l2: 0.144607\n",
      "Training until validation scores don't improve for 50 rounds\n",
      "Early stopping, best iteration is:\n",
      "[78]\tvalid_0's l2: 0.0995513\n",
      "Training until validation scores don't improve for 50 rounds\n",
      "Did not meet early stopping. Best iteration is:\n",
      "[200]\tvalid_0's l2: 2.56621\n",
      "Training until validation scores don't improve for 50 rounds\n",
      "Did not meet early stopping. Best iteration is:\n",
      "[200]\tvalid_0's l2: 0.779666\n",
      "Training until validation scores don't improve for 50 rounds\n",
      "Did not meet early stopping. Best iteration is:\n",
      "[200]\tvalid_0's l2: 0.0582145\n",
      "Training until validation scores don't improve for 50 rounds\n",
      "Did not meet early stopping. Best iteration is:\n",
      "[200]\tvalid_0's l2: 0.159081\n",
      "Training until validation scores don't improve for 50 rounds\n"
     ]
    },
    {
     "name": "stderr",
     "output_type": "stream",
     "text": [
      "[I 2025-06-24 01:19:11,787] Trial 135 finished with value: 0.6950995288966119 and parameters: {'num_leaves': 102, 'learning_rate': 0.022259211417435025, 'n_estimators': 200, 'max_depth': 30, 'min_child_samples': 10, 'subsample': 0.5342058097755586, 'colsample_bytree': 0.8486709322618468, 'lambda_l1': 1.3569294692096783, 'lambda_l2': 0.07319993590038477, 'min_gain_to_split': 0.8682940524203095}. Best is trial 121 with value: 0.620941341022382.\n"
     ]
    },
    {
     "name": "stdout",
     "output_type": "stream",
     "text": [
      "Did not meet early stopping. Best iteration is:\n",
      "[200]\tvalid_0's l2: 0.122811\n",
      "Training until validation scores don't improve for 50 rounds\n",
      "Did not meet early stopping. Best iteration is:\n",
      "[208]\tvalid_0's l2: 5.70511\n",
      "Training until validation scores don't improve for 50 rounds\n",
      "Did not meet early stopping. Best iteration is:\n",
      "[212]\tvalid_0's l2: 1.47062\n",
      "Training until validation scores don't improve for 50 rounds\n",
      "Did not meet early stopping. Best iteration is:\n",
      "[211]\tvalid_0's l2: 0.0403644\n",
      "Training until validation scores don't improve for 50 rounds\n",
      "Did not meet early stopping. Best iteration is:\n",
      "[212]\tvalid_0's l2: 0.142588\n",
      "Training until validation scores don't improve for 50 rounds\n"
     ]
    },
    {
     "name": "stderr",
     "output_type": "stream",
     "text": [
      "[I 2025-06-24 01:19:12,529] Trial 136 finished with value: 0.9031541399673 and parameters: {'num_leaves': 99, 'learning_rate': 0.030510091806318498, 'n_estimators': 212, 'max_depth': 27, 'min_child_samples': 80, 'subsample': 0.5547340863376189, 'colsample_bytree': 0.8756920784832557, 'lambda_l1': 0.00010535470757881396, 'lambda_l2': 0.03620120619851845, 'min_gain_to_split': 0.027810796349722944}. Best is trial 121 with value: 0.620941341022382.\n"
     ]
    },
    {
     "name": "stdout",
     "output_type": "stream",
     "text": [
      "Did not meet early stopping. Best iteration is:\n",
      "[211]\tvalid_0's l2: 0.112914\n",
      "Training until validation scores don't improve for 50 rounds\n",
      "Did not meet early stopping. Best iteration is:\n",
      "[198]\tvalid_0's l2: 2.09011\n",
      "Training until validation scores don't improve for 50 rounds\n",
      "Did not meet early stopping. Best iteration is:\n",
      "[205]\tvalid_0's l2: 0.62977\n",
      "Training until validation scores don't improve for 50 rounds\n",
      "Did not meet early stopping. Best iteration is:\n",
      "[204]\tvalid_0's l2: 0.0438678\n",
      "Training until validation scores don't improve for 50 rounds\n",
      "Did not meet early stopping. Best iteration is:\n",
      "[205]\tvalid_0's l2: 0.138408\n",
      "Training until validation scores don't improve for 50 rounds\n"
     ]
    },
    {
     "name": "stderr",
     "output_type": "stream",
     "text": [
      "[I 2025-06-24 01:19:13,593] Trial 137 finished with value: 0.6254734044781312 and parameters: {'num_leaves': 112, 'learning_rate': 0.03302297283883418, 'n_estimators': 205, 'max_depth': 29, 'min_child_samples': 13, 'subsample': 0.8932625833556254, 'colsample_bytree': 0.8918938976413108, 'lambda_l1': 0.0003136053328263733, 'lambda_l2': 0.011249063828308389, 'min_gain_to_split': 0.06998451469925779}. Best is trial 121 with value: 0.620941341022382.\n"
     ]
    },
    {
     "name": "stdout",
     "output_type": "stream",
     "text": [
      "Did not meet early stopping. Best iteration is:\n",
      "[204]\tvalid_0's l2: 0.0939957\n",
      "Training until validation scores don't improve for 50 rounds\n",
      "Did not meet early stopping. Best iteration is:\n",
      "[166]\tvalid_0's l2: 2.17999\n",
      "Training until validation scores don't improve for 50 rounds\n",
      "Did not meet early stopping. Best iteration is:\n",
      "[184]\tvalid_0's l2: 0.654127\n",
      "Training until validation scores don't improve for 50 rounds\n",
      "Did not meet early stopping. Best iteration is:\n",
      "[194]\tvalid_0's l2: 0.0435939\n",
      "Training until validation scores don't improve for 50 rounds\n",
      "Did not meet early stopping. Best iteration is:\n",
      "[197]\tvalid_0's l2: 0.140575\n",
      "Training until validation scores don't improve for 50 rounds\n"
     ]
    },
    {
     "name": "stderr",
     "output_type": "stream",
     "text": [
      "[I 2025-06-24 01:19:14,368] Trial 138 finished with value: 0.6348257105361669 and parameters: {'num_leaves': 113, 'learning_rate': 0.03870997100858151, 'n_estimators': 212, 'max_depth': 24, 'min_child_samples': 13, 'subsample': 0.8961292892482574, 'colsample_bytree': 0.9149631916629605, 'lambda_l1': 0.00018364935886189555, 'lambda_l2': 0.5300493728382486, 'min_gain_to_split': 0.12566045314210073}. Best is trial 121 with value: 0.620941341022382.\n"
     ]
    },
    {
     "name": "stdout",
     "output_type": "stream",
     "text": [
      "Did not meet early stopping. Best iteration is:\n",
      "[198]\tvalid_0's l2: 0.0931122\n",
      "Training until validation scores don't improve for 50 rounds\n",
      "Early stopping, best iteration is:\n",
      "[161]\tvalid_0's l2: 2.30404\n",
      "Training until validation scores don't improve for 50 rounds\n",
      "Early stopping, best iteration is:\n",
      "[156]\tvalid_0's l2: 0.852225\n",
      "Training until validation scores don't improve for 50 rounds\n",
      "Early stopping, best iteration is:\n",
      "[166]\tvalid_0's l2: 0.0433906\n",
      "Training until validation scores don't improve for 50 rounds\n",
      "Early stopping, best iteration is:\n",
      "[165]\tvalid_0's l2: 0.138265\n",
      "Training until validation scores don't improve for 50 rounds\n",
      "Early stopping, best iteration is:\n",
      "[171]\tvalid_0's l2: 0.0930586\n"
     ]
    },
    {
     "name": "stderr",
     "output_type": "stream",
     "text": [
      "[I 2025-06-24 01:19:15,022] Trial 139 finished with value: 0.6652530551408231 and parameters: {'num_leaves': 105, 'learning_rate': 0.04466993611558678, 'n_estimators': 243, 'max_depth': 28, 'min_child_samples': 25, 'subsample': 0.8856671386617583, 'colsample_bytree': 0.8973219326445506, 'lambda_l1': 0.000281989684794359, 'lambda_l2': 0.012923356283828825, 'min_gain_to_split': 0.15395992328177338}. Best is trial 121 with value: 0.620941341022382.\n"
     ]
    },
    {
     "name": "stdout",
     "output_type": "stream",
     "text": [
      "Training until validation scores don't improve for 50 rounds\n",
      "Early stopping, best iteration is:\n",
      "[84]\tvalid_0's l2: 1.95719\n",
      "Training until validation scores don't improve for 50 rounds\n",
      "Early stopping, best iteration is:\n",
      "[107]\tvalid_0's l2: 0.816058\n",
      "Training until validation scores don't improve for 50 rounds\n",
      "Early stopping, best iteration is:\n",
      "[108]\tvalid_0's l2: 0.0439359\n",
      "Training until validation scores don't improve for 50 rounds\n",
      "Early stopping, best iteration is:\n",
      "[114]\tvalid_0's l2: 0.137388\n",
      "Training until validation scores don't improve for 50 rounds\n"
     ]
    },
    {
     "name": "stderr",
     "output_type": "stream",
     "text": [
      "[I 2025-06-24 01:19:15,558] Trial 140 finished with value: 0.6373845417671482 and parameters: {'num_leaves': 119, 'learning_rate': 0.06624391557279237, 'n_estimators': 206, 'max_depth': 28, 'min_child_samples': 18, 'subsample': 0.8777973628154825, 'colsample_bytree': 0.8657180794632892, 'lambda_l1': 0.0009212444221410167, 'lambda_l2': 0.2856120836944048, 'min_gain_to_split': 0.09997635303136698}. Best is trial 121 with value: 0.620941341022382.\n"
     ]
    },
    {
     "name": "stdout",
     "output_type": "stream",
     "text": [
      "Early stopping, best iteration is:\n",
      "[120]\tvalid_0's l2: 0.0925971\n",
      "Training until validation scores don't improve for 50 rounds\n",
      "Did not meet early stopping. Best iteration is:\n",
      "[203]\tvalid_0's l2: 2.23716\n",
      "Training until validation scores don't improve for 50 rounds\n",
      "Did not meet early stopping. Best iteration is:\n",
      "[205]\tvalid_0's l2: 0.632891\n",
      "Training until validation scores don't improve for 50 rounds\n",
      "Did not meet early stopping. Best iteration is:\n",
      "[204]\tvalid_0's l2: 0.0440307\n",
      "Training until validation scores don't improve for 50 rounds\n",
      "Did not meet early stopping. Best iteration is:\n",
      "[205]\tvalid_0's l2: 0.137947\n",
      "Training until validation scores don't improve for 50 rounds\n"
     ]
    },
    {
     "name": "stderr",
     "output_type": "stream",
     "text": [
      "[I 2025-06-24 01:19:16,599] Trial 141 finished with value: 0.6368373673537665 and parameters: {'num_leaves': 102, 'learning_rate': 0.03255404060618894, 'n_estimators': 205, 'max_depth': 29, 'min_child_samples': 11, 'subsample': 0.6398955311493778, 'colsample_bytree': 0.8873991373076486, 'lambda_l1': 0.0005611577265356082, 'lambda_l2': 0.01843324089145484, 'min_gain_to_split': 0.06799217838199476}. Best is trial 121 with value: 0.620941341022382.\n"
     ]
    },
    {
     "name": "stdout",
     "output_type": "stream",
     "text": [
      "Did not meet early stopping. Best iteration is:\n",
      "[203]\tvalid_0's l2: 0.0971459\n",
      "Training until validation scores don't improve for 50 rounds\n",
      "Did not meet early stopping. Best iteration is:\n",
      "[303]\tvalid_0's l2: 22.7117\n",
      "Training until validation scores don't improve for 50 rounds\n",
      "Did not meet early stopping. Best iteration is:\n",
      "[303]\tvalid_0's l2: 26.4514\n",
      "Training until validation scores don't improve for 50 rounds\n",
      "Did not meet early stopping. Best iteration is:\n",
      "[303]\tvalid_0's l2: 5.70113\n",
      "Training until validation scores don't improve for 50 rounds\n",
      "Did not meet early stopping. Best iteration is:\n",
      "[303]\tvalid_0's l2: 12.8557\n",
      "Training until validation scores don't improve for 50 rounds\n"
     ]
    },
    {
     "name": "stderr",
     "output_type": "stream",
     "text": [
      "[I 2025-06-24 01:19:18,668] Trial 142 finished with value: 3.852948192142011 and parameters: {'num_leaves': 108, 'learning_rate': 0.0021065394698073134, 'n_estimators': 303, 'max_depth': 30, 'min_child_samples': 16, 'subsample': 0.9324587554323361, 'colsample_bytree': 0.878807929595018, 'lambda_l1': 8.657986272979824e-05, 'lambda_l2': 0.009994286531171922, 'min_gain_to_split': 0.04817446548995367}. Best is trial 121 with value: 0.620941341022382.\n"
     ]
    },
    {
     "name": "stdout",
     "output_type": "stream",
     "text": [
      "Did not meet early stopping. Best iteration is:\n",
      "[303]\tvalid_0's l2: 11.4431\n",
      "Training until validation scores don't improve for 50 rounds\n",
      "Did not meet early stopping. Best iteration is:\n",
      "[289]\tvalid_0's l2: 2.19318\n",
      "Training until validation scores don't improve for 50 rounds\n",
      "Did not meet early stopping. Best iteration is:\n",
      "[289]\tvalid_0's l2: 0.61557\n",
      "Training until validation scores don't improve for 50 rounds\n",
      "Did not meet early stopping. Best iteration is:\n",
      "[260]\tvalid_0's l2: 0.0432127\n",
      "Training until validation scores don't improve for 50 rounds\n",
      "Did not meet early stopping. Best iteration is:\n",
      "[289]\tvalid_0's l2: 0.138584\n",
      "Training until validation scores don't improve for 50 rounds\n"
     ]
    },
    {
     "name": "stderr",
     "output_type": "stream",
     "text": [
      "[I 2025-06-24 01:19:20,442] Trial 143 finished with value: 0.6305794655740091 and parameters: {'num_leaves': 97, 'learning_rate': 0.023578904949369497, 'n_estimators': 289, 'max_depth': 29, 'min_child_samples': 9, 'subsample': 0.9187034296543476, 'colsample_bytree': 0.9315149146273829, 'lambda_l1': 0.00031142479387337023, 'lambda_l2': 0.051323716645618925, 'min_gain_to_split': 0.020103176929985707}. Best is trial 121 with value: 0.620941341022382.\n"
     ]
    },
    {
     "name": "stdout",
     "output_type": "stream",
     "text": [
      "Did not meet early stopping. Best iteration is:\n",
      "[289]\tvalid_0's l2: 0.0943895\n",
      "Training until validation scores don't improve for 50 rounds\n",
      "Did not meet early stopping. Best iteration is:\n",
      "[226]\tvalid_0's l2: 2.11883\n",
      "Training until validation scores don't improve for 50 rounds\n",
      "Did not meet early stopping. Best iteration is:\n",
      "[226]\tvalid_0's l2: 0.636685\n",
      "Training until validation scores don't improve for 50 rounds\n",
      "Did not meet early stopping. Best iteration is:\n",
      "[224]\tvalid_0's l2: 0.0430855\n",
      "Training until validation scores don't improve for 50 rounds\n",
      "Did not meet early stopping. Best iteration is:\n",
      "[226]\tvalid_0's l2: 0.13886\n",
      "Training until validation scores don't improve for 50 rounds\n"
     ]
    },
    {
     "name": "stderr",
     "output_type": "stream",
     "text": [
      "[I 2025-06-24 01:19:21,679] Trial 144 finished with value: 0.628298919453816 and parameters: {'num_leaves': 111, 'learning_rate': 0.028262210124210926, 'n_estimators': 226, 'max_depth': 20, 'min_child_samples': 13, 'subsample': 0.939466650184613, 'colsample_bytree': 0.8588709791356165, 'lambda_l1': 3.376454581175831e-05, 'lambda_l2': 0.0047556635502677665, 'min_gain_to_split': 0.08219301039616692}. Best is trial 121 with value: 0.620941341022382.\n"
     ]
    },
    {
     "name": "stdout",
     "output_type": "stream",
     "text": [
      "Did not meet early stopping. Best iteration is:\n",
      "[226]\tvalid_0's l2: 0.0947037\n",
      "Training until validation scores don't improve for 50 rounds\n",
      "Did not meet early stopping. Best iteration is:\n",
      "[191]\tvalid_0's l2: 2.68199\n",
      "Training until validation scores don't improve for 50 rounds\n",
      "Did not meet early stopping. Best iteration is:\n",
      "[208]\tvalid_0's l2: 0.818001\n",
      "Training until validation scores don't improve for 50 rounds\n",
      "Did not meet early stopping. Best iteration is:\n",
      "[225]\tvalid_0's l2: 0.0433727\n",
      "Training until validation scores don't improve for 50 rounds\n",
      "Did not meet early stopping. Best iteration is:\n",
      "[227]\tvalid_0's l2: 0.136385\n",
      "Training until validation scores don't improve for 50 rounds\n",
      "Did not meet early stopping. Best iteration is:\n",
      "[230]\tvalid_0's l2: 0.091927\n"
     ]
    },
    {
     "name": "stderr",
     "output_type": "stream",
     "text": [
      "[I 2025-06-24 01:19:22,596] Trial 145 finished with value: 0.684574629683211 and parameters: {'num_leaves': 94, 'learning_rate': 0.033828931428347774, 'n_estimators': 238, 'max_depth': 27, 'min_child_samples': 15, 'subsample': 0.5983965287506614, 'colsample_bytree': 0.8930840006528271, 'lambda_l1': 6.11920871053687e-05, 'lambda_l2': 0.02656532000042747, 'min_gain_to_split': 0.10443184148535808}. Best is trial 121 with value: 0.620941341022382.\n"
     ]
    },
    {
     "name": "stdout",
     "output_type": "stream",
     "text": [
      "Training until validation scores don't improve for 50 rounds\n",
      "Did not meet early stopping. Best iteration is:\n",
      "[241]\tvalid_0's l2: 2.34475\n",
      "Training until validation scores don't improve for 50 rounds\n",
      "Did not meet early stopping. Best iteration is:\n",
      "[269]\tvalid_0's l2: 0.620301\n",
      "Training until validation scores don't improve for 50 rounds\n",
      "Did not meet early stopping. Best iteration is:\n",
      "[280]\tvalid_0's l2: 0.0436903\n",
      "Training until validation scores don't improve for 50 rounds\n",
      "Did not meet early stopping. Best iteration is:\n",
      "[281]\tvalid_0's l2: 0.137278\n",
      "Training until validation scores don't improve for 50 rounds\n"
     ]
    },
    {
     "name": "stderr",
     "output_type": "stream",
     "text": [
      "[I 2025-06-24 01:19:23,830] Trial 146 finished with value: 0.6409907065382299 and parameters: {'num_leaves': 100, 'learning_rate': 0.027515652750341003, 'n_estimators': 281, 'max_depth': 26, 'min_child_samples': 11, 'subsample': 0.6177002524951908, 'colsample_bytree': 0.907911502499614, 'lambda_l1': 4.0012317195878005e-06, 'lambda_l2': 0.10561507773677685, 'min_gain_to_split': 0.0723611496771026}. Best is trial 121 with value: 0.620941341022382.\n"
     ]
    },
    {
     "name": "stdout",
     "output_type": "stream",
     "text": [
      "Did not meet early stopping. Best iteration is:\n",
      "[281]\tvalid_0's l2: 0.0939852\n",
      "Training until validation scores don't improve for 50 rounds\n",
      "Early stopping, best iteration is:\n",
      "[154]\tvalid_0's l2: 1.835\n",
      "Training until validation scores don't improve for 50 rounds\n",
      "Early stopping, best iteration is:\n",
      "[169]\tvalid_0's l2: 0.841688\n",
      "Training until validation scores don't improve for 50 rounds\n",
      "Early stopping, best iteration is:\n",
      "[178]\tvalid_0's l2: 0.0444179\n",
      "Training until validation scores don't improve for 50 rounds\n",
      "Early stopping, best iteration is:\n",
      "[183]\tvalid_0's l2: 0.13608\n",
      "Training until validation scores don't improve for 50 rounds\n",
      "Early stopping, best iteration is:\n",
      "[186]\tvalid_0's l2: 0.0947263\n"
     ]
    },
    {
     "name": "stderr",
     "output_type": "stream",
     "text": [
      "[I 2025-06-24 01:19:24,530] Trial 147 finished with value: 0.6318956549075885 and parameters: {'num_leaves': 103, 'learning_rate': 0.04157952558096851, 'n_estimators': 247, 'max_depth': 28, 'min_child_samples': 21, 'subsample': 0.9041457686071219, 'colsample_bytree': 0.8491235560450076, 'lambda_l1': 0.00016066849028502275, 'lambda_l2': 0.007046419286033648, 'min_gain_to_split': 0.1333716527687428}. Best is trial 121 with value: 0.620941341022382.\n"
     ]
    },
    {
     "name": "stdout",
     "output_type": "stream",
     "text": [
      "Training until validation scores don't improve for 50 rounds\n",
      "Early stopping, best iteration is:\n",
      "[224]\tvalid_0's l2: 2.02318\n",
      "Training until validation scores don't improve for 50 rounds\n",
      "Early stopping, best iteration is:\n",
      "[248]\tvalid_0's l2: 0.801154\n",
      "Training until validation scores don't improve for 50 rounds\n",
      "Early stopping, best iteration is:\n",
      "[251]\tvalid_0's l2: 0.0440705\n",
      "Training until validation scores don't improve for 50 rounds\n",
      "Did not meet early stopping. Best iteration is:\n",
      "[263]\tvalid_0's l2: 0.135734\n",
      "Training until validation scores don't improve for 50 rounds\n"
     ]
    },
    {
     "name": "stderr",
     "output_type": "stream",
     "text": [
      "[I 2025-06-24 01:19:25,781] Trial 148 finished with value: 0.6401330738904905 and parameters: {'num_leaves': 112, 'learning_rate': 0.03018353734382496, 'n_estimators': 305, 'max_depth': 30, 'min_child_samples': 17, 'subsample': 0.8934892707412437, 'colsample_bytree': 0.8826009737713579, 'lambda_l1': 9.460642150066158e-06, 'lambda_l2': 0.04196242251510203, 'min_gain_to_split': 0.05477822971492829}. Best is trial 121 with value: 0.620941341022382.\n"
     ]
    },
    {
     "name": "stdout",
     "output_type": "stream",
     "text": [
      "Did not meet early stopping. Best iteration is:\n",
      "[276]\tvalid_0's l2: 0.0929376\n",
      "Training until validation scores don't improve for 50 rounds\n",
      "Early stopping, best iteration is:\n",
      "[201]\tvalid_0's l2: 2.18178\n",
      "Training until validation scores don't improve for 50 rounds\n",
      "Early stopping, best iteration is:\n",
      "[222]\tvalid_0's l2: 0.634081\n",
      "Training until validation scores don't improve for 50 rounds\n",
      "Early stopping, best iteration is:\n",
      "[236]\tvalid_0's l2: 0.0432275\n",
      "Training until validation scores don't improve for 50 rounds\n",
      "Early stopping, best iteration is:\n",
      "[237]\tvalid_0's l2: 0.138806\n",
      "Training until validation scores don't improve for 50 rounds\n"
     ]
    },
    {
     "name": "stderr",
     "output_type": "stream",
     "text": [
      "[I 2025-06-24 01:19:27,056] Trial 149 finished with value: 0.6326679968984823 and parameters: {'num_leaves': 107, 'learning_rate': 0.034185630073779845, 'n_estimators': 297, 'max_depth': 29, 'min_child_samples': 9, 'subsample': 0.5394269688177562, 'colsample_bytree': 0.8713515090172026, 'lambda_l1': 0.00012413497907226754, 'lambda_l2': 0.017720913230680597, 'min_gain_to_split': 0.037624772704660164}. Best is trial 121 with value: 0.620941341022382.\n"
     ]
    },
    {
     "name": "stdout",
     "output_type": "stream",
     "text": [
      "Early stopping, best iteration is:\n",
      "[247]\tvalid_0's l2: 0.0957808\n",
      "▶▶▶ Best params: {'num_leaves': 103, 'learning_rate': 0.07388163691069162, 'n_estimators': 252, 'max_depth': 27, 'min_child_samples': 19, 'subsample': 0.8710148509302867, 'colsample_bytree': 0.8933785480332813, 'lambda_l1': 1.725469744768315e-05, 'lambda_l2': 0.04905364910420104, 'min_gain_to_split': 0.09056695749382586}\n",
      "▶▶▶ Best CV RMSE: 0.620941341022382\n",
      "▶▶▶ Full-Train RMSE: 0.16919833777447746\n"
     ]
    }
   ],
   "source": [
    "# ── Pressure Optuna 하이퍼파라미터 튜닝 & Full‐Train 재학습 ──\n",
    "import sys, os\n",
    "import numpy as np\n",
    "import pandas as pd\n",
    "import optuna\n",
    "from sklearn.model_selection import TimeSeriesSplit\n",
    "from sklearn.metrics import mean_squared_error\n",
    "from lightgbm import LGBMRegressor, early_stopping\n",
    "from catboost import CatBoostRegressor, Pool\n",
    "from sklearn.ensemble import RandomForestRegressor\n",
    "\n",
    "project_root = os.path.abspath(os.path.join(os.getcwd(), \"..\"))\n",
    "if project_root not in sys.path:\n",
    "    sys.path.insert(0, project_root)\n",
    "\n",
    "from src.preprocessing import load_and_merge\n",
    "\n",
    "# 1) 전체 데이터 로드 + lag/rolling 한번만 생성\n",
    "df_full = load_and_merge()\n",
    "lags   = [1, 3, 6, 12, 24]\n",
    "rolls  = [3, 6, 12, 24]\n",
    "target_col    = \"대기압(mmHg)_관측\"\n",
    "for lag in lags:\n",
    "    df_full[f\"pressure_lag_{lag}h\"] = df_full[target_col].shift(lag)\n",
    "for w in rolls:\n",
    "    df_full[f\"pressure_roll_{w}h\"] = (\n",
    "        df_full[target_col].shift(1)\n",
    "               .rolling(window=w)\n",
    "               .mean()\n",
    "    )\n",
    "# NaN 행 제거\n",
    "feat_cols = [\n",
    "    \"일사량(w/m^2)_예측\",\n",
    "    \"습도(%)_예측\",\n",
    "    \"절대습도_예측\",\n",
    "    \"기온(degC)_예측\",\n",
    "    \"대기압(mmHg)_예측\",\n",
    "    \"hour\", \"month\", \"weekday\"\n",
    "] + [f\"pressure_lag_{lag}h\" for lag in lags] \\\n",
    "  + [f\"pressure_roll_{w}h\" for w in rolls]\n",
    "df_full.dropna(subset=feat_cols + [target_col], inplace=True)\n",
    "\n",
    "X_full = df_full[feat_cols]\n",
    "y_full = df_full[target_col]\n",
    "\n",
    "def objective(trial):\n",
    "    params = {\n",
    "        \"num_leaves\":        trial.suggest_int(\"num_leaves\", 16, 128),\n",
    "        \"learning_rate\":     trial.suggest_float(\"learning_rate\", 1e-3, 1e-1, log=True),\n",
    "        \"n_estimators\":      trial.suggest_int(\"n_estimators\", 200, 500),\n",
    "        \"max_depth\":         trial.suggest_int(\"max_depth\", 5, 30),\n",
    "        \"min_child_samples\": trial.suggest_int(\"min_child_samples\", 5, 100),\n",
    "        \"subsample\":         trial.suggest_float(\"subsample\", 0.5, 1.0),\n",
    "        \"colsample_bytree\":  trial.suggest_float(\"colsample_bytree\", 0.5, 1.0),\n",
    "        \"lambda_l1\":         trial.suggest_float(\"lambda_l1\", 1e-8, 10.0, log=True),\n",
    "        \"lambda_l2\":         trial.suggest_float(\"lambda_l2\", 1e-8, 10.0, log=True),\n",
    "        \"min_gain_to_split\": trial.suggest_float(\"min_gain_to_split\", 0.0, 1.0),\n",
    "    }\n",
    "\n",
    "    tss = TimeSeriesSplit(n_splits=5)\n",
    "    rmses = []\n",
    "    for tr_idx, va_idx in tss.split(df_full):\n",
    "        train = df_full.iloc[tr_idx].copy()\n",
    "        val   = df_full.iloc[va_idx].copy()\n",
    "\n",
    "        # train 구간 lag/rolling\n",
    "        for lag in lags:\n",
    "            train[f\"pressure_lag_{lag}h\"] = train[target_col].shift(lag)\n",
    "        for w in rolls:\n",
    "            train[f\"pressure_roll_{w}h\"] = (\n",
    "                train[target_col].shift(1)\n",
    "                       .rolling(window=w)\n",
    "                       .mean()\n",
    "            )\n",
    "        train.dropna(subset=feat_cols + [target_col], inplace=True)\n",
    "\n",
    "        # val 구간 combined trick\n",
    "        combined = pd.concat([train, val])\n",
    "        for lag in lags:\n",
    "            combined[f\"pressure_lag_{lag}h\"] = combined[target_col].shift(lag)\n",
    "        for w in rolls:\n",
    "            combined[f\"pressure_roll_{w}h\"] = (\n",
    "                combined[target_col].shift(1)\n",
    "                       .rolling(window=w)\n",
    "                       .mean()\n",
    "            )\n",
    "        val2 = combined.loc[val.index].copy()\n",
    "        val2.dropna(subset=feat_cols + [target_col], inplace=True)\n",
    "\n",
    "        X_tr, y_tr = train[feat_cols], train[target_col]\n",
    "        X_va, y_va = val2[feat_cols], val2[target_col]\n",
    "\n",
    "        model = LGBMRegressor(**params, random_state=42, verbose=-1)\n",
    "        model.fit(\n",
    "            X_tr, y_tr,\n",
    "            eval_set=[(X_va, y_va)],\n",
    "            callbacks=[early_stopping(stopping_rounds=50)]\n",
    "        )\n",
    "        preds = model.predict(X_va)\n",
    "        rmses.append(mean_squared_error(y_va, preds) ** 0.5)\n",
    "\n",
    "    return np.mean(rmses)\n",
    "\n",
    "# 2) Optuna 최적화\n",
    "study = optuna.create_study(direction=\"minimize\")\n",
    "study.optimize(objective, n_trials=150)\n",
    "\n",
    "print(\"▶▶▶ Best params:\", study.best_params)\n",
    "print(\"▶▶▶ Best CV RMSE:\", study.best_value)\n",
    "\n",
    "# 3) Full‐Train 재학습 & RMSE\n",
    "final = LGBMRegressor(**study.best_params, random_state=42, verbose=-1)\n",
    "final.fit(X_full, y_full)\n",
    "print(\"▶▶▶ Full-Train RMSE:\", mean_squared_error(y_full, final.predict(X_full)) ** 0.5)\n"
   ]
  }
 ],
 "metadata": {
  "kernelspec": {
   "display_name": ".venv",
   "language": "python",
   "name": "python3"
  },
  "language_info": {
   "codemirror_mode": {
    "name": "ipython",
    "version": 3
   },
   "file_extension": ".py",
   "mimetype": "text/x-python",
   "name": "python",
   "nbconvert_exporter": "python",
   "pygments_lexer": "ipython3",
   "version": "3.12.10"
  }
 },
 "nbformat": 4,
 "nbformat_minor": 5
}
